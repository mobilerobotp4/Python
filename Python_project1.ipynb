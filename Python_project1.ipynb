{
  "nbformat": 4,
  "nbformat_minor": 0,
  "metadata": {
    "colab": {
      "name": "Python_project1.ipynb",
      "provenance": [],
      "authorship_tag": "ABX9TyOO5QTNQ1ytAkQnrpiHnMAC",
      "include_colab_link": true
    },
    "kernelspec": {
      "name": "python3",
      "display_name": "Python 3"
    }
  },
  "cells": [
    {
      "cell_type": "markdown",
      "metadata": {
        "id": "view-in-github",
        "colab_type": "text"
      },
      "source": [
        "<a href=\"https://colab.research.google.com/github/mobilerobotp4/Python/blob/master/Python_project1.ipynb\" target=\"_parent\"><img src=\"https://colab.research.google.com/assets/colab-badge.svg\" alt=\"Open In Colab\"/></a>"
      ]
    },
    {
      "cell_type": "markdown",
      "metadata": {
        "id": "3HfQjRCKxnd0"
      },
      "source": [
        "# **String Concatenation** "
      ]
    },
    {
      "cell_type": "code",
      "metadata": {
        "colab": {
          "base_uri": "https://localhost:8080/"
        },
        "id": "Mv3Fm2jpx-vZ",
        "outputId": "8d9e445a-3f02-477e-a660-f4983dc250bf"
      },
      "source": [
        "#Three different ways to concatenate strings\r\n",
        "noun=\"lazy\"\r\n",
        "print(\"John is bit \" + noun)\r\n",
        "print(\"John is bit {}\".format(noun))\r\n",
        "print(f\"John is bit {noun} \")"
      ],
      "execution_count": null,
      "outputs": [
        {
          "output_type": "stream",
          "text": [
            "John is bit lazy\n",
            "John is bit lazy\n",
            "John is bit lazy \n"
          ],
          "name": "stdout"
        }
      ]
    },
    {
      "cell_type": "code",
      "metadata": {
        "colab": {
          "base_uri": "https://localhost:8080/"
        },
        "id": "JwD-b99l0I7C",
        "outputId": "525f0a81-066c-4482-b602-d3cfcd4f8b24"
      },
      "source": [
        "# More Example of String Concatenation\r\n",
        "noun1=input(\"Noun:\")\r\n",
        "verb=input(\"Verb:\")\r\n",
        "noun2=input(\"Noun:\")\r\n",
        "adjective= input(\"Adjective\")\r\n",
        "essay = f\"Trees are our best {noun1} because they {verb} the air we breathe.\\\r\n",
        "Likewise, they also clean the water and {noun2} and ultimately make the earth a {adjective} place. \" \r\n",
        "print(essay)"
      ],
      "execution_count": 4,
      "outputs": [
        {
          "output_type": "stream",
          "text": [
            "Noun:friends\n",
            "Verb:purify\n",
            "Noun:soil\n",
            "Adjectiveclean\n",
            "Trees are our best friends because they purify the air we breathe.Likewise, they also clean the water and soil and ultimately make the earth a clean place. \n"
          ],
          "name": "stdout"
        }
      ]
    },
    {
      "cell_type": "markdown",
      "metadata": {
        "id": "bhsxk3n2Jkj-"
      },
      "source": [
        "# **Guess a random number**"
      ]
    },
    {
      "cell_type": "code",
      "metadata": {
        "colab": {
          "base_uri": "https://localhost:8080/"
        },
        "id": "mOK59NDlJsGn",
        "outputId": "dc520a97-16ae-44e0-c7c6-f05f12734716"
      },
      "source": [
        "import random\r\n",
        "def guess(x):\r\n",
        "  random_number=random.randint(1,x)\r\n",
        "  # We don't want that our guess accidentaly equal to random number\r\n",
        "  guess=0 \r\n",
        "  # As we do not have a predefine range for looping we use while loop. We stop the while loop when our guess number=guess number\r\n",
        "  while guess!= random_number:  \r\n",
        "     guess= int(input(f'Guess a number between 1 and {x} '))\r\n",
        "     # We are using if statement so that we do not stackover infinite loop\r\n",
        "     if guess < random_number: \r\n",
        "       print(f'Sorry, Guess again! {guess} too low than random number ')\r\n",
        "     elif guess > random_number:\r\n",
        "       print(f'Sorry, Guess again! {guess} too high than random number ')\r\n",
        "  print(f' Congratulations! You have just guess the right number {random_number} ')\r\n",
        "\r\n",
        "guess(10)\r\n",
        "\r\n"
      ],
      "execution_count": null,
      "outputs": [
        {
          "output_type": "stream",
          "text": [
            "Guess a number between 1 and 10 8\n",
            "Sorry, Guess again! 8 too high than random number \n",
            "Guess a number between 1 and 10 5\n",
            "Sorry, Guess again! 5 too low than random number \n",
            "Guess a number between 1 and 10 6\n",
            " Congratulations! You have just guess the right number 6 \n"
          ],
          "name": "stdout"
        }
      ]
    },
    {
      "cell_type": "markdown",
      "metadata": {
        "id": "ldgLglfjoVaN"
      },
      "source": [
        "**Time to guess the random number by computer**"
      ]
    },
    {
      "cell_type": "code",
      "metadata": {
        "colab": {
          "base_uri": "https://localhost:8080/"
        },
        "id": "7kzyybiSoitx",
        "outputId": "92c162ad-c9d5-47fd-d570-afcce1feb432"
      },
      "source": [
        "def computer_guess(x):\r\n",
        "  # We do not tell the computer the secret number. So the computer need to search within a huge range of number.\r\n",
        "  low = 1\r\n",
        "  high = x\r\n",
        "  '''\r\n",
        "  The computer guess the number and we need to tell the computer is it \r\n",
        "  is too high or too low. So we need to initialize a feedback variable\r\n",
        "  '''\r\n",
        "  feedback= ''\r\n",
        "  #c = correct\r\n",
        "  while feedback != 'c':\r\n",
        "    if low != high:\r\n",
        "      guess=random.randint(low,high)\r\n",
        "    else:\r\n",
        "      guess=low\r\n",
        "    guess = random.randint(low,high)\r\n",
        "    # Convert input string in lower case\r\n",
        "    feedback = input(f\"Is {guess} too high (H), too low (L) or correct (C) \").lower()\r\n",
        "    #Now we look at the different cases\r\n",
        "    if feedback == 'h':\r\n",
        "      high = guess - 1\r\n",
        "    elif feedback == 'l':\r\n",
        "      low = guess+1\r\n",
        "\r\n",
        "  print(f\"Congratulation! The computer guess the number, {guess} , correctly \")\r\n",
        "\r\n",
        "computer_guess(30)"
      ],
      "execution_count": null,
      "outputs": [
        {
          "output_type": "stream",
          "text": [
            "Is 21 too high (H), too low (L) or correct (C) H\n",
            "Is 13 too high (H), too low (L) or correct (C) H\n",
            "Is 4 too high (H), too low (L) or correct (C) L\n",
            "Is 9 too high (H), too low (L) or correct (C) H\n",
            "Is 7 too high (H), too low (L) or correct (C) C\n",
            "Congratulation! The computer guess the number, 7 , correctly \n"
          ],
          "name": "stdout"
        }
      ]
    },
    {
      "cell_type": "markdown",
      "metadata": {
        "id": "r3Nv0rt-y9zi"
      },
      "source": [
        "# **Rock , Paper, Scissors game**\r\n",
        "A player who decides to play rock will beat another player who has chosen scissors (\"rock crushes scissors\" or sometimes \"blunts scissors\"), but will lose to one who has played paper (\"paper covers rock\"); a play of paper will lose to a play of scissors (\"scissors cuts paper\")."
      ]
    },
    {
      "cell_type": "code",
      "metadata": {
        "id": "8NM_kK9_zuZx",
        "colab": {
          "base_uri": "https://localhost:8080/",
          "height": 69
        },
        "outputId": "36bb93d1-a68a-4b02-97d1-2b0883591495"
      },
      "source": [
        "import random\r\n",
        "def play():\r\n",
        "  name = input(\"Please type your name: \")\r\n",
        "  user = input(\" Please make a choice: 'r' for rock, 'p' for paper, 's' for scissors : \")\r\n",
        "  computer = random.choice(['r', 'p', 's'])\r\n",
        "  if user == computer:\r\n",
        "    return \"It\\'s a tie\"\r\n",
        "  if is_win(user, computer):\r\n",
        "    return f\"Congratulation {name}! you are the winner!\"\r\n",
        "  return \"Sorry! Better luck next time.\"\r\n",
        "# r > s, s > p, p > r\r\n",
        "# is_win function return true if player wins\r\n",
        "def is_win(player, opponent):\r\n",
        "  if (player == 'r' and opponent == 's') or (player == 's' and opponent == 'p') or (player == 'p' and opponent == 'r'):\r\n",
        "    return True \r\n",
        "\r\n",
        "play()"
      ],
      "execution_count": null,
      "outputs": [
        {
          "output_type": "stream",
          "text": [
            "Please type your name: Saswati\n",
            " Please make a choice: 'r' for rock, 'p' for paper, 's' for scissors : s\n"
          ],
          "name": "stdout"
        },
        {
          "output_type": "execute_result",
          "data": {
            "application/vnd.google.colaboratory.intrinsic+json": {
              "type": "string"
            },
            "text/plain": [
              "'Congratulation Saswati! you are the winner!'"
            ]
          },
          "metadata": {
            "tags": []
          },
          "execution_count": 1
        }
      ]
    }
  ]
}