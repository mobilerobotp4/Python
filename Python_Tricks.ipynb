{
  "nbformat": 4,
  "nbformat_minor": 0,
  "metadata": {
    "colab": {
      "name": "Python_Tricks.ipynb",
      "provenance": [],
      "collapsed_sections": [],
      "authorship_tag": "ABX9TyO4MuE3M6OLjQ5chp9r/N+w"
    },
    "kernelspec": {
      "name": "python3",
      "display_name": "Python 3"
    }
  },
  "cells": [
    {
      "cell_type": "markdown",
      "metadata": {
        "id": "yPUFLpW8pUhL"
      },
      "source": [
        "# **Python ellipsis**\r\n",
        "The Python ellipsis is a sequence of three dots(...). It’s used a lot in conventional (non-programming) languages.\r\n",
        "\r\n",
        "Python ellipsis as a placeholder:\r\n",
        "\r\n",
        "It can be used as a placeholder, e.g. when you intend to fill in a Python function later on, but still want to have a valid syntax\r\n",
        "\r\n",
        "Many people use pass in such cases, but this looks nicer."
      ]
    },
    {
      "cell_type": "code",
      "metadata": {
        "id": "NcvsZvZtqhG9"
      },
      "source": [
        "#Example code\r\n",
        "def area():\r\n",
        "  ..."
      ],
      "execution_count": null,
      "outputs": []
    },
    {
      "cell_type": "markdown",
      "metadata": {
        "id": "aUJYpSiJrjwZ"
      },
      "source": [
        "**The ellipsis in NumPy slice notation**\r\n",
        "\r\n",
        "The most useful application of the ellipsis is in the numpy library. With NumPy, you can slice multiple dimensions at once by using commas. To demonstrate, first create a simple three-dimensional matrix:"
      ]
    },
    {
      "cell_type": "code",
      "metadata": {
        "colab": {
          "base_uri": "https://localhost:8080/"
        },
        "id": "eG0V4w5grt7L",
        "outputId": "b018658c-e173-4299-d66e-71db051cbe77"
      },
      "source": [
        "import numpy as np\r\n",
        "x = np.array([   [ [1],[2],[3] ], [ [4],[5],[6] ]   ])\r\n",
        "x[:,:]"
      ],
      "execution_count": null,
      "outputs": [
        {
          "output_type": "execute_result",
          "data": {
            "text/plain": [
              "array([[[1],\n",
              "        [2],\n",
              "        [3]],\n",
              "\n",
              "       [[4],\n",
              "        [5],\n",
              "        [6]]])"
            ]
          },
          "metadata": {
            "tags": []
          },
          "execution_count": 1
        }
      ]
    },
    {
      "cell_type": "code",
      "metadata": {
        "colab": {
          "base_uri": "https://localhost:8080/"
        },
        "id": "sZh59NrBsOKQ",
        "outputId": "ab188021-affa-4eb4-978e-b2aae8a58243"
      },
      "source": [
        "#Other way to print it using ellipsis\r\n",
        "x[...]"
      ],
      "execution_count": null,
      "outputs": [
        {
          "output_type": "execute_result",
          "data": {
            "text/plain": [
              "array([[[1],\n",
              "        [2],\n",
              "        [3]],\n",
              "\n",
              "       [[4],\n",
              "        [5],\n",
              "        [6]]])"
            ]
          },
          "metadata": {
            "tags": []
          },
          "execution_count": 3
        }
      ]
    },
    {
      "cell_type": "code",
      "metadata": {
        "colab": {
          "base_uri": "https://localhost:8080/"
        },
        "id": "e1bV5SZ4sbTC",
        "outputId": "78ac4e32-ad40-4992-8cf4-0bc1ef1ba7bc"
      },
      "source": [
        "#To get all the data elements from the first index of the first dimension:\r\n",
        "x[0, ... ]"
      ],
      "execution_count": null,
      "outputs": [
        {
          "output_type": "execute_result",
          "data": {
            "text/plain": [
              "array([[1],\n",
              "       [2],\n",
              "       [3]])"
            ]
          },
          "metadata": {
            "tags": []
          },
          "execution_count": 5
        }
      ]
    },
    {
      "cell_type": "markdown",
      "metadata": {
        "id": "WCztEyaOtJPr"
      },
      "source": [
        "# **Data classes**\r\n",
        "Since version 3.7, Python offers data classes. There are several advantages over regular classes or other alternatives like returning multiple values or dictionaries.\r\n",
        "\r\n",
        "A data class requires a minimal amount of code\r\n",
        "\r\n",
        "Data classes are comparable because __eq__ is implemented for you\r\n",
        "\r\n",
        "Data classes can be easily print  for debugging because __repr__ is implemented as well\r\n",
        "\r\n",
        "Data classes require type hints, reduced the chances of bugs\r\n"
      ]
    },
    {
      "cell_type": "code",
      "metadata": {
        "id": "_Su-mkOit6Tz"
      },
      "source": [
        "#Regular class example\r\n",
        "class InventoryItem:\r\n",
        "    '''Class for keeping track of an item in inventory.'''\r\n",
        "    name: str\r\n",
        "    unit_price: float\r\n",
        "    quantity_on_hand: int = 0\r\n",
        "\r\n",
        "    def __init__(\r\n",
        "            self, \r\n",
        "            name: str, \r\n",
        "            unit_price: float,\r\n",
        "            quantity_on_hand: int = 0\r\n",
        "        ) -> None:\r\n",
        "        self.name = name\r\n",
        "        self.unit_price = unit_price\r\n",
        "        self.quantity_on_hand = quantity_on_hand\r\n",
        "\r\n",
        "    def total_cost(self) -> float:\r\n",
        "        return self.unit_price * self.quantity_on_hand\r\n",
        "\r\n",
        "    def __repr__(self) -> str:\r\n",
        "        return (\r\n",
        "            'InventoryItem('\r\n",
        "            f'name={self.name!r}, unit_price={self.unit_price!r}, '\r\n",
        "            f'quantity_on_hand={self.quantity_on_hand!r})'\r\n",
        "\r\n",
        "    def __hash__(self) -> int:\r\n",
        "        return hash((self.name, self.unit_price, self.quantity_on_hand))\r\n",
        "\r\n",
        "    def __eq__(self, other) -> bool:\r\n",
        "        if not isinstance(other, InventoryItem):\r\n",
        "            return NotImplemented\r\n",
        "        return (\r\n",
        "            (self.name, self.unit_price, self.quantity_on_hand) == \r\n",
        "            (other.name, other.unit_price, other.quantity_on_hand))\r\n"
      ],
      "execution_count": null,
      "outputs": []
    },
    {
      "cell_type": "code",
      "metadata": {
        "id": "3goHLF1VvynT"
      },
      "source": [
        "#Same example for data class\r\n",
        "from dataclasses import dataclass\r\n",
        "\r\n",
        "@dataclass(unsafe_hash=True)\r\n",
        "class InventoryItem:\r\n",
        "    '''Class for keeping track of an item in inventory.'''\r\n",
        "    name: str\r\n",
        "    unit_price: float\r\n",
        "    quantity_on_hand: int = 0\r\n",
        "\r\n",
        "    def total_cost(self) -> float:\r\n",
        "        return self.unit_price * self.quantity_on_hand"
      ],
      "execution_count": null,
      "outputs": []
    },
    {
      "cell_type": "code",
      "metadata": {
        "id": "ZyVUgerKwOcY"
      },
      "source": [
        "inventory_item1 = InventoryItem(\"Paper\",5.62,10)"
      ],
      "execution_count": null,
      "outputs": []
    },
    {
      "cell_type": "code",
      "metadata": {
        "colab": {
          "base_uri": "https://localhost:8080/"
        },
        "id": "rJIqlBImwh6p",
        "outputId": "deb27e69-aa6d-4084-ec74-5365fcdfdf3c"
      },
      "source": [
        "inventory_item1"
      ],
      "execution_count": null,
      "outputs": [
        {
          "output_type": "execute_result",
          "data": {
            "text/plain": [
              "InventoryItem(name='Paper', unit_price=5.62, quantity_on_hand=10)"
            ]
          },
          "metadata": {
            "tags": []
          },
          "execution_count": 15
        }
      ]
    },
    {
      "cell_type": "code",
      "metadata": {
        "colab": {
          "base_uri": "https://localhost:8080/"
        },
        "id": "5tDqAohTxH75",
        "outputId": "65391cf2-da1a-4493-a168-0a8c568578dc"
      },
      "source": [
        "#One more Example\r\n",
        "inventory_item2=InventoryItem(\"Pen\",2.25,50)\r\n",
        "inventory_item2"
      ],
      "execution_count": null,
      "outputs": [
        {
          "output_type": "execute_result",
          "data": {
            "text/plain": [
              "InventoryItem(name='Pen', unit_price=2.25, quantity_on_hand=50)"
            ]
          },
          "metadata": {
            "tags": []
          },
          "execution_count": 16
        }
      ]
    },
    {
      "cell_type": "code",
      "metadata": {
        "colab": {
          "base_uri": "https://localhost:8080/"
        },
        "id": "0beDZemixZuH",
        "outputId": "dc09988f-f28e-447f-94af-85cc0acd478f"
      },
      "source": [
        "print(InventoryItem.total_cost(inventory_item1))\r\n",
        "print(InventoryItem.total_cost(inventory_item2))"
      ],
      "execution_count": null,
      "outputs": [
        {
          "output_type": "stream",
          "text": [
            "56.2\n",
            "112.5\n"
          ],
          "name": "stdout"
        }
      ]
    },
    {
      "cell_type": "markdown",
      "metadata": {
        "id": "-7HqU74I0DtD"
      },
      "source": [
        "# **Zen of Python**\r\n",
        "\r\n",
        "The Zen of Python is a collection of 19 \"guiding principles\" for writing computer programs that influence the design of the Python programming language."
      ]
    },
    {
      "cell_type": "code",
      "metadata": {
        "colab": {
          "base_uri": "https://localhost:8080/"
        },
        "id": "1agiHjYdyIAP",
        "outputId": "0f7dfa43-1205-4f05-bcf5-90fa611610e0"
      },
      "source": [
        "import this"
      ],
      "execution_count": null,
      "outputs": [
        {
          "output_type": "stream",
          "text": [
            "The Zen of Python, by Tim Peters\n",
            "\n",
            "Beautiful is better than ugly.\n",
            "Explicit is better than implicit.\n",
            "Simple is better than complex.\n",
            "Complex is better than complicated.\n",
            "Flat is better than nested.\n",
            "Sparse is better than dense.\n",
            "Readability counts.\n",
            "Special cases aren't special enough to break the rules.\n",
            "Although practicality beats purity.\n",
            "Errors should never pass silently.\n",
            "Unless explicitly silenced.\n",
            "In the face of ambiguity, refuse the temptation to guess.\n",
            "There should be one-- and preferably only one --obvious way to do it.\n",
            "Although that way may not be obvious at first unless you're Dutch.\n",
            "Now is better than never.\n",
            "Although never is often better than *right* now.\n",
            "If the implementation is hard to explain, it's a bad idea.\n",
            "If the implementation is easy to explain, it may be a good idea.\n",
            "Namespaces are one honking great idea -- let's do more of those!\n"
          ],
          "name": "stdout"
        }
      ]
    },
    {
      "cell_type": "markdown",
      "metadata": {
        "id": "r6Hx1swS3wdl"
      },
      "source": [
        "# **Anonymous functions**\r\n",
        "\r\n",
        "Sometimes, naming a function is not worth the trouble. For example when you’re sure the function will only be used once. For such cases, Python offers us anonymous functions, also called lambda functions.\r\n",
        "\r\n",
        "A lambda function can be assigned to a variable, creating a concise way of defining a function"
      ]
    },
    {
      "cell_type": "code",
      "metadata": {
        "colab": {
          "base_uri": "https://localhost:8080/"
        },
        "id": "WHMKUJvl4E33",
        "outputId": "b049b36d-7c7c-40cd-c314-460c3949080f"
      },
      "source": [
        "add_one = lambda x: x+1\r\n",
        "print(add_one(4))"
      ],
      "execution_count": null,
      "outputs": [
        {
          "output_type": "stream",
          "text": [
            "5\n"
          ],
          "name": "stdout"
        }
      ]
    },
    {
      "cell_type": "markdown",
      "metadata": {
        "id": "QPfKxG4Q4dYz"
      },
      "source": [
        "Using a function as an argument makes it more interesting. In such cases, the function is often used only once.We can use a lambda when calling map which can be applied to all elements of an iterable object."
      ]
    },
    {
      "cell_type": "code",
      "metadata": {
        "colab": {
          "base_uri": "https://localhost:8080/"
        },
        "id": "VSv92Yzs5YNX",
        "outputId": "792b7844-b4c1-43b0-85ff-94883df778e8"
      },
      "source": [
        "numbers = [1, 2, 3, 4]\r\n",
        "times_two = map(lambda x: x * 2, numbers)\r\n",
        "list(times_two)"
      ],
      "execution_count": null,
      "outputs": [
        {
          "output_type": "execute_result",
          "data": {
            "text/plain": [
              "[2, 4, 6, 8]"
            ]
          },
          "metadata": {
            "tags": []
          },
          "execution_count": 23
        }
      ]
    },
    {
      "cell_type": "markdown",
      "metadata": {
        "id": "EFYpIudJ6KRL"
      },
      "source": [
        "# **List Comprehension**\r\n",
        "A list comprehension can replace ugly for loops used to fill a list."
      ]
    },
    {
      "cell_type": "code",
      "metadata": {
        "colab": {
          "base_uri": "https://localhost:8080/"
        },
        "id": "IbzVsWJn6T81",
        "outputId": "1de6be13-4d4e-4508-8310-e0db108daa32"
      },
      "source": [
        "#Fill a list using for loop\r\n",
        "# Based on a list of stationary, the new list, containing only the stationaries with the letter \"p\" in the name.\r\n",
        "stationary = [\"paper\", \"pen\", \"pencil\", \"sharpener\", \"eraser \"]\r\n",
        "newlist = []\r\n",
        "\r\n",
        "for x in stationary:\r\n",
        "  if \"p\" in x:\r\n",
        "    newlist.append(x)\r\n",
        "\r\n",
        "print(newlist)"
      ],
      "execution_count": null,
      "outputs": [
        {
          "output_type": "stream",
          "text": [
            "['paper', 'pen', 'pencil', 'sharpener']\n"
          ],
          "name": "stdout"
        }
      ]
    },
    {
      "cell_type": "markdown",
      "metadata": {
        "id": "WhYO0SYq71e0"
      },
      "source": [
        "Now we replace the above code using list comprehension\r\n",
        "\r\n",
        "Syntax:\r\n",
        "\r\n",
        "[ expression for item in list if conditional ]"
      ]
    },
    {
      "cell_type": "code",
      "metadata": {
        "colab": {
          "base_uri": "https://localhost:8080/"
        },
        "id": "dQSJR5X88WfU",
        "outputId": "a81f5af4-ee65-4a10-9034-a5e235104715"
      },
      "source": [
        "mylist = [x for x in stationary if \"p\" in x]\r\n",
        "print(mylist)"
      ],
      "execution_count": null,
      "outputs": [
        {
          "output_type": "stream",
          "text": [
            "['paper', 'pen', 'pencil', 'sharpener']\n"
          ],
          "name": "stdout"
        }
      ]
    },
    {
      "cell_type": "code",
      "metadata": {
        "colab": {
          "base_uri": "https://localhost:8080/"
        },
        "id": "fzAcSnUP8ppx",
        "outputId": "9edcd1f6-2b2c-4c65-9988-54fe0eed03c1"
      },
      "source": [
        "#And because we can use an expression, we can also do some math:\r\n",
        "addition = [x+2 for x in range(10)]\r\n",
        "print(addition)"
      ],
      "execution_count": null,
      "outputs": [
        {
          "output_type": "stream",
          "text": [
            "[2, 3, 4, 5, 6, 7, 8, 9, 10, 11]\n"
          ],
          "name": "stdout"
        }
      ]
    },
    {
      "cell_type": "code",
      "metadata": {
        "colab": {
          "base_uri": "https://localhost:8080/"
        },
        "id": "Tbc5EW_P9CjP",
        "outputId": "f82e70d2-e2a2-441c-e8f4-b44708aa5bae"
      },
      "source": [
        "#We can call an external function as well\r\n",
        "def area_of_square(a):\r\n",
        "    return (a**2)\r\n",
        "    \r\n",
        "my_formula = [area_of_square(i) for i in range(10)]\r\n",
        "print(my_formula)"
      ],
      "execution_count": null,
      "outputs": [
        {
          "output_type": "stream",
          "text": [
            "[0, 1, 4, 9, 16, 25, 36, 49, 64, 81]\n"
          ],
          "name": "stdout"
        }
      ]
    },
    {
      "cell_type": "code",
      "metadata": {
        "colab": {
          "base_uri": "https://localhost:8080/"
        },
        "id": "oqJwuivdGX64",
        "outputId": "8c6b07e4-d744-4887-b431-b20a8ebe1f63"
      },
      "source": [
        "#we can use the ‘if’ to filter the list. In this case, we only keep the values that are dividable by 2\r\n",
        "filtered = [i for i in range(20) if i%2==0]\r\n",
        "print(filtered)"
      ],
      "execution_count": null,
      "outputs": [
        {
          "output_type": "stream",
          "text": [
            "[0, 2, 4, 6, 8, 10, 12, 14, 16, 18]\n"
          ],
          "name": "stdout"
        }
      ]
    },
    {
      "cell_type": "markdown",
      "metadata": {
        "id": "L_SXGaemGn_L"
      },
      "source": [
        "# **In place variable swapping**"
      ]
    },
    {
      "cell_type": "code",
      "metadata": {
        "colab": {
          "base_uri": "https://localhost:8080/"
        },
        "id": "dlZmM83BGqhy",
        "outputId": "c7e893ee-9009-4bb0-e497-273c642bdfbb"
      },
      "source": [
        "a = 1\r\n",
        "b = 2\r\n",
        "a, b = b, a\r\n",
        "print (a)\r\n",
        "print (b)"
      ],
      "execution_count": null,
      "outputs": [
        {
          "output_type": "stream",
          "text": [
            "2\n",
            "1\n"
          ],
          "name": "stdout"
        }
      ]
    },
    {
      "cell_type": "markdown",
      "metadata": {
        "id": "Sy6-U44HG8RZ"
      },
      "source": [
        "# **Named String Formatting**\r\n",
        "If data is already in a dictionary, named string formatting is very useful for print"
      ]
    },
    {
      "cell_type": "code",
      "metadata": {
        "colab": {
          "base_uri": "https://localhost:8080/",
          "height": 35
        },
        "id": "lvaMZLplHOuh",
        "outputId": "d569da49-2996-4ea4-f1e9-33d1e0f06d76"
      },
      "source": [
        "info = {'name' : 'Joe',\r\n",
        "         'age' : 64,\r\n",
        "        'country': 'USA'}\r\n",
        "\"%(name)s is %(age)i and lives in %(country)s\" %info"
      ],
      "execution_count": null,
      "outputs": [
        {
          "output_type": "execute_result",
          "data": {
            "application/vnd.google.colaboratory.intrinsic+json": {
              "type": "string"
            },
            "text/plain": [
              "'Joe is 64 and lives in USA'"
            ]
          },
          "metadata": {
            "tags": []
          },
          "execution_count": 34
        }
      ]
    },
    {
      "cell_type": "markdown",
      "metadata": {
        "id": "5mQszP-3Iar0"
      },
      "source": [
        "# **Nested list comprehensions**\r\n",
        "If expression can be any valid Python expression, it can also be another list comprehension. This can be useful when you want to create a matrix."
      ]
    },
    {
      "cell_type": "code",
      "metadata": {
        "colab": {
          "base_uri": "https://localhost:8080/"
        },
        "id": "knol5B1JIu5j",
        "outputId": "ecb85106-6507-466e-94a2-fcdc20c7bfdc"
      },
      "source": [
        "[[j for j in range(3)] for i in range(4)]"
      ],
      "execution_count": null,
      "outputs": [
        {
          "output_type": "execute_result",
          "data": {
            "text/plain": [
              "[[0, 1, 2], [0, 1, 2], [0, 1, 2], [0, 1, 2]]"
            ]
          },
          "metadata": {
            "tags": []
          },
          "execution_count": 35
        }
      ]
    },
    {
      "cell_type": "markdown",
      "metadata": {
        "id": "hOWv7SmEKAko"
      },
      "source": [
        "# **Use The Underscore in The REPL**\r\n",
        "You can obtain the result of the last expression in a Python REPL with the underscore operator. "
      ]
    },
    {
      "cell_type": "code",
      "metadata": {
        "colab": {
          "base_uri": "https://localhost:8080/"
        },
        "id": "7YPH6WQzKD8H",
        "outputId": "4eacd99d-881b-4883-90aa-83b407c74454"
      },
      "source": [
        "5+6"
      ],
      "execution_count": null,
      "outputs": [
        {
          "output_type": "execute_result",
          "data": {
            "text/plain": [
              "11"
            ]
          },
          "metadata": {
            "tags": []
          },
          "execution_count": 39
        }
      ]
    },
    {
      "cell_type": "code",
      "metadata": {
        "colab": {
          "base_uri": "https://localhost:8080/"
        },
        "id": "P6LaxRHXKbz3",
        "outputId": "16b38209-c090-45df-a7b4-f4f43d345ba9"
      },
      "source": [
        "_*2"
      ],
      "execution_count": null,
      "outputs": [
        {
          "output_type": "execute_result",
          "data": {
            "text/plain": [
              "22"
            ]
          },
          "metadata": {
            "tags": []
          },
          "execution_count": 40
        }
      ]
    },
    {
      "cell_type": "markdown",
      "metadata": {
        "id": "W6FcNzUiLtpu"
      },
      "source": [
        "# **Return multiple values**\r\n"
      ]
    },
    {
      "cell_type": "code",
      "metadata": {
        "colab": {
          "base_uri": "https://localhost:8080/"
        },
        "id": "LXj-bfbkL5u1",
        "outputId": "331ecec6-7e20-4968-ab04-4eaf46b23f3e"
      },
      "source": [
        "#Return many values from a function in Python\r\n",
        "def hours_to_relax(happy_hours):\r\n",
        "   week1 = happy_hours + 2\r\n",
        "   week2 = happy_hours + 4\r\n",
        "   week3 = happy_hours + 6\r\n",
        "   return [week1, week2, week3]\r\n",
        " \r\n",
        "print(hours_to_relax(2))"
      ],
      "execution_count": null,
      "outputs": [
        {
          "output_type": "stream",
          "text": [
            "[4, 6, 8]\n"
          ],
          "name": "stdout"
        }
      ]
    },
    {
      "cell_type": "code",
      "metadata": {
        "colab": {
          "base_uri": "https://localhost:8080/"
        },
        "id": "yRA7UpeUbCYu",
        "outputId": "ab41ec46-2de2-4eb5-e129-f15fb898dbc7"
      },
      "source": [
        "#function that returns a dictionary with a key/value pair\r\n",
        "def price(): \r\n",
        "    d = dict(); \r\n",
        "    d['Pen'] = 5\r\n",
        "    d['Paper'] = 10\r\n",
        "    d['Notebook'] = 15\r\n",
        "    return d\r\n",
        "d = price() \r\n",
        "print(d)"
      ],
      "execution_count": null,
      "outputs": [
        {
          "output_type": "stream",
          "text": [
            "{'Pen': 5, 'Paper': 10, 'Notebook': 15}\n"
          ],
          "name": "stdout"
        }
      ]
    },
    {
      "cell_type": "markdown",
      "metadata": {
        "id": "YsU1fr_Ncu9p"
      },
      "source": [
        "A list is similar to an array of items formed using square brackets, but it is different because it can contain elements of different types. Lists are different from tuples since they are mutable. That means a list can change. Lists are one of Python’s most powerful data structures because lists do not often have to remain similar. A list may include strings, integers, and items. They can even be utilized with stacks as well as queues.\r\n",
        "\r\n"
      ]
    },
    {
      "cell_type": "code",
      "metadata": {
        "colab": {
          "base_uri": "https://localhost:8080/"
        },
        "id": "KINwmKrtb9Jz",
        "outputId": "b8ec0518-e69d-4245-b18d-eb20d1cff8db"
      },
      "source": [
        "# A Python program to return multiple values using list\r\n",
        "def pandemic(): \r\n",
        "    str1 = \"Social\"\r\n",
        "    str2 = \"Distancing\"\r\n",
        "    return [str1, str2];\r\n",
        " \r\n",
        "list = pandemic() \r\n",
        "print(list)"
      ],
      "execution_count": null,
      "outputs": [
        {
          "output_type": "stream",
          "text": [
            "['Social', 'Distancing']\n"
          ],
          "name": "stdout"
        }
      ]
    },
    {
      "cell_type": "markdown",
      "metadata": {
        "id": "b5aCViAic8Vu"
      },
      "source": [
        "A tuple is an ordered, immutable Python object. Tuples are normally used to store collections of heterogeneous data. Tuples are similar to lists except that they cannot be altered after they are defined. Typically, tuples are quicker than lists. A tuple may be created by separating items with commas:*x, y, z* or *(x, y, z)*.\r\n"
      ]
    },
    {
      "cell_type": "code",
      "metadata": {
        "colab": {
          "base_uri": "https://localhost:8080/"
        },
        "id": "7FPq3Aw2dl4p",
        "outputId": "65772504-d2df-4346-c43f-d46399199a9b"
      },
      "source": [
        "# A Python program to return multiple values using tuple\r\n",
        "# This function returns a tuple \r\n",
        "def fun(): \r\n",
        "    str1 = \"Summer\"\r\n",
        "    str2 = \"vacation\"\r\n",
        "    return str1, str2; # we could also write (str1, str2)\r\n",
        "str1, str2= fun() \r\n",
        "print(str1) \r\n",
        "print(str2)"
      ],
      "execution_count": null,
      "outputs": [
        {
          "output_type": "stream",
          "text": [
            "Summer\n",
            "vacation\n"
          ],
          "name": "stdout"
        }
      ]
    },
    {
      "cell_type": "markdown",
      "metadata": {
        "id": "YyZzahoxeK33"
      },
      "source": [
        "**Using an Object**\r\n",
        "\r\n",
        "This is identical to C/C++ as well as Java. A class (in C, a struct) can be formed to hold several attributes and return a class object"
      ]
    },
    {
      "cell_type": "code",
      "metadata": {
        "colab": {
          "base_uri": "https://localhost:8080/"
        },
        "id": "agLvAlzUeRBL",
        "outputId": "ef3d4d2e-e760-4098-f0be-18c60891c388"
      },
      "source": [
        "# A Python program to return multiple values using class \r\n",
        "class Intro: \r\n",
        " def __init__(self): \r\n",
        "  self.str1 = \"hello\"\r\n",
        "  self.str2 = \"world\"\r\n",
        "# This function returns an object of Intro\r\n",
        "def message(): \r\n",
        " return Intro() \r\n",
        " \r\n",
        "x = message() \r\n",
        "print(x.str1) \r\n",
        "print(x.str2)"
      ],
      "execution_count": null,
      "outputs": [
        {
          "output_type": "stream",
          "text": [
            "hello\n",
            "world\n"
          ],
          "name": "stdout"
        }
      ]
    },
    {
      "cell_type": "code",
      "metadata": {
        "colab": {
          "base_uri": "https://localhost:8080/"
        },
        "id": "MtbnMQreejfr",
        "outputId": "0c3fdec5-998a-4d9a-9bbe-d53ab08de3f4"
      },
      "source": [
        "#Return multiple values using a Data Class\r\n",
        "from dataclasses import dataclass\r\n",
        "@dataclass\r\n",
        "class Item_list:\r\n",
        "    name: str\r\n",
        "    perunit_cost: float\r\n",
        "    quantity_available: int = 0\r\n",
        "    def total_cost(self) -> float:\r\n",
        "        return self.perunit_cost * self.quantity_available\r\n",
        "    \r\n",
        "book = Item_list(\"Introduction to Python\", 50, 2)\r\n",
        "x = book.total_cost()\r\n",
        "print(x)\r\n",
        "print(book)\r\n"
      ],
      "execution_count": null,
      "outputs": [
        {
          "output_type": "stream",
          "text": [
            "100\n",
            "Item_list(name='Introduction to Python', perunit_cost=50, quantity_available=2)\n"
          ],
          "name": "stdout"
        }
      ]
    },
    {
      "cell_type": "markdown",
      "metadata": {
        "id": "Uy765lV2fJ_T"
      },
      "source": [
        "# **Merging dictionaries**\r\n",
        "If there are overlapping keys, the keys from the first dictionary will be overwritten."
      ]
    },
    {
      "cell_type": "code",
      "metadata": {
        "colab": {
          "base_uri": "https://localhost:8080/"
        },
        "id": "f1ld_6_KfU2D",
        "outputId": "3fdddbf2-6c00-40c5-b467-771f5559866f"
      },
      "source": [
        "dict1 = { 'a': 1, 'b': 2 }\r\n",
        "dict2 = { 'b': 3, 'c': 4 }\r\n",
        "merged = { **dict1, **dict2 }\r\n",
        "\r\n",
        "print (merged)"
      ],
      "execution_count": null,
      "outputs": [
        {
          "output_type": "stream",
          "text": [
            "{'a': 1, 'b': 3, 'c': 4}\n"
          ],
          "name": "stdout"
        }
      ]
    },
    {
      "cell_type": "code",
      "metadata": {
        "id": "bS1wwun2fuUV"
      },
      "source": [
        "# Python >= 3.9 only\r\n",
        "merged = dict1 | dict2\r\n",
        "\r\n",
        "print (merged)"
      ],
      "execution_count": null,
      "outputs": []
    },
    {
      "cell_type": "markdown",
      "metadata": {
        "id": "IJ6sfR8qf7Wm"
      },
      "source": [
        "# **Slicing a list**\r\n",
        "The basic syntax of list slicing is:\r\n",
        "\r\n",
        "a[start:stop:step]\r\n",
        "\r\n",
        "Start, stop and step are optional. If we don’t fill them in, they will default to:\r\n",
        "\r\n",
        "\r\n",
        "*   0 for start\r\n",
        "*   the end of the list for stop\r\n",
        "*   1 for step\r\n",
        "\r\n",
        "\r\n",
        "\r\n"
      ]
    },
    {
      "cell_type": "code",
      "metadata": {
        "colab": {
          "base_uri": "https://localhost:8080/"
        },
        "id": "hDQj_Qb0giWx",
        "outputId": "b6f9be94-9d72-4237-cb06-8daac52d81d8"
      },
      "source": [
        "# We can easily create a new list from \r\n",
        "# the first two elements of a list:\r\n",
        "first_two = [1, 2, 3, 4, 5][0:2]\r\n",
        "print(first_two)"
      ],
      "execution_count": null,
      "outputs": [
        {
          "output_type": "stream",
          "text": [
            "[1, 2]\n"
          ],
          "name": "stdout"
        }
      ]
    },
    {
      "cell_type": "code",
      "metadata": {
        "colab": {
          "base_uri": "https://localhost:8080/"
        },
        "id": "cDgN2ijTfvUC",
        "outputId": "2b68e151-891a-49e6-c6bd-ab778869e062"
      },
      "source": [
        "#if we use a step value of 2, we can skip over every second number like this:\r\n",
        "steps = [1, 2, 3, 4, 5][0:5:2]\r\n",
        "print(steps)"
      ],
      "execution_count": null,
      "outputs": [
        {
          "output_type": "stream",
          "text": [
            "[1, 3, 5]\n"
          ],
          "name": "stdout"
        }
      ]
    },
    {
      "cell_type": "code",
      "metadata": {
        "colab": {
          "base_uri": "https://localhost:8080/"
        },
        "id": "as0MAivXhJS_",
        "outputId": "98db46b4-0beb-4110-dbd4-4f0f4a5ac434"
      },
      "source": [
        "# This works on strings too. In Python, we can treat a string like a list of letters:\r\n",
        "mystring = \"Roses are red\"[::2]\r\n",
        "print(mystring)"
      ],
      "execution_count": null,
      "outputs": [
        {
          "output_type": "stream",
          "text": [
            "Rssaerd\n"
          ],
          "name": "stdout"
        }
      ]
    },
    {
      "cell_type": "markdown",
      "metadata": {
        "id": "Po5rGim6hkEv"
      },
      "source": [
        "# **Check memory usage of your objects**\r\n",
        "With sys.getsizeof() you can check the memory usage of an object:"
      ]
    },
    {
      "cell_type": "code",
      "metadata": {
        "colab": {
          "base_uri": "https://localhost:8080/"
        },
        "id": "Auq8ycp_CF5T",
        "outputId": "434a7f18-9faf-4746-ccd1-6d872d29010c"
      },
      "source": [
        "import sys\r\n",
        "\r\n",
        "mylist = range(0, 10000)\r\n",
        "print(sys.getsizeof(mylist))"
      ],
      "execution_count": null,
      "outputs": [
        {
          "output_type": "stream",
          "text": [
            "48\n"
          ],
          "name": "stdout"
        }
      ]
    },
    {
      "cell_type": "markdown",
      "metadata": {
        "id": "Mpkb0UunCOw3"
      },
      "source": [
        "**Why is this huge list only 48 bytes?**\r\n",
        "\r\n",
        "It’s because the range function returns a class that only behaves like a list. A range is a lot more memory efficient than using an actual list of numbers.\r\n",
        "\r\n",
        "A list comprehension returns actual list of numbers from the same range:"
      ]
    },
    {
      "cell_type": "code",
      "metadata": {
        "colab": {
          "base_uri": "https://localhost:8080/"
        },
        "id": "kfXz7yZcCgob",
        "outputId": "0b6934c6-00a8-41d2-c46c-f3ed90a3f761"
      },
      "source": [
        "import sys\r\n",
        "\r\n",
        "myreallist = [x for x in range(0, 10000)]\r\n",
        "print(sys.getsizeof(myreallist))"
      ],
      "execution_count": null,
      "outputs": [
        {
          "output_type": "stream",
          "text": [
            "87624\n"
          ],
          "name": "stdout"
        }
      ]
    },
    {
      "cell_type": "markdown",
      "metadata": {
        "id": "YGlvzLWDCvtb"
      },
      "source": [
        "# **String to title case**\r\n",
        "\r\n",
        "If we want to quickly get a nice looking headline, we can use the title method on a string."
      ]
    },
    {
      "cell_type": "code",
      "metadata": {
        "colab": {
          "base_uri": "https://localhost:8080/"
        },
        "id": "9m91OdVsC6p3",
        "outputId": "bcde35eb-bf47-411a-edf8-546573820070"
      },
      "source": [
        "mystring = \"please keep social distancing\"\r\n",
        "print(mystring.title())"
      ],
      "execution_count": null,
      "outputs": [
        {
          "output_type": "stream",
          "text": [
            "Please Keep Social Distancing\n"
          ],
          "name": "stdout"
        }
      ]
    },
    {
      "cell_type": "markdown",
      "metadata": {
        "id": "oNFy-TyYIKu7"
      },
      "source": [
        "# **Split a string into a list**\r\n",
        "\r\n",
        "We can split a string into a list of strings. In this case, we split on the space character. To split on whitespace, we actually don’t have to give split any arguments. By default, all runs of consecutive whitespace are regarded as a single whitespace separator by split. So we could just as well use mystring.split()."
      ]
    },
    {
      "cell_type": "code",
      "metadata": {
        "colab": {
          "base_uri": "https://localhost:8080/"
        },
        "id": "c8RB0BTJJiwn",
        "outputId": "fd80e793-8c6f-41e9-fb70-70980b25b8fd"
      },
      "source": [
        "mystring = \"please keep social distancing\"\r\n",
        "mylist = mystring.split(' ')\r\n",
        "print(mylist)"
      ],
      "execution_count": null,
      "outputs": [
        {
          "output_type": "stream",
          "text": [
            "['please', 'keep', 'social', 'distancing']\n"
          ],
          "name": "stdout"
        }
      ]
    },
    {
      "cell_type": "markdown",
      "metadata": {
        "id": "WRnKkyizKNTZ"
      },
      "source": [
        "Split also allows a second parameter, called maxsplit, which defines the maximum number of splits. It defaults to -1 (no limit). An example where we limit the split to 1"
      ]
    },
    {
      "cell_type": "code",
      "metadata": {
        "colab": {
          "base_uri": "https://localhost:8080/"
        },
        "id": "dsahKmYlKOgL",
        "outputId": "9c660285-7b38-42bb-f52d-002566ffe566"
      },
      "source": [
        " mystring.split(' ', 1)"
      ],
      "execution_count": null,
      "outputs": [
        {
          "output_type": "execute_result",
          "data": {
            "text/plain": [
              "['please', 'keep social distancing']"
            ]
          },
          "metadata": {
            "tags": []
          },
          "execution_count": 9
        }
      ]
    },
    {
      "cell_type": "markdown",
      "metadata": {
        "id": "jYFwjnjjKYTs"
      },
      "source": [
        "# **Create a string from a list of strings**\r\n",
        "Create a string from a list and put a space character between each word"
      ]
    },
    {
      "cell_type": "code",
      "metadata": {
        "colab": {
          "base_uri": "https://localhost:8080/"
        },
        "id": "0lckBAhaKquO",
        "outputId": "02fc9a5d-a113-42c2-f18d-6104f208c17c"
      },
      "source": [
        "mylist = ['please', 'keep', 'social', 'distancing']\r\n",
        "mystring = \" \".join(mylist)\r\n",
        "print(mystring)"
      ],
      "execution_count": null,
      "outputs": [
        {
          "output_type": "stream",
          "text": [
            "please keep social distancing\n"
          ],
          "name": "stdout"
        }
      ]
    },
    {
      "cell_type": "markdown",
      "metadata": {
        "id": "24Jr8n8NK7Cf"
      },
      "source": [
        "mylist.join(\" \") is not a valid command because It comes down to the fact that the String.join() function can join not just lists, but any iterable. Putting it inside String prevents implementing the same functionality in multiple places."
      ]
    },
    {
      "cell_type": "markdown",
      "metadata": {
        "id": "dauXKjEELGB3"
      },
      "source": [
        "# **Query JSON**\r\n",
        "https://python.land/data-processing/working-with-json/jmespath"
      ]
    },
    {
      "cell_type": "code",
      "metadata": {
        "colab": {
          "base_uri": "https://localhost:8080/"
        },
        "id": "GHwxLYHSLq00",
        "outputId": "edca8c76-a9cc-4eb3-c7a8-9f58f90827ae"
      },
      "source": [
        "import jmespath\r\n",
        "j = { \"people\": [{ \"name\": \"erik\", \"age\": 38 }] }\r\n",
        "jmespath.search(\"people[*].age\", j)\r\n"
      ],
      "execution_count": null,
      "outputs": [
        {
          "output_type": "execute_result",
          "data": {
            "text/plain": [
              "[38]"
            ]
          },
          "metadata": {
            "tags": []
          },
          "execution_count": 15
        }
      ]
    },
    {
      "cell_type": "code",
      "metadata": {
        "colab": {
          "base_uri": "https://localhost:8080/"
        },
        "id": "hCDdRo0ZMimR",
        "outputId": "efdd97b2-f9c8-4088-d475-3530a2d68a08"
      },
      "source": [
        "pip install jmespath"
      ],
      "execution_count": null,
      "outputs": [
        {
          "output_type": "stream",
          "text": [
            "Collecting jmespath\n",
            "  Downloading https://files.pythonhosted.org/packages/07/cb/5f001272b6faeb23c1c9e0acc04d48eaaf5c862c17709d20e3469c6e0139/jmespath-0.10.0-py2.py3-none-any.whl\n",
            "Installing collected packages: jmespath\n",
            "Successfully installed jmespath-0.10.0\n"
          ],
          "name": "stdout"
        }
      ]
    },
    {
      "cell_type": "code",
      "metadata": {
        "colab": {
          "base_uri": "https://localhost:8080/"
        },
        "id": "knREuhAQMKaN",
        "outputId": "b032c3fc-c16c-4d25-91bc-9c6cba33c63e"
      },
      "source": [
        "pip install simplejson"
      ],
      "execution_count": null,
      "outputs": [
        {
          "output_type": "stream",
          "text": [
            "Collecting simplejson\n",
            "\u001b[?25l  Downloading https://files.pythonhosted.org/packages/73/96/1e6b19045375890068d7342cbe280dd64ae73fd90b9735b5efb8d1e044a1/simplejson-3.17.2-cp36-cp36m-manylinux2010_x86_64.whl (127kB)\n",
            "\r\u001b[K     |██▋                             | 10kB 16.6MB/s eta 0:00:01\r\u001b[K     |█████▏                          | 20kB 10.8MB/s eta 0:00:01\r\u001b[K     |███████▊                        | 30kB 8.5MB/s eta 0:00:01\r\u001b[K     |██████████▎                     | 40kB 7.4MB/s eta 0:00:01\r\u001b[K     |████████████▉                   | 51kB 4.5MB/s eta 0:00:01\r\u001b[K     |███████████████▍                | 61kB 5.0MB/s eta 0:00:01\r\u001b[K     |██████████████████              | 71kB 5.1MB/s eta 0:00:01\r\u001b[K     |████████████████████▌           | 81kB 5.4MB/s eta 0:00:01\r\u001b[K     |███████████████████████         | 92kB 5.2MB/s eta 0:00:01\r\u001b[K     |█████████████████████████▋      | 102kB 5.3MB/s eta 0:00:01\r\u001b[K     |████████████████████████████▏   | 112kB 5.3MB/s eta 0:00:01\r\u001b[K     |██████████████████████████████▊ | 122kB 5.3MB/s eta 0:00:01\r\u001b[K     |████████████████████████████████| 133kB 5.3MB/s \n",
            "\u001b[?25hInstalling collected packages: simplejson\n",
            "Successfully installed simplejson-3.17.2\n"
          ],
          "name": "stdout"
        }
      ]
    },
    {
      "cell_type": "markdown",
      "metadata": {
        "id": "O0s9u3T3NO8o"
      },
      "source": [
        "# **Reversing strings and lists**\r\n",
        "We can use the slice notation from above to reverse a string or list. By using a negative stepping value of -1, the elements are reversed"
      ]
    },
    {
      "cell_type": "code",
      "metadata": {
        "colab": {
          "base_uri": "https://localhost:8080/"
        },
        "id": "7kCFkY_QNEpm",
        "outputId": "f867ad25-e40e-44b6-d102-8d93ce94fd35"
      },
      "source": [
        "#reversing string\r\n",
        "revstring = \"abcdefg\"[::-1]\r\n",
        "print(revstring)\r\n",
        "\r\n",
        "#reversing array\r\n",
        "revarray = [1, 2, 3, 4, 5][::-1]\r\n",
        "print(revarray)\r\n"
      ],
      "execution_count": null,
      "outputs": [
        {
          "output_type": "stream",
          "text": [
            "gfedcba\n",
            "[5, 4, 3, 2, 1]\n"
          ],
          "name": "stdout"
        }
      ]
    },
    {
      "cell_type": "markdown",
      "metadata": {
        "id": "Q2HHDklUNvNf"
      },
      "source": [
        "# **Get unique elements from a list or string**\r\n",
        "By creating a set with the set() function, you get all the unique elements from a list or list-like object"
      ]
    },
    {
      "cell_type": "code",
      "metadata": {
        "colab": {
          "base_uri": "https://localhost:8080/"
        },
        "id": "y_aoXspqN4Rr",
        "outputId": "98a83622-cbec-412e-e065-e3f27d871e2c"
      },
      "source": [
        "mylist = [1, 1, 2, 3, 4, 5, 5, 5, 6, 6]\r\n",
        "print (set(mylist))\r\n",
        "\r\n",
        "# And since a string can be treated like a \r\n",
        "# list of letters, you can also get the \r\n",
        "# unique letters from a string this way:\r\n",
        "print (set(\"aaabbbcccdddeeefff\"))\r\n"
      ],
      "execution_count": null,
      "outputs": [
        {
          "output_type": "stream",
          "text": [
            "{1, 2, 3, 4, 5, 6}\n",
            "{'a', 'e', 'c', 'd', 'f', 'b'}\n"
          ],
          "name": "stdout"
        }
      ]
    },
    {
      "cell_type": "markdown",
      "metadata": {
        "id": "bYGOBEjBbu_I"
      },
      "source": [
        "# **Valid Dictionary Values**\r\n",
        "We can put anything in a dictionary. We’re not limited to numbers or strings. In fact, we can put dictionaries and lists inside oue dictionary and access the nested values in a very natural way"
      ]
    },
    {
      "cell_type": "code",
      "metadata": {
        "colab": {
          "base_uri": "https://localhost:8080/"
        },
        "id": "qJrPVOSWbt7A",
        "outputId": "f4e04c83-14da-4d9a-d300-8beaecef2808"
      },
      "source": [
        "dic = { 'sub_dict': { 'b': True }, 'mylist': [100, 200, 300] }\r\n",
        "print(dic['sub_dict']['b'])\r\n",
        "print(dic['mylist'][1])"
      ],
      "execution_count": null,
      "outputs": [
        {
          "output_type": "stream",
          "text": [
            "True\n",
            "200\n"
          ],
          "name": "stdout"
        }
      ]
    },
    {
      "cell_type": "markdown",
      "metadata": {
        "id": "l51j65VedJPY"
      },
      "source": [
        "# **Ternary Operator For Conditional Assignment**\r\n",
        "This is another one of those ways to make our code more concise while still keeping it readable\r\n",
        "\r\n",
        "Syntax: [on_true] if [expression] else [on_false]"
      ]
    },
    {
      "cell_type": "markdown",
      "metadata": {
        "id": "KYR5qeiNeCoT"
      },
      "source": [
        "One simple program using if-else statement"
      ]
    },
    {
      "cell_type": "code",
      "metadata": {
        "colab": {
          "base_uri": "https://localhost:8080/"
        },
        "id": "4ID-WBbfdWz9",
        "outputId": "6566947e-63ef-4d6f-ceff-656365669add"
      },
      "source": [
        "x, y = 5, 6\r\n",
        "if x>y:\r\n",
        "   print(\"x\")\r\n",
        "else:\r\n",
        "   print(\"y\")"
      ],
      "execution_count": null,
      "outputs": [
        {
          "output_type": "stream",
          "text": [
            "y\n"
          ],
          "name": "stdout"
        }
      ]
    },
    {
      "cell_type": "markdown",
      "metadata": {
        "id": "QzinpyyCembp"
      },
      "source": [
        "Now we will write the same program using ternary operator"
      ]
    },
    {
      "cell_type": "code",
      "metadata": {
        "colab": {
          "base_uri": "https://localhost:8080/"
        },
        "id": "iSqkyFLKexzF",
        "outputId": "71ae152f-a5c4-4137-f9e4-c62c744a81c1"
      },
      "source": [
        "x, y = 5, 6\r\n",
        "print(\"x\" if x> y else \"y\")"
      ],
      "execution_count": null,
      "outputs": [
        {
          "output_type": "stream",
          "text": [
            "y\n"
          ],
          "name": "stdout"
        }
      ]
    },
    {
      "cell_type": "markdown",
      "metadata": {
        "id": "h-uJk2u7gBeB"
      },
      "source": [
        "# **Counting occurrences in a list**\r\n",
        "We can use Counter from the collections library to get a dictionary with counts of all the unique elements in a list"
      ]
    },
    {
      "cell_type": "code",
      "metadata": {
        "colab": {
          "base_uri": "https://localhost:8080/"
        },
        "id": "PFNgpeOFgQjL",
        "outputId": "e4b81508-7dd2-495d-8ea4-2dc6a0d95c3d"
      },
      "source": [
        "from collections import Counter\r\n",
        "\r\n",
        "mylist = [1, 2,1, 2, 3, 4, 5, 5, 5, 6, 6,5]\r\n",
        "c = Counter(mylist)\r\n",
        "print(c)"
      ],
      "execution_count": null,
      "outputs": [
        {
          "output_type": "stream",
          "text": [
            "Counter({5: 4, 1: 2, 2: 2, 6: 2, 3: 1, 4: 1})\n"
          ],
          "name": "stdout"
        }
      ]
    },
    {
      "cell_type": "code",
      "metadata": {
        "colab": {
          "base_uri": "https://localhost:8080/"
        },
        "id": "VP8WoO_AgpHU",
        "outputId": "8b61c178-2417-4546-bcd8-1ef98a07eab5"
      },
      "source": [
        "#it works on strings too:\r\n",
        "print(Counter(\"aaaaabbbbbccccc\"))"
      ],
      "execution_count": null,
      "outputs": [
        {
          "output_type": "stream",
          "text": [
            "Counter({'a': 5, 'b': 5, 'c': 5})\n"
          ],
          "name": "stdout"
        }
      ]
    },
    {
      "cell_type": "markdown",
      "metadata": {
        "id": "1wDkBeFfg5Cg"
      },
      "source": [
        "# **Chaining comparison operators**\r\n",
        "Create more readable and concise code by chaining comparison operators"
      ]
    },
    {
      "cell_type": "code",
      "metadata": {
        "colab": {
          "base_uri": "https://localhost:8080/"
        },
        "id": "WZujwf6Kg_w2",
        "outputId": "8b6f1a9b-b693-42f2-cbbe-1ec008d892c0"
      },
      "source": [
        "x = 10\r\n",
        "\r\n",
        "# Instead of:\r\n",
        "if x > 5 and x < 15:\r\n",
        "    print(\"Yes\")\r\n",
        "\r\n",
        "\r\n",
        "# We can also write:\r\n",
        "if 5 < x < 15:\r\n",
        "    print(\"Yes\")"
      ],
      "execution_count": null,
      "outputs": [
        {
          "output_type": "stream",
          "text": [
            "Yes\n",
            "Yes\n"
          ],
          "name": "stdout"
        }
      ]
    },
    {
      "cell_type": "markdown",
      "metadata": {
        "id": "HllfnvP8iCUQ"
      },
      "source": [
        "# **Dictionary and set comprehensions**\r\n",
        "A dictionary requires a key and a value. Otherwise, it’s the same trick again"
      ]
    },
    {
      "cell_type": "code",
      "metadata": {
        "colab": {
          "base_uri": "https://localhost:8080/"
        },
        "id": "6D0qdZxZiX70",
        "outputId": "2b556f2d-dcd4-472a-cd61-597b4502bdfd"
      },
      "source": [
        "{x: x**2 for x in (2, 4, 6)}"
      ],
      "execution_count": null,
      "outputs": [
        {
          "output_type": "execute_result",
          "data": {
            "text/plain": [
              "{2: 4, 4: 16, 6: 36}"
            ]
          },
          "metadata": {
            "tags": []
          },
          "execution_count": 11
        }
      ]
    },
    {
      "cell_type": "markdown",
      "metadata": {
        "id": "c9q6YDH7iuYJ"
      },
      "source": [
        "The only difference is that we define both the key and value in the expression part.\r\n",
        "\r\n",
        "The syntax for a set comprehension is not much different from a list comprehension. We just use curly brackets instead of square brackets.\r\n",
        "\r\n",
        "`{ <expression> for item in list if <conditional> }`"
      ]
    },
    {
      "cell_type": "code",
      "metadata": {
        "colab": {
          "base_uri": "https://localhost:8080/"
        },
        "id": "v1qU6Kazi-ig",
        "outputId": "5e6afc9f-ea7d-4e6c-fc2d-1832cb12f9e3"
      },
      "source": [
        "{s for s in range(1,5) if s % 2}"
      ],
      "execution_count": null,
      "outputs": [
        {
          "output_type": "execute_result",
          "data": {
            "text/plain": [
              "{1, 3}"
            ]
          },
          "metadata": {
            "tags": []
          },
          "execution_count": 12
        }
      ]
    }
  ]
}