{
  "nbformat": 4,
  "nbformat_minor": 0,
  "metadata": {
    "colab": {
      "name": "Calorie_Calculation.ipynb",
      "provenance": [],
      "authorship_tag": "ABX9TyNy8KyN6VGE2KKTRRIGxijX"
    },
    "kernelspec": {
      "name": "python3",
      "display_name": "Python 3"
    }
  },
  "cells": [
    {
      "cell_type": "markdown",
      "metadata": {
        "id": "3FYXlIi0S39c",
        "colab_type": "text"
      },
      "source": [
        "Problem: Calculate the percentage of calories from carb/ protein /fat for each food.\n",
        "\n",
        "      Apple    Beef     Eggs    Tomatoes\n",
        "\n",
        "Carb    56.0   0.0      4.4     68.0\n",
        "\n",
        "Protein 1.2    104.0    52.0    8.0\n",
        "\n",
        "Fat     1.8    135.0    99.0    0.9\n",
        "\n",
        "\n",
        "\n"
      ]
    },
    {
      "cell_type": "code",
      "metadata": {
        "id": "PzNaKRqoFluc",
        "colab_type": "code",
        "colab": {
          "base_uri": "https://localhost:8080/",
          "height": 136
        },
        "outputId": "69f4893c-1861-47d6-e3a1-77cbc22045cf"
      },
      "source": [
        "#Calculate the percentage of calories for each food.\n",
        "import numpy as np\n",
        "A = np.array([[56.0,0.0,4.4,68.0],[1.2,104.0,52.0,8.0],[1.8,135.0,99.0,0.9]])\n",
        "print(A)\n",
        "Cal= A.sum(axis=0) # axis=0 sum vertically whereas axis=1 sum horizentally\n",
        "print(Cal)\n",
        "Total_cal_percentage= 100*A/Cal.reshape(1,4)# reshape redundant here,just make sure shape is correct\n",
        "print(Total_cal_percentage)"
      ],
      "execution_count": 13,
      "outputs": [
        {
          "output_type": "stream",
          "text": [
            "[[ 56.    0.    4.4  68. ]\n",
            " [  1.2 104.   52.    8. ]\n",
            " [  1.8 135.   99.    0.9]]\n",
            "[ 59.  239.  155.4  76.9]\n",
            "[[94.91525424  0.          2.83140283 88.42652796]\n",
            " [ 2.03389831 43.51464435 33.46203346 10.40312094]\n",
            " [ 3.05084746 56.48535565 63.70656371  1.17035111]]\n"
          ],
          "name": "stdout"
        }
      ]
    }
  ]
}