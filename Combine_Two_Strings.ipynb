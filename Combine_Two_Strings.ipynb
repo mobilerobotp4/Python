{
 "cells": [
  {
   "cell_type": "code",
   "execution_count": 3,
   "metadata": {},
   "outputs": [
    {
     "name": "stdout",
     "output_type": "stream",
     "text": [
      "True\n"
     ]
    }
   ],
   "source": [
    "def isShuffle(str1, str2, str3):\n",
    "    if len(str1)+len(str2)!=len(str3):\n",
    "        return False\n",
    " \n",
    "    if not str1 or not str2 or not str3:\n",
    "        if str1+str2==str3:\n",
    "            return True\n",
    "        else:\n",
    "            return False\n",
    " \n",
    "    if str1[0]!=str3[0] and str2[0]!=str3[0]:\n",
    "        return False\n",
    " \n",
    "    if str1[0]==str3[0] and isShuffle(str1[1:], str2, str3[1:]):\n",
    "            return True\n",
    "    if str2[0]==str3[0] and isShuffle(str1, str2[1:], str3[1:]):\n",
    "            return True\n",
    " \n",
    "    return False\n",
    "print(isShuffle('main','view','maviiewn'))"
   ]
  },
  {
   "cell_type": "code",
   "execution_count": null,
   "metadata": {},
   "outputs": [],
   "source": []
  }
 ],
 "metadata": {
  "kernelspec": {
   "display_name": "Python 3",
   "language": "python",
   "name": "python3"
  },
  "language_info": {
   "codemirror_mode": {
    "name": "ipython",
    "version": 3
   },
   "file_extension": ".py",
   "mimetype": "text/x-python",
   "name": "python",
   "nbconvert_exporter": "python",
   "pygments_lexer": "ipython3",
   "version": "3.6.5"
  }
 },
 "nbformat": 4,
 "nbformat_minor": 2
}
