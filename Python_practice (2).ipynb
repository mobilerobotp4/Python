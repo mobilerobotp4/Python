{
 "cells": [
  {
   "cell_type": "code",
   "execution_count": 10,
   "metadata": {},
   "outputs": [
    {
     "name": "stdout",
     "output_type": "stream",
     "text": [
      "[1, 2, 3]\n",
      "[4, 2, 2]\n",
      "Total pairs: 4\n"
     ]
    }
   ],
   "source": [
    "socks_list = [1, 2, 3, 1, 1, 2, 3, 1]\n",
    "\n",
    "unique_list = list()\n",
    "\n",
    "for ele in socks_list:\n",
    "    if ele not in unique_list:\n",
    "        unique_list.append(ele)        \n",
    "print(unique_list)\n",
    "\n",
    "unique_ele_occurance = [0]*len(unique_list)\n",
    "for ele in socks_list:\n",
    "    i = 0\n",
    "    for x in unique_list:\n",
    "        if ele == x:\n",
    "            unique_ele_occurance[i] += 1\n",
    "            break\n",
    "        i += 1\n",
    "print(unique_ele_occurance)\n",
    "\n",
    "# Find number of complete pairs\n",
    "complete_pair = 0\n",
    "for x in unique_ele_occurance:\n",
    "    complete_pair += x//2\n",
    "print(\"Total pairs: {}\".format(complete_pair))"
   ]
  },
  {
   "cell_type": "code",
   "execution_count": 32,
   "metadata": {},
   "outputs": [
    {
     "name": "stdout",
     "output_type": "stream",
     "text": [
      "{'1': 4, '2': 2, '3': 2}\n",
      "Complete number of pairs: 4\n"
     ]
    }
   ],
   "source": [
    "socks_list = [1, 2, 3, 1, 1, 2, 3, 1]\n",
    "\n",
    "socks_dict = {}\n",
    "for ele in socks_list:\n",
    "    str_ele = str(ele)\n",
    "    if str_ele not in socks_dict.keys():\n",
    "        socks_dict[str_ele] = 1\n",
    "    else:\n",
    "        socks_dict[str_ele] += 1\n",
    "print(socks_dict)\n",
    "\n",
    "pair = 0\n",
    "for val in socks_dict.values():\n",
    "    pair += val//2\n",
    "print(\"Complete number of pairs: {}\".format(pair))"
   ]
  },
  {
   "cell_type": "code",
   "execution_count": null,
   "metadata": {},
   "outputs": [],
   "source": []
  }
 ],
 "metadata": {
  "kernelspec": {
   "display_name": "Python 3",
   "language": "python",
   "name": "python3"
  },
  "language_info": {
   "codemirror_mode": {
    "name": "ipython",
    "version": 3
   },
   "file_extension": ".py",
   "mimetype": "text/x-python",
   "name": "python",
   "nbconvert_exporter": "python",
   "pygments_lexer": "ipython3",
   "version": "3.6.8"
  }
 },
 "nbformat": 4,
 "nbformat_minor": 2
}
