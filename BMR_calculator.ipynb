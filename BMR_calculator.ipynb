{
  "nbformat": 4,
  "nbformat_minor": 0,
  "metadata": {
    "colab": {
      "name": "BMR_calculator.ipynb",
      "provenance": [],
      "authorship_tag": "ABX9TyN1jlgLg9TWaXkuTxmtTiPK",
      "include_colab_link": true
    },
    "kernelspec": {
      "name": "python3",
      "display_name": "Python 3"
    }
  },
  "cells": [
    {
      "cell_type": "markdown",
      "metadata": {
        "id": "view-in-github",
        "colab_type": "text"
      },
      "source": [
        "<a href=\"https://colab.research.google.com/github/mobilerobotp4/Python/blob/master/BMR_calculator.ipynb\" target=\"_parent\"><img src=\"https://colab.research.google.com/assets/colab-badge.svg\" alt=\"Open In Colab\"/></a>"
      ]
    },
    {
      "cell_type": "markdown",
      "metadata": {
        "id": "j--36TDCnJ6Q"
      },
      "source": [
        "BMR calculator"
      ]
    },
    {
      "cell_type": "code",
      "metadata": {
        "colab": {
          "base_uri": "https://localhost:8080/"
        },
        "id": "5l5nAxLintKt",
        "outputId": "a5c5b216-b75e-4af3-8770-381336310241"
      },
      "source": [
        "weight = int(input(\"Enter your weight is kgs:\"))\r\n",
        "height = int(input(\"Enter your height is cms:\"))\r\n",
        "age = int(input(\"Enter your age in years:\"))\r\n",
        "isMale = str(input(\"Are you Male? (y/n)\"))\r\n",
        "if isMale == \"y\":\r\n",
        "  isMale = True\r\n",
        "elif isMale == \"n\":\r\n",
        "  isMale = False\r\n",
        "else: \r\n",
        "  print(\"error in input\")\r\n",
        "  quit()\r\n",
        "if isMale:\r\n",
        "  bmr = 88.362 + (13.397 * weight) + (4.799 * height) - (5.677 * age)\r\n",
        "else:\r\n",
        "  bmr = 447.593 + (9.247 * weight) + (3.098 * height) - (4.330 * age)\r\n",
        "print(bmr)\r\n"
      ],
      "execution_count": 6,
      "outputs": [
        {
          "output_type": "stream",
          "text": [
            "Enter your weight is kgs:65\n",
            "Enter your height is cms:180\n",
            "Enter your age in years:30\n",
            "Are you Male? (y/n)n\n",
            "1476.388\n"
          ],
          "name": "stdout"
        }
      ]
    }
  ]
}