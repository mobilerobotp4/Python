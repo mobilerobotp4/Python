{
  "nbformat": 4,
  "nbformat_minor": 0,
  "metadata": {
    "kernelspec": {
      "display_name": "Python 3",
      "language": "python",
      "name": "python3"
    },
    "language_info": {
      "codemirror_mode": {
        "name": "ipython",
        "version": 3
      },
      "file_extension": ".py",
      "mimetype": "text/x-python",
      "name": "python",
      "nbconvert_exporter": "python",
      "pygments_lexer": "ipython3",
      "version": "3.7.4"
    },
    "colab": {
      "name": "Text Analysis.ipynb",
      "provenance": [],
      "collapsed_sections": [
        "BwGrSwfndT6-"
      ]
    }
  },
  "cells": [
    {
      "cell_type": "markdown",
      "metadata": {
        "id": "7PJ0iGr7dT5_"
      },
      "source": [
        "![DSL_logo](https://github.com/BrockDSL/Python_Intro_Text_analysis/blob/master/dsl_logo.png?raw=1)\n",
        "\n",
        "\n",
        "# Introduction to Text Analysis with Python\n",
        "\n",
        "Welcome to the Digital Scholarship Lab introduction to Text Analysis with Python class. In this class we'll learn the basics of text analysis:\n",
        "\n",
        "- parsing text\n",
        "- analyzing the text\n",
        "\n",
        "We'll use our own home made analysis tool first, then we'll use a python library called `TextBlob` to use some built-in analysis tools.\n",
        "\n",
        "This workshop assumes you've completed our self-paced Python prep [workshop](https://brockdsl.github.io/Intro_to_Python_Workshop/)\n",
        "\n",
        "We'll use the Zoom's chat feature to interact.\n",
        "\n",
        "Be sure to enable line numbers by looking for the 'gear' icon and checking the box in the 'Editor' panel."
      ]
    },
    {
      "cell_type": "markdown",
      "metadata": {
        "id": "u3WZahMUdT6S"
      },
      "source": [
        "## EG. Scrabble!\n",
        "\n",
        "<img src=\"https://upload.wikimedia.org/wikipedia/commons/5/5d/Scrabble_game_in_progress.jpg\" width =500x>\n",
        "\n",
        "Scrabble is a popular game where players try to score points by spelling words and placing them on the game board. We'll use Scrabble scoring our our first attempt at text analysis. This will demonstart the basics of how Text Analysis works.\n",
        "\n",
        "The function below gives you the Scrabble scored of any word you give it."
      ]
    },
    {
      "cell_type": "code",
      "metadata": {
        "scrolled": true,
        "id": "kdzZpGHkdT6U"
      },
      "source": [
        "# This function will return the Scrabble score of a word\n",
        "\n",
        "def scrabble_score(word):\n",
        "    \n",
        "    #Dictionary of our scrabble scores\n",
        "    score_lookup = {\n",
        "        \"a\": 1,\n",
        "        \"b\": 3,\n",
        "        \"c\": 3,\n",
        "        \"d\": 2,\n",
        "        \"e\": 1,\n",
        "        \"f\": 4,\n",
        "        \"g\": 2,\n",
        "        \"h\": 4,\n",
        "        \"i\": 1,\n",
        "        \"j\": 8,\n",
        "        \"k\": 5,\n",
        "        \"l\": 1,\n",
        "        \"m\": 3,\n",
        "        \"n\": 1,\n",
        "        \"o\": 1,\n",
        "        \"p\": 3,\n",
        "        \"q\": 10,\n",
        "        \"r\": 1,\n",
        "        \"s\": 1,\n",
        "        \"t\": 1,\n",
        "        \"u\": 1,\n",
        "        \"v\": 4,\n",
        "        \"w\": 4,\n",
        "        \"x\": 8,\n",
        "        \"y\": 4,\n",
        "        \"z\": 10,\n",
        "        \"\\n\": 0, #just in case a new line character jumps in here\n",
        "        \" \":0 #normally single words don't have spaces but we'll put this here just in case\n",
        "        \n",
        "    }\n",
        "    \n",
        "    total_score = 0\n",
        "    \n",
        "    #We look up each letter in the scoring dictionary and add it to a running total\n",
        "    #to make our dictionary shorter we are just using lowercase letters so we need to\n",
        "    #change all of our input to lowercase with .lower()\n",
        "    for letter in word:\n",
        "        total_score = total_score + score_lookup[letter.lower()]\n",
        "    \n",
        "    return total_score\n"
      ],
      "execution_count": null,
      "outputs": []
    },
    {
      "cell_type": "markdown",
      "metadata": {
        "id": "d3PzPRxbdT6a"
      },
      "source": [
        "Text Analysis is a process comprised of three basic steps:\n",
        "1. Identifying the text (or corpus) that you'd like to an analyze\n",
        "1. Apply the analysis to your prepared text\n",
        "1. Review the results\n",
        "\n",
        "In our very basic example of scrabble we just are interested in finding the points we would get for spelling a specific word. \n",
        "\n",
        "In a more complex example with a larger corpus you can do any of the following types of analysis:\n",
        "- determine the sentiment (positive / negative tone) of the text\n",
        "- quantify how complex a piece of writing is based on the vocabulary it uses\n",
        "- determine what topics are in your corpus\n",
        "- classify your text into different categories based on what it is about\n",
        "\n",
        "Of course, there are many other different outcomes you can get from peforming text analysis."
      ]
    },
    {
      "cell_type": "markdown",
      "metadata": {
        "id": "bEOZEk4wdT6d"
      },
      "source": [
        "Try questions Q1 - Q2 and type \"All Done\" in the chat box when you are done."
      ]
    },
    {
      "cell_type": "markdown",
      "metadata": {
        "id": "0xnXh69fdT6e"
      },
      "source": [
        "## Q1 \n",
        "\n",
        "Score your name by creating the text variable _name_ on line 1.\n",
        "\n",
        "How many Points do you get for your name? Complete the expression below to find out the scrabble score of your name"
      ]
    },
    {
      "cell_type": "code",
      "metadata": {
        "scrolled": true,
        "id": "syCjPud4dT6f",
        "colab": {
          "base_uri": "https://localhost:8080/"
        },
        "outputId": "ceafc6c7-2940-4883-b9af-b0e382df614c"
      },
      "source": [
        "name = \"Saswati\"\n",
        "print(\"Score for my name is:\", scrabble_score(name))\n"
      ],
      "execution_count": null,
      "outputs": [
        {
          "output_type": "stream",
          "text": [
            "Score for my name is: 10\n"
          ],
          "name": "stdout"
        }
      ]
    },
    {
      "cell_type": "markdown",
      "metadata": {
        "id": "Vb4jIHiOdT6g"
      },
      "source": [
        "## Q2\n",
        "\n",
        "Score your pet's name (or favorite character from a story)  by creating the text variable _pet_name_ on line 1.\n",
        "Does your name or the name of your pet score higher in Scrabble?"
      ]
    },
    {
      "cell_type": "code",
      "metadata": {
        "scrolled": true,
        "id": "3mD8n5ePdT6h",
        "colab": {
          "base_uri": "https://localhost:8080/"
        },
        "outputId": "5f0a677d-4027-4158-faae-d860c9cf708c"
      },
      "source": [
        "pet_name = \"Rob\"\n",
        "print(\"Score for my pet's name is:\",scrabble_score(pet_name))\n",
        "\n",
        "#Compare to see which gets more points!\n",
        "if scrabble_score(pet_name) > scrabble_score(name):\n",
        "    print(\"My pet's name scores more points!\")\n",
        "else:\n",
        "    print(\"My name scores more (or the same) amount of points as my pets name\")\n",
        "\n"
      ],
      "execution_count": null,
      "outputs": [
        {
          "output_type": "stream",
          "text": [
            "Score for my pet's name is: 5\n",
            "My name scores more (or the same) amount of points as my pets name\n"
          ],
          "name": "stdout"
        }
      ]
    },
    {
      "cell_type": "markdown",
      "metadata": {
        "id": "bKoNhouWdT6k"
      },
      "source": [
        "# Beyond the basics\n",
        "\n",
        "We just completed a very basic text analysis where we analyzed two different bits of text to see which one scores higher in Scrabble. Let's expand this idea to a more complex example using the [TextBlob](https://textblob.readthedocs.io/en/dev/) Python Library. There are other more complex libraries that you can use for text analysis, we are using more simple solutions so we can spend more time looking at results compared to setting up the code."
      ]
    },
    {
      "cell_type": "markdown",
      "metadata": {
        "id": "0mYOo9YxdT6m"
      },
      "source": [
        "# Installing and Loading the Libraries\n",
        "\n",
        "This next cell will install and load the requires libraries that will do the text analysis."
      ]
    },
    {
      "cell_type": "code",
      "metadata": {
        "scrolled": true,
        "id": "vd_kpbQBdT6n",
        "colab": {
          "base_uri": "https://localhost:8080/"
        },
        "outputId": "3a65759d-ae35-462c-cb43-b30636a4de06"
      },
      "source": [
        "#Install textblob using magic commands\n",
        "#Only needed once\n",
        "%pip install textblob\n",
        "#%python -m textblob.download_corpora\n",
        "#%pip install textblob.download_corpora\n",
        "\n",
        "from textblob import TextBlob\n",
        "\n",
        "import pandas as pd\n",
        "import nltk\n",
        "import matplotlib.pyplot as plt\n",
        "\n",
        "nltk.download('punkt')\n",
        "nltk.download('averaged_perceptron_tagger')\n",
        "nltk.download('brown')\n",
        "\n",
        "#Let's make sure our previews show more information\n",
        "pd.set_option('display.max_colwidth', 999)\n",
        "\n",
        "#Classifier for laster \n",
        "from textblob.classifiers import NaiveBayesClassifier"
      ],
      "execution_count": null,
      "outputs": [
        {
          "output_type": "stream",
          "text": [
            "Requirement already satisfied: textblob in /usr/local/lib/python3.7/dist-packages (0.15.3)\n",
            "Requirement already satisfied: nltk>=3.1 in /usr/local/lib/python3.7/dist-packages (from textblob) (3.2.5)\n",
            "Requirement already satisfied: six in /usr/local/lib/python3.7/dist-packages (from nltk>=3.1->textblob) (1.15.0)\n",
            "[nltk_data] Downloading package punkt to /root/nltk_data...\n",
            "[nltk_data]   Unzipping tokenizers/punkt.zip.\n",
            "[nltk_data] Downloading package averaged_perceptron_tagger to\n",
            "[nltk_data]     /root/nltk_data...\n",
            "[nltk_data]   Unzipping taggers/averaged_perceptron_tagger.zip.\n",
            "[nltk_data] Downloading package brown to /root/nltk_data...\n",
            "[nltk_data]   Unzipping corpora/brown.zip.\n"
          ],
          "name": "stdout"
        }
      ]
    },
    {
      "cell_type": "markdown",
      "metadata": {
        "id": "gASbsqVodT6q"
      },
      "source": [
        "# Corpus\n",
        "\n",
        "![winnie_splash](https://raw.githubusercontent.com/BrockDSL/Text_Analysis_with_Python/master/winnie_splash.png)\n",
        "\n",
        "Corpus is a fancy way of saying the text that we will be looking at. Cleaning up a corpus and getting it ready for analysis is a big part of the process, once that is done the rest is easy. For our example we are going to be looking at some entries from the 1900 [diary](https://dr.library.brocku.ca/handle/10464/7282) of Winnie Beam. The next cell will load this corpus into a Pandas dataframe and show us a few entires."
      ]
    },
    {
      "cell_type": "code",
      "metadata": {
        "scrolled": true,
        "id": "Xkb1bKCVdT6r",
        "colab": {
          "base_uri": "https://localhost:8080/",
          "height": 340
        },
        "outputId": "cc2718a5-06ea-4a7e-b85c-168e273722d0"
      },
      "source": [
        "winnie_corpus = pd.read_csv('https://raw.githubusercontent.com/BrockDSL/Text_Analysis_with_Python/master/winnie_corpus.txt', header = None, delimiter=\"\\t\")\n",
        "winnie_corpus.columns = [\"page\",\"date\",\"entry\"]\n",
        "winnie_corpus['date'] = pd.to_datetime(winnie_corpus['date'])\n",
        "winnie_corpus['entry'] = winnie_corpus.entry.astype(str)\n",
        "\n",
        "#preview our top entries\n",
        "winnie_corpus.head()"
      ],
      "execution_count": null,
      "outputs": [
        {
          "output_type": "execute_result",
          "data": {
            "text/html": [
              "<div>\n",
              "<style scoped>\n",
              "    .dataframe tbody tr th:only-of-type {\n",
              "        vertical-align: middle;\n",
              "    }\n",
              "\n",
              "    .dataframe tbody tr th {\n",
              "        vertical-align: top;\n",
              "    }\n",
              "\n",
              "    .dataframe thead th {\n",
              "        text-align: right;\n",
              "    }\n",
              "</style>\n",
              "<table border=\"1\" class=\"dataframe\">\n",
              "  <thead>\n",
              "    <tr style=\"text-align: right;\">\n",
              "      <th></th>\n",
              "      <th>page</th>\n",
              "      <th>date</th>\n",
              "      <th>entry</th>\n",
              "    </tr>\n",
              "  </thead>\n",
              "  <tbody>\n",
              "    <tr>\n",
              "      <th>0</th>\n",
              "      <td>7</td>\n",
              "      <td>1900-01-01</td>\n",
              "      <td>New Year. First day of 1900 Charlie Merritt died at Grand Forks British Columbia yesterday of typhoid fever. To-day is election day and pap went up about 3 o'clock and did not get back until nearly 10. He brought us some candy chocolate drops. We had a very fat goose for dinner, not a very young one. Had to have good teeth.</td>\n",
              "    </tr>\n",
              "    <tr>\n",
              "      <th>1</th>\n",
              "      <td>7</td>\n",
              "      <td>1900-01-02</td>\n",
              "      <td>Went uptown in afternoon. Was up to Eckardt's but Miss Macfarlane was not there so I did not get what I wanted. Called at office and Nettie came home with me for tea. Mr Carman came over and borrowed my Mildred books. Then Leta came &amp; borrowed my German Grammar as she forgot hers &amp; left it at school before holiday. Papa, mamma, Nettie &amp; I played crokinole. Mamma &amp; I beat. The 2nd Contingent left for Toronto today to go to South Africa. Dr King's som went.</td>\n",
              "    </tr>\n",
              "    <tr>\n",
              "      <th>2</th>\n",
              "      <td>8</td>\n",
              "      <td>1900-01-03</td>\n",
              "      <td>Mrs Trusty was here washing School started to-day, but I was not going this week. Mamma went to the church and then to Mrs Chatfields Took her the church books. The queen Street Baptist church had a service of praise this evening. Mrs Chapman is organist &amp; Mrs Read-Muir sang Mrs George Armstrong has a daughter was born on New Year's day.</td>\n",
              "    </tr>\n",
              "    <tr>\n",
              "      <th>3</th>\n",
              "      <td>8</td>\n",
              "      <td>1900-01-04</td>\n",
              "      <td>Went over to Carman's to have Ella go with me to Dunn's greenhouse. We went about half past three. I brought a primrose Miss Chaplin was in there. Mamma went to Mrs Klotz at home Beatrice helped. Papa &amp; I went to Sunday School entertainment at night. Had a very long programme. There was a dialogue called \"Aunt Ketty's shopping which was good, and a shaving scene. Mr perry gave a tableful of prizes away. Beatrice came home with us. They had a drill of girls &amp; they sang \"Soldiers of the Queen\"</td>\n",
              "    </tr>\n",
              "    <tr>\n",
              "      <th>4</th>\n",
              "      <td>9</td>\n",
              "      <td>1900-01-05</td>\n",
              "      <td>Sweep day. I read \"At the Camerons\" in the \"Harper's Young People\" when mamma was sweeping. We had a beggar in afternoon asking for a few cents as he had a long way to go. Rats! Went over to Lee's in afternoon after eggs. Took a \"Young Ladies Journal\" Mrs Pay lent me. Her kitty has a sore tail. Mrs Malcolmson came after eggs when I was there. She got large sum of 2. Had some candy at night.</td>\n",
              "    </tr>\n",
              "  </tbody>\n",
              "</table>\n",
              "</div>"
            ],
            "text/plain": [
              "   page  ...                                                                                                                                                                                                                                                                                                                                                                                                                                                                                                             entry\n",
              "0     7  ...                                                                                                                                                                             New Year. First day of 1900 Charlie Merritt died at Grand Forks British Columbia yesterday of typhoid fever. To-day is election day and pap went up about 3 o'clock and did not get back until nearly 10. He brought us some candy chocolate drops. We had a very fat goose for dinner, not a very young one. Had to have good teeth.\n",
              "1     7  ...                                       Went uptown in afternoon. Was up to Eckardt's but Miss Macfarlane was not there so I did not get what I wanted. Called at office and Nettie came home with me for tea. Mr Carman came over and borrowed my Mildred books. Then Leta came & borrowed my German Grammar as she forgot hers & left it at school before holiday. Papa, mamma, Nettie & I played crokinole. Mamma & I beat. The 2nd Contingent left for Toronto today to go to South Africa. Dr King's som went.\n",
              "2     8  ...                                                                                                                                                               Mrs Trusty was here washing School started to-day, but I was not going this week. Mamma went to the church and then to Mrs Chatfields Took her the church books. The queen Street Baptist church had a service of praise this evening. Mrs Chapman is organist & Mrs Read-Muir sang Mrs George Armstrong has a daughter was born on New Year's day.\n",
              "3     8  ...  Went over to Carman's to have Ella go with me to Dunn's greenhouse. We went about half past three. I brought a primrose Miss Chaplin was in there. Mamma went to Mrs Klotz at home Beatrice helped. Papa & I went to Sunday School entertainment at night. Had a very long programme. There was a dialogue called \"Aunt Ketty's shopping which was good, and a shaving scene. Mr perry gave a tableful of prizes away. Beatrice came home with us. They had a drill of girls & they sang \"Soldiers of the Queen\"\n",
              "4     9  ...                                                                                                         Sweep day. I read \"At the Camerons\" in the \"Harper's Young People\" when mamma was sweeping. We had a beggar in afternoon asking for a few cents as he had a long way to go. Rats! Went over to Lee's in afternoon after eggs. Took a \"Young Ladies Journal\" Mrs Pay lent me. Her kitty has a sore tail. Mrs Malcolmson came after eggs when I was there. She got large sum of 2. Had some candy at night.\n",
              "\n",
              "[5 rows x 3 columns]"
            ]
          },
          "metadata": {
            "tags": []
          },
          "execution_count": 29
        }
      ]
    },
    {
      "cell_type": "markdown",
      "metadata": {
        "id": "OWDNZlPgdT6v"
      },
      "source": [
        "# Measuring Sentiment\n",
        "\n",
        "We can analyze the _sentiment_ of the text (more [details](https://planspace.org/20150607-textblob_sentiment/).) The next cell demonstrates this:"
      ]
    },
    {
      "cell_type": "code",
      "metadata": {
        "scrolled": true,
        "id": "RhpM73JVdT6x",
        "colab": {
          "base_uri": "https://localhost:8080/"
        },
        "outputId": "7354e98a-be38-40ec-e5f7-49a192d7037c"
      },
      "source": [
        "\n",
        "happy_sentence = \"Python is the best programming language ever!\"\n",
        "sad_sentence = \"Python is difficult to use, and very frustrating\"\n",
        "\n",
        "\n",
        "print(\"Sentiment of happy sentence \", TextBlob(happy_sentence).sentiment)\n",
        "print(\"Sentiment of sad sentence \", TextBlob(sad_sentence).sentiment)\n",
        "\n",
        "# polarity ranges from -1 to 1.\n",
        "# subjectvity ranges from 0 to 1.\n",
        "\n"
      ],
      "execution_count": null,
      "outputs": [
        {
          "output_type": "stream",
          "text": [
            "Sentiment of happy sentence  Sentiment(polarity=1.0, subjectivity=0.3)\n",
            "Sentiment of sad sentence  Sentiment(polarity=-0.51, subjectivity=1.0)\n"
          ],
          "name": "stdout"
        }
      ]
    },
    {
      "cell_type": "markdown",
      "metadata": {
        "id": "poDkHy0VdT6y"
      },
      "source": [
        "## Q3\n",
        "\n",
        "Try a couple of different sentences in the code cell below. See if you can create something that scores -1 and another that scores 1 for _polarity_. See if you can minimize the _subjectivity_ of your sentence. *Share your answers in the chat box*. \n",
        "\n",
        "(We can create a multi line string of text by putting it in triple quotes like the cell following.)"
      ]
    },
    {
      "cell_type": "code",
      "metadata": {
        "scrolled": true,
        "id": "tvWJzCKYdT60",
        "colab": {
          "base_uri": "https://localhost:8080/"
        },
        "outputId": "aa2f1a87-9c0d-4914-c0e1-9f0338e828ab"
      },
      "source": [
        "test_sentence = \"\"\"\n",
        "The opera is well-managed.\n",
        "\n",
        "\"\"\"\n",
        "print(\"Score of test sentence is \", TextBlob(test_sentence).sentiment)"
      ],
      "execution_count": null,
      "outputs": [
        {
          "output_type": "stream",
          "text": [
            "Score of test sentence is  Sentiment(polarity=0.0, subjectivity=0.0)\n"
          ],
          "name": "stdout"
        }
      ]
    },
    {
      "cell_type": "markdown",
      "metadata": {
        "id": "uA6rbkasdT61"
      },
      "source": [
        "# Adding Sentiment to our Diary entries\n",
        "\n",
        "This next cell will score each diary entry in a new column that will be added to the dataframe. We loop through each entry, calculate the two scores that represent the sentiment. After all the scores are computed with add them to the dataframe."
      ]
    },
    {
      "cell_type": "code",
      "metadata": {
        "scrolled": true,
        "id": "WinAGcp-dT62",
        "colab": {
          "base_uri": "https://localhost:8080/",
          "height": 408
        },
        "outputId": "7e19ccfd-3b26-4cd0-9831-387abd0fc706"
      },
      "source": [
        "#Apply sentiment analysis from TextBlob\n",
        "\n",
        "polarity = []\n",
        "subjectivity = []\n",
        "\n",
        "\n",
        "for day in winnie_corpus.entry:\n",
        "    #print(day,\"\\n\")\n",
        "    score = TextBlob(day)\n",
        "    polarity.append(score.sentiment.polarity)\n",
        "    subjectivity.append(score.sentiment.subjectivity)\n",
        "    \n",
        "winnie_corpus['polarity'] = polarity\n",
        "winnie_corpus['subjectivity'] = subjectivity\n",
        "\n",
        "\n",
        "#Let's look at our new top entries\n",
        "winnie_corpus.head()"
      ],
      "execution_count": null,
      "outputs": [
        {
          "output_type": "execute_result",
          "data": {
            "text/html": [
              "<div>\n",
              "<style scoped>\n",
              "    .dataframe tbody tr th:only-of-type {\n",
              "        vertical-align: middle;\n",
              "    }\n",
              "\n",
              "    .dataframe tbody tr th {\n",
              "        vertical-align: top;\n",
              "    }\n",
              "\n",
              "    .dataframe thead th {\n",
              "        text-align: right;\n",
              "    }\n",
              "</style>\n",
              "<table border=\"1\" class=\"dataframe\">\n",
              "  <thead>\n",
              "    <tr style=\"text-align: right;\">\n",
              "      <th></th>\n",
              "      <th>page</th>\n",
              "      <th>date</th>\n",
              "      <th>entry</th>\n",
              "      <th>polarity</th>\n",
              "      <th>subjectivity</th>\n",
              "    </tr>\n",
              "  </thead>\n",
              "  <tbody>\n",
              "    <tr>\n",
              "      <th>0</th>\n",
              "      <td>7</td>\n",
              "      <td>1900-01-01</td>\n",
              "      <td>New Year. First day of 1900 Charlie Merritt died at Grand Forks British Columbia yesterday of typhoid fever. To-day is election day and pap went up about 3 o'clock and did not get back until nearly 10. He brought us some candy chocolate drops. We had a very fat goose for dinner, not a very young one. Had to have good teeth.</td>\n",
              "      <td>0.205322</td>\n",
              "      <td>0.377286</td>\n",
              "    </tr>\n",
              "    <tr>\n",
              "      <th>1</th>\n",
              "      <td>7</td>\n",
              "      <td>1900-01-02</td>\n",
              "      <td>Went uptown in afternoon. Was up to Eckardt's but Miss Macfarlane was not there so I did not get what I wanted. Called at office and Nettie came home with me for tea. Mr Carman came over and borrowed my Mildred books. Then Leta came &amp; borrowed my German Grammar as she forgot hers &amp; left it at school before holiday. Papa, mamma, Nettie &amp; I played crokinole. Mamma &amp; I beat. The 2nd Contingent left for Toronto today to go to South Africa. Dr King's som went.</td>\n",
              "      <td>-0.020000</td>\n",
              "      <td>0.120000</td>\n",
              "    </tr>\n",
              "    <tr>\n",
              "      <th>2</th>\n",
              "      <td>8</td>\n",
              "      <td>1900-01-03</td>\n",
              "      <td>Mrs Trusty was here washing School started to-day, but I was not going this week. Mamma went to the church and then to Mrs Chatfields Took her the church books. The queen Street Baptist church had a service of praise this evening. Mrs Chapman is organist &amp; Mrs Read-Muir sang Mrs George Armstrong has a daughter was born on New Year's day.</td>\n",
              "      <td>0.136364</td>\n",
              "      <td>0.454545</td>\n",
              "    </tr>\n",
              "    <tr>\n",
              "      <th>3</th>\n",
              "      <td>8</td>\n",
              "      <td>1900-01-04</td>\n",
              "      <td>Went over to Carman's to have Ella go with me to Dunn's greenhouse. We went about half past three. I brought a primrose Miss Chaplin was in there. Mamma went to Mrs Klotz at home Beatrice helped. Papa &amp; I went to Sunday School entertainment at night. Had a very long programme. There was a dialogue called \"Aunt Ketty's shopping which was good, and a shaving scene. Mr perry gave a tableful of prizes away. Beatrice came home with us. They had a drill of girls &amp; they sang \"Soldiers of the Queen\"</td>\n",
              "      <td>0.054583</td>\n",
              "      <td>0.384167</td>\n",
              "    </tr>\n",
              "    <tr>\n",
              "      <th>4</th>\n",
              "      <td>9</td>\n",
              "      <td>1900-01-05</td>\n",
              "      <td>Sweep day. I read \"At the Camerons\" in the \"Harper's Young People\" when mamma was sweeping. We had a beggar in afternoon asking for a few cents as he had a long way to go. Rats! Went over to Lee's in afternoon after eggs. Took a \"Young Ladies Journal\" Mrs Pay lent me. Her kitty has a sore tail. Mrs Malcolmson came after eggs when I was there. She got large sum of 2. Had some candy at night.</td>\n",
              "      <td>0.030357</td>\n",
              "      <td>0.345714</td>\n",
              "    </tr>\n",
              "  </tbody>\n",
              "</table>\n",
              "</div>"
            ],
            "text/plain": [
              "   page       date  ...  polarity  subjectivity\n",
              "0     7 1900-01-01  ...  0.205322      0.377286\n",
              "1     7 1900-01-02  ... -0.020000      0.120000\n",
              "2     8 1900-01-03  ...  0.136364      0.454545\n",
              "3     8 1900-01-04  ...  0.054583      0.384167\n",
              "4     9 1900-01-05  ...  0.030357      0.345714\n",
              "\n",
              "[5 rows x 5 columns]"
            ]
          },
          "metadata": {
            "tags": []
          },
          "execution_count": 9
        }
      ]
    },
    {
      "cell_type": "markdown",
      "metadata": {
        "id": "sda-cLwXdT64"
      },
      "source": [
        "Now that we have daily sentiment values, let's try to visualize how they go up and down over the course of the first 3 months of the year."
      ]
    },
    {
      "cell_type": "code",
      "metadata": {
        "scrolled": true,
        "id": "DLfDaHg7dT67"
      },
      "source": [
        "#Let's graph out the sentiment as it changes day to day.\n",
        "\n",
        "plt.plot(winnie_corpus[\"date\"],winnie_corpus[\"polarity\"])\n",
        "plt.xticks(rotation='45')\n",
        "plt.title(\"Sentiment of Winnie's Diary Entries\")\n",
        "plt.show()"
      ],
      "execution_count": null,
      "outputs": []
    },
    {
      "cell_type": "markdown",
      "metadata": {
        "id": "i0QbxZ_3dT68"
      },
      "source": [
        "## Interesting spikes?\n",
        "\n",
        "We see some really strong negative and positive spikes in the sentiment. Let's just take a look at some of those entries. Run the next two cells to look at the individual negative and positive entries."
      ]
    },
    {
      "cell_type": "code",
      "metadata": {
        "id": "4TcNsWIidT69",
        "colab": {
          "base_uri": "https://localhost:8080/",
          "height": 210
        },
        "outputId": "16db5afa-ae0d-4c98-e3aa-24b5c636aaf3"
      },
      "source": [
        "#Very Negative\n",
        "bad_sentiment = winnie_corpus[\"polarity\"].min()\n",
        "\n",
        "#Reduce this number by 20% \n",
        "bad_sentiment = bad_sentiment - (bad_sentiment * 0.20)\n",
        "\n",
        "winnie_corpus[winnie_corpus[\"polarity\"] <= bad_sentiment]"
      ],
      "execution_count": null,
      "outputs": [
        {
          "output_type": "execute_result",
          "data": {
            "text/html": [
              "<div>\n",
              "<style scoped>\n",
              "    .dataframe tbody tr th:only-of-type {\n",
              "        vertical-align: middle;\n",
              "    }\n",
              "\n",
              "    .dataframe tbody tr th {\n",
              "        vertical-align: top;\n",
              "    }\n",
              "\n",
              "    .dataframe thead th {\n",
              "        text-align: right;\n",
              "    }\n",
              "</style>\n",
              "<table border=\"1\" class=\"dataframe\">\n",
              "  <thead>\n",
              "    <tr style=\"text-align: right;\">\n",
              "      <th></th>\n",
              "      <th>page</th>\n",
              "      <th>date</th>\n",
              "      <th>entry</th>\n",
              "      <th>polarity</th>\n",
              "      <th>subjectivity</th>\n",
              "    </tr>\n",
              "  </thead>\n",
              "  <tbody>\n",
              "    <tr>\n",
              "      <th>85</th>\n",
              "      <td>49</td>\n",
              "      <td>1900-03-27</td>\n",
              "      <td>Mamma was out collecting in afternoon at Mrs Coy's Mrs Smith's Mrs Reynold's Mrs Pay is sick with grippe and he has been sick. Mrs Varley called on mamma. Papa and Sid went to the Falls again to-night. They me after Mr Herbert (Irrigation) Beatty. Sid came and staid here all night. They got home about 1 o'clock.</td>\n",
              "      <td>-0.714286</td>\n",
              "      <td>0.857143</td>\n",
              "    </tr>\n",
              "    <tr>\n",
              "      <th>168</th>\n",
              "      <td>92</td>\n",
              "      <td>1900-06-20</td>\n",
              "      <td>Wash day. Mrs. Trusty has been sick and Dr. Jory tells her it is paralysis coming on. In the afternoon I practiced &amp; worked at my Harmony until I did not know whether I was on my head or heels. Mamma went uptown, and to the church. She went to pay Mrs. Sullivans for my dress.</td>\n",
              "      <td>-0.714286</td>\n",
              "      <td>0.857143</td>\n",
              "    </tr>\n",
              "    <tr>\n",
              "      <th>260</th>\n",
              "      <td>138</td>\n",
              "      <td>1900-09-20</td>\n",
              "      <td>Nasty gloomy day. Mr McSloy sent papa five trout from Quebec. Had them Tuesday night. They tried to stop the ringing of the 6, 2, 5, &amp; 6 bells. Crazy.</td>\n",
              "      <td>-0.800000</td>\n",
              "      <td>0.950000</td>\n",
              "    </tr>\n",
              "  </tbody>\n",
              "</table>\n",
              "</div>"
            ],
            "text/plain": [
              "     page       date  ...  polarity  subjectivity\n",
              "85     49 1900-03-27  ... -0.714286      0.857143\n",
              "168    92 1900-06-20  ... -0.714286      0.857143\n",
              "260   138 1900-09-20  ... -0.800000      0.950000\n",
              "\n",
              "[3 rows x 5 columns]"
            ]
          },
          "metadata": {
            "tags": []
          },
          "execution_count": 10
        }
      ]
    },
    {
      "cell_type": "code",
      "metadata": {
        "id": "VvetYcfQdT69",
        "colab": {
          "base_uri": "https://localhost:8080/",
          "height": 343
        },
        "outputId": "e4b1be83-d2cc-42f9-9553-19a7ff66741e"
      },
      "source": [
        "#Very Positive\n",
        "good_sentiment = winnie_corpus[\"polarity\"].max()\n",
        "\n",
        "#Reduce this number by 20%\n",
        "good_sentiment = good_sentiment - (good_sentiment * 0.20)\n",
        "\n",
        "winnie_corpus[winnie_corpus[\"polarity\"] >= good_sentiment]"
      ],
      "execution_count": null,
      "outputs": [
        {
          "output_type": "execute_result",
          "data": {
            "text/html": [
              "<div>\n",
              "<style scoped>\n",
              "    .dataframe tbody tr th:only-of-type {\n",
              "        vertical-align: middle;\n",
              "    }\n",
              "\n",
              "    .dataframe tbody tr th {\n",
              "        vertical-align: top;\n",
              "    }\n",
              "\n",
              "    .dataframe thead th {\n",
              "        text-align: right;\n",
              "    }\n",
              "</style>\n",
              "<table border=\"1\" class=\"dataframe\">\n",
              "  <thead>\n",
              "    <tr style=\"text-align: right;\">\n",
              "      <th></th>\n",
              "      <th>page</th>\n",
              "      <th>date</th>\n",
              "      <th>entry</th>\n",
              "      <th>polarity</th>\n",
              "      <th>subjectivity</th>\n",
              "    </tr>\n",
              "  </thead>\n",
              "  <tbody>\n",
              "    <tr>\n",
              "      <th>91</th>\n",
              "      <td>53</td>\n",
              "      <td>1900-04-04</td>\n",
              "      <td>I sent for some pictures on Friday from Beverly, Mass and they came to-day, but they sent them to the customs, and charged 5 cents Mamma went to the church to auxiliary. Then I went to the service. Mr. Perry spoke on 1 Peter 1.4 verse. The Bishop staid at Merritt's and conducted the Lenten service in St. George's Church yesterday afternoon. Papa brought the pictures home. They are very nice. There are a lot of them on the \"Life of Christ\". Dr &amp; Mrs Klots were here in the evening. They played King Pedro</td>\n",
              "      <td>0.780</td>\n",
              "      <td>1.00</td>\n",
              "    </tr>\n",
              "    <tr>\n",
              "      <th>173</th>\n",
              "      <td>94</td>\n",
              "      <td>1900-06-25</td>\n",
              "      <td>Mamma went out collecting in afternoon. Very warm. In the evening papa caught the pigeons and Mr. Coy and he went to race course &amp; shot them. Dr. Kilmer &amp; Mr. Lovelace did not turn up. Della mamma &amp; I went for a drive. They had an undergraduate Music &amp; Elecution recital to-night at Demill, Did not go. Went home with Dell &amp; over to Dwyer's, Bessie Read was there. Got 12 pictures from Brown &amp; Co. Mr Painter gave papa four snapping turtle eggs on Saturday</td>\n",
              "      <td>0.780</td>\n",
              "      <td>0.78</td>\n",
              "    </tr>\n",
              "    <tr>\n",
              "      <th>244</th>\n",
              "      <td>130</td>\n",
              "      <td>1900-09-04</td>\n",
              "      <td>Was reading \"Three men on Wheels\" when Mrs Tulley and Dr Abbott came in. They wanted papa, mamma &amp; I to go to the Welland House for tea. Dr Abbott hurried up to the office and caught papa. Had a very good supper. They walked home with us. Mrs Tulley told about a good books \"Uarda\" by Ebeer.</td>\n",
              "      <td>0.805</td>\n",
              "      <td>0.69</td>\n",
              "    </tr>\n",
              "    <tr>\n",
              "      <th>324</th>\n",
              "      <td>170</td>\n",
              "      <td>1900-11-23</td>\n",
              "      <td>This morning I went uptown after my pins and to change my library book. Got \"Leofwine the Monk\". Very nice day. Mamma went uptown in the afternoon. McLaren's and Anderson's have their Christmas things in. The Collegiate Cadets have a concert to-night. Miss Murray is to sing, Miss McCallum recite and the flag is to be presented to the cadets.</td>\n",
              "      <td>0.780</td>\n",
              "      <td>1.00</td>\n",
              "    </tr>\n",
              "  </tbody>\n",
              "</table>\n",
              "</div>"
            ],
            "text/plain": [
              "     page       date  ... polarity  subjectivity\n",
              "91     53 1900-04-04  ...    0.780          1.00\n",
              "173    94 1900-06-25  ...    0.780          0.78\n",
              "244   130 1900-09-04  ...    0.805          0.69\n",
              "324   170 1900-11-23  ...    0.780          1.00\n",
              "\n",
              "[4 rows x 5 columns]"
            ]
          },
          "metadata": {
            "tags": []
          },
          "execution_count": 11
        }
      ]
    },
    {
      "cell_type": "markdown",
      "metadata": {
        "id": "BwGrSwfndT6-"
      },
      "source": [
        "## Q4\n",
        "\n",
        "Do you agree with the sentiment scores that are applied in the above two cells? Share your thoughts in the chat."
      ]
    },
    {
      "cell_type": "markdown",
      "metadata": {
        "id": "9GVSBAT2dT6_"
      },
      "source": [
        "# What else can we get from the text?\n",
        "\n",
        "We've seen some details about sentiment, but what else can we get from the text? Let's grab a random entry and see what we can find out about it."
      ]
    },
    {
      "cell_type": "code",
      "metadata": {
        "scrolled": false,
        "id": "p9KABtTEdT7A",
        "colab": {
          "base_uri": "https://localhost:8080/"
        },
        "outputId": "28c56e60-e5a6-49df-c6f8-97333e442666"
      },
      "source": [
        "bit_of_corpus = TextBlob(winnie_corpus[\"entry\"][22])\n",
        "bit_of_corpus"
      ],
      "execution_count": null,
      "outputs": [
        {
          "output_type": "execute_result",
          "data": {
            "text/plain": [
              "TextBlob(\"Went to school in the afternoon. Then papa mamma & I went to the Redpath Concert Co. The concert was fine. I never heard anything I liked as well. There were four singers 1 violinist and 1 pianist. Mme Meredith soprano Miss Clary, contralto. Dr Carl Dufft basso Mr Town, Tenor, Miss Von Fursch violinist and Miss Koler pianist all of them were encored twice and Mr Dufft three times. All the ladies got a beautiful boquet. The first part was L. Lehmann's \"In a Persian Garden\".\")"
            ]
          },
          "metadata": {
            "tags": []
          },
          "execution_count": 32
        }
      ]
    },
    {
      "cell_type": "markdown",
      "metadata": {
        "id": "mOucPmSfdT7B"
      },
      "source": [
        "# Sentences and Sentiment\n",
        "\n",
        "We applied sentiment on to daily entries but we can apply it down to sentences just to see how a score fluctuates."
      ]
    },
    {
      "cell_type": "code",
      "metadata": {
        "scrolled": true,
        "id": "4saUF3P7dT7B",
        "colab": {
          "base_uri": "https://localhost:8080/"
        },
        "outputId": "08ed71a6-e4e9-448e-df20-00557c3ffe0b"
      },
      "source": [
        "for sentence in bit_of_corpus.sentences:\n",
        "    print(sentence)\n",
        "    print(sentence.sentiment,\"\\n\")"
      ],
      "execution_count": null,
      "outputs": [
        {
          "output_type": "stream",
          "text": [
            "Went to school in the afternoon.\n",
            "Sentiment(polarity=0.0, subjectivity=0.0) \n",
            "\n",
            "Then papa mamma & I went to the Redpath Concert Co.\n",
            "Sentiment(polarity=0.0, subjectivity=0.0) \n",
            "\n",
            "The concert was fine.\n",
            "Sentiment(polarity=0.4166666666666667, subjectivity=0.5) \n",
            "\n",
            "I never heard anything I liked as well.\n",
            "Sentiment(polarity=0.6, subjectivity=0.8) \n",
            "\n",
            "There were four singers 1 violinist and 1 pianist.\n",
            "Sentiment(polarity=0.0, subjectivity=0.0) \n",
            "\n",
            "Mme Meredith soprano Miss Clary, contralto.\n",
            "Sentiment(polarity=0.0, subjectivity=0.0) \n",
            "\n",
            "Dr Carl Dufft basso Mr Town, Tenor, Miss Von Fursch violinist and Miss Koler pianist all of them were encored twice and Mr Dufft three times.\n",
            "Sentiment(polarity=0.0, subjectivity=0.0) \n",
            "\n",
            "All the ladies got a beautiful boquet.\n",
            "Sentiment(polarity=0.85, subjectivity=1.0) \n",
            "\n",
            "The first part was L. Lehmann's \"In a Persian Garden\".\n",
            "Sentiment(polarity=0.25, subjectivity=0.3333333333333333) \n",
            "\n"
          ],
          "name": "stdout"
        }
      ]
    },
    {
      "cell_type": "markdown",
      "metadata": {
        "id": "4MuaB1eJdT7C"
      },
      "source": [
        "# Words in sentences\n",
        "\n",
        "You can parse through words in a sentence using TextBlob as well. The next cell illustrates this."
      ]
    },
    {
      "cell_type": "code",
      "metadata": {
        "scrolled": true,
        "id": "J2WQLMEgdT7D",
        "colab": {
          "base_uri": "https://localhost:8080/"
        },
        "outputId": "95577d01-a082-4eaf-9aec-84edb61a35ff"
      },
      "source": [
        "for sentence in bit_of_corpus.sentences:\n",
        "    for word in sentence.words:\n",
        "        print(word)"
      ],
      "execution_count": null,
      "outputs": [
        {
          "output_type": "stream",
          "text": [
            "Went\n",
            "to\n",
            "school\n",
            "in\n",
            "the\n",
            "afternoon\n",
            "Then\n",
            "papa\n",
            "mamma\n",
            "I\n",
            "went\n",
            "to\n",
            "the\n",
            "Redpath\n",
            "Concert\n",
            "Co\n",
            "The\n",
            "concert\n",
            "was\n",
            "fine\n",
            "I\n",
            "never\n",
            "heard\n",
            "anything\n",
            "I\n",
            "liked\n",
            "as\n",
            "well\n",
            "There\n",
            "were\n",
            "four\n",
            "singers\n",
            "1\n",
            "violinist\n",
            "and\n",
            "1\n",
            "pianist\n",
            "Mme\n",
            "Meredith\n",
            "soprano\n",
            "Miss\n",
            "Clary\n",
            "contralto\n",
            "Dr\n",
            "Carl\n",
            "Dufft\n",
            "basso\n",
            "Mr\n",
            "Town\n",
            "Tenor\n",
            "Miss\n",
            "Von\n",
            "Fursch\n",
            "violinist\n",
            "and\n",
            "Miss\n",
            "Koler\n",
            "pianist\n",
            "all\n",
            "of\n",
            "them\n",
            "were\n",
            "encored\n",
            "twice\n",
            "and\n",
            "Mr\n",
            "Dufft\n",
            "three\n",
            "times\n",
            "All\n",
            "the\n",
            "ladies\n",
            "got\n",
            "a\n",
            "beautiful\n",
            "boquet\n",
            "The\n",
            "first\n",
            "part\n",
            "was\n",
            "L\n",
            "Lehmann\n",
            "'s\n",
            "In\n",
            "a\n",
            "Persian\n",
            "Garden\n"
          ],
          "name": "stdout"
        }
      ]
    },
    {
      "cell_type": "markdown",
      "metadata": {
        "id": "k2dO1L9OdT7D"
      },
      "source": [
        "## Q5\n",
        "\n",
        "Another random journal entry. Pick a random number between 1 and the length of the dataframe and update *en_no* in line 1. If you get an interesting result, share it with the class in the chat box."
      ]
    },
    {
      "cell_type": "code",
      "metadata": {
        "scrolled": true,
        "id": "i4trMQAkdT7E",
        "colab": {
          "base_uri": "https://localhost:8080/"
        },
        "outputId": "85bbaa11-7ace-4c5f-dc8c-2e01574c0843"
      },
      "source": [
        "#Pick a value between 1 and this number\n",
        "len(winnie_corpus)"
      ],
      "execution_count": null,
      "outputs": [
        {
          "output_type": "execute_result",
          "data": {
            "text/plain": [
              "363"
            ]
          },
          "metadata": {
            "tags": []
          },
          "execution_count": 35
        }
      ]
    },
    {
      "cell_type": "code",
      "metadata": {
        "scrolled": true,
        "id": "dVap1TJJdT7F",
        "colab": {
          "base_uri": "https://localhost:8080/"
        },
        "outputId": "81cd6206-7d04-4d58-d949-78f1297d82d4"
      },
      "source": [
        "en_no = 284\n",
        "\n",
        "another_bit_of_corpus = TextBlob(winnie_corpus[\"entry\"][en_no])\n",
        "\n",
        "print(\"Random Entry: \\n\")\n",
        "print(another_bit_of_corpus,\"\\n\")\n",
        "\n",
        "#Go through all of the sentences of this entry and determine their sentiment\n",
        "for sentence in another_bit_of_corpus.sentences:\n",
        "    print(sentence)\n",
        "    print(sentence.sentiment,\"\\n\")"
      ],
      "execution_count": null,
      "outputs": [
        {
          "output_type": "stream",
          "text": [
            "Random Entry: \n",
            "\n",
            "I was over to Tucker's last night and asked Mabel to go to church with me. We went Sermon John I. 29 & 30 I think Eva was over and stayed until I came home. Went to Sunday School. Lesson Parable of Great Supper\". Papa was out with Dexter He went to call on Locke Dudley at night. Mamma and I went to church. Sermon Judges XIII. 14 verse. Pays & Dwyers came home with us. \n",
            "\n",
            "I was over to Tucker's last night and asked Mabel to go to church with me.\n",
            "Sentiment(polarity=0.0, subjectivity=0.06666666666666667) \n",
            "\n",
            "We went Sermon John I.\n",
            "Sentiment(polarity=-0.225, subjectivity=0.3) \n",
            "\n",
            "29 & 30 I think Eva was over and stayed until I came home.\n",
            "Sentiment(polarity=0.0, subjectivity=0.0) \n",
            "\n",
            "Went to Sunday School.\n",
            "Sentiment(polarity=0.0, subjectivity=0.0) \n",
            "\n",
            "Lesson Parable of Great Supper\".\n",
            "Sentiment(polarity=0.8, subjectivity=0.75) \n",
            "\n",
            "Papa was out with Dexter He went to call on Locke Dudley at night.\n",
            "Sentiment(polarity=0.0, subjectivity=0.0) \n",
            "\n",
            "Mamma and I went to church.\n",
            "Sentiment(polarity=0.0, subjectivity=0.0) \n",
            "\n",
            "Sermon Judges XIII.\n",
            "Sentiment(polarity=-0.225, subjectivity=0.3) \n",
            "\n",
            "14 verse.\n",
            "Sentiment(polarity=0.0, subjectivity=0.0) \n",
            "\n",
            "Pays & Dwyers came home with us.\n",
            "Sentiment(polarity=0.0, subjectivity=0.0) \n",
            "\n"
          ],
          "name": "stdout"
        }
      ]
    },
    {
      "cell_type": "markdown",
      "metadata": {
        "id": "NIpJe_OWdT7F"
      },
      "source": [
        "# Noun Phrases\n",
        "\n",
        "We can get a good idea about what a corpus is about by looking at the different _nouns_ that show up in it. _Nouns_ that show up a lot give us an idea of the contents of the text."
      ]
    },
    {
      "cell_type": "code",
      "metadata": {
        "scrolled": true,
        "id": "7I5OMHOqdT7G",
        "colab": {
          "base_uri": "https://localhost:8080/"
        },
        "outputId": "ccf77d03-b682-4636-d97d-e2c33a0786aa"
      },
      "source": [
        "for np in bit_of_corpus.noun_phrases:\n",
        "    print(np)"
      ],
      "execution_count": null,
      "outputs": [
        {
          "output_type": "stream",
          "text": [
            "went\n",
            "papa mamma\n",
            "redpath\n",
            "co\n",
            "mme meredith\n",
            "miss clary\n",
            "dr carl dufft\n",
            "mr\n",
            "tenor\n",
            "miss von fursch\n",
            "miss koler\n",
            "mr dufft\n",
            "beautiful boquet\n",
            "l. lehmann\n",
            "persian garden\n"
          ],
          "name": "stdout"
        }
      ]
    },
    {
      "cell_type": "markdown",
      "metadata": {
        "id": "S4THUzkddT7H"
      },
      "source": [
        "## A closer look at the corpus\n",
        "\n",
        "Let's look at the January Diary entries"
      ]
    },
    {
      "cell_type": "code",
      "metadata": {
        "scrolled": true,
        "id": "YleZ5ULDdT7I"
      },
      "source": [
        "#January Entries\n",
        "jan_corpus = winnie_corpus[(winnie_corpus['date'] >= '1900-01-01') & (winnie_corpus['date'] <= '1900-01-31')]"
      ],
      "execution_count": null,
      "outputs": []
    },
    {
      "cell_type": "markdown",
      "metadata": {
        "id": "7EJibtGudT7J"
      },
      "source": [
        "Let's see what Winnie talks about the most in the month. We can do this by extracting the _noun phrases_ in her entries. We can put them in a dictionary to count how many times a phrase is used"
      ]
    },
    {
      "cell_type": "code",
      "metadata": {
        "scrolled": true,
        "id": "cXTJTTGOdT7K"
      },
      "source": [
        "jan_phrases = dict()\n",
        "\n",
        "for entry in jan_corpus.entry:\n",
        "    tb = TextBlob(entry)\n",
        "    for np in tb.noun_phrases:\n",
        "        if np in jan_phrases:\n",
        "            jan_phrases[np] += 1\n",
        "        else:\n",
        "            jan_phrases[np] = 1"
      ],
      "execution_count": null,
      "outputs": []
    },
    {
      "cell_type": "code",
      "metadata": {
        "scrolled": true,
        "id": "Ry-dFTZidT7L",
        "colab": {
          "base_uri": "https://localhost:8080/"
        },
        "outputId": "f544f14f-ad6f-45de-fdfa-63191924d6e9"
      },
      "source": [
        "#Print the top 10 things she mentioned in January\n",
        "\n",
        "for np in sorted(jan_phrases, key=jan_phrases.get, reverse=True)[0:10]:\n",
        "    print(np, jan_phrases[np])\n",
        "\n"
      ],
      "execution_count": null,
      "outputs": [
        {
          "output_type": "stream",
          "text": [
            "went 23\n",
            "mamma 19\n",
            "papa 16\n",
            "beatrice 8\n",
            "took 8\n",
            "trusty 5\n",
            "music lesson 4\n",
            "mr read 4\n",
            "annie gardiner 4\n",
            "got 4\n"
          ],
          "name": "stdout"
        }
      ]
    },
    {
      "cell_type": "markdown",
      "metadata": {
        "id": "o8lcFM9ldT7L"
      },
      "source": [
        "## Q6\n",
        "\n",
        "Let's compare against the first 6 months of the year. Run the following set of cells.\n",
        "What can you say about Winnie's topics over the first half of the year? Share your thoughts in the chat box."
      ]
    },
    {
      "cell_type": "code",
      "metadata": {
        "scrolled": true,
        "id": "EubPxa76dT7M",
        "colab": {
          "base_uri": "https://localhost:8080/"
        },
        "outputId": "8d00704d-f0ed-4b94-8a2e-efc49cf678c7"
      },
      "source": [
        "#February Entries\n",
        "feb_corpus = winnie_corpus[(winnie_corpus['date'] >= '1900-02-01') & (winnie_corpus['date'] <= '1900-02-28')]\n",
        "\n",
        "feb_phrases = dict()\n",
        "\n",
        "for entry in feb_corpus.entry:\n",
        "    tb = TextBlob(entry)\n",
        "    for np in tb.noun_phrases:\n",
        "        if np in feb_phrases:\n",
        "            feb_phrases[np] += 1\n",
        "        else:\n",
        "            feb_phrases[np] = 1\n",
        "            \n",
        "#Print the top 10 things she mentioned in February\n",
        "\n",
        "for np in sorted(feb_phrases, key=feb_phrases.get, reverse=True)[0:10]:\n",
        "    print(np, feb_phrases[np])"
      ],
      "execution_count": null,
      "outputs": [
        {
          "output_type": "stream",
          "text": [
            "mamma 20\n",
            "went 18\n",
            "papa 12\n",
            "beatrice 7\n",
            "pay 6\n",
            "was 5\n",
            "took 5\n",
            "got 5\n",
            "music lesson 4\n",
            "musical 4\n"
          ],
          "name": "stdout"
        }
      ]
    },
    {
      "cell_type": "code",
      "metadata": {
        "scrolled": false,
        "id": "gMpP51wbdT7M",
        "colab": {
          "base_uri": "https://localhost:8080/"
        },
        "outputId": "81b8a40d-39a0-4ed8-a10b-10ba9df17783"
      },
      "source": [
        "#March Entries\n",
        "mar_corpus = winnie_corpus[(winnie_corpus['date'] >= '1900-03-01') & (winnie_corpus['date'] <= '1900-03-31')]\n",
        "\n",
        "\n",
        "mar_phrases = dict()\n",
        "\n",
        "for entry in mar_corpus.entry:\n",
        "    tb = TextBlob(entry)\n",
        "    for np in tb.noun_phrases:\n",
        "        if np in mar_phrases:\n",
        "            mar_phrases[np] += 1\n",
        "        else:\n",
        "            mar_phrases[np] = 1\n",
        "            \n",
        "#Print the top 10 things she mentioned in March\n",
        "\n",
        "for np in sorted(mar_phrases, key=mar_phrases.get, reverse=True)[0:10]:\n",
        "    print(np, mar_phrases[np])"
      ],
      "execution_count": null,
      "outputs": [
        {
          "output_type": "stream",
          "text": [
            "mamma 21\n",
            "took 9\n",
            "papa 9\n",
            "went 8\n",
            "got 7\n",
            "pay 7\n",
            "dwyer 7\n",
            "mr perry 6\n",
            "godard 5\n",
            "beatrice 5\n"
          ],
          "name": "stdout"
        }
      ]
    },
    {
      "cell_type": "code",
      "metadata": {
        "id": "eAfBG8B_dT7N",
        "colab": {
          "base_uri": "https://localhost:8080/"
        },
        "outputId": "15661fc6-a7da-4d5c-b4f6-086df72b9cfc"
      },
      "source": [
        "#April Entries\n",
        "april_corpus = winnie_corpus[(winnie_corpus['date'] >= '1900-04-01') & (winnie_corpus['date'] <= '1900-04-30')]\n",
        "\n",
        "april_phrases = dict()\n",
        "\n",
        "for entry in april_corpus.entry:\n",
        "    tb = TextBlob(entry)\n",
        "    for np in tb.noun_phrases:\n",
        "        if np in april_phrases:\n",
        "            april_phrases[np] += 1\n",
        "        else:\n",
        "            april_phrases[np] = 1\n",
        "            \n",
        "#Print the top 10 things she mentioned in April\n",
        "\n",
        "for np in sorted(april_phrases, key=april_phrases.get, reverse=True)[0:10]:\n",
        "    print(np, april_phrases[np])"
      ],
      "execution_count": null,
      "outputs": [
        {
          "output_type": "stream",
          "text": [
            "mamma 24\n",
            "papa 20\n",
            "went 11\n",
            "got 9\n",
            "pay 8\n",
            "took 7\n",
            "beatrice 7\n",
            "sullivan 7\n",
            "christ 6\n",
            "lizzie 5\n"
          ],
          "name": "stdout"
        }
      ]
    },
    {
      "cell_type": "code",
      "metadata": {
        "id": "x-poHp-odT7N",
        "colab": {
          "base_uri": "https://localhost:8080/"
        },
        "outputId": "e3c27dac-4481-45ef-efbb-e7f69c9a66ca"
      },
      "source": [
        "#May Entries\n",
        "may_corpus = winnie_corpus[(winnie_corpus['date'] >= '1900-05-01') & (winnie_corpus['date'] <= '1900-05-31')]\n",
        "\n",
        "may_phrases = dict()\n",
        "\n",
        "for entry in may_corpus.entry:\n",
        "    tb = TextBlob(entry)\n",
        "    for np in tb.noun_phrases:\n",
        "        if np in may_phrases:\n",
        "            may_phrases[np] += 1\n",
        "        else:\n",
        "            may_phrases[np] = 1\n",
        "            \n",
        "#Print the top 10 things she mentioned in may\n",
        "\n",
        "for np in sorted(may_phrases, key=may_phrases.get, reverse=True)[0:10]:\n",
        "    print(np, may_phrases[np])"
      ],
      "execution_count": null,
      "outputs": [
        {
          "output_type": "stream",
          "text": [
            "mamma 30\n",
            "papa 21\n",
            "went 17\n",
            "got 11\n",
            "ella 7\n",
            "lizzie 6\n",
            "rode 5\n",
            "helen 5\n",
            "pay 4\n",
            "dwyer 4\n"
          ],
          "name": "stdout"
        }
      ]
    },
    {
      "cell_type": "code",
      "metadata": {
        "id": "UfqZmw1NdT7O",
        "colab": {
          "base_uri": "https://localhost:8080/"
        },
        "outputId": "158f8ee4-4eef-4900-c42b-5ddecc926792"
      },
      "source": [
        "#June Entries\n",
        "june_corpus = winnie_corpus[(winnie_corpus['date'] >= '1900-06-01') & (winnie_corpus['date'] <= '1900-06-30')]\n",
        "\n",
        "june_phrases = dict()\n",
        "\n",
        "for entry in june_corpus.entry:\n",
        "    tb = TextBlob(entry)\n",
        "    for np in tb.noun_phrases:\n",
        "        if np in june_phrases:\n",
        "            june_phrases[np] += 1\n",
        "        else:\n",
        "            june_phrases[np] = 1\n",
        "            \n",
        "#Print the top 10 things she mentioned in june\n",
        "\n",
        "for np in sorted(june_phrases, key=june_phrases.get, reverse=True)[0:10]:\n",
        "    print(np, june_phrases[np])"
      ],
      "execution_count": null,
      "outputs": [
        {
          "output_type": "stream",
          "text": [
            "mamma 21\n",
            "papa 16\n",
            "got 13\n",
            "went 13\n",
            "took 7\n",
            "lizzie 7\n",
            "was 4\n",
            "mrs. sullivan 4\n",
            "ella 4\n",
            "aunt lillie 4\n"
          ],
          "name": "stdout"
        }
      ]
    },
    {
      "cell_type": "markdown",
      "metadata": {
        "id": "OoSAfpGwdT7O"
      },
      "source": [
        "## Q7\n",
        "\n",
        "Get a piece of text and put it through some analysis. You can try to get something from:\n",
        "- [CBC news](https://www.cbc.ca/news)\n",
        "- [New York Times](https://www.nytimes.com/)\n",
        "- The text of a tweet...\n",
        "- What else?\n",
        "\n",
        "Share the text you've analyzed by sharing a link in the chat box"
      ]
    },
    {
      "cell_type": "code",
      "metadata": {
        "scrolled": false,
        "id": "q8Z7Ksu5dT7P",
        "colab": {
          "base_uri": "https://localhost:8080/"
        },
        "outputId": "c3ec239f-1af2-4af1-b285-fda529caf85d"
      },
      "source": [
        "ex_corpus = \"\"\"\n",
        "A vaccinated resident at an Ottawa long-term care facility wants to know why he and everyone else living at the home have to remain in their rooms after staff members tested positive for COVID-19.\n",
        "\n",
        "Bob Nye currently lives at the Extendicare Medex home on Baseline Road, where all 141 residents have been fully vaccinated since December.\n",
        "\n",
        "But after two staff members recently tested positive for the virus, the residents are now isolating in their rooms.\n",
        "\n",
        "For Nye, that means no going outside, no walks around the building, no leaving his room — which he describes as small — for up to two weeks.\n",
        "\n",
        "Nye has a laptop in his room that allows him to connect with loved ones, but said many residents don't, and that they're being \"treated like prisoners.\" \n",
        "\n",
        "'These are basic human rights'\n",
        "It's not the first time this has happened at the home. Nye said there have been several outbreaks since the start of the COVID-19 pandemic, and every time it's meant having to stay in his room for at least two weeks. \n",
        "\n",
        "\"I treat it normally, but I'm upset,\" Nye told CBC on Wednesday.\n",
        "\n",
        "\"\"\"\n",
        "\n",
        "eTB = TextBlob(ex_corpus)\n",
        "\n",
        "#Sentiment\n",
        "print(\"Sentiment:\\n\")\n",
        "print(eTB.sentiment)\n",
        "\n",
        "\n",
        "#Noun Phrases\n",
        "print(\"\\nNoun Phrases:\\n\")\n",
        "ex_phrases = dict()\n",
        "\n",
        "for np in eTB.noun_phrases:\n",
        "    if np in ex_phrases:\n",
        "        ex_phrases[np] += 1\n",
        "    else:\n",
        "        ex_phrases[np] = 1    \n",
        "\n",
        "for np in sorted(ex_phrases, key=ex_phrases.get, reverse=True):\n",
        "    print(np, ex_phrases[np])\n",
        "    "
      ],
      "execution_count": null,
      "outputs": [
        {
          "output_type": "stream",
          "text": [
            "Sentiment:\n",
            "\n",
            "Sentiment(polarity=0.11363636363636362, subjectivity=0.3466161616161616)\n",
            "\n",
            "Noun Phrases:\n",
            "\n",
            "nye 4\n",
            "staff members 2\n",
            "covid-19 2\n",
            "ottawa 1\n",
            "long-term care facility 1\n",
            "bob nye 1\n",
            "extendicare medex 1\n",
            "baseline 1\n",
            "december 1\n",
            "room — 1\n",
            "small — 1\n",
            "basic human rights' 1\n",
            "'m upset 1\n",
            "cbc 1\n"
          ],
          "name": "stdout"
        }
      ]
    },
    {
      "cell_type": "markdown",
      "metadata": {
        "id": "dwrd0KqsdT7P"
      },
      "source": [
        "# A very basic classifier\n",
        "\n",
        "We looked at how to score the sentiment of a corpus. We can also create a classifier on our own if we provide testing and training data. In our example we are going to look at whether some statements about Twitter are subjective ( _sub_ ) or objective ( _obj_ )."
      ]
    },
    {
      "cell_type": "code",
      "metadata": {
        "scrolled": true,
        "id": "pOtw2gQ-dT7Q"
      },
      "source": [
        "train = [\n",
        "    ('I think Twitter is stupid', 'sub'),\n",
        "    ('Lots of people send too much time on Twitter.', 'obj'),\n",
        "    ('Twitter is a waste of time.', 'sub'),\n",
        "    ('Twitter can be used to find information.', 'obj'),\n",
        "    ('Many celebrites have Twitter accounts.', 'obj'),\n",
        "    ('I think there is too much misinformation on Twitter', 'sub'),\n",
        "    (\"I don't like Twitter.\", 'sub'),\n",
        "    (\"Twitter is the best ever\", 'sub'),\n",
        "    ('Twitter is great because all of my friends us it', 'sub'),\n",
        "    ('Twitter is a fortune 500 company', 'obj')\n",
        "    ]\n",
        "\n",
        "\n",
        "test = [\n",
        "     ('Twitter is a company', 'obj'),\n",
        "     (\"You can't communicate well with such short sentences\", 'sub'),\n",
        "     (\"Twitter is disruptive to soceity\", 'sub'),\n",
        "     (\"Over 500 million people use Twitter\", 'obj'),\n",
        "     ('A Twitter message can have 280 characters', 'obj'),\n",
        "     (\"A Twitter message is always stupid\", 'sub')\n",
        "    ]\n"
      ],
      "execution_count": null,
      "outputs": []
    },
    {
      "cell_type": "code",
      "metadata": {
        "scrolled": true,
        "id": "pyR5kbdZdT7Q"
      },
      "source": [
        "#Builds the classifer and run the training data through it\n",
        "cl = NaiveBayesClassifier(train)"
      ],
      "execution_count": null,
      "outputs": []
    },
    {
      "cell_type": "code",
      "metadata": {
        "scrolled": true,
        "id": "jjCYy_O-dT7R"
      },
      "source": [
        "#Classify each item in the test set to see how well the classifier works.\n",
        "\n",
        "for item in test:\n",
        "    print(\"Item: \",item[0],\"\\t\\t Classification guess: \",cl.classify(item[0]),\"\\t Actual: \",item[1])\n",
        " \n",
        "print(\"\\nAccuracy of guesses\", cl.accuracy(test))\n",
        "\n"
      ],
      "execution_count": null,
      "outputs": []
    },
    {
      "cell_type": "code",
      "metadata": {
        "scrolled": true,
        "id": "ab3pIY2UdT7S"
      },
      "source": [
        "# We can have the classifer tells us some things it has noticed with the samples\n",
        "cl.show_informative_features(3)"
      ],
      "execution_count": null,
      "outputs": []
    },
    {
      "cell_type": "markdown",
      "metadata": {
        "id": "reLDEoAodT7S"
      },
      "source": [
        "## Q8\n",
        "\n",
        "As our last activity try to create your own classifier in the next code cell. You'll just need to provide examples for the classifer to train on."
      ]
    },
    {
      "cell_type": "code",
      "metadata": {
        "scrolled": true,
        "id": "uCMweuEBdT7T"
      },
      "source": [
        "train_2 = [\n",
        "    ('I love this sandwich.', 'pos'),\n",
        "    ('Junk foods are not good for obese people','neg'), #add at least 3 more positive sentences\n",
        "    ('I do not like this restaurant', 'neg'),\n",
        "    ('Whoppers are the best burgers I have ever tast','pos'),\n",
        "    ('Oatmeal has a aweful taste','neg'),\n",
        "    ('I do not like potatoes','neg'),\n",
        "    ('Most of the resturants of California serve Italian foods','pos'),\n",
        "    ('It is easy to smile about fish and chips, but it is a major industry', 'pos')\n",
        "     #add at least 3 more negative sentences\n",
        "    ]\n",
        "\n",
        "\n",
        "cl_2 = NaiveBayesClassifier(train_2)"
      ],
      "execution_count": null,
      "outputs": []
    },
    {
      "cell_type": "markdown",
      "metadata": {
        "id": "7d3qEp97dT7T"
      },
      "source": [
        "Run the following cell as often as you'd like to have the classifier attempt more sentences."
      ]
    },
    {
      "cell_type": "code",
      "metadata": {
        "scrolled": true,
        "id": "RTKSUiK-dT7T",
        "colab": {
          "base_uri": "https://localhost:8080/"
        },
        "outputId": "1bf2fdc5-3821-4b3c-fbf7-2e45654af02a"
      },
      "source": [
        "print(\"\\nInput a sentence you wish to classify\")\n",
        "test_sentence = input()\n",
        "print(\"Classification category: \", cl_2.classify(test_sentence))"
      ],
      "execution_count": null,
      "outputs": [
        {
          "output_type": "stream",
          "text": [
            "\n",
            "Input a sentence you wish to classify\n",
            "Oatmeal is good for obese people\n",
            "Classification category:  neg\n"
          ],
          "name": "stdout"
        }
      ]
    },
    {
      "cell_type": "markdown",
      "metadata": {
        "id": "oBCu4cqq1212"
      },
      "source": [
        "dsl@brocku.ca\r\n"
      ]
    },
    {
      "cell_type": "markdown",
      "metadata": {
        "id": "lWu9J_fsdT7U"
      },
      "source": [
        "# Congrats!\n",
        "\n",
        "You have now learned the basics of Text Analysis using Python and TextBlob. "
      ]
    },
    {
      "cell_type": "markdown",
      "metadata": {
        "id": "A5LtCKuZdT7U"
      },
      "source": [
        "# More Links\n",
        "\n",
        "\n",
        "- [Sentiment Analysis of Tweets Using Python](https://www.greycampus.com/blog/data-science/sentiment-analysis-on-twitter-tweets-using-python) - a case study that uses twitter data to generate sentiment values.\n",
        "\n",
        "\n",
        "- [VADER](https://github.com/cjhutto/vaderSentiment#python-demo-and-code-examples) - (Valence Aware Dictionary and sEntiment Reasoner) is a sentiment library designed to be used for social media that can better reflect the sentiment of slang, emoticons and hashtags.\n",
        "\n",
        "\n",
        "- [Topic Modelling with gensim](https://towardsdatascience.com/topic-modeling-with-gensim-a5609cefccc) - The next step in your understanding of text analysis should be topic modelling, where we try to determine what topics are in a corpus. It is bit too complex to tackling in this workshop.\n",
        "\n",
        "- [Kaggle](https://www.kaggle.com/search?q=text+analysis) - If you do data science using a Python in a notebook, this the place for you.\n",
        "\n",
        "\n",
        "- [Python for Librarians](https://libraryjuiceacademy.com/shop/course/270-python-for-librarians/) - An upcoming workshop that will look at many interesting pieces of Python."
      ]
    }
  ]
}