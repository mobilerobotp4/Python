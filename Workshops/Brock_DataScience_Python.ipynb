{
  "nbformat": 4,
  "nbformat_minor": 0,
  "metadata": {
    "kernelspec": {
      "display_name": "Python 3",
      "language": "python",
      "name": "python3"
    },
    "language_info": {
      "codemirror_mode": {
        "name": "ipython",
        "version": 3
      },
      "file_extension": ".py",
      "mimetype": "text/x-python",
      "name": "python",
      "nbconvert_exporter": "python",
      "pygments_lexer": "ipython3",
      "version": "3.7.4"
    },
    "colab": {
      "name": "Brock_DataScience_Python.ipynb",
      "provenance": [],
      "collapsed_sections": [
        "aYkWPbQ2AnV8",
        "UAUHMN1yAnV_",
        "h2in5S0dAnWQ",
        "CSFZMzXAAnWT",
        "5xomet5aAnWg",
        "X11tNdMfAnWj",
        "TzVsPafmAnWl"
      ]
    }
  },
  "cells": [
    {
      "cell_type": "markdown",
      "metadata": {
        "id": "1XHow2BSAnVc"
      },
      "source": [
        "![DSL_logo](https://github.com/BrockDSL/Python_2.0_Workshop/blob/master/dsl_logo.png?raw=1)\n",
        "\n",
        "\n",
        "# Data Science with Python!\n",
        "\n",
        "Welcome to the Digital Scholarship Lab Level 2 Python workshop. Before proceeding please make sure you've completed [part 1](https://brockdsl.github.io/Intro_to_Python_Workshop/) \n",
        "\n",
        "Which covers:\n",
        "- variables\n",
        "- math\n",
        "- conditional\n",
        "- loops\n",
        "- functions\n",
        "\n",
        "\n",
        "What we'll learn today is:\n",
        "- importing libraries\n",
        "- analyzing data with pandas\n",
        "- plotting data with matplotlib\n",
        "\n",
        "\n",
        "We'll be using Python as a Data Analysis tool\n",
        "This is how the [Kaggle](https://kaggle.com) website works\n"
      ]
    },
    {
      "cell_type": "markdown",
      "metadata": {
        "id": "RhWryitfAnVp"
      },
      "source": [
        "\n",
        "Before we get going the next cell should look totally familar to you"
      ]
    },
    {
      "cell_type": "code",
      "metadata": {
        "id": "AkCTIpU_AnVr",
        "colab": {
          "base_uri": "https://localhost:8080/"
        },
        "outputId": "64b79827-519c-481c-ba61-71faff205f5c"
      },
      "source": [
        "scores = [3,5,6,2,1,6]\n",
        "\n",
        "def find_mean(scores):\n",
        "    \n",
        "    sum = 0\n",
        "    for s in scores:\n",
        "        sum = sum + s\n",
        "        \n",
        "    return sum/len(scores)\n",
        "\n",
        "\n",
        "print(find_mean(scores))"
      ],
      "execution_count": 1,
      "outputs": [
        {
          "output_type": "stream",
          "text": [
            "3.8333333333333335\n"
          ],
          "name": "stdout"
        }
      ]
    },
    {
      "cell_type": "markdown",
      "metadata": {
        "id": "jX9yk1soAnVt"
      },
      "source": [
        "----\n",
        "\n",
        "## Importing Libraries\n",
        "\n",
        "- Our end goal is to re-use as much code as possible\n",
        "- To do this we load in different Libraries using the `import` command\n",
        "- For this example we want to load in the [statistics](https://docs.python.org/3/library/statistics.html) library\n"
      ]
    },
    {
      "cell_type": "code",
      "metadata": {
        "id": "vRXFhRurAnVu",
        "colab": {
          "base_uri": "https://localhost:8080/"
        },
        "outputId": "c40406ec-c6d6-44b7-d776-f20345df50b3"
      },
      "source": [
        "import statistics\n",
        "\n",
        "print(statistics.mean(scores))\n",
        "print(statistics.median(scores))\n",
        "print(statistics.mode(scores))\n"
      ],
      "execution_count": 2,
      "outputs": [
        {
          "output_type": "stream",
          "text": [
            "3.8333333333333335\n",
            "4.0\n",
            "6\n"
          ],
          "name": "stdout"
        }
      ]
    },
    {
      "cell_type": "markdown",
      "metadata": {
        "id": "wIBcdNAMAnVv"
      },
      "source": [
        "- Try Q1 - Q2 below and type \"Got it\" in the chat when you are done."
      ]
    },
    {
      "cell_type": "markdown",
      "metadata": {
        "id": "NcngyTq0AnVv"
      },
      "source": [
        "- **Q1** We can use the [math](https://docs.python.org/3/library/math.html) library to do interesting calculations, but we need to import it first. Eg. the function that performs that finds the square root of a number is called `math.sqrt()` Modify the following code to print out the square root of the variable `number`."
      ]
    },
    {
      "cell_type": "code",
      "metadata": {
        "scrolled": false,
        "id": "tf2vDtKZAnVw",
        "colab": {
          "base_uri": "https://localhost:8080/"
        },
        "outputId": "63dbe253-6dbd-4bb4-e8ce-55e1da8c9d62"
      },
      "source": [
        "import math\n",
        "\n",
        "number = 81\n",
        "\n",
        "\n",
        "print(math.sqrt(number))"
      ],
      "execution_count": 3,
      "outputs": [
        {
          "output_type": "stream",
          "text": [
            "9.0\n"
          ],
          "name": "stdout"
        }
      ]
    },
    {
      "cell_type": "markdown",
      "metadata": {
        "id": "7YGdSShCAnVx"
      },
      "source": [
        "- **Q2** The `str` library is so important that it is included all the time Python runs. Try to print the contents of the variable `all_caps` to the screen in lower case letters. You can use `str.lower()` function on a string variable to do this. Modify the following code so that it prints out in lowercase. (Details on the [str](https://docs.python.org/3/library/string.html) library, if your interested)"
      ]
    },
    {
      "cell_type": "code",
      "metadata": {
        "id": "jrzmK2l-AnVy",
        "colab": {
          "base_uri": "https://localhost:8080/"
        },
        "outputId": "e6f17db5-1862-43a3-c76a-eed4cddc2526"
      },
      "source": [
        "all_caps = \"HELLO\"\n",
        "print(str.lower(all_caps))"
      ],
      "execution_count": null,
      "outputs": [
        {
          "output_type": "stream",
          "text": [
            "hello\n"
          ],
          "name": "stdout"
        }
      ]
    },
    {
      "cell_type": "markdown",
      "metadata": {
        "id": "UXNTTso0AnVz"
      },
      "source": [
        "\n",
        "# EXERCISE: Analyzing Data\n",
        "\n",
        "![sick](https://upload.wikimedia.org/wikipedia/commons/9/97/Caladrius2.jpg)\n",
        "\n",
        "We'll be focusing on data analysis for the rest of this workshop so let's import some libraries: [pandas](https://pandas.pydata.org/), and [matplotlib](https://matplotlib.org)\n",
        "\n",
        "We'll be exploring how to do analysis with a riff of a data set taken from [Kaggle](https://www.kaggle.com/carlolepelaars/toy-dataset/). It has been localized with Canadian Cities and shortened a tad. Let's view the [file](canadian_toy_dataset.csv)\n",
        "\n",
        "---\n",
        "\n",
        "![excel preview](https://raw.githubusercontent.com/BrockDSL/Python_2.0_Workshop/master/data_in_excel.png)\n",
        "\n",
        "You could use Excel to do some of this analysis true, but if you have a large dataset, using Excel is going to be difficult to work with.\n",
        "\n",
        "\n",
        "The data has 5 columns\n",
        "- _City_ is a Canadian Cities\n",
        "- _Gender_ is the self reported gender of the person\n",
        "- _Age_ is a integer that represents how old the person in in the record is\n",
        "- _Income_ the annual salary of the person as an integer\n",
        "- _ill_ a 'Yes' or 'No' to indicate if the person is suffering from our mystery illness\n",
        "\n",
        "\n",
        "\n",
        "We want to explore the data to see if we can pick up any insights about who is ill and who is not ill. In part 3 of this workshop we will use machine learning to see if we can make predictions with the data.\n"
      ]
    },
    {
      "cell_type": "markdown",
      "metadata": {
        "id": "eaaR3kHdAnV1"
      },
      "source": [
        "- **Q3** What types of questions might we want to ask from the data? Provides some ideas in the Zoom chat box"
      ]
    },
    {
      "cell_type": "markdown",
      "metadata": {
        "id": "R2xQo8dOAnV1"
      },
      "source": [
        "## Loading the Libraries\n",
        "\n",
        "To get everything ready we need to load the following cell"
      ]
    },
    {
      "cell_type": "code",
      "metadata": {
        "id": "n2Zk-1c1AnV3"
      },
      "source": [
        "#Load the Library Pandas, that works with data\n",
        "import pandas as pd\n",
        "\n",
        "#Load the Library Numpy, that works with numerical calculations\n",
        "import numpy as np\n",
        "\n",
        "#These two libraries are often used together!"
      ],
      "execution_count": 4,
      "outputs": []
    },
    {
      "cell_type": "markdown",
      "metadata": {
        "id": "bP45tD13AnV4"
      },
      "source": [
        "## Loading the data\n",
        "\n",
        "- We'll load the data into a pandas `dataframe`. ([More Info](https://realpython.com/pandas-dataframe/)) A dataframe has a lot of properties we can use.\n",
        "- It is a very complex type of variable, think of the `dictionary` we looked at last time.\n",
        "- This data is complete, so we don't need to worry about incomplete rows in our observations\n",
        "- We'll take a look at the first 10 lines of the dataset"
      ]
    },
    {
      "cell_type": "code",
      "metadata": {
        "scrolled": false,
        "id": "htHEE8P4AnV5",
        "colab": {
          "base_uri": "https://localhost:8080/",
          "height": 359
        },
        "outputId": "e95afc79-de78-4309-ae73-cb4e07a418d4"
      },
      "source": [
        "#Load the file into a dataframe using the pandas read_csv function\n",
        "data = pd.read_csv(\"https://brockdsl.github.io/Python_2.0_Workshop/canadian_toy_dataset.csv\")\n",
        "\n",
        "#Tell it what our columns are by passing along a list of that information\n",
        "data.columns = [\"city\",\"gender\",\"age\",\"income\",\"ill\"]\n",
        "\n",
        "#Show the first 10 lines\n",
        "data.head(10)"
      ],
      "execution_count": 6,
      "outputs": [
        {
          "output_type": "execute_result",
          "data": {
            "text/html": [
              "<div>\n",
              "<style scoped>\n",
              "    .dataframe tbody tr th:only-of-type {\n",
              "        vertical-align: middle;\n",
              "    }\n",
              "\n",
              "    .dataframe tbody tr th {\n",
              "        vertical-align: top;\n",
              "    }\n",
              "\n",
              "    .dataframe thead th {\n",
              "        text-align: right;\n",
              "    }\n",
              "</style>\n",
              "<table border=\"1\" class=\"dataframe\">\n",
              "  <thead>\n",
              "    <tr style=\"text-align: right;\">\n",
              "      <th></th>\n",
              "      <th>city</th>\n",
              "      <th>gender</th>\n",
              "      <th>age</th>\n",
              "      <th>income</th>\n",
              "      <th>ill</th>\n",
              "    </tr>\n",
              "  </thead>\n",
              "  <tbody>\n",
              "    <tr>\n",
              "      <th>0</th>\n",
              "      <td>Montreal</td>\n",
              "      <td>Male</td>\n",
              "      <td>41</td>\n",
              "      <td>40367</td>\n",
              "      <td>No</td>\n",
              "    </tr>\n",
              "    <tr>\n",
              "      <th>1</th>\n",
              "      <td>Montreal</td>\n",
              "      <td>Male</td>\n",
              "      <td>54</td>\n",
              "      <td>45084</td>\n",
              "      <td>No</td>\n",
              "    </tr>\n",
              "    <tr>\n",
              "      <th>2</th>\n",
              "      <td>Montreal</td>\n",
              "      <td>Male</td>\n",
              "      <td>42</td>\n",
              "      <td>52483</td>\n",
              "      <td>No</td>\n",
              "    </tr>\n",
              "    <tr>\n",
              "      <th>3</th>\n",
              "      <td>Montreal</td>\n",
              "      <td>Male</td>\n",
              "      <td>40</td>\n",
              "      <td>40941</td>\n",
              "      <td>No</td>\n",
              "    </tr>\n",
              "    <tr>\n",
              "      <th>4</th>\n",
              "      <td>Montreal</td>\n",
              "      <td>Male</td>\n",
              "      <td>46</td>\n",
              "      <td>50289</td>\n",
              "      <td>No</td>\n",
              "    </tr>\n",
              "    <tr>\n",
              "      <th>5</th>\n",
              "      <td>Montreal</td>\n",
              "      <td>Female</td>\n",
              "      <td>36</td>\n",
              "      <td>50786</td>\n",
              "      <td>No</td>\n",
              "    </tr>\n",
              "    <tr>\n",
              "      <th>6</th>\n",
              "      <td>Montreal</td>\n",
              "      <td>Female</td>\n",
              "      <td>32</td>\n",
              "      <td>33155</td>\n",
              "      <td>No</td>\n",
              "    </tr>\n",
              "    <tr>\n",
              "      <th>7</th>\n",
              "      <td>Montreal</td>\n",
              "      <td>Male</td>\n",
              "      <td>39</td>\n",
              "      <td>30914</td>\n",
              "      <td>No</td>\n",
              "    </tr>\n",
              "    <tr>\n",
              "      <th>8</th>\n",
              "      <td>Montreal</td>\n",
              "      <td>Male</td>\n",
              "      <td>51</td>\n",
              "      <td>68667</td>\n",
              "      <td>No</td>\n",
              "    </tr>\n",
              "    <tr>\n",
              "      <th>9</th>\n",
              "      <td>Montreal</td>\n",
              "      <td>Female</td>\n",
              "      <td>30</td>\n",
              "      <td>50082</td>\n",
              "      <td>No</td>\n",
              "    </tr>\n",
              "  </tbody>\n",
              "</table>\n",
              "</div>"
            ],
            "text/plain": [
              "       city  gender  age  income ill\n",
              "0  Montreal    Male   41   40367  No\n",
              "1  Montreal    Male   54   45084  No\n",
              "2  Montreal    Male   42   52483  No\n",
              "3  Montreal    Male   40   40941  No\n",
              "4  Montreal    Male   46   50289  No\n",
              "5  Montreal  Female   36   50786  No\n",
              "6  Montreal  Female   32   33155  No\n",
              "7  Montreal    Male   39   30914  No\n",
              "8  Montreal    Male   51   68667  No\n",
              "9  Montreal  Female   30   50082  No"
            ]
          },
          "metadata": {
            "tags": []
          },
          "execution_count": 6
        }
      ]
    },
    {
      "cell_type": "markdown",
      "metadata": {
        "id": "Lv-XW8l6AnV5"
      },
      "source": [
        "Pandas can provide us some nice quantitative details about our data by calling the `describe()` function"
      ]
    },
    {
      "cell_type": "code",
      "metadata": {
        "id": "o8fEEeK_AnV7",
        "colab": {
          "base_uri": "https://localhost:8080/",
          "height": 297
        },
        "outputId": "fa0c3472-3b9d-4f78-af82-7c1aa4dc6014"
      },
      "source": [
        "data.describe()"
      ],
      "execution_count": 7,
      "outputs": [
        {
          "output_type": "execute_result",
          "data": {
            "text/html": [
              "<div>\n",
              "<style scoped>\n",
              "    .dataframe tbody tr th:only-of-type {\n",
              "        vertical-align: middle;\n",
              "    }\n",
              "\n",
              "    .dataframe tbody tr th {\n",
              "        vertical-align: top;\n",
              "    }\n",
              "\n",
              "    .dataframe thead th {\n",
              "        text-align: right;\n",
              "    }\n",
              "</style>\n",
              "<table border=\"1\" class=\"dataframe\">\n",
              "  <thead>\n",
              "    <tr style=\"text-align: right;\">\n",
              "      <th></th>\n",
              "      <th>age</th>\n",
              "      <th>income</th>\n",
              "    </tr>\n",
              "  </thead>\n",
              "  <tbody>\n",
              "    <tr>\n",
              "      <th>count</th>\n",
              "      <td>150000.000000</td>\n",
              "      <td>150000.000000</td>\n",
              "    </tr>\n",
              "    <tr>\n",
              "      <th>mean</th>\n",
              "      <td>44.950200</td>\n",
              "      <td>91252.798273</td>\n",
              "    </tr>\n",
              "    <tr>\n",
              "      <th>std</th>\n",
              "      <td>11.572486</td>\n",
              "      <td>24989.500948</td>\n",
              "    </tr>\n",
              "    <tr>\n",
              "      <th>min</th>\n",
              "      <td>25.000000</td>\n",
              "      <td>-654.000000</td>\n",
              "    </tr>\n",
              "    <tr>\n",
              "      <th>25%</th>\n",
              "      <td>35.000000</td>\n",
              "      <td>80867.750000</td>\n",
              "    </tr>\n",
              "    <tr>\n",
              "      <th>50%</th>\n",
              "      <td>45.000000</td>\n",
              "      <td>93655.000000</td>\n",
              "    </tr>\n",
              "    <tr>\n",
              "      <th>75%</th>\n",
              "      <td>55.000000</td>\n",
              "      <td>104519.000000</td>\n",
              "    </tr>\n",
              "    <tr>\n",
              "      <th>max</th>\n",
              "      <td>65.000000</td>\n",
              "      <td>177157.000000</td>\n",
              "    </tr>\n",
              "  </tbody>\n",
              "</table>\n",
              "</div>"
            ],
            "text/plain": [
              "                 age         income\n",
              "count  150000.000000  150000.000000\n",
              "mean       44.950200   91252.798273\n",
              "std        11.572486   24989.500948\n",
              "min        25.000000    -654.000000\n",
              "25%        35.000000   80867.750000\n",
              "50%        45.000000   93655.000000\n",
              "75%        55.000000  104519.000000\n",
              "max        65.000000  177157.000000"
            ]
          },
          "metadata": {
            "tags": []
          },
          "execution_count": 7
        }
      ]
    },
    {
      "cell_type": "markdown",
      "metadata": {
        "id": "aYkWPbQ2AnV8"
      },
      "source": [
        "## Grouping and  Counting\n",
        "\n",
        "- We also need to gather the entries we need by grouping them together with the `.groupby()` function. We can chain these things together to ask very specific questions of the data.\n",
        "- We pass what column we'd like to group the data by\n",
        "- We add `.count()` if we are just interested int the counts and not the dataframe\n"
      ]
    },
    {
      "cell_type": "markdown",
      "metadata": {
        "id": "HZrsFlJ8AnV8"
      },
      "source": [
        "How many people are `ill`?"
      ]
    },
    {
      "cell_type": "code",
      "metadata": {
        "scrolled": false,
        "id": "gyxb2FPOAnV8",
        "colab": {
          "base_uri": "https://localhost:8080/"
        },
        "outputId": "e3afeeb2-7f20-49da-e62a-0b2f3af78c5e"
      },
      "source": [
        "data.groupby(\"ill\")"
      ],
      "execution_count": null,
      "outputs": [
        {
          "output_type": "execute_result",
          "data": {
            "text/plain": [
              "<pandas.core.groupby.generic.DataFrameGroupBy object at 0x7f69d1f57810>"
            ]
          },
          "metadata": {
            "tags": []
          },
          "execution_count": 4
        }
      ]
    },
    {
      "cell_type": "code",
      "metadata": {
        "scrolled": true,
        "id": "pipEe-s_AnV9",
        "colab": {
          "base_uri": "https://localhost:8080/",
          "height": 142
        },
        "outputId": "21986c15-d86d-450e-81af-af5a0aec5a44"
      },
      "source": [
        "data.groupby(\"ill\").count()"
      ],
      "execution_count": 8,
      "outputs": [
        {
          "output_type": "execute_result",
          "data": {
            "text/html": [
              "<div>\n",
              "<style scoped>\n",
              "    .dataframe tbody tr th:only-of-type {\n",
              "        vertical-align: middle;\n",
              "    }\n",
              "\n",
              "    .dataframe tbody tr th {\n",
              "        vertical-align: top;\n",
              "    }\n",
              "\n",
              "    .dataframe thead th {\n",
              "        text-align: right;\n",
              "    }\n",
              "</style>\n",
              "<table border=\"1\" class=\"dataframe\">\n",
              "  <thead>\n",
              "    <tr style=\"text-align: right;\">\n",
              "      <th></th>\n",
              "      <th>city</th>\n",
              "      <th>gender</th>\n",
              "      <th>age</th>\n",
              "      <th>income</th>\n",
              "    </tr>\n",
              "    <tr>\n",
              "      <th>ill</th>\n",
              "      <th></th>\n",
              "      <th></th>\n",
              "      <th></th>\n",
              "      <th></th>\n",
              "    </tr>\n",
              "  </thead>\n",
              "  <tbody>\n",
              "    <tr>\n",
              "      <th>No</th>\n",
              "      <td>137861</td>\n",
              "      <td>137861</td>\n",
              "      <td>137861</td>\n",
              "      <td>137861</td>\n",
              "    </tr>\n",
              "    <tr>\n",
              "      <th>Yes</th>\n",
              "      <td>12139</td>\n",
              "      <td>12139</td>\n",
              "      <td>12139</td>\n",
              "      <td>12139</td>\n",
              "    </tr>\n",
              "  </tbody>\n",
              "</table>\n",
              "</div>"
            ],
            "text/plain": [
              "       city  gender     age  income\n",
              "ill                                \n",
              "No   137861  137861  137861  137861\n",
              "Yes   12139   12139   12139   12139"
            ]
          },
          "metadata": {
            "tags": []
          },
          "execution_count": 8
        }
      ]
    },
    {
      "cell_type": "markdown",
      "metadata": {
        "id": "Y13aRgCQAnV9"
      },
      "source": [
        "Try questions Q4 & Q5 below and type \"Finished!\" in the chat box when you are done"
      ]
    },
    {
      "cell_type": "markdown",
      "metadata": {
        "id": "V_1tFCXYAnV-"
      },
      "source": [
        "- **Q4** How many people are `Male` in this dataset?"
      ]
    },
    {
      "cell_type": "code",
      "metadata": {
        "id": "8yXGsdSbAnV-",
        "colab": {
          "base_uri": "https://localhost:8080/",
          "height": 142
        },
        "outputId": "e338c630-0b5a-448f-c026-b6e8821aab81"
      },
      "source": [
        "data.groupby(\"gender\").count()"
      ],
      "execution_count": null,
      "outputs": [
        {
          "output_type": "execute_result",
          "data": {
            "text/html": [
              "<div>\n",
              "<style scoped>\n",
              "    .dataframe tbody tr th:only-of-type {\n",
              "        vertical-align: middle;\n",
              "    }\n",
              "\n",
              "    .dataframe tbody tr th {\n",
              "        vertical-align: top;\n",
              "    }\n",
              "\n",
              "    .dataframe thead th {\n",
              "        text-align: right;\n",
              "    }\n",
              "</style>\n",
              "<table border=\"1\" class=\"dataframe\">\n",
              "  <thead>\n",
              "    <tr style=\"text-align: right;\">\n",
              "      <th></th>\n",
              "      <th>city</th>\n",
              "      <th>age</th>\n",
              "      <th>income</th>\n",
              "      <th>ill</th>\n",
              "    </tr>\n",
              "    <tr>\n",
              "      <th>gender</th>\n",
              "      <th></th>\n",
              "      <th></th>\n",
              "      <th></th>\n",
              "      <th></th>\n",
              "    </tr>\n",
              "  </thead>\n",
              "  <tbody>\n",
              "    <tr>\n",
              "      <th>Female</th>\n",
              "      <td>66200</td>\n",
              "      <td>66200</td>\n",
              "      <td>66200</td>\n",
              "      <td>66200</td>\n",
              "    </tr>\n",
              "    <tr>\n",
              "      <th>Male</th>\n",
              "      <td>83800</td>\n",
              "      <td>83800</td>\n",
              "      <td>83800</td>\n",
              "      <td>83800</td>\n",
              "    </tr>\n",
              "  </tbody>\n",
              "</table>\n",
              "</div>"
            ],
            "text/plain": [
              "         city    age  income    ill\n",
              "gender                             \n",
              "Female  66200  66200   66200  66200\n",
              "Male    83800  83800   83800  83800"
            ]
          },
          "metadata": {
            "tags": []
          },
          "execution_count": 6
        }
      ]
    },
    {
      "cell_type": "markdown",
      "metadata": {
        "id": "5YE0q29pAnV-"
      },
      "source": [
        "- **Q5** How many different cities are in the dataset?"
      ]
    },
    {
      "cell_type": "code",
      "metadata": {
        "scrolled": true,
        "id": "ld_H-FSvAnV_",
        "colab": {
          "base_uri": "https://localhost:8080/",
          "height": 328
        },
        "outputId": "28590eeb-fd4b-4cae-fd9f-3801b86c6e2b"
      },
      "source": [
        "data.groupby('city').count()"
      ],
      "execution_count": null,
      "outputs": [
        {
          "output_type": "execute_result",
          "data": {
            "text/html": [
              "<div>\n",
              "<style scoped>\n",
              "    .dataframe tbody tr th:only-of-type {\n",
              "        vertical-align: middle;\n",
              "    }\n",
              "\n",
              "    .dataframe tbody tr th {\n",
              "        vertical-align: top;\n",
              "    }\n",
              "\n",
              "    .dataframe thead th {\n",
              "        text-align: right;\n",
              "    }\n",
              "</style>\n",
              "<table border=\"1\" class=\"dataframe\">\n",
              "  <thead>\n",
              "    <tr style=\"text-align: right;\">\n",
              "      <th></th>\n",
              "      <th>gender</th>\n",
              "      <th>age</th>\n",
              "      <th>income</th>\n",
              "      <th>ill</th>\n",
              "    </tr>\n",
              "    <tr>\n",
              "      <th>city</th>\n",
              "      <th></th>\n",
              "      <th></th>\n",
              "      <th></th>\n",
              "      <th></th>\n",
              "    </tr>\n",
              "  </thead>\n",
              "  <tbody>\n",
              "    <tr>\n",
              "      <th>Edmonton</th>\n",
              "      <td>12292</td>\n",
              "      <td>12292</td>\n",
              "      <td>12292</td>\n",
              "      <td>12292</td>\n",
              "    </tr>\n",
              "    <tr>\n",
              "      <th>Halifax</th>\n",
              "      <td>8301</td>\n",
              "      <td>8301</td>\n",
              "      <td>8301</td>\n",
              "      <td>8301</td>\n",
              "    </tr>\n",
              "    <tr>\n",
              "      <th>Montreal</th>\n",
              "      <td>19707</td>\n",
              "      <td>19707</td>\n",
              "      <td>19707</td>\n",
              "      <td>19707</td>\n",
              "    </tr>\n",
              "    <tr>\n",
              "      <th>Ottawa</th>\n",
              "      <td>8120</td>\n",
              "      <td>8120</td>\n",
              "      <td>8120</td>\n",
              "      <td>8120</td>\n",
              "    </tr>\n",
              "    <tr>\n",
              "      <th>Regina</th>\n",
              "      <td>4881</td>\n",
              "      <td>4881</td>\n",
              "      <td>4881</td>\n",
              "      <td>4881</td>\n",
              "    </tr>\n",
              "    <tr>\n",
              "      <th>Toronto</th>\n",
              "      <td>50307</td>\n",
              "      <td>50307</td>\n",
              "      <td>50307</td>\n",
              "      <td>50307</td>\n",
              "    </tr>\n",
              "    <tr>\n",
              "      <th>Vancouver</th>\n",
              "      <td>32173</td>\n",
              "      <td>32173</td>\n",
              "      <td>32173</td>\n",
              "      <td>32173</td>\n",
              "    </tr>\n",
              "    <tr>\n",
              "      <th>Waterloo</th>\n",
              "      <td>14219</td>\n",
              "      <td>14219</td>\n",
              "      <td>14219</td>\n",
              "      <td>14219</td>\n",
              "    </tr>\n",
              "  </tbody>\n",
              "</table>\n",
              "</div>"
            ],
            "text/plain": [
              "           gender    age  income    ill\n",
              "city                                   \n",
              "Edmonton    12292  12292   12292  12292\n",
              "Halifax      8301   8301    8301   8301\n",
              "Montreal    19707  19707   19707  19707\n",
              "Ottawa       8120   8120    8120   8120\n",
              "Regina       4881   4881    4881   4881\n",
              "Toronto     50307  50307   50307  50307\n",
              "Vancouver   32173  32173   32173  32173\n",
              "Waterloo    14219  14219   14219  14219"
            ]
          },
          "metadata": {
            "tags": []
          },
          "execution_count": 7
        }
      ]
    },
    {
      "cell_type": "code",
      "metadata": {
        "colab": {
          "base_uri": "https://localhost:8080/"
        },
        "id": "LdRRZlE2SbaU",
        "outputId": "b1673272-fc5a-419b-e766-9a17835514dc"
      },
      "source": [
        "data['city'].unique()"
      ],
      "execution_count": 12,
      "outputs": [
        {
          "output_type": "execute_result",
          "data": {
            "text/plain": [
              "array(['Montreal', 'Toronto', 'Vancouver', 'Waterloo', 'Halifax',\n",
              "       'Ottawa', 'Regina', 'Edmonton'], dtype=object)"
            ]
          },
          "metadata": {
            "tags": []
          },
          "execution_count": 12
        }
      ]
    },
    {
      "cell_type": "markdown",
      "metadata": {
        "id": "UAUHMN1yAnV_"
      },
      "source": [
        "## Grouping and applying functions\n",
        "\n",
        "- If we want to do some math on the data we need to cluster it together a bit. We use `.groupby()` and then apply our mathematical functions to the result\n",
        "- Here we'll use the following 3 functions:\n",
        " - `mean()` finds the arithmetic mean of the data\n",
        " - `max()` finds the largest occurence of data in that column\n",
        " - `min()` finds the smallest occurennce of data in that column\n"
      ]
    },
    {
      "cell_type": "markdown",
      "metadata": {
        "id": "xhh8tk_nAnWA"
      },
      "source": [
        "What is the average income of people in `Waterloo`?"
      ]
    },
    {
      "cell_type": "code",
      "metadata": {
        "scrolled": false,
        "id": "6-iESigqAnWB",
        "colab": {
          "base_uri": "https://localhost:8080/"
        },
        "outputId": "d3925d5c-c0b9-435c-892b-cb3720f422a8"
      },
      "source": [
        "data.groupby(\"city\")[\"income\"].mean()"
      ],
      "execution_count": 10,
      "outputs": [
        {
          "output_type": "execute_result",
          "data": {
            "text/plain": [
              "city\n",
              "Edmonton      90277.513423\n",
              "Halifax       91554.571497\n",
              "Montreal      45252.231187\n",
              "Ottawa        70991.612808\n",
              "Regina       100756.209178\n",
              "Toronto       96857.131393\n",
              "Vancouver     95264.155410\n",
              "Waterloo     135078.415782\n",
              "Name: income, dtype: float64"
            ]
          },
          "metadata": {
            "tags": []
          },
          "execution_count": 10
        }
      ]
    },
    {
      "cell_type": "markdown",
      "metadata": {
        "id": "6uQKhHsCAnWC"
      },
      "source": [
        "Try questions Q6-Q8 and type \"All done\" into the chat when you are finished\""
      ]
    },
    {
      "cell_type": "markdown",
      "metadata": {
        "id": "24x8q30hAnWD"
      },
      "source": [
        "- **Q6** What is the average age of people in each `city`?"
      ]
    },
    {
      "cell_type": "code",
      "metadata": {
        "scrolled": true,
        "id": "O-M--ZEIAnWE",
        "colab": {
          "base_uri": "https://localhost:8080/"
        },
        "outputId": "32094666-6706-4907-c63b-bcefad108877"
      },
      "source": [
        "data.groupby(\"city\")[\"age\"].mean()"
      ],
      "execution_count": null,
      "outputs": [
        {
          "output_type": "execute_result",
          "data": {
            "text/plain": [
              "city\n",
              "Edmonton     44.651237\n",
              "Halifax      45.197807\n",
              "Montreal     45.058761\n",
              "Ottawa       44.802709\n",
              "Regina       44.965171\n",
              "Toronto      44.922118\n",
              "Vancouver    44.994094\n",
              "Waterloo     44.992756\n",
              "Name: age, dtype: float64"
            ]
          },
          "metadata": {
            "tags": []
          },
          "execution_count": 9
        }
      ]
    },
    {
      "cell_type": "markdown",
      "metadata": {
        "id": "e_C3BgGbAnWF"
      },
      "source": [
        "- **Q7** What is the minimum and maximum age seen in the data"
      ]
    },
    {
      "cell_type": "code",
      "metadata": {
        "id": "aPdcPcpNAnWG",
        "colab": {
          "base_uri": "https://localhost:8080/"
        },
        "outputId": "bea7c052-8bbc-4aeb-8427-66aa32016882"
      },
      "source": [
        "data.groupby(\"city\")[\"age\"].min()"
      ],
      "execution_count": null,
      "outputs": [
        {
          "output_type": "execute_result",
          "data": {
            "text/plain": [
              "city\n",
              "Edmonton     25\n",
              "Halifax      25\n",
              "Montreal     25\n",
              "Ottawa       25\n",
              "Regina       25\n",
              "Toronto      25\n",
              "Vancouver    25\n",
              "Waterloo     25\n",
              "Name: age, dtype: int64"
            ]
          },
          "metadata": {
            "tags": []
          },
          "execution_count": 10
        }
      ]
    },
    {
      "cell_type": "code",
      "metadata": {
        "colab": {
          "base_uri": "https://localhost:8080/"
        },
        "id": "Ko4k6j5fHCaj",
        "outputId": "44e0de90-2878-4fd7-9110-fc6dfac81fff"
      },
      "source": [
        "data.groupby(\"city\")[\"age\"].max()"
      ],
      "execution_count": null,
      "outputs": [
        {
          "output_type": "execute_result",
          "data": {
            "text/plain": [
              "city\n",
              "Edmonton     65\n",
              "Halifax      65\n",
              "Montreal     65\n",
              "Ottawa       65\n",
              "Regina       65\n",
              "Toronto      65\n",
              "Vancouver    65\n",
              "Waterloo     65\n",
              "Name: age, dtype: int64"
            ]
          },
          "metadata": {
            "tags": []
          },
          "execution_count": 11
        }
      ]
    },
    {
      "cell_type": "markdown",
      "metadata": {
        "id": "uWoxmA9nAnWG"
      },
      "source": [
        "- **Q8** What is the maximum and minimum income seen in the data set?"
      ]
    },
    {
      "cell_type": "code",
      "metadata": {
        "colab": {
          "base_uri": "https://localhost:8080/"
        },
        "id": "oRyfYpvLR8dq",
        "outputId": "48f53dcc-c750-4e4b-e008-83b51c502b3a"
      },
      "source": [
        "data.groupby(\"city\")[\"income\"].max()"
      ],
      "execution_count": 11,
      "outputs": [
        {
          "output_type": "execute_result",
          "data": {
            "text/plain": [
              "city\n",
              "Edmonton     132302\n",
              "Halifax      132348\n",
              "Montreal      91479\n",
              "Ottawa       107704\n",
              "Regina       140190\n",
              "Toronto      147170\n",
              "Vancouver    141249\n",
              "Waterloo     177157\n",
              "Name: income, dtype: int64"
            ]
          },
          "metadata": {
            "tags": []
          },
          "execution_count": 11
        }
      ]
    },
    {
      "cell_type": "code",
      "metadata": {
        "id": "E6QRgKSAAnWI",
        "colab": {
          "base_uri": "https://localhost:8080/"
        },
        "outputId": "05f2b9fc-644c-4225-fda8-c90a491c8a08"
      },
      "source": [
        "data.groupby(\"city\")[\"income\"].min()"
      ],
      "execution_count": null,
      "outputs": [
        {
          "output_type": "execute_result",
          "data": {
            "text/plain": [
              "city\n",
              "Edmonton     50602\n",
              "Halifax      48425\n",
              "Montreal      -654\n",
              "Ottawa       33335\n",
              "Regina       64941\n",
              "Toronto      55538\n",
              "Vancouver    51131\n",
              "Waterloo     95202\n",
              "Name: income, dtype: int64"
            ]
          },
          "metadata": {
            "tags": []
          },
          "execution_count": 14
        }
      ]
    },
    {
      "cell_type": "markdown",
      "metadata": {
        "id": "mM1eqYqJAnWI"
      },
      "source": [
        "# Sorting"
      ]
    },
    {
      "cell_type": "markdown",
      "metadata": {
        "id": "poV1dKywAnWJ"
      },
      "source": [
        "- We can apply sorting to our dataframe actions by using the funciton `.sort_values()`\n",
        "- We need to give what column we'd like to sort it with `by =`\n",
        "- We also need to tell it to display it in an increase way `ascending = False`"
      ]
    },
    {
      "cell_type": "markdown",
      "metadata": {
        "id": "RWU4aNxWAnWK"
      },
      "source": [
        "What city has the most `ill` people? Here we do it in two steps"
      ]
    },
    {
      "cell_type": "code",
      "metadata": {
        "id": "CgGs7nyOAnWK",
        "colab": {
          "base_uri": "https://localhost:8080/",
          "height": 328
        },
        "outputId": "62feb191-3d18-4993-8f15-c524fcb3868e"
      },
      "source": [
        "by_city = data.groupby(\"city\").count()\n",
        "\n",
        "sorted_city = by_city.sort_values(by = \"ill\",ascending = False)\n",
        "\n",
        "sorted_city"
      ],
      "execution_count": null,
      "outputs": [
        {
          "output_type": "execute_result",
          "data": {
            "text/html": [
              "<div>\n",
              "<style scoped>\n",
              "    .dataframe tbody tr th:only-of-type {\n",
              "        vertical-align: middle;\n",
              "    }\n",
              "\n",
              "    .dataframe tbody tr th {\n",
              "        vertical-align: top;\n",
              "    }\n",
              "\n",
              "    .dataframe thead th {\n",
              "        text-align: right;\n",
              "    }\n",
              "</style>\n",
              "<table border=\"1\" class=\"dataframe\">\n",
              "  <thead>\n",
              "    <tr style=\"text-align: right;\">\n",
              "      <th></th>\n",
              "      <th>gender</th>\n",
              "      <th>age</th>\n",
              "      <th>income</th>\n",
              "      <th>ill</th>\n",
              "    </tr>\n",
              "    <tr>\n",
              "      <th>city</th>\n",
              "      <th></th>\n",
              "      <th></th>\n",
              "      <th></th>\n",
              "      <th></th>\n",
              "    </tr>\n",
              "  </thead>\n",
              "  <tbody>\n",
              "    <tr>\n",
              "      <th>Toronto</th>\n",
              "      <td>50307</td>\n",
              "      <td>50307</td>\n",
              "      <td>50307</td>\n",
              "      <td>50307</td>\n",
              "    </tr>\n",
              "    <tr>\n",
              "      <th>Vancouver</th>\n",
              "      <td>32173</td>\n",
              "      <td>32173</td>\n",
              "      <td>32173</td>\n",
              "      <td>32173</td>\n",
              "    </tr>\n",
              "    <tr>\n",
              "      <th>Montreal</th>\n",
              "      <td>19707</td>\n",
              "      <td>19707</td>\n",
              "      <td>19707</td>\n",
              "      <td>19707</td>\n",
              "    </tr>\n",
              "    <tr>\n",
              "      <th>Waterloo</th>\n",
              "      <td>14219</td>\n",
              "      <td>14219</td>\n",
              "      <td>14219</td>\n",
              "      <td>14219</td>\n",
              "    </tr>\n",
              "    <tr>\n",
              "      <th>Edmonton</th>\n",
              "      <td>12292</td>\n",
              "      <td>12292</td>\n",
              "      <td>12292</td>\n",
              "      <td>12292</td>\n",
              "    </tr>\n",
              "    <tr>\n",
              "      <th>Halifax</th>\n",
              "      <td>8301</td>\n",
              "      <td>8301</td>\n",
              "      <td>8301</td>\n",
              "      <td>8301</td>\n",
              "    </tr>\n",
              "    <tr>\n",
              "      <th>Ottawa</th>\n",
              "      <td>8120</td>\n",
              "      <td>8120</td>\n",
              "      <td>8120</td>\n",
              "      <td>8120</td>\n",
              "    </tr>\n",
              "    <tr>\n",
              "      <th>Regina</th>\n",
              "      <td>4881</td>\n",
              "      <td>4881</td>\n",
              "      <td>4881</td>\n",
              "      <td>4881</td>\n",
              "    </tr>\n",
              "  </tbody>\n",
              "</table>\n",
              "</div>"
            ],
            "text/plain": [
              "           gender    age  income    ill\n",
              "city                                   \n",
              "Toronto     50307  50307   50307  50307\n",
              "Vancouver   32173  32173   32173  32173\n",
              "Montreal    19707  19707   19707  19707\n",
              "Waterloo    14219  14219   14219  14219\n",
              "Edmonton    12292  12292   12292  12292\n",
              "Halifax      8301   8301    8301   8301\n",
              "Ottawa       8120   8120    8120   8120\n",
              "Regina       4881   4881    4881   4881"
            ]
          },
          "metadata": {
            "tags": []
          },
          "execution_count": 15
        }
      ]
    },
    {
      "cell_type": "markdown",
      "metadata": {
        "id": "xsR7z5b1AnWM"
      },
      "source": [
        "We could also do it in one step:"
      ]
    },
    {
      "cell_type": "code",
      "metadata": {
        "scrolled": true,
        "id": "rERgCBdGAnWM",
        "colab": {
          "base_uri": "https://localhost:8080/",
          "height": 328
        },
        "outputId": "e4129f37-1f5e-42fc-e703-63c039899c48"
      },
      "source": [
        "data.groupby(\"city\").count().sort_values(by = \"ill\",ascending = False)"
      ],
      "execution_count": null,
      "outputs": [
        {
          "output_type": "execute_result",
          "data": {
            "text/html": [
              "<div>\n",
              "<style scoped>\n",
              "    .dataframe tbody tr th:only-of-type {\n",
              "        vertical-align: middle;\n",
              "    }\n",
              "\n",
              "    .dataframe tbody tr th {\n",
              "        vertical-align: top;\n",
              "    }\n",
              "\n",
              "    .dataframe thead th {\n",
              "        text-align: right;\n",
              "    }\n",
              "</style>\n",
              "<table border=\"1\" class=\"dataframe\">\n",
              "  <thead>\n",
              "    <tr style=\"text-align: right;\">\n",
              "      <th></th>\n",
              "      <th>gender</th>\n",
              "      <th>age</th>\n",
              "      <th>income</th>\n",
              "      <th>ill</th>\n",
              "    </tr>\n",
              "    <tr>\n",
              "      <th>city</th>\n",
              "      <th></th>\n",
              "      <th></th>\n",
              "      <th></th>\n",
              "      <th></th>\n",
              "    </tr>\n",
              "  </thead>\n",
              "  <tbody>\n",
              "    <tr>\n",
              "      <th>Toronto</th>\n",
              "      <td>50307</td>\n",
              "      <td>50307</td>\n",
              "      <td>50307</td>\n",
              "      <td>50307</td>\n",
              "    </tr>\n",
              "    <tr>\n",
              "      <th>Vancouver</th>\n",
              "      <td>32173</td>\n",
              "      <td>32173</td>\n",
              "      <td>32173</td>\n",
              "      <td>32173</td>\n",
              "    </tr>\n",
              "    <tr>\n",
              "      <th>Montreal</th>\n",
              "      <td>19707</td>\n",
              "      <td>19707</td>\n",
              "      <td>19707</td>\n",
              "      <td>19707</td>\n",
              "    </tr>\n",
              "    <tr>\n",
              "      <th>Waterloo</th>\n",
              "      <td>14219</td>\n",
              "      <td>14219</td>\n",
              "      <td>14219</td>\n",
              "      <td>14219</td>\n",
              "    </tr>\n",
              "    <tr>\n",
              "      <th>Edmonton</th>\n",
              "      <td>12292</td>\n",
              "      <td>12292</td>\n",
              "      <td>12292</td>\n",
              "      <td>12292</td>\n",
              "    </tr>\n",
              "    <tr>\n",
              "      <th>Halifax</th>\n",
              "      <td>8301</td>\n",
              "      <td>8301</td>\n",
              "      <td>8301</td>\n",
              "      <td>8301</td>\n",
              "    </tr>\n",
              "    <tr>\n",
              "      <th>Ottawa</th>\n",
              "      <td>8120</td>\n",
              "      <td>8120</td>\n",
              "      <td>8120</td>\n",
              "      <td>8120</td>\n",
              "    </tr>\n",
              "    <tr>\n",
              "      <th>Regina</th>\n",
              "      <td>4881</td>\n",
              "      <td>4881</td>\n",
              "      <td>4881</td>\n",
              "      <td>4881</td>\n",
              "    </tr>\n",
              "  </tbody>\n",
              "</table>\n",
              "</div>"
            ],
            "text/plain": [
              "           gender    age  income    ill\n",
              "city                                   \n",
              "Toronto     50307  50307   50307  50307\n",
              "Vancouver   32173  32173   32173  32173\n",
              "Montreal    19707  19707   19707  19707\n",
              "Waterloo    14219  14219   14219  14219\n",
              "Edmonton    12292  12292   12292  12292\n",
              "Halifax      8301   8301    8301   8301\n",
              "Ottawa       8120   8120    8120   8120\n",
              "Regina       4881   4881    4881   4881"
            ]
          },
          "metadata": {
            "tags": []
          },
          "execution_count": 16
        }
      ]
    },
    {
      "cell_type": "markdown",
      "metadata": {
        "id": "MsVF2vEPAnWN"
      },
      "source": [
        "Try questions Q9 - Q10 and type \"Finished\" in the chat when you are done"
      ]
    },
    {
      "cell_type": "markdown",
      "metadata": {
        "id": "rkGxJo9kAnWN"
      },
      "source": [
        "- **Q9** What city has the highest average income?"
      ]
    },
    {
      "cell_type": "code",
      "metadata": {
        "scrolled": false,
        "id": "DBlpCwU9AnWN",
        "colab": {
          "base_uri": "https://localhost:8080/",
          "height": 328
        },
        "outputId": "0a065ff3-0717-4b05-f7d8-38195ba92b0d"
      },
      "source": [
        "data.groupby(\"city\").mean().sort_values(by = \"income\", ascending = False)"
      ],
      "execution_count": 14,
      "outputs": [
        {
          "output_type": "execute_result",
          "data": {
            "text/html": [
              "<div>\n",
              "<style scoped>\n",
              "    .dataframe tbody tr th:only-of-type {\n",
              "        vertical-align: middle;\n",
              "    }\n",
              "\n",
              "    .dataframe tbody tr th {\n",
              "        vertical-align: top;\n",
              "    }\n",
              "\n",
              "    .dataframe thead th {\n",
              "        text-align: right;\n",
              "    }\n",
              "</style>\n",
              "<table border=\"1\" class=\"dataframe\">\n",
              "  <thead>\n",
              "    <tr style=\"text-align: right;\">\n",
              "      <th></th>\n",
              "      <th>age</th>\n",
              "      <th>income</th>\n",
              "    </tr>\n",
              "    <tr>\n",
              "      <th>city</th>\n",
              "      <th></th>\n",
              "      <th></th>\n",
              "    </tr>\n",
              "  </thead>\n",
              "  <tbody>\n",
              "    <tr>\n",
              "      <th>Waterloo</th>\n",
              "      <td>44.992756</td>\n",
              "      <td>135078.415782</td>\n",
              "    </tr>\n",
              "    <tr>\n",
              "      <th>Regina</th>\n",
              "      <td>44.965171</td>\n",
              "      <td>100756.209178</td>\n",
              "    </tr>\n",
              "    <tr>\n",
              "      <th>Toronto</th>\n",
              "      <td>44.922118</td>\n",
              "      <td>96857.131393</td>\n",
              "    </tr>\n",
              "    <tr>\n",
              "      <th>Vancouver</th>\n",
              "      <td>44.994094</td>\n",
              "      <td>95264.155410</td>\n",
              "    </tr>\n",
              "    <tr>\n",
              "      <th>Halifax</th>\n",
              "      <td>45.197807</td>\n",
              "      <td>91554.571497</td>\n",
              "    </tr>\n",
              "    <tr>\n",
              "      <th>Edmonton</th>\n",
              "      <td>44.651237</td>\n",
              "      <td>90277.513423</td>\n",
              "    </tr>\n",
              "    <tr>\n",
              "      <th>Ottawa</th>\n",
              "      <td>44.802709</td>\n",
              "      <td>70991.612808</td>\n",
              "    </tr>\n",
              "    <tr>\n",
              "      <th>Montreal</th>\n",
              "      <td>45.058761</td>\n",
              "      <td>45252.231187</td>\n",
              "    </tr>\n",
              "  </tbody>\n",
              "</table>\n",
              "</div>"
            ],
            "text/plain": [
              "                 age         income\n",
              "city                               \n",
              "Waterloo   44.992756  135078.415782\n",
              "Regina     44.965171  100756.209178\n",
              "Toronto    44.922118   96857.131393\n",
              "Vancouver  44.994094   95264.155410\n",
              "Halifax    45.197807   91554.571497\n",
              "Edmonton   44.651237   90277.513423\n",
              "Ottawa     44.802709   70991.612808\n",
              "Montreal   45.058761   45252.231187"
            ]
          },
          "metadata": {
            "tags": []
          },
          "execution_count": 14
        }
      ]
    },
    {
      "cell_type": "markdown",
      "metadata": {
        "id": "qc0htNbAAnWO"
      },
      "source": [
        "Answer: "
      ]
    },
    {
      "cell_type": "markdown",
      "metadata": {
        "id": "Q8hMZrlNAnWO"
      },
      "source": [
        "- **Q10** What city has the oldest people?"
      ]
    },
    {
      "cell_type": "code",
      "metadata": {
        "id": "J-p9pJmkAnWP",
        "colab": {
          "base_uri": "https://localhost:8080/",
          "height": 328
        },
        "outputId": "91480b67-41ba-4905-9685-f425b5ecde16"
      },
      "source": [
        "data.groupby(\"city\").mean().sort_values(by = \"age\", ascending = False)"
      ],
      "execution_count": 15,
      "outputs": [
        {
          "output_type": "execute_result",
          "data": {
            "text/html": [
              "<div>\n",
              "<style scoped>\n",
              "    .dataframe tbody tr th:only-of-type {\n",
              "        vertical-align: middle;\n",
              "    }\n",
              "\n",
              "    .dataframe tbody tr th {\n",
              "        vertical-align: top;\n",
              "    }\n",
              "\n",
              "    .dataframe thead th {\n",
              "        text-align: right;\n",
              "    }\n",
              "</style>\n",
              "<table border=\"1\" class=\"dataframe\">\n",
              "  <thead>\n",
              "    <tr style=\"text-align: right;\">\n",
              "      <th></th>\n",
              "      <th>age</th>\n",
              "      <th>income</th>\n",
              "    </tr>\n",
              "    <tr>\n",
              "      <th>city</th>\n",
              "      <th></th>\n",
              "      <th></th>\n",
              "    </tr>\n",
              "  </thead>\n",
              "  <tbody>\n",
              "    <tr>\n",
              "      <th>Halifax</th>\n",
              "      <td>45.197807</td>\n",
              "      <td>91554.571497</td>\n",
              "    </tr>\n",
              "    <tr>\n",
              "      <th>Montreal</th>\n",
              "      <td>45.058761</td>\n",
              "      <td>45252.231187</td>\n",
              "    </tr>\n",
              "    <tr>\n",
              "      <th>Vancouver</th>\n",
              "      <td>44.994094</td>\n",
              "      <td>95264.155410</td>\n",
              "    </tr>\n",
              "    <tr>\n",
              "      <th>Waterloo</th>\n",
              "      <td>44.992756</td>\n",
              "      <td>135078.415782</td>\n",
              "    </tr>\n",
              "    <tr>\n",
              "      <th>Regina</th>\n",
              "      <td>44.965171</td>\n",
              "      <td>100756.209178</td>\n",
              "    </tr>\n",
              "    <tr>\n",
              "      <th>Toronto</th>\n",
              "      <td>44.922118</td>\n",
              "      <td>96857.131393</td>\n",
              "    </tr>\n",
              "    <tr>\n",
              "      <th>Ottawa</th>\n",
              "      <td>44.802709</td>\n",
              "      <td>70991.612808</td>\n",
              "    </tr>\n",
              "    <tr>\n",
              "      <th>Edmonton</th>\n",
              "      <td>44.651237</td>\n",
              "      <td>90277.513423</td>\n",
              "    </tr>\n",
              "  </tbody>\n",
              "</table>\n",
              "</div>"
            ],
            "text/plain": [
              "                 age         income\n",
              "city                               \n",
              "Halifax    45.197807   91554.571497\n",
              "Montreal   45.058761   45252.231187\n",
              "Vancouver  44.994094   95264.155410\n",
              "Waterloo   44.992756  135078.415782\n",
              "Regina     44.965171  100756.209178\n",
              "Toronto    44.922118   96857.131393\n",
              "Ottawa     44.802709   70991.612808\n",
              "Edmonton   44.651237   90277.513423"
            ]
          },
          "metadata": {
            "tags": []
          },
          "execution_count": 15
        }
      ]
    },
    {
      "cell_type": "markdown",
      "metadata": {
        "id": "CStYSZiKAnWP"
      },
      "source": [
        "Answer:"
      ]
    },
    {
      "cell_type": "markdown",
      "metadata": {
        "id": "h2in5S0dAnWQ"
      },
      "source": [
        "## Unique entries & values counts\n",
        "\n",
        "- Here we use `.unique()` to only give the first instances of the item. Results are returned as a list, which is useful for us later\n",
        "- This is useful for seeing how many values are in a categorical column"
      ]
    },
    {
      "cell_type": "code",
      "metadata": {
        "scrolled": true,
        "id": "ElXNIYjuAnWQ",
        "colab": {
          "base_uri": "https://localhost:8080/"
        },
        "outputId": "66bc19f8-dcfd-4327-ab16-494389d153e4"
      },
      "source": [
        "data[\"city\"].unique()"
      ],
      "execution_count": 16,
      "outputs": [
        {
          "output_type": "execute_result",
          "data": {
            "text/plain": [
              "array(['Montreal', 'Toronto', 'Vancouver', 'Waterloo', 'Halifax',\n",
              "       'Ottawa', 'Regina', 'Edmonton'], dtype=object)"
            ]
          },
          "metadata": {
            "tags": []
          },
          "execution_count": 16
        }
      ]
    },
    {
      "cell_type": "markdown",
      "metadata": {
        "id": "fNB2842PAnWR"
      },
      "source": [
        "What are unique values for the `age` field?"
      ]
    },
    {
      "cell_type": "code",
      "metadata": {
        "scrolled": true,
        "id": "yKWDrrmnAnWR",
        "colab": {
          "base_uri": "https://localhost:8080/"
        },
        "outputId": "3f1ce91c-7088-47e9-b216-4dad73f42f43"
      },
      "source": [
        "data[\"age\"].unique()"
      ],
      "execution_count": 17,
      "outputs": [
        {
          "output_type": "execute_result",
          "data": {
            "text/plain": [
              "array([41, 54, 42, 40, 46, 36, 32, 39, 51, 30, 48, 47, 61, 43, 27, 38, 35,\n",
              "       57, 33, 58, 64, 44, 34, 45, 55, 63, 59, 26, 56, 62, 31, 49, 53, 29,\n",
              "       28, 25, 37, 65, 60, 50, 52])"
            ]
          },
          "metadata": {
            "tags": []
          },
          "execution_count": 17
        }
      ]
    },
    {
      "cell_type": "markdown",
      "metadata": {
        "id": "L5Z2Hvw9AnWS"
      },
      "source": [
        "- To get total number of unique values and frequency in the data we use `value_counts() "
      ]
    },
    {
      "cell_type": "code",
      "metadata": {
        "scrolled": false,
        "id": "-_hVBRV4AnWS",
        "colab": {
          "base_uri": "https://localhost:8080/"
        },
        "outputId": "1c26938b-91c2-4006-fbc3-6cc1fa074769"
      },
      "source": [
        "data[\"city\"].value_counts()"
      ],
      "execution_count": 18,
      "outputs": [
        {
          "output_type": "execute_result",
          "data": {
            "text/plain": [
              "Toronto      50307\n",
              "Vancouver    32173\n",
              "Montreal     19707\n",
              "Waterloo     14219\n",
              "Edmonton     12292\n",
              "Halifax       8301\n",
              "Ottawa        8120\n",
              "Regina        4881\n",
              "Name: city, dtype: int64"
            ]
          },
          "metadata": {
            "tags": []
          },
          "execution_count": 18
        }
      ]
    },
    {
      "cell_type": "markdown",
      "metadata": {
        "id": "CSFZMzXAAnWT"
      },
      "source": [
        "## Selecting subsets of data\n",
        "\n",
        "- To make life easier we can create dataframes that just have the values we are interested in\n",
        "- This is a bit more complicated but follows this type of pattern:\n",
        "\n",
        "```\n",
        "dataframe[dataframe[search criteria]]\n",
        "```\n",
        "\n",
        "- We are basically creating a subset of the dataframe by matching all entries that match `search criteria`\n",
        "- That search criteria can be anything that is a conditional\n",
        "- Doing this gives you a new dataframe"
      ]
    },
    {
      "cell_type": "markdown",
      "metadata": {
        "id": "VXi2oXBjAnWT"
      },
      "source": [
        "EG. A new dataframe of people with an income over $100000"
      ]
    },
    {
      "cell_type": "code",
      "metadata": {
        "scrolled": false,
        "id": "TAIccWP_AnWU",
        "colab": {
          "base_uri": "https://localhost:8080/"
        },
        "outputId": "db27e337-fbfa-4d70-f5c7-50df96386e24"
      },
      "source": [
        "over_100k = data[data[\"income\"] > 100000]\n",
        "print(over_100k)"
      ],
      "execution_count": 19,
      "outputs": [
        {
          "output_type": "stream",
          "text": [
            "            city  gender  age  income ill\n",
            "19707    Toronto    Male   49  112226  No\n",
            "19708    Toronto    Male   42  110534  No\n",
            "19709    Toronto  Female   61  100665  No\n",
            "19713    Toronto    Male   38  120288  No\n",
            "19716    Toronto  Female   39  105036  No\n",
            "...          ...     ...  ...     ...  ..\n",
            "149977  Edmonton    Male   51  107123  No\n",
            "149978  Edmonton    Male   58  100949  No\n",
            "149994  Edmonton  Female   37  106097  No\n",
            "149997  Edmonton    Male   26  111885  No\n",
            "149998  Edmonton    Male   25  111878  No\n",
            "\n",
            "[51845 rows x 5 columns]\n"
          ],
          "name": "stdout"
        }
      ]
    },
    {
      "cell_type": "markdown",
      "metadata": {
        "id": "dzWcnLN2AnWU"
      },
      "source": [
        "EG. If we want the count of people over 100k, we apply the `.count()` function to what we selected"
      ]
    },
    {
      "cell_type": "code",
      "metadata": {
        "scrolled": false,
        "id": "EWOVSeB1AnWV",
        "colab": {
          "base_uri": "https://localhost:8080/"
        },
        "outputId": "43b4219f-858f-49a3-b996-709c40dd1fb6"
      },
      "source": [
        "over_100k.count()"
      ],
      "execution_count": 20,
      "outputs": [
        {
          "output_type": "execute_result",
          "data": {
            "text/plain": [
              "city      51845\n",
              "gender    51845\n",
              "age       51845\n",
              "income    51845\n",
              "ill       51845\n",
              "dtype: int64"
            ]
          },
          "metadata": {
            "tags": []
          },
          "execution_count": 20
        }
      ]
    },
    {
      "cell_type": "markdown",
      "metadata": {
        "id": "tN4JsJE_AnWW"
      },
      "source": [
        "This can be done in 1 line as well"
      ]
    },
    {
      "cell_type": "code",
      "metadata": {
        "id": "sZdB8ghdAnWW",
        "colab": {
          "base_uri": "https://localhost:8080/"
        },
        "outputId": "3a5ac36e-8d52-4fd1-f7a3-df582fb2d73f"
      },
      "source": [
        "data[data[\"income\"] > 100000].count()"
      ],
      "execution_count": 21,
      "outputs": [
        {
          "output_type": "execute_result",
          "data": {
            "text/plain": [
              "city      51845\n",
              "gender    51845\n",
              "age       51845\n",
              "income    51845\n",
              "ill       51845\n",
              "dtype: int64"
            ]
          },
          "metadata": {
            "tags": []
          },
          "execution_count": 21
        }
      ]
    },
    {
      "cell_type": "markdown",
      "metadata": {
        "id": "IeKQGh5tAnWX"
      },
      "source": [
        "Try Q11 below and type \"I got it\" into the chat when you are done"
      ]
    },
    {
      "cell_type": "markdown",
      "metadata": {
        "id": "vMlbpq4FAnWX"
      },
      "source": [
        "- **Q11** Can you make a new dataframe that just has people from `Waterloo` in it. Display the first 5 entries."
      ]
    },
    {
      "cell_type": "code",
      "metadata": {
        "id": "pL545BBtAnWY",
        "colab": {
          "base_uri": "https://localhost:8080/",
          "height": 204
        },
        "outputId": "098059ff-33b2-4e13-d8d0-acce0baab57a"
      },
      "source": [
        "waterloo_people = data[data[\"city\"]== \"Waterloo\"]\r\n",
        "waterloo_people.head()"
      ],
      "execution_count": 22,
      "outputs": [
        {
          "output_type": "execute_result",
          "data": {
            "text/html": [
              "<div>\n",
              "<style scoped>\n",
              "    .dataframe tbody tr th:only-of-type {\n",
              "        vertical-align: middle;\n",
              "    }\n",
              "\n",
              "    .dataframe tbody tr th {\n",
              "        vertical-align: top;\n",
              "    }\n",
              "\n",
              "    .dataframe thead th {\n",
              "        text-align: right;\n",
              "    }\n",
              "</style>\n",
              "<table border=\"1\" class=\"dataframe\">\n",
              "  <thead>\n",
              "    <tr style=\"text-align: right;\">\n",
              "      <th></th>\n",
              "      <th>city</th>\n",
              "      <th>gender</th>\n",
              "      <th>age</th>\n",
              "      <th>income</th>\n",
              "      <th>ill</th>\n",
              "    </tr>\n",
              "  </thead>\n",
              "  <tbody>\n",
              "    <tr>\n",
              "      <th>102187</th>\n",
              "      <td>Waterloo</td>\n",
              "      <td>Male</td>\n",
              "      <td>31</td>\n",
              "      <td>150367</td>\n",
              "      <td>No</td>\n",
              "    </tr>\n",
              "    <tr>\n",
              "      <th>102188</th>\n",
              "      <td>Waterloo</td>\n",
              "      <td>Female</td>\n",
              "      <td>36</td>\n",
              "      <td>130426</td>\n",
              "      <td>No</td>\n",
              "    </tr>\n",
              "    <tr>\n",
              "      <th>102189</th>\n",
              "      <td>Waterloo</td>\n",
              "      <td>Female</td>\n",
              "      <td>42</td>\n",
              "      <td>130216</td>\n",
              "      <td>No</td>\n",
              "    </tr>\n",
              "    <tr>\n",
              "      <th>102190</th>\n",
              "      <td>Waterloo</td>\n",
              "      <td>Male</td>\n",
              "      <td>62</td>\n",
              "      <td>143263</td>\n",
              "      <td>No</td>\n",
              "    </tr>\n",
              "    <tr>\n",
              "      <th>102191</th>\n",
              "      <td>Waterloo</td>\n",
              "      <td>Female</td>\n",
              "      <td>48</td>\n",
              "      <td>152273</td>\n",
              "      <td>No</td>\n",
              "    </tr>\n",
              "  </tbody>\n",
              "</table>\n",
              "</div>"
            ],
            "text/plain": [
              "            city  gender  age  income ill\n",
              "102187  Waterloo    Male   31  150367  No\n",
              "102188  Waterloo  Female   36  130426  No\n",
              "102189  Waterloo  Female   42  130216  No\n",
              "102190  Waterloo    Male   62  143263  No\n",
              "102191  Waterloo  Female   48  152273  No"
            ]
          },
          "metadata": {
            "tags": []
          },
          "execution_count": 22
        }
      ]
    },
    {
      "cell_type": "markdown",
      "metadata": {
        "id": "p5ZEArKAAnWY"
      },
      "source": [
        "# Some questions now"
      ]
    },
    {
      "cell_type": "markdown",
      "metadata": {
        "id": "U6jZYQ4mAnWZ"
      },
      "source": [
        "Let's first make a dataframe of all of the ill people"
      ]
    },
    {
      "cell_type": "code",
      "metadata": {
        "scrolled": true,
        "id": "zu7-dXxjAnWZ",
        "colab": {
          "base_uri": "https://localhost:8080/",
          "height": 419
        },
        "outputId": "ca57fe27-dff1-465b-9491-492f85e5feb3"
      },
      "source": [
        "ill_people = data[data[\"ill\"] == \"Yes\"]\n",
        "ill_people"
      ],
      "execution_count": 23,
      "outputs": [
        {
          "output_type": "execute_result",
          "data": {
            "text/html": [
              "<div>\n",
              "<style scoped>\n",
              "    .dataframe tbody tr th:only-of-type {\n",
              "        vertical-align: middle;\n",
              "    }\n",
              "\n",
              "    .dataframe tbody tr th {\n",
              "        vertical-align: top;\n",
              "    }\n",
              "\n",
              "    .dataframe thead th {\n",
              "        text-align: right;\n",
              "    }\n",
              "</style>\n",
              "<table border=\"1\" class=\"dataframe\">\n",
              "  <thead>\n",
              "    <tr style=\"text-align: right;\">\n",
              "      <th></th>\n",
              "      <th>city</th>\n",
              "      <th>gender</th>\n",
              "      <th>age</th>\n",
              "      <th>income</th>\n",
              "      <th>ill</th>\n",
              "    </tr>\n",
              "  </thead>\n",
              "  <tbody>\n",
              "    <tr>\n",
              "      <th>10</th>\n",
              "      <td>Montreal</td>\n",
              "      <td>Female</td>\n",
              "      <td>48</td>\n",
              "      <td>41524</td>\n",
              "      <td>Yes</td>\n",
              "    </tr>\n",
              "    <tr>\n",
              "      <th>17</th>\n",
              "      <td>Montreal</td>\n",
              "      <td>Male</td>\n",
              "      <td>38</td>\n",
              "      <td>46373</td>\n",
              "      <td>Yes</td>\n",
              "    </tr>\n",
              "    <tr>\n",
              "      <th>23</th>\n",
              "      <td>Montreal</td>\n",
              "      <td>Female</td>\n",
              "      <td>27</td>\n",
              "      <td>34292</td>\n",
              "      <td>Yes</td>\n",
              "    </tr>\n",
              "    <tr>\n",
              "      <th>29</th>\n",
              "      <td>Montreal</td>\n",
              "      <td>Male</td>\n",
              "      <td>45</td>\n",
              "      <td>47421</td>\n",
              "      <td>Yes</td>\n",
              "    </tr>\n",
              "    <tr>\n",
              "      <th>38</th>\n",
              "      <td>Montreal</td>\n",
              "      <td>Female</td>\n",
              "      <td>61</td>\n",
              "      <td>39881</td>\n",
              "      <td>Yes</td>\n",
              "    </tr>\n",
              "    <tr>\n",
              "      <th>...</th>\n",
              "      <td>...</td>\n",
              "      <td>...</td>\n",
              "      <td>...</td>\n",
              "      <td>...</td>\n",
              "      <td>...</td>\n",
              "    </tr>\n",
              "    <tr>\n",
              "      <th>149847</th>\n",
              "      <td>Edmonton</td>\n",
              "      <td>Female</td>\n",
              "      <td>52</td>\n",
              "      <td>64716</td>\n",
              "      <td>Yes</td>\n",
              "    </tr>\n",
              "    <tr>\n",
              "      <th>149886</th>\n",
              "      <td>Edmonton</td>\n",
              "      <td>Male</td>\n",
              "      <td>64</td>\n",
              "      <td>113221</td>\n",
              "      <td>Yes</td>\n",
              "    </tr>\n",
              "    <tr>\n",
              "      <th>149936</th>\n",
              "      <td>Edmonton</td>\n",
              "      <td>Male</td>\n",
              "      <td>35</td>\n",
              "      <td>102931</td>\n",
              "      <td>Yes</td>\n",
              "    </tr>\n",
              "    <tr>\n",
              "      <th>149949</th>\n",
              "      <td>Edmonton</td>\n",
              "      <td>Male</td>\n",
              "      <td>28</td>\n",
              "      <td>93950</td>\n",
              "      <td>Yes</td>\n",
              "    </tr>\n",
              "    <tr>\n",
              "      <th>149980</th>\n",
              "      <td>Edmonton</td>\n",
              "      <td>Female</td>\n",
              "      <td>53</td>\n",
              "      <td>89384</td>\n",
              "      <td>Yes</td>\n",
              "    </tr>\n",
              "  </tbody>\n",
              "</table>\n",
              "<p>12139 rows × 5 columns</p>\n",
              "</div>"
            ],
            "text/plain": [
              "            city  gender  age  income  ill\n",
              "10      Montreal  Female   48   41524  Yes\n",
              "17      Montreal    Male   38   46373  Yes\n",
              "23      Montreal  Female   27   34292  Yes\n",
              "29      Montreal    Male   45   47421  Yes\n",
              "38      Montreal  Female   61   39881  Yes\n",
              "...          ...     ...  ...     ...  ...\n",
              "149847  Edmonton  Female   52   64716  Yes\n",
              "149886  Edmonton    Male   64  113221  Yes\n",
              "149936  Edmonton    Male   35  102931  Yes\n",
              "149949  Edmonton    Male   28   93950  Yes\n",
              "149980  Edmonton  Female   53   89384  Yes\n",
              "\n",
              "[12139 rows x 5 columns]"
            ]
          },
          "metadata": {
            "tags": []
          },
          "execution_count": 23
        }
      ]
    },
    {
      "cell_type": "markdown",
      "metadata": {
        "id": "S5bdUjpOAnWa"
      },
      "source": [
        "Try answering Q12 - Q15, type \"Finished\" into the chat when you are done"
      ]
    },
    {
      "cell_type": "markdown",
      "metadata": {
        "id": "Bx8ZNjjZAnWa"
      },
      "source": [
        "- **Q12** How can we sort our `ill_people` dataframe?"
      ]
    },
    {
      "cell_type": "code",
      "metadata": {
        "id": "tZmlqDg6AnWb",
        "colab": {
          "base_uri": "https://localhost:8080/",
          "height": 419
        },
        "outputId": "19037a2c-2176-42af-8466-a62c13def816"
      },
      "source": [
        "ill_people.sort_values(by = \"city\", ascending=False)"
      ],
      "execution_count": 24,
      "outputs": [
        {
          "output_type": "execute_result",
          "data": {
            "text/html": [
              "<div>\n",
              "<style scoped>\n",
              "    .dataframe tbody tr th:only-of-type {\n",
              "        vertical-align: middle;\n",
              "    }\n",
              "\n",
              "    .dataframe tbody tr th {\n",
              "        vertical-align: top;\n",
              "    }\n",
              "\n",
              "    .dataframe thead th {\n",
              "        text-align: right;\n",
              "    }\n",
              "</style>\n",
              "<table border=\"1\" class=\"dataframe\">\n",
              "  <thead>\n",
              "    <tr style=\"text-align: right;\">\n",
              "      <th></th>\n",
              "      <th>city</th>\n",
              "      <th>gender</th>\n",
              "      <th>age</th>\n",
              "      <th>income</th>\n",
              "      <th>ill</th>\n",
              "    </tr>\n",
              "  </thead>\n",
              "  <tbody>\n",
              "    <tr>\n",
              "      <th>109939</th>\n",
              "      <td>Waterloo</td>\n",
              "      <td>Male</td>\n",
              "      <td>27</td>\n",
              "      <td>129231</td>\n",
              "      <td>Yes</td>\n",
              "    </tr>\n",
              "    <tr>\n",
              "      <th>114780</th>\n",
              "      <td>Waterloo</td>\n",
              "      <td>Male</td>\n",
              "      <td>45</td>\n",
              "      <td>132149</td>\n",
              "      <td>Yes</td>\n",
              "    </tr>\n",
              "    <tr>\n",
              "      <th>114612</th>\n",
              "      <td>Waterloo</td>\n",
              "      <td>Male</td>\n",
              "      <td>42</td>\n",
              "      <td>129860</td>\n",
              "      <td>Yes</td>\n",
              "    </tr>\n",
              "    <tr>\n",
              "      <th>114650</th>\n",
              "      <td>Waterloo</td>\n",
              "      <td>Male</td>\n",
              "      <td>51</td>\n",
              "      <td>149537</td>\n",
              "      <td>Yes</td>\n",
              "    </tr>\n",
              "    <tr>\n",
              "      <th>114653</th>\n",
              "      <td>Waterloo</td>\n",
              "      <td>Male</td>\n",
              "      <td>47</td>\n",
              "      <td>123894</td>\n",
              "      <td>Yes</td>\n",
              "    </tr>\n",
              "    <tr>\n",
              "      <th>...</th>\n",
              "      <td>...</td>\n",
              "      <td>...</td>\n",
              "      <td>...</td>\n",
              "      <td>...</td>\n",
              "      <td>...</td>\n",
              "    </tr>\n",
              "    <tr>\n",
              "      <th>141823</th>\n",
              "      <td>Edmonton</td>\n",
              "      <td>Male</td>\n",
              "      <td>61</td>\n",
              "      <td>86721</td>\n",
              "      <td>Yes</td>\n",
              "    </tr>\n",
              "    <tr>\n",
              "      <th>141840</th>\n",
              "      <td>Edmonton</td>\n",
              "      <td>Female</td>\n",
              "      <td>62</td>\n",
              "      <td>91727</td>\n",
              "      <td>Yes</td>\n",
              "    </tr>\n",
              "    <tr>\n",
              "      <th>141869</th>\n",
              "      <td>Edmonton</td>\n",
              "      <td>Female</td>\n",
              "      <td>39</td>\n",
              "      <td>82315</td>\n",
              "      <td>Yes</td>\n",
              "    </tr>\n",
              "    <tr>\n",
              "      <th>141886</th>\n",
              "      <td>Edmonton</td>\n",
              "      <td>Female</td>\n",
              "      <td>51</td>\n",
              "      <td>79275</td>\n",
              "      <td>Yes</td>\n",
              "    </tr>\n",
              "    <tr>\n",
              "      <th>149980</th>\n",
              "      <td>Edmonton</td>\n",
              "      <td>Female</td>\n",
              "      <td>53</td>\n",
              "      <td>89384</td>\n",
              "      <td>Yes</td>\n",
              "    </tr>\n",
              "  </tbody>\n",
              "</table>\n",
              "<p>12139 rows × 5 columns</p>\n",
              "</div>"
            ],
            "text/plain": [
              "            city  gender  age  income  ill\n",
              "109939  Waterloo    Male   27  129231  Yes\n",
              "114780  Waterloo    Male   45  132149  Yes\n",
              "114612  Waterloo    Male   42  129860  Yes\n",
              "114650  Waterloo    Male   51  149537  Yes\n",
              "114653  Waterloo    Male   47  123894  Yes\n",
              "...          ...     ...  ...     ...  ...\n",
              "141823  Edmonton    Male   61   86721  Yes\n",
              "141840  Edmonton  Female   62   91727  Yes\n",
              "141869  Edmonton  Female   39   82315  Yes\n",
              "141886  Edmonton  Female   51   79275  Yes\n",
              "149980  Edmonton  Female   53   89384  Yes\n",
              "\n",
              "[12139 rows x 5 columns]"
            ]
          },
          "metadata": {
            "tags": []
          },
          "execution_count": 24
        }
      ]
    },
    {
      "cell_type": "markdown",
      "metadata": {
        "id": "jFDHJgQ6AnWb"
      },
      "source": [
        "- **Q13** What percentage of people in the `ill_people` dataset have a salary over $100000"
      ]
    },
    {
      "cell_type": "code",
      "metadata": {
        "id": "zydQHtpqAnWc",
        "colab": {
          "base_uri": "https://localhost:8080/"
        },
        "outputId": "c24bea6d-2965-4dc3-c8c4-88692a17afd6"
      },
      "source": [
        "illover100000 = ill_people[ill_people[\"income\"]>100000].count()\r\n",
        "illover100000p = (illover100000[\"income\"]/ill_people[\"income\"].count())*100\r\n",
        "print(illover100000p)"
      ],
      "execution_count": 25,
      "outputs": [
        {
          "output_type": "stream",
          "text": [
            "35.06878655572947\n"
          ],
          "name": "stdout"
        }
      ]
    },
    {
      "cell_type": "markdown",
      "metadata": {
        "id": "qe7FCdBNAnWd"
      },
      "source": [
        "- **Q14** What is the average age of people in the `ill_people` dataset?"
      ]
    },
    {
      "cell_type": "code",
      "metadata": {
        "id": "KLumJLbdAnWe",
        "colab": {
          "base_uri": "https://localhost:8080/"
        },
        "outputId": "c63e8627-f0bf-4c0c-c555-1a1768410c98"
      },
      "source": [
        "ill_people['age'].mean()\r\n"
      ],
      "execution_count": 26,
      "outputs": [
        {
          "output_type": "execute_result",
          "data": {
            "text/plain": [
              "45.02084191449048"
            ]
          },
          "metadata": {
            "tags": []
          },
          "execution_count": 26
        }
      ]
    },
    {
      "cell_type": "markdown",
      "metadata": {
        "id": "gRQRFoWtAnWe"
      },
      "source": [
        "- **Q15** What is the average salary of those in the `ill_people` dataset ?"
      ]
    },
    {
      "cell_type": "code",
      "metadata": {
        "id": "eTUX4oG2AnWe",
        "colab": {
          "base_uri": "https://localhost:8080/"
        },
        "outputId": "75645161-c176-4e8a-ab49-dce833f2331f"
      },
      "source": [
        "ill_people['income'].mean()"
      ],
      "execution_count": 27,
      "outputs": [
        {
          "output_type": "execute_result",
          "data": {
            "text/plain": [
              "91277.8753604086"
            ]
          },
          "metadata": {
            "tags": []
          },
          "execution_count": 27
        }
      ]
    },
    {
      "cell_type": "markdown",
      "metadata": {
        "id": "kvByhcB5AnWf"
      },
      "source": [
        "# Another Library, MatplotLib\n",
        "\n",
        "If we have time, let's take a look at graphing our results\n",
        "\n",
        "We can use the `matplotlib` library to generate some graphs of our results. We always gives lists as parameters for the graphs\n"
      ]
    },
    {
      "cell_type": "code",
      "metadata": {
        "id": "DP9garanAnWf"
      },
      "source": [
        "#This line is for Jupyter's benefit\n",
        "%matplotlib inline\n",
        "#Import MayPlotLib to graph some results\n",
        "import matplotlib.pyplot as plt"
      ],
      "execution_count": null,
      "outputs": []
    },
    {
      "cell_type": "markdown",
      "metadata": {
        "id": "f7RSjNOFAnWf"
      },
      "source": [
        "Let's reload our data into a new dataframe"
      ]
    },
    {
      "cell_type": "code",
      "metadata": {
        "id": "XBp810M5AnWg"
      },
      "source": [
        "#Load the file\n",
        "graph_data = pd.read_csv(\"https://brockdsl.github.io/Python_2.0_Workshop/canadian_toy_dataset.csv\")\n",
        "\n",
        "#Tell it what our columns are\n",
        "graph_data.columns = [\"city\",\"gender\",\"age\",\"income\",\"ill\"]"
      ],
      "execution_count": null,
      "outputs": []
    },
    {
      "cell_type": "markdown",
      "metadata": {
        "id": "5xomet5aAnWg"
      },
      "source": [
        "## Pie Graphs\n",
        "Let's draw a pie graph of the number of people that are `ill` as a proportion of everyone"
      ]
    },
    {
      "cell_type": "code",
      "metadata": {
        "scrolled": false,
        "id": "z5BfALuqAnWg",
        "colab": {
          "base_uri": "https://localhost:8080/",
          "height": 248
        },
        "outputId": "479795a6-ae33-465b-d613-09e713f9ee16"
      },
      "source": [
        "#All of the ill people\n",
        "total_ill = graph_data[graph_data[\"ill\"] == \"Yes\"][\"ill\"].count()\n",
        "#print(total_ill)\n",
        "\n",
        "#All the people in the graph\n",
        "total_people = graph_data.count()['ill']\n",
        "#print(total_people)\n",
        "\n",
        "\n",
        "# Matplot lib always wants data in a list, so we'll make one\n",
        "pie_data = [total_ill,total_people]\n",
        "pie_labels = [\"Ill\", \"Not Ill\"]\n",
        "plt.pie(pie_data,labels=pie_labels)\n",
        "\n",
        "plt.show()"
      ],
      "execution_count": null,
      "outputs": [
        {
          "output_type": "display_data",
          "data": {
            "image/png": "[encoded data removed]",
            "text/plain": [
              "<Figure size 432x288 with 1 Axes>"
            ]
          },
          "metadata": {
            "tags": []
          }
        }
      ]
    },
    {
      "cell_type": "markdown",
      "metadata": {
        "id": "0kZUtRD4AnWh"
      },
      "source": [
        "Try questions Q16  - Q17 and type \"Completed\" in the chat when you're done."
      ]
    },
    {
      "cell_type": "markdown",
      "metadata": {
        "id": "6x8pcCZtAnWh"
      },
      "source": [
        "- **Q16** Can you create a pie graph that shows the gender distribution in the data? You just need to modify line 2 & 5"
      ]
    },
    {
      "cell_type": "code",
      "metadata": {
        "id": "rc-JSXUOAnWh",
        "colab": {
          "base_uri": "https://localhost:8080/",
          "height": 248
        },
        "outputId": "8efa8666-d066-4002-8ad9-ec6c328ef084"
      },
      "source": [
        "#Fill in the following\n",
        "females_ill = graph_data[graph_data[\"gender\"] ==\"Female\"][\"ill\"].count()\n",
        "\n",
        "#Fill in the following\n",
        "males_ill = graph_data[graph_data[\"gender\"] ==\"Male\"][\"ill\"].count()\n",
        "\n",
        "pie_data = [females_ill,males_ill]\n",
        "pie_labels = [\"Females\",\"Males\"]\n",
        "plt.pie(pie_data,labels=pie_labels)\n",
        "\n",
        "plt.show()"
      ],
      "execution_count": null,
      "outputs": [
        {
          "output_type": "display_data",
          "data": {
            "image/png": "[encoded data removed]",
            "text/plain": [
              "<Figure size 432x288 with 1 Axes>"
            ]
          },
          "metadata": {
            "tags": []
          }
        }
      ]
    },
    {
      "cell_type": "markdown",
      "metadata": {
        "id": "b9mWSJ7zAnWi"
      },
      "source": [
        "- **Q17** Can you create a pie graph that shows the how many people in the dataset make over 100000 annual income? You just need to modify line 2 & 5."
      ]
    },
    {
      "cell_type": "code",
      "metadata": {
        "id": "0EGCKSPlAnWi",
        "colab": {
          "base_uri": "https://localhost:8080/",
          "height": 248
        },
        "outputId": "5803f3f6-86bd-48e1-e04d-d3e598d00d05"
      },
      "source": [
        "#Fill in the following\n",
        "over_100k = graph_data[graph_data[\"income\"] > 100000][\"income\"].count()\n",
        "\n",
        "#Fill in the following\n",
        "under_100k = graph_data[graph_data[\"income\"] <= 100000][\"income\"].count()\n",
        "\n",
        "pie_data = [over_100k, under_100k]\n",
        "pie_labels = [\"Over 100k\",\"Under 100k\"]\n",
        "plt.pie(pie_data,labels=pie_labels)\n",
        "\n",
        "plt.show()"
      ],
      "execution_count": null,
      "outputs": [
        {
          "output_type": "display_data",
          "data": {
            "image/png": "[encoded data removed]",
            "text/plain": [
              "<Figure size 432x288 with 1 Axes>"
            ]
          },
          "metadata": {
            "tags": []
          }
        }
      ]
    },
    {
      "cell_type": "markdown",
      "metadata": {
        "id": "X11tNdMfAnWj"
      },
      "source": [
        "## Automatic Histograms\n",
        "\n",
        "\n",
        "Say we wanted to plot out the income distribution of our data set as a [historgram](https://en.wikipedia.org/wiki/Histogram) "
      ]
    },
    {
      "cell_type": "code",
      "metadata": {
        "scrolled": true,
        "id": "gqB1cMwCAnWj",
        "colab": {
          "base_uri": "https://localhost:8080/",
          "height": 295
        },
        "outputId": "aef70f12-d986-49e4-b2dd-daaca14a5d80"
      },
      "source": [
        "# bins is the number of containers we'll split our x-axis values into\n",
        "bins = 250\n",
        "\n",
        "plt.hist(graph_data[\"income\"],bins)\n",
        "\n",
        "plt.title(\"Income distribution\")\n",
        "plt.xlabel(\"Income\")\n",
        "plt.ylabel(\"Occurrences\")\n",
        "\n",
        "plt.show()"
      ],
      "execution_count": null,
      "outputs": [
        {
          "output_type": "display_data",
          "data": {
            "image/png": "[encoded data removed]",
            "text/plain": [
              "<Figure size 432x288 with 1 Axes>"
            ]
          },
          "metadata": {
            "tags": [],
            "needs_background": "light"
          }
        }
      ]
    },
    {
      "cell_type": "markdown",
      "metadata": {
        "id": "g5fATrq8AnWk"
      },
      "source": [
        "Try Q18 below and type \"All done!\" in the chat when you're done"
      ]
    },
    {
      "cell_type": "markdown",
      "metadata": {
        "id": "NmKHcqLyAnWk"
      },
      "source": [
        "**Q18** Can you draw a histogram of the `age` distribution? Make sure to give it the axes good descriptions. You just need to modify line 1,5, & 6. (The example above should help you) "
      ]
    },
    {
      "cell_type": "code",
      "metadata": {
        "scrolled": true,
        "id": "WeIi74j-AnWk",
        "colab": {
          "base_uri": "https://localhost:8080/",
          "height": 295
        },
        "outputId": "3250cc4e-076c-491f-b074-0c17880b8a3e"
      },
      "source": [
        "bins = 250\n",
        "\n",
        "plt.hist(graph_data[\"age\"],bins) \n",
        "plt.title(\"Age Distribution\")\n",
        "plt.xlabel(\"Change me\") #FILL\n",
        "plt.ylabel(\"Change me\") #FILL\n",
        "\n",
        "plt.show()"
      ],
      "execution_count": null,
      "outputs": [
        {
          "output_type": "display_data",
          "data": {
            "image/png": "[encoded data removed]",
            "text/plain": [
              "<Figure size 432x288 with 1 Axes>"
            ]
          },
          "metadata": {
            "tags": [],
            "needs_background": "light"
          }
        }
      ]
    },
    {
      "cell_type": "markdown",
      "metadata": {
        "id": "y-SwD78FAnWl"
      },
      "source": [
        "# Congrats!\n",
        "\n",
        "You now know a bit about Python Libraries and using advance features of the Language. Try adding new cells to this page and asking yourself more questions\n"
      ]
    },
    {
      "cell_type": "markdown",
      "metadata": {
        "id": "TzVsPafmAnWl"
      },
      "source": [
        "## Further Reading\n",
        "\n",
        "- Now that we've handled the basics here are some interesting next steps you can persue.\n",
        "\n",
        "[Python For Librarians](https://libraryjuiceacademy.com/shop/course/270-python-for-librarians/?attribute_pa_session=2021-05-may) - An extended workshop that I'll be offering in the Spring of a similar flavour of what we are tackling.\n",
        "\n",
        "[Kaggle](https://www.kaggle.com/) - An online portal that teaches data science using Notebooks, also has contests for cash prizes\n",
        "\n",
        "[Python the Hard Way](https://learntocodetogether.com/learn-python-the-hard-way-free-ebook-download/) - Don't let the name fool you, this book is a great introduction to Python and programming more generally\n",
        "\n",
        "[Data Analysis with Python and Sci Hub](https://brockdsl.github.io/SciHub_Workshop/) - A tutorial on using Python to analyze Sci-Hub data. Similar to what we saw today, but with real data.\n",
        "\n",
        "[Google Colab FAQ](https://research.google.com/colaboratory/faq.html) - A concise set of questions and answers on how to use the Google Colab environment.\n",
        "\n",
        "[Thinking in Pandas](https://www.apress.com/gp/book/9781484258385) - A short book that looks at how to use Pandas for analysis."
      ]
    }
  ]
}