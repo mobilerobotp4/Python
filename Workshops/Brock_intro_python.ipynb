{
  "nbformat": 4,
  "nbformat_minor": 0,
  "metadata": {
    "kernelspec": {
      "display_name": "Python 3",
      "language": "python",
      "name": "python3"
    },
    "language_info": {
      "codemirror_mode": {
        "name": "ipython",
        "version": 3
      },
      "file_extension": ".py",
      "mimetype": "text/x-python",
      "name": "python",
      "nbconvert_exporter": "python",
      "pygments_lexer": "ipython3",
      "version": "3.7.4"
    },
    "colab": {
      "name": "Brock_intro_python.ipynb",
      "provenance": []
    }
  },
  "cells": [
    {
      "cell_type": "markdown",
      "metadata": {
        "id": "BWwfJzb7gh2j"
      },
      "source": [
        "![DSL_logo](https://github.com/BrockDSL/Intro_to_Python_Workshop/blob/master/dsl_logo.png?raw=1)\n",
        "\n",
        "\n",
        "# Introduction to Python!\n",
        "\n",
        "Welcome to the Digital Scholarship Lab introduction to Python class. By the end of today we'll know all about the following;\n",
        "- variables\n",
        "- math\n",
        "- conditional\n",
        "- loops\n",
        "- functions\n",
        "\n",
        "We'll also do some basic text analysis (if time allows)\n",
        "\n",
        "\n",
        "We'll use the Zoom's chat feature to interact.\n",
        "\n",
        "Be sure to enable line numbers by looking for the 'gear' icon and checking the box in the 'Editor' panel."
      ]
    },
    {
      "cell_type": "markdown",
      "metadata": {
        "id": "yM38ZVVdgh2x"
      },
      "source": [
        "## Python via Jupyter\n",
        "\n",
        "- Jupyter notebooks allow us to have code in a webpage\n",
        "- We'll use Python version 3! Honestly you shouldn't be using Python 2.X any longer\n",
        "- Each bit of code is in a 'cell'. We hit the play button to run each cell\n",
        "- Try it with the next cell."
      ]
    },
    {
      "cell_type": "code",
      "metadata": {
        "colab": {
          "base_uri": "https://localhost:8080/"
        },
        "id": "RvC9F1jmgh2y",
        "outputId": "32405493-a009-469e-89af-26c27983bc6f"
      },
      "source": [
        "# We are going to ask for the user to input their name\n",
        "# We'll then tell that person hello\n",
        "\n",
        "user_name = input(\"What is your name? \")\n",
        "print(\"Hello \" + user_name)\n"
      ],
      "execution_count": null,
      "outputs": [
        {
          "output_type": "stream",
          "text": [
            "What is your name? Saswati\n",
            "Hello Saswati\n"
          ],
          "name": "stdout"
        }
      ]
    },
    {
      "cell_type": "markdown",
      "metadata": {
        "id": "eGXx_cYjgh2z"
      },
      "source": [
        "***\n",
        "\n",
        "## Variables, Printing and Comments\n",
        "\n",
        "- Variable can hold values and come in different types, as we say earlier the user's name is in a variable called user_name\n",
        "- variables can all be strings, integers, real numbers, or pretty much anything else\n",
        "- when we want to print something we use the function `print()`\n",
        "- Anything after a `#` is a comment, it is ignored by Python"
      ]
    },
    {
      "cell_type": "code",
      "metadata": {
        "id": "KKTU0YSFgh20"
      },
      "source": [
        "# A number with a decimal is called a real\n",
        "pi = 3.14\n",
        "\n",
        "#A number with no decima is called an integer\n",
        "items_in_a_dozen = 12\n",
        "\n",
        "#Text in variable is called a string\n",
        "favourite_color = \"blue\"\n",
        "\n",
        "#You can list multiple values in one variable\n",
        "#This is called a list, they can have anything in them\n",
        "\n",
        "Y_Axis = [0, 0.1, 0.2, 0.3, 0.4, 0.5]\n",
        "crayon_colours = [\"red\",\"blue\",\"yellow\"]"
      ],
      "execution_count": null,
      "outputs": []
    },
    {
      "cell_type": "markdown",
      "metadata": {
        "id": "kaW30kR7gh20"
      },
      "source": [
        "Try questions Q1 - Q3 and type \"Done!\" in the chat when you are finished"
      ]
    },
    {
      "cell_type": "markdown",
      "metadata": {
        "id": "5443k5R3gh21"
      },
      "source": [
        "- **Q1** Can you create a variable called `age` and give set it to your age in years? "
      ]
    },
    {
      "cell_type": "code",
      "metadata": {
        "id": "EIM7d37ggh21"
      },
      "source": [
        "age = 20"
      ],
      "execution_count": null,
      "outputs": []
    },
    {
      "cell_type": "markdown",
      "metadata": {
        "id": "rdPwCJ2pgh22"
      },
      "source": [
        "- **Q2** Can you print your age to the screen?"
      ]
    },
    {
      "cell_type": "code",
      "metadata": {
        "colab": {
          "base_uri": "https://localhost:8080/"
        },
        "id": "y6NuHg4Dgh22",
        "outputId": "de5b5b94-d95f-4407-efa6-3038320fd1d0"
      },
      "source": [
        "print(age)"
      ],
      "execution_count": null,
      "outputs": [
        {
          "output_type": "stream",
          "text": [
            "20\n"
          ],
          "name": "stdout"
        }
      ]
    },
    {
      "cell_type": "markdown",
      "metadata": {
        "id": "2VyjMmoJgh23"
      },
      "source": [
        "- If we want to combine things and print them all together we join them with at `+` just like we saw above\n",
        "\n",
        "`print(\"Hello \" + user_name)`"
      ]
    },
    {
      "cell_type": "markdown",
      "metadata": {
        "id": "__0wmFn8gh23"
      },
      "source": [
        "- **Q3** Can you modify favourite colour above, re-run the cell and complete the print statement that follows"
      ]
    },
    {
      "cell_type": "code",
      "metadata": {
        "colab": {
          "base_uri": "https://localhost:8080/"
        },
        "id": "6nwmd-0Lgh24",
        "outputId": "7ab3c1f0-f56d-482e-87f1-fa3b66077a92"
      },
      "source": [
        "#My code\r\n",
        "user_name = input(\"What is your name?\")\r\n",
        "user_color = input(\"What is your favorite color?\")\r\n",
        "print(\"My name is  \"+ user_name +\"   and my favorite color is  \"+ user_color)\r\n",
        "#code given\r\n",
        "#print(\"My name is \" + + \"and by favourite colour is\" + )"
      ],
      "execution_count": null,
      "outputs": [
        {
          "output_type": "stream",
          "text": [
            "What is your name?Saswati\n",
            "What is your favorite color?White\n",
            "My name is  Saswati   and my favorite color is  White\n"
          ],
          "name": "stdout"
        }
      ]
    },
    {
      "cell_type": "markdown",
      "metadata": {
        "id": "nHSw4hkigh24"
      },
      "source": [
        "***\n",
        "\n",
        "## A Python thing to keep in mind!\n",
        "\n",
        "- Some programming languages need a `;` at the end of a line of code, not Python!\n",
        "- With Python you need to **indent** your code, the rest of the examples will demonstrate this\n",
        "\n"
      ]
    },
    {
      "cell_type": "markdown",
      "metadata": {
        "id": "5CBP8TFTgh2-"
      },
      "source": [
        "***\n",
        "\n",
        "## Variables - Dictionaries\n",
        "\n",
        "- These are fancy variables\n",
        "- These are a bit more complicated as they hold both a 'key' and a 'value'.\n"
      ]
    },
    {
      "cell_type": "code",
      "metadata": {
        "id": "jMSe4MbNgh2-"
      },
      "source": [
        "phone_numbers = {\n",
        "    \"Mom\":\"555-8980\",\n",
        "    \"Joe\":\"555-1021\"\n",
        "}\n",
        "\n",
        "toronto_weather = {\n",
        "    \"Monday\": 10,\n",
        "    \"Tuesday\" : 12,\n",
        "    \"Wednesday\" : 15,\n",
        "    \"Thursday\" : 10,\n",
        "    \"Friday\" : 9,\n",
        "    \"Saturday\" : 6,\n",
        "    \"Sunday\" : 6\n",
        "    }"
      ],
      "execution_count": null,
      "outputs": []
    },
    {
      "cell_type": "markdown",
      "metadata": {
        "id": "iN76PiyMgh2_"
      },
      "source": [
        "- We can print a dictionary in a very similar way to other variables like we saw earlier."
      ]
    },
    {
      "cell_type": "code",
      "metadata": {
        "colab": {
          "base_uri": "https://localhost:8080/"
        },
        "id": "pcVpHQ1Fgh2_",
        "outputId": "5dfd57a8-949d-4fd7-eacb-3b1ffc1c2023"
      },
      "source": [
        "print(phone_numbers)"
      ],
      "execution_count": null,
      "outputs": [
        {
          "output_type": "stream",
          "text": [
            "{'Mom': '555-8980', 'Joe': '555-1021'}\n"
          ],
          "name": "stdout"
        }
      ]
    },
    {
      "cell_type": "markdown",
      "metadata": {
        "id": "j3DcCelYgh2_"
      },
      "source": [
        "- You can do some interesting things with dictionaries, (we'll see more as time goes on)\n",
        "- For example you can print out different parts of the dictionary by adding in a `key`"
      ]
    },
    {
      "cell_type": "code",
      "metadata": {
        "colab": {
          "base_uri": "https://localhost:8080/"
        },
        "id": "PMUtyGVZgh3A",
        "outputId": "d89e4d20-9608-47b8-9f74-217d304bfbdd"
      },
      "source": [
        "print(toronto_weather[\"Monday\"])"
      ],
      "execution_count": null,
      "outputs": [
        {
          "output_type": "stream",
          "text": [
            "10\n"
          ],
          "name": "stdout"
        }
      ]
    },
    {
      "cell_type": "markdown",
      "metadata": {
        "id": "bJ1ycmPigh3B"
      },
      "source": [
        "Try questions Q4-Q6 below and type \"Finished!\" in the chat when you are done."
      ]
    },
    {
      "cell_type": "markdown",
      "metadata": {
        "id": "tSpPNzYtgh3B"
      },
      "source": [
        "- **Q4** How can we print Wednesday's weather?"
      ]
    },
    {
      "cell_type": "code",
      "metadata": {
        "colab": {
          "base_uri": "https://localhost:8080/"
        },
        "id": "WIoBcke_gh3B",
        "outputId": "658af29f-af00-4f8f-d9dd-94b77cc7fd1a"
      },
      "source": [
        "#My code\r\n",
        "print(toronto_weather['Wednesday'])"
      ],
      "execution_count": null,
      "outputs": [
        {
          "output_type": "stream",
          "text": [
            "15\n"
          ],
          "name": "stdout"
        }
      ]
    },
    {
      "cell_type": "markdown",
      "metadata": {
        "id": "vHIWFcAkgh3C"
      },
      "source": [
        "- **Q5** How can we print Saturday's weather?"
      ]
    },
    {
      "cell_type": "code",
      "metadata": {
        "colab": {
          "base_uri": "https://localhost:8080/"
        },
        "id": "6xlXhgfggh3C",
        "outputId": "803687f2-497e-4624-9f24-9c7bbedbca71"
      },
      "source": [
        "#My code\r\n",
        "print(toronto_weather['Saturday'])"
      ],
      "execution_count": null,
      "outputs": [
        {
          "output_type": "stream",
          "text": [
            "6\n"
          ],
          "name": "stdout"
        }
      ]
    },
    {
      "cell_type": "markdown",
      "metadata": {
        "id": "6sPpEhp3gh3C"
      },
      "source": [
        "- **Q6** Print Joe's phone number."
      ]
    },
    {
      "cell_type": "code",
      "metadata": {
        "colab": {
          "base_uri": "https://localhost:8080/"
        },
        "id": "r3Gtlzvzgh3D",
        "outputId": "34b30715-a513-4acd-91fd-2cd8995c3f9b"
      },
      "source": [
        "#My code\r\n",
        "print(phone_numbers['Joe'])"
      ],
      "execution_count": null,
      "outputs": [
        {
          "output_type": "stream",
          "text": [
            "555-1021\n"
          ],
          "name": "stdout"
        }
      ]
    },
    {
      "cell_type": "markdown",
      "metadata": {
        "id": "qRK-72JTgh3D"
      },
      "source": [
        "***\n",
        "\n",
        "## Doing Math\n",
        "\n",
        "As you'd expect with a programming language Python is pretty good at doing math. The basic operators you can use are as follows:\n",
        "\n",
        "- `*` is for multiplication\n",
        "- `+` is for addition\n",
        "- `-` is the subtraction\n",
        "- `%` is the remainder\n",
        "- `/` is division\n",
        "\n",
        "Let's re-use our dictionary variable about the weather from earlier."
      ]
    },
    {
      "cell_type": "markdown",
      "metadata": {
        "id": "lwDssmjLgh3D"
      },
      "source": [
        "- Let's find the average recorded for the weekdays\n",
        "- Another Python hint, if you need to go across multiple lines use `\\` like in the following"
      ]
    },
    {
      "cell_type": "code",
      "metadata": {
        "colab": {
          "base_uri": "https://localhost:8080/"
        },
        "id": "sjKZ_88rgh3E",
        "outputId": "1dc36d44-d224-405f-9487-18b4586a027b"
      },
      "source": [
        "five_day_total = toronto_weather[\"Monday\"] + \\\n",
        "                    toronto_weather[\"Tuesday\"] + \\\n",
        "                    toronto_weather[\"Wednesday\"] + \\\n",
        "                    toronto_weather[\"Thursday\"] + \\\n",
        "                    toronto_weather[\"Friday\"]\n",
        "\n",
        "print(five_day_total / 5)"
      ],
      "execution_count": null,
      "outputs": [
        {
          "output_type": "stream",
          "text": [
            "11.2\n"
          ],
          "name": "stdout"
        }
      ]
    },
    {
      "cell_type": "markdown",
      "metadata": {
        "id": "ycv5VIZWgh3E"
      },
      "source": [
        "- All of our temp data is in **C**\n",
        "- What if we want to know it in **F**?"
      ]
    },
    {
      "cell_type": "code",
      "metadata": {
        "colab": {
          "base_uri": "https://localhost:8080/"
        },
        "id": "MMYqiCbdgh3E",
        "outputId": "b3b722d0-ac23-4888-85e4-51888bc7bd35"
      },
      "source": [
        "print(toronto_weather[\"Monday\"] * 9/5 + 32)"
      ],
      "execution_count": null,
      "outputs": [
        {
          "output_type": "stream",
          "text": [
            "50.0\n"
          ],
          "name": "stdout"
        }
      ]
    },
    {
      "cell_type": "markdown",
      "metadata": {
        "id": "nRpN_prAgh3F"
      },
      "source": [
        "Try questions Q7 - Q10 and type \"Completed\" in the chat box when you are done."
      ]
    },
    {
      "cell_type": "markdown",
      "metadata": {
        "id": "ep0gJF9egh3F"
      },
      "source": [
        "- **Q7** Can you print out Thursday's temp in F?"
      ]
    },
    {
      "cell_type": "code",
      "metadata": {
        "colab": {
          "base_uri": "https://localhost:8080/"
        },
        "id": "2nLpR5Fpgh3F",
        "outputId": "6b38339f-2ca0-4607-b31e-71e9e3b940ad"
      },
      "source": [
        "#My code\r\n",
        "print(toronto_weather['Sunday']* 9/5 + 32)"
      ],
      "execution_count": null,
      "outputs": [
        {
          "output_type": "stream",
          "text": [
            "42.8\n"
          ],
          "name": "stdout"
        }
      ]
    },
    {
      "cell_type": "markdown",
      "metadata": {
        "id": "5F7qZqd7gh3F"
      },
      "source": [
        "- **Q8** Can you print tou the average temp from the weekend?"
      ]
    },
    {
      "cell_type": "code",
      "metadata": {
        "colab": {
          "base_uri": "https://localhost:8080/"
        },
        "id": "eWuAGNG5gh3G",
        "outputId": "e4362492-de36-4637-cb6c-c1c165ca3da1"
      },
      "source": [
        "#My code\r\n",
        "weekend_total = (toronto_weather['Friday'] + \\\r\n",
        "                toronto_weather ['Saturday']+\\\r\n",
        "                toronto_weather['Sunday'])\r\n",
        "weekend_avg = weekend_total / 3\r\n",
        "print(weekend_avg)"
      ],
      "execution_count": null,
      "outputs": [
        {
          "output_type": "stream",
          "text": [
            "7.0\n"
          ],
          "name": "stdout"
        }
      ]
    },
    {
      "cell_type": "markdown",
      "metadata": {
        "id": "H6CcbwsHgh3G"
      },
      "source": [
        "- **Q9** Can you print how many days you've been alive for (approximately) using the `age` variable?"
      ]
    },
    {
      "cell_type": "code",
      "metadata": {
        "colab": {
          "base_uri": "https://localhost:8080/"
        },
        "id": "Y4VfPynzgh3G",
        "outputId": "24317d5f-2cb9-486f-9122-2d4b235317e6"
      },
      "source": [
        "#My code\n",
        "age = int(input(\"Enter your age: \"))\n",
        "alive_in_days = age * 365\n",
        "print(alive_in_days)"
      ],
      "execution_count": null,
      "outputs": [
        {
          "output_type": "stream",
          "text": [
            "Enter your age: 30\n",
            "10950\n"
          ],
          "name": "stdout"
        }
      ]
    },
    {
      "cell_type": "markdown",
      "metadata": {
        "id": "XcyjwgfTgh3G"
      },
      "source": [
        "- **Q10** If you had 45 donuts and you were putting them in boxes that could hold 12 donuts, how many donuts would be in the last box?"
      ]
    },
    {
      "cell_type": "code",
      "metadata": {
        "colab": {
          "base_uri": "https://localhost:8080/"
        },
        "id": "j0I_3JRqgh3H",
        "outputId": "8e894eab-b434-4d0c-d055-7c70a62366e3"
      },
      "source": [
        "#My code\n",
        "No_of_donuts = 45\n",
        "Capacity_of_box = 12\n",
        "lastbox = No_of_donuts % Capacity_of_box\n",
        "print(lastbox)"
      ],
      "execution_count": null,
      "outputs": [
        {
          "output_type": "stream",
          "text": [
            "9\n"
          ],
          "name": "stdout"
        }
      ]
    },
    {
      "cell_type": "markdown",
      "metadata": {
        "id": "SbwwZtNLgh3H"
      },
      "source": [
        "*** \n",
        "\n",
        "## Loops \n",
        "\n",
        "- When we want to repeat the same thing over and over again we put it in something called a loop. \n",
        "- Python lets you do **a lot** with loops without typing in much text\n",
        "- Here `crayon` is a temporary variable that only exists in the loop\n",
        "- Let's return to our example from earlier"
      ]
    },
    {
      "cell_type": "code",
      "metadata": {
        "colab": {
          "base_uri": "https://localhost:8080/"
        },
        "id": "MgaTwjTUgh3H",
        "outputId": "910af9e9-6a6e-40dc-cf9f-f52c59a02a7c"
      },
      "source": [
        "crayon_colours = [\"red\",\"blue\",\"yellow\"]\n",
        "\n",
        "for crayon in crayon_colours:\n",
        "    print(crayon)\n"
      ],
      "execution_count": null,
      "outputs": [
        {
          "output_type": "stream",
          "text": [
            "red\n",
            "blue\n",
            "yellow\n"
          ],
          "name": "stdout"
        }
      ]
    },
    {
      "cell_type": "markdown",
      "metadata": {
        "id": "dk4s0Jpggh3I"
      },
      "source": [
        "- The basic structure of a loop for us looks like the following\n",
        "\n",
        "```\n",
        "for loop_variable in list_variable:\n",
        "    #do this code\n",
        "```\n",
        "\n",
        "- `loop_variable` is a temporary variable that only exists in the loop. As soon as you finish the loop this goes away\n",
        "- `list_variable` is the variable you'd like to loop through. Often a list, but can be other things as we shall see\n"
      ]
    },
    {
      "cell_type": "markdown",
      "metadata": {
        "id": "kTtng5wlgh3I"
      },
      "source": [
        "Try questions Q11 - Q13 and type \"All done\" into the chat box"
      ]
    },
    {
      "cell_type": "markdown",
      "metadata": {
        "id": "H1bJf1kygh3I"
      },
      "source": [
        "- **Q11** Can you write a loop to print all of the numbers in the list `numbers`?"
      ]
    },
    {
      "cell_type": "code",
      "metadata": {
        "colab": {
          "base_uri": "https://localhost:8080/"
        },
        "id": "I-9RBkJwgh3J",
        "outputId": "1369d75e-1a2f-486d-fe49-eacc857b16c9"
      },
      "source": [
        "numbers = [1,2,3,4,5]\n",
        "# My code:\n",
        "for digit in numbers:\n",
        "  print(digit)\n"
      ],
      "execution_count": null,
      "outputs": [
        {
          "output_type": "stream",
          "text": [
            "1\n",
            "2\n",
            "3\n",
            "4\n",
            "5\n"
          ],
          "name": "stdout"
        }
      ]
    },
    {
      "cell_type": "markdown",
      "metadata": {
        "id": "tFst_F4wgh3J"
      },
      "source": [
        "- **Q12** Can you make a loop that prints all of the letters in your name?"
      ]
    },
    {
      "cell_type": "code",
      "metadata": {
        "colab": {
          "base_uri": "https://localhost:8080/"
        },
        "id": "5TE_XDdUgh3J",
        "outputId": "3c7936f9-a6ef-41fe-9aa9-055d7b95cd56"
      },
      "source": [
        "#My code\n",
        "user_name = \"Angellena\"\n",
        "for letters in user_name:\n",
        "  print(letters)\n"
      ],
      "execution_count": null,
      "outputs": [
        {
          "output_type": "stream",
          "text": [
            "A\n",
            "n\n",
            "g\n",
            "e\n",
            "l\n",
            "l\n",
            "e\n",
            "n\n",
            "a\n"
          ],
          "name": "stdout"
        }
      ]
    },
    {
      "cell_type": "markdown",
      "metadata": {
        "id": "Rikh3t_8gh3J"
      },
      "source": [
        "- **Q13** Can you write a loop that displays each letter of the string variable `alphabet`?"
      ]
    },
    {
      "cell_type": "code",
      "metadata": {
        "colab": {
          "base_uri": "https://localhost:8080/"
        },
        "id": "RINd9Wr7gh3K",
        "outputId": "4defa20b-e9c7-4241-d10f-61bc38133719"
      },
      "source": [
        "alphabet = \"abcdefghijklmnopqrstuvwxyz\"\r\n",
        "#My code\r\n",
        "for letters in alphabet:\r\n",
        "  print(letters)"
      ],
      "execution_count": null,
      "outputs": [
        {
          "output_type": "stream",
          "text": [
            "a\n",
            "b\n",
            "c\n",
            "d\n",
            "e\n",
            "f\n",
            "g\n",
            "h\n",
            "i\n",
            "j\n",
            "k\n",
            "l\n",
            "m\n",
            "n\n",
            "o\n",
            "p\n",
            "q\n",
            "r\n",
            "s\n",
            "t\n",
            "u\n",
            "v\n",
            "w\n",
            "x\n",
            "y\n",
            "z\n"
          ],
          "name": "stdout"
        }
      ]
    },
    {
      "cell_type": "markdown",
      "metadata": {
        "id": "kpK1Rv8Qgh3K"
      },
      "source": [
        "***\n",
        "\n",
        "## Dictionaries and Loops\n",
        "\n",
        "- Watch what happens when we try to do a loop through a dictionary"
      ]
    },
    {
      "cell_type": "code",
      "metadata": {
        "scrolled": false,
        "colab": {
          "base_uri": "https://localhost:8080/"
        },
        "id": "enO40qMMgh3K",
        "outputId": "759cf769-0ccb-4639-a3ec-806dfaf4669b"
      },
      "source": [
        "for day in toronto_weather:\n",
        "    print(day)"
      ],
      "execution_count": null,
      "outputs": [
        {
          "output_type": "stream",
          "text": [
            "Monday\n",
            "Tuesday\n",
            "Wednesday\n",
            "Thursday\n",
            "Friday\n",
            "Saturday\n",
            "Sunday\n"
          ],
          "name": "stdout"
        }
      ]
    },
    {
      "cell_type": "markdown",
      "metadata": {
        "id": "0ygNImp5gh3L"
      },
      "source": [
        "- Since dictionaries are more complex, there are many ways to interact with them\n",
        "- We add `.values()` to get the values of the dictionary\n",
        "- We add `.keys()` to get the keys of the dictionary"
      ]
    },
    {
      "cell_type": "code",
      "metadata": {
        "scrolled": false,
        "colab": {
          "base_uri": "https://localhost:8080/"
        },
        "id": "CVPqjb3Vgh3L",
        "outputId": "0b0d2efd-49de-4fa2-87d1-f17c7cf76430"
      },
      "source": [
        "#print all the items in our Dictionary\n",
        "\n",
        "for item in toronto_weather.values():\n",
        "    print(item)"
      ],
      "execution_count": null,
      "outputs": [
        {
          "output_type": "stream",
          "text": [
            "10\n",
            "12\n",
            "15\n",
            "10\n",
            "9\n",
            "6\n",
            "6\n"
          ],
          "name": "stdout"
        }
      ]
    },
    {
      "cell_type": "code",
      "metadata": {
        "colab": {
          "base_uri": "https://localhost:8080/"
        },
        "id": "jGwJM_ZFgh3L",
        "outputId": "a56a453e-2a0d-497b-8697-75c8eeed545d"
      },
      "source": [
        "# print out the keys in our Dictionary\n",
        "\n",
        "for item in toronto_weather.keys():\n",
        "    print(item)\n"
      ],
      "execution_count": null,
      "outputs": [
        {
          "output_type": "stream",
          "text": [
            "Monday\n",
            "Tuesday\n",
            "Wednesday\n",
            "Thursday\n",
            "Friday\n",
            "Saturday\n",
            "Sunday\n"
          ],
          "name": "stdout"
        }
      ]
    },
    {
      "cell_type": "markdown",
      "metadata": {
        "id": "IYl_PJmGgh3M"
      },
      "source": [
        "***\n",
        "\n",
        "## Conditionals \n",
        "\n",
        "- When we want to run a piece of code only if something is true\n",
        "- We can compare with the following:\n",
        " - `==`\n",
        " - `>=`\n",
        " - `<=`\n",
        " - `<`\n",
        " - `>` \n",
        " - `!=`\n",
        " \n",
        " \n",
        " \n",
        " - When we just want to check one thing and if so run `code1`:\n",
        "```\n",
        "\n",
        "        if condition:\n",
        "            code1\n",
        "```\n",
        "\n",
        " - When we want to check something and do code1 or code2 if it is not so\n",
        "\n",
        "```\n",
        "        if condition:\n",
        "            code1\n",
        "        else:\n",
        "            code2\n",
        " ```"
      ]
    },
    {
      "cell_type": "markdown",
      "metadata": {
        "id": "6vmyfknjgh3M"
      },
      "source": [
        "- Let's pretend that anything over 10 degrees is hot. Let' make a conditional that prints out if it is hot on **Wednesday**"
      ]
    },
    {
      "cell_type": "code",
      "metadata": {
        "colab": {
          "base_uri": "https://localhost:8080/"
        },
        "id": "xsROjpRsgh3M",
        "outputId": "7f60b11d-cbc0-422b-bfde-bf3c4aa19dd3"
      },
      "source": [
        "if toronto_weather[\"Wednesday\"] > 10:\n",
        "    print(\"Hot out today\")"
      ],
      "execution_count": null,
      "outputs": [
        {
          "output_type": "stream",
          "text": [
            "Hot out today\n"
          ],
          "name": "stdout"
        }
      ]
    },
    {
      "cell_type": "markdown",
      "metadata": {
        "id": "dEX_Heabgh3M"
      },
      "source": [
        "Try questions Q14-Q15 and type \"check\" into the chat box when you are done"
      ]
    },
    {
      "cell_type": "markdown",
      "metadata": {
        "id": "qd9DiYLVgh3N"
      },
      "source": [
        "- **Q14** Can you complete the following to make it print out \"It is cold\" when it is less then 10 degrees?"
      ]
    },
    {
      "cell_type": "code",
      "metadata": {
        "colab": {
          "base_uri": "https://localhost:8080/"
        },
        "id": "wcBfyyScgh3N",
        "outputId": "f9fff0e5-1483-460f-ed63-c2c94435c70b"
      },
      "source": [
        "#My code\n",
        "if toronto_weather[\"Sunday\"] < 10:\n",
        "    print(\"It is cold\")"
      ],
      "execution_count": null,
      "outputs": [
        {
          "output_type": "stream",
          "text": [
            "It is cold\n"
          ],
          "name": "stdout"
        }
      ]
    },
    {
      "cell_type": "markdown",
      "metadata": {
        "id": "eBhSbgKdgh3N"
      },
      "source": [
        "- **Q15** Can you write a loop that goes through all of the days of the week and prints 'Hot out Today' if the tempurature is above 10, and 'It is cold' if it is below or equal to 10 degrees?"
      ]
    },
    {
      "cell_type": "code",
      "metadata": {
        "colab": {
          "base_uri": "https://localhost:8080/"
        },
        "id": "HiyJI755gh3O",
        "outputId": "25bc4677-50a4-4d51-c19e-408b753789e5"
      },
      "source": [
        "for temp in toronto_weather.values():\n",
        "    \n",
        "    if temp > 10:\n",
        "        print(\"Hot out Today\")\n",
        "    else:\n",
        "        print(\"It is cold\")"
      ],
      "execution_count": null,
      "outputs": [
        {
          "output_type": "stream",
          "text": [
            "It is cold\n",
            "Hot out Today\n",
            "Hot out Today\n",
            "It is cold\n",
            "It is cold\n",
            "It is cold\n",
            "It is cold\n"
          ],
          "name": "stdout"
        }
      ]
    },
    {
      "cell_type": "markdown",
      "metadata": {
        "id": "L_57Wu2qgh3P"
      },
      "source": [
        "***\n",
        "\n",
        "## Combining with boolean\n",
        "\n",
        "- Sometimes we want to combine conditionals because we want to test more complicated things\n",
        "- We can do this with the following:\n",
        " - `and`\n",
        " - `or`\n",
        " - `not`"
      ]
    },
    {
      "cell_type": "markdown",
      "metadata": {
        "id": "21S6IjyKgh3P"
      },
      "source": [
        "- Here's a quick game that demonstrates this\n",
        "- It will ask you to put a value in between 1 and 10\n",
        "- If you don't, it will let you know"
      ]
    },
    {
      "cell_type": "code",
      "metadata": {
        "colab": {
          "base_uri": "https://localhost:8080/"
        },
        "id": "C2dla-uIgh3P",
        "outputId": "6ded56bc-297c-4fc9-89d3-292ac331f0ec"
      },
      "source": [
        "#we can turn a variable into a integer with the int() function\n",
        "number = int(input(\"Pick any number between 1 - 10: \"))\n",
        "\n",
        "if number > 10 or number < 1:\n",
        "    print(\"Sorry you didn't pick a number between 1 - 10\")\n",
        "else:\n",
        "    print(\"Your number is between 1 and 10!\")"
      ],
      "execution_count": null,
      "outputs": [
        {
          "output_type": "stream",
          "text": [
            "Pick any number between 1 - 10: 5\n",
            "Your number is between 1 and 10!\n"
          ],
          "name": "stdout"
        }
      ]
    },
    {
      "cell_type": "markdown",
      "metadata": {
        "id": "uWkO9VeRgh3Q"
      },
      "source": [
        "Try questions Q16, type \"all done\" when completed."
      ]
    },
    {
      "cell_type": "markdown",
      "metadata": {
        "id": "Tp_25MBPgh3Q"
      },
      "source": [
        "- **Q16** Can you re-write the conditional from the game above to use an `and` to do the same thing? you'll need to use some operators from the **Conditionals** section above. **HINT** It will be easier if you use <= and >= "
      ]
    },
    {
      "cell_type": "code",
      "metadata": {
        "colab": {
          "base_uri": "https://localhost:8080/"
        },
        "id": "jqVZ3e2Lgh3R",
        "outputId": "6908e256-ff3f-43c1-af52-dfc1c6705dff"
      },
      "source": [
        "#we can turn a variable into a integer with the int() function\n",
        "#as with most programming tasks there are more then 1 way to accomplish something\n",
        "number = int(input(\"Pick any number between 1 - 10: \"))\n",
        "\n",
        "if number >= 1 and number <= 10 :\n",
        "    print(\"Your number is between 1 and 10!\")\n",
        "else:\n",
        "    print(\"Sorry you didn't pick a number between 1-10\")"
      ],
      "execution_count": null,
      "outputs": [
        {
          "output_type": "stream",
          "text": [
            "Pick any number between 1 - 10: 46\n",
            "Sorry you didn't pick a number between 1-10\n"
          ],
          "name": "stdout"
        }
      ]
    },
    {
      "cell_type": "markdown",
      "metadata": {
        "id": "VQNPPrxxgh3S"
      },
      "source": [
        "***\n",
        "\n",
        "## Functions\n",
        "\n",
        "- Functions are bits of code that do a certain task in a certain way\n",
        "- We saw this earlier with the `print()` function\n",
        "- We also just used the `int()` function in our game\n",
        "- some functions need _arguments_ or _paramaters_. We pass those in the the round brackets. EG. we pass what string variable we want turned into an integer with the `int()` function.\n",
        "- we can create our own functions too"
      ]
    },
    {
      "cell_type": "code",
      "metadata": {
        "id": "f4LS6C9-gh3S"
      },
      "source": [
        "print(\"hello world\")\n",
        "int(number)"
      ],
      "execution_count": null,
      "outputs": []
    },
    {
      "cell_type": "markdown",
      "metadata": {
        "id": "fkVEU6xrgh3T"
      },
      "source": [
        "- A useful function is `len()` which tells you how long something is\n",
        "- Let's print how long our `user_name` is\n",
        "- Often a function can be applied to different types of variables and the results are ares you expect"
      ]
    },
    {
      "cell_type": "code",
      "metadata": {
        "colab": {
          "base_uri": "https://localhost:8080/"
        },
        "id": "AVLpaGttgh3T",
        "outputId": "3f185bbc-29ff-48cb-adee-8affe3f3046a"
      },
      "source": [
        "len(user_name)"
      ],
      "execution_count": null,
      "outputs": [
        {
          "output_type": "execute_result",
          "data": {
            "text/plain": [
              "9"
            ]
          },
          "metadata": {
            "tags": []
          },
          "execution_count": 5
        }
      ]
    },
    {
      "cell_type": "markdown",
      "metadata": {
        "id": "0UXTmo5Wgh3U"
      },
      "source": [
        "- **Q18** What would the following snippet print on the screen? (Try to figure it out before running it, put your answer in the chat)"
      ]
    },
    {
      "cell_type": "code",
      "metadata": {
        "colab": {
          "base_uri": "https://localhost:8080/"
        },
        "id": "5IFbkISmgh3U",
        "outputId": "35b74b1d-d6f2-4e5a-da28-7f952c6a354e"
      },
      "source": [
        "len(toronto_weather)"
      ],
      "execution_count": null,
      "outputs": [
        {
          "output_type": "execute_result",
          "data": {
            "text/plain": [
              "7"
            ]
          },
          "metadata": {
            "tags": []
          },
          "execution_count": 8
        }
      ]
    },
    {
      "cell_type": "markdown",
      "metadata": {
        "id": "-ClRNy8Dgh3U"
      },
      "source": [
        "The structure of a function looks like the following:\n",
        "\n",
        "\n",
        "```\n",
        "def name_of_function(arguments)\n",
        "    #code\n",
        "    #code\n",
        "    return answer #not mandtory\n",
        "    \n",
        "```\n",
        "When our function produces a value that we use later we make use of `return`. That will pass the variable back to the place that called it. \n",
        "\n",
        "\n",
        "\n",
        "We've already seen how we call a functon:\n",
        "\n",
        "```\n",
        "name_of_function(arguments)\n",
        "\n",
        "```\n",
        "\n",
        "If you would like to print out the results of your function you need to surround it with the `print` function\n",
        "\n",
        "```\n",
        "print(name_of_function(arguments))\n",
        "\n",
        "```"
      ]
    },
    {
      "cell_type": "markdown",
      "metadata": {
        "id": "zquXXR9Bgh3V"
      },
      "source": [
        "First let's reload our Toronto Weather Data"
      ]
    },
    {
      "cell_type": "code",
      "metadata": {
        "id": "TfM9klv_gh3V"
      },
      "source": [
        "toronto_weather = {\n",
        "    \"Monday\": 10,\n",
        "    \"Tuesday\" : 12,\n",
        "    \"Wednesday\" : 15,\n",
        "    \"Thursday\" : 10,\n",
        "    \"Friday\" : 9,\n",
        "    \"Saturday\" : 6,\n",
        "    \"Sunday\" : 6\n",
        "    }"
      ],
      "execution_count": null,
      "outputs": []
    },
    {
      "cell_type": "markdown",
      "metadata": {
        "id": "JchqmXGngh3V"
      },
      "source": [
        "- The function below will change the temp to **F** from **C**\n",
        "- Statements can get pretty long if you call lots of functions in them\n",
        "- Here we find **Monday's** temp in **F** and print it"
      ]
    },
    {
      "cell_type": "code",
      "metadata": {
        "colab": {
          "base_uri": "https://localhost:8080/"
        },
        "id": "pncdTce9gh3W",
        "outputId": "a31cb474-8379-42c3-bffe-6485c8bb2b32"
      },
      "source": [
        "def temp_to_f(celc):\n",
        "    return celc * 9/5 + 32\n",
        "\n",
        "print(temp_to_f(toronto_weather[\"Monday\"]))\n"
      ],
      "execution_count": null,
      "outputs": [
        {
          "output_type": "stream",
          "text": [
            "50.0\n"
          ],
          "name": "stdout"
        }
      ]
    },
    {
      "cell_type": "markdown",
      "metadata": {
        "id": "GiwsY0Tggh3W"
      },
      "source": [
        "Try questions Q19 - Q22. Type \"I'm finally finished!\" into the chat when you are done"
      ]
    },
    {
      "cell_type": "markdown",
      "metadata": {
        "id": "uEZriuIcgh3W"
      },
      "source": [
        "- **Q19** Can you write a function that finds the average temperature for the week? (Some of it is there for you)"
      ]
    },
    {
      "cell_type": "code",
      "metadata": {
        "colab": {
          "base_uri": "https://localhost:8080/"
        },
        "id": "d7KIHo7Ygh3X",
        "outputId": "2200c7cf-7b9e-4d2b-ce91-f3c611e8b8ed"
      },
      "source": [
        "def week_avg_c(toronto_weather):\n",
        "    \n",
        "    total_degrees  = 0\n",
        "    \n",
        "    for day in toronto_weather.values():\n",
        "        total_degrees = total_degrees + day\n",
        "    \n",
        "    #total_degrees has the sum of all 7 days of temp readings\n",
        "    #you just need to modify the next line: \n",
        "    return (total_degrees/len(toronto_weather)) \n",
        "\n",
        "print(week_avg_c(toronto_weather))\n"
      ],
      "execution_count": null,
      "outputs": [
        {
          "output_type": "stream",
          "text": [
            "9.714285714285714\n"
          ],
          "name": "stdout"
        }
      ]
    },
    {
      "cell_type": "markdown",
      "metadata": {
        "id": "xiajWX2Sgh3X"
      },
      "source": [
        "- **Q20** Can you write a function that finds the average temp for the week but in **F**? (Some of it is there for you)"
      ]
    },
    {
      "cell_type": "code",
      "metadata": {
        "colab": {
          "base_uri": "https://localhost:8080/"
        },
        "id": "bS-BuIZygh3X",
        "outputId": "c6f70cce-46e7-4d81-f153-5b17805a9718"
      },
      "source": [
        "def week_avg_f(toronto_weather):\n",
        "    \n",
        "    #You just need to add one thing to the line below\n",
        "    #HINT: It is something we've seen already\n",
        "    avg_temp_f = week_avg_c(toronto_weather)\n",
        "    return ((avg_temp_f * 9/5) + 32)\n",
        "\n",
        "\n",
        "print(week_avg_f(toronto_weather))\n"
      ],
      "execution_count": null,
      "outputs": [
        {
          "output_type": "stream",
          "text": [
            "49.48571428571428\n"
          ],
          "name": "stdout"
        }
      ]
    },
    {
      "cell_type": "markdown",
      "metadata": {
        "id": "xXwQ028hgh3Y"
      },
      "source": [
        "- **Q21** Can you write a function that finds the average temperature for the weekend? (Some of it is there for you) HINT: Check out question 19 for inspiration. You will need to complete line 5 and line 8"
      ]
    },
    {
      "cell_type": "code",
      "metadata": {
        "colab": {
          "base_uri": "https://localhost:8080/"
        },
        "id": "wpUTzsnkgh3Y",
        "outputId": "82e532fc-9ba9-4a41-a409-4c16579d8d78"
      },
      "source": [
        "\n",
        "def weekend_avg_c(toronto_weather):\n",
        "\n",
        "    #A weekend is Saturday and Sunday. You need to find the sum of those two temps \n",
        "    total_degrees = 0\n",
        "    #for days in toronto_weather.values():\n",
        "      #if toronto_weather.get('key')=='Saturday' or toronto_weather.get('key')=='Sunday':\n",
        "        #total_degrees = total_degrees + days\n",
        "\n",
        "    \n",
        "    #total_degrees has the sum of the weekend temps.\n",
        "    return ((toronto_weather['Saturday']+toronto_weather['Sunday'])/2)\n",
        "\n",
        "\n",
        "print(weekend_avg_c(toronto_weather))\n",
        "\n",
        "\n"
      ],
      "execution_count": null,
      "outputs": [
        {
          "output_type": "stream",
          "text": [
            "6.0\n"
          ],
          "name": "stdout"
        }
      ]
    },
    {
      "cell_type": "markdown",
      "metadata": {
        "id": "Yn_pByC3gh3Y"
      },
      "source": [
        "- **Q22** Can you write a function that finds the average temperature for the weekend in **F**? (Some of it is ther for you) HINT: look at Q20 for inspiration"
      ]
    },
    {
      "cell_type": "code",
      "metadata": {
        "colab": {
          "base_uri": "https://localhost:8080/"
        },
        "id": "9fdBV31bgh3Y",
        "outputId": "60fc92d5-20cf-4a39-9737-7b99887055b1"
      },
      "source": [
        "def weekend_avg_f(toronto_weather):\n",
        "\n",
        "    #You just need to change the line below\n",
        "    avg_temp_f = (weekend_avg_c(toronto_weather) * 9/5) + 32\n",
        "    return avg_temp_f\n",
        "\n",
        "\n",
        "print(weekend_avg_f(toronto_weather))\n"
      ],
      "execution_count": null,
      "outputs": [
        {
          "output_type": "stream",
          "text": [
            "42.8\n"
          ],
          "name": "stdout"
        }
      ]
    },
    {
      "cell_type": "markdown",
      "metadata": {
        "id": "HGSGjXyTgh3Z"
      },
      "source": [
        "***\n",
        "\n",
        "# Congrats!\n",
        "\n",
        "You now know the basics of Python. Let's try another exercise that does some basic [text analysis](02_text_analysis.ipynb)"
      ]
    },
    {
      "cell_type": "markdown",
      "metadata": {
        "id": "G0tCEWSAgh3Z"
      },
      "source": [
        "## Further Reading\n",
        "\n",
        "- Now that we've handled the basics here are some interesting next steps you can persue.\n",
        "\n",
        "[Kaggle](https://www.kaggle.com/) - An online portal that teaches data science using Notebooks, also has contests for cash prizes\n",
        "\n",
        "[Python the Hard Way](https://learntocodetogether.com/learn-python-the-hard-way-free-ebook-download/) - Don't let the name fool you, this book is a great introduction to Python and programming more generally\n",
        "\n",
        "[Python 2.0](https://brockdsl.github.io/Python_2.0_Workshop/) - Our level 2 workshop that introduces more Python stuff\n",
        "\n",
        "[Data Analysis with Python and Sci Hub](https://brockdsl.github.io/SciHub_Workshop/) - A tutorial on using Python to analyze Sci-Hub data.\n"
      ]
    }
  ]
}