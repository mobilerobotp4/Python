{
  "nbformat": 4,
  "nbformat_minor": 0,
  "metadata": {
    "colab": {
      "name": "Untitled2.ipynb",
      "provenance": [],
      "authorship_tag": "ABX9TyMpwsgK302Qhd7As8VQ4EuE",
      "include_colab_link": true
    },
    "kernelspec": {
      "name": "python3",
      "display_name": "Python 3"
    }
  },
  "cells": [
    {
      "cell_type": "markdown",
      "metadata": {
        "id": "view-in-github",
        "colab_type": "text"
      },
      "source": [
        "<a href=\"https://colab.research.google.com/github/mobilerobotp4/Python/blob/master/Practice.ipynb\" target=\"_parent\"><img src=\"https://colab.research.google.com/assets/colab-badge.svg\" alt=\"Open In Colab\"/></a>"
      ]
    },
    {
      "cell_type": "code",
      "metadata": {
        "id": "ksVKk9viXidK",
        "colab_type": "code",
        "colab": {
          "base_uri": "https://localhost:8080/",
          "height": 221
        },
        "outputId": "07e3a055-95ad-4b86-ea59-84dea22cb662"
      },
      "source": [
        "import torch\n",
        "import torch.nn as nn\n",
        "import numpy as np\n",
        "A=array([[5.0,3.5,1.3,0.3,1,0,0],\n",
        "[4.5,2.3,1.3,0.3,1,0,0],\n",
        "[4.4,3.2,1.3,0.2,1,0,0],\n",
        "[5.0,3.5,1.6,0.6,1,0,0],\n",
        "[5.1,3.8,1.9,0.4,1,0,0],\n",
        "[4.8,3.0,1.4,0.3,1,0,0],\n",
        "[5.1,3.8,1.6,0.2,1,0,0],\n",
        "[4.6,3.2,1.4,0.2,1,0,0],\n",
        "[5.3,3.7,1.5,0.2,1,0,0],\n",
        "[5.0,3.3,1.4,0.2,1,0,0],\n",
        "[5.5,2.6,4.4,1.2,0,1,0]])\n",
        "print(A[:,:4])\n",
        "torch.tensor([[1., -1.], [1., -1.]])\n",
        "model = torch.nn.Sequential(\n",
        "          nn.Conv2d(1,20,5),\n",
        "          nn.ReLU(),\n",
        "          nn.Conv2d(20,64,5),\n",
        "          nn.ReLU()\n",
        "        )\n",
        "#np.arange(3)\n",
        "arr = np.arange(9).reshape((3, 3))\n",
        "np.random.shuffle(arr)\n",
        "#arr\n",
        "m = nn.Linear(20, 30)\n",
        "input = torch.randn(128, 20)\n",
        "output = m(input)\n",
        "print(output.size())\n"
      ],
      "execution_count": 27,
      "outputs": [
        {
          "output_type": "stream",
          "text": [
            "[[5.  3.5 1.3 0.3]\n",
            " [4.5 2.3 1.3 0.3]\n",
            " [4.4 3.2 1.3 0.2]\n",
            " [5.  3.5 1.6 0.6]\n",
            " [5.1 3.8 1.9 0.4]\n",
            " [4.8 3.  1.4 0.3]\n",
            " [5.1 3.8 1.6 0.2]\n",
            " [4.6 3.2 1.4 0.2]\n",
            " [5.3 3.7 1.5 0.2]\n",
            " [5.  3.3 1.4 0.2]\n",
            " [5.5 2.6 4.4 1.2]]\n",
            "torch.Size([128, 30])\n"
          ],
          "name": "stdout"
        }
      ]
    }
  ]
}