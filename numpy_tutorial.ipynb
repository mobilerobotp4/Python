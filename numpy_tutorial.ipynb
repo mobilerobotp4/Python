{
  "nbformat": 4,
  "nbformat_minor": 0,
  "metadata": {
    "colab": {
      "name": "numpy_tutorial.ipynb",
      "provenance": [],
      "collapsed_sections": [],
      "authorship_tag": "ABX9TyMs2Ngpq5MuJeOoGULgzxyj"
    },
    "kernelspec": {
      "name": "python3",
      "display_name": "Python 3"
    }
  },
  "cells": [
    {
      "cell_type": "markdown",
      "metadata": {
        "id": "lFvAXFmyh-po"
      },
      "source": [
        "1. Import the numpy package under the name np"
      ]
    },
    {
      "cell_type": "code",
      "metadata": {
        "id": "nxdAl978hvXC"
      },
      "source": [
        "import numpy as np"
      ],
      "execution_count": 1,
      "outputs": []
    },
    {
      "cell_type": "markdown",
      "metadata": {
        "id": "o2htxZXBiNqJ"
      },
      "source": [
        "2. Print the numpy version and the configuration"
      ]
    },
    {
      "cell_type": "code",
      "metadata": {
        "colab": {
          "base_uri": "https://localhost:8080/"
        },
        "id": "DThFIQ06iXyE",
        "outputId": "c8f8afdd-6856-4b29-e56d-f4ec7f57e34e"
      },
      "source": [
        "print(np.__version__)\r\n",
        "np.show_config()"
      ],
      "execution_count": null,
      "outputs": [
        {
          "output_type": "stream",
          "text": [
            "1.19.5\n",
            "blas_mkl_info:\n",
            "  NOT AVAILABLE\n",
            "blis_info:\n",
            "  NOT AVAILABLE\n",
            "openblas_info:\n",
            "    libraries = ['openblas', 'openblas']\n",
            "    library_dirs = ['/usr/local/lib']\n",
            "    language = c\n",
            "    define_macros = [('HAVE_CBLAS', None)]\n",
            "blas_opt_info:\n",
            "    libraries = ['openblas', 'openblas']\n",
            "    library_dirs = ['/usr/local/lib']\n",
            "    language = c\n",
            "    define_macros = [('HAVE_CBLAS', None)]\n",
            "lapack_mkl_info:\n",
            "  NOT AVAILABLE\n",
            "openblas_lapack_info:\n",
            "    libraries = ['openblas', 'openblas']\n",
            "    library_dirs = ['/usr/local/lib']\n",
            "    language = c\n",
            "    define_macros = [('HAVE_CBLAS', None)]\n",
            "lapack_opt_info:\n",
            "    libraries = ['openblas', 'openblas']\n",
            "    library_dirs = ['/usr/local/lib']\n",
            "    language = c\n",
            "    define_macros = [('HAVE_CBLAS', None)]\n"
          ],
          "name": "stdout"
        }
      ]
    },
    {
      "cell_type": "markdown",
      "metadata": {
        "id": "huxQurdrijsn"
      },
      "source": [
        "3. Create a null vector of size 10"
      ]
    },
    {
      "cell_type": "code",
      "metadata": {
        "colab": {
          "base_uri": "https://localhost:8080/"
        },
        "id": "ja9FdknZiqMQ",
        "outputId": "d95c32ce-04f1-4c81-832c-7fc1ac2fa6f5"
      },
      "source": [
        "Z = np.zeros(10)\r\n",
        "print(Z)"
      ],
      "execution_count": null,
      "outputs": [
        {
          "output_type": "stream",
          "text": [
            "[0. 0. 0. 0. 0. 0. 0. 0. 0. 0.]\n"
          ],
          "name": "stdout"
        }
      ]
    },
    {
      "cell_type": "markdown",
      "metadata": {
        "id": "rtItU78RixUl"
      },
      "source": [
        "4.How to get the documentation of the numpy add function from the command\r\n",
        "line? "
      ]
    },
    {
      "cell_type": "code",
      "metadata": {
        "id": "W357vcq2i9cI"
      },
      "source": [
        "python -c \"import numpy; numpy.info(numpy.add)\""
      ],
      "execution_count": null,
      "outputs": []
    },
    {
      "cell_type": "markdown",
      "metadata": {
        "id": "bAz7XNtvjRVF"
      },
      "source": [
        "5.Create a null vector of size 10 but the fifth value which is 1. "
      ]
    },
    {
      "cell_type": "code",
      "metadata": {
        "colab": {
          "base_uri": "https://localhost:8080/"
        },
        "id": "6IWDfdUMjUr-",
        "outputId": "e8288b6c-85ca-4c6a-bb40-85e0576240fc"
      },
      "source": [
        "Z = np.zeros(10)\r\n",
        "Z[4] = 1\r\n",
        "print(Z)"
      ],
      "execution_count": null,
      "outputs": [
        {
          "output_type": "stream",
          "text": [
            "[0. 0. 0. 0. 1. 0. 0. 0. 0. 0.]\n"
          ],
          "name": "stdout"
        }
      ]
    },
    {
      "cell_type": "markdown",
      "metadata": {
        "id": "r2EaWqGCpxTj"
      },
      "source": [
        "6. Create a vector with values ranging from 10 to 49"
      ]
    },
    {
      "cell_type": "code",
      "metadata": {
        "colab": {
          "base_uri": "https://localhost:8080/"
        },
        "id": "dG4dYAcHp4AN",
        "outputId": "f61dbdf1-182a-49e7-97df-18f9c2e5cf49"
      },
      "source": [
        "Z = np.arange(10,50)\r\n",
        "print(Z)"
      ],
      "execution_count": null,
      "outputs": [
        {
          "output_type": "stream",
          "text": [
            "[10 11 12 13 14 15 16 17 18 19 20 21 22 23 24 25 26 27 28 29 30 31 32 33\n",
            " 34 35 36 37 38 39 40 41 42 43 44 45 46 47 48 49]\n"
          ],
          "name": "stdout"
        }
      ]
    },
    {
      "cell_type": "markdown",
      "metadata": {
        "id": "4Lba_DnAqkPy"
      },
      "source": [
        "7. Reverse a vector (first element becomes last)"
      ]
    },
    {
      "cell_type": "code",
      "metadata": {
        "colab": {
          "base_uri": "https://localhost:8080/"
        },
        "id": "trdh9YHuqqHb",
        "outputId": "b2970b0b-12b6-49df-e1f4-9334c5dbed24"
      },
      "source": [
        "Z = np.arange(50)\r\n",
        "Z = Z[::-1]\r\n",
        "print(Z)"
      ],
      "execution_count": null,
      "outputs": [
        {
          "output_type": "stream",
          "text": [
            "[49 48 47 46 45 44 43 42 41 40 39 38 37 36 35 34 33 32 31 30 29 28 27 26\n",
            " 25 24 23 22 21 20 19 18 17 16 15 14 13 12 11 10  9  8  7  6  5  4  3  2\n",
            "  1  0]\n"
          ],
          "name": "stdout"
        }
      ]
    },
    {
      "cell_type": "markdown",
      "metadata": {
        "id": "odaJOBbqq3EX"
      },
      "source": [
        "8. Create a 3x3 matrix with values ranging from 0 to 8"
      ]
    },
    {
      "cell_type": "code",
      "metadata": {
        "colab": {
          "base_uri": "https://localhost:8080/"
        },
        "id": "DX7br6Kjq7fa",
        "outputId": "1752af1e-c06f-4e15-a8e0-966a5e4476fc"
      },
      "source": [
        "Z = np.arange(9).reshape(3,3)\r\n",
        "print(Z)"
      ],
      "execution_count": null,
      "outputs": [
        {
          "output_type": "stream",
          "text": [
            "[[0 1 2]\n",
            " [3 4 5]\n",
            " [6 7 8]]\n"
          ],
          "name": "stdout"
        }
      ]
    },
    {
      "cell_type": "markdown",
      "metadata": {
        "id": "qYE0MCygrDWP"
      },
      "source": [
        "9. Find indices of nonzero elements from [1,2,0,0,4,0]"
      ]
    },
    {
      "cell_type": "code",
      "metadata": {
        "colab": {
          "base_uri": "https://localhost:8080/"
        },
        "id": "RRvAyb7ZrCc-",
        "outputId": "df8c95cd-a12d-4de5-bbd0-923581cd1aaa"
      },
      "source": [
        "nz = np.nonzero([1,2,0,0,4,0])\r\n",
        "print(nz)"
      ],
      "execution_count": null,
      "outputs": [
        {
          "output_type": "stream",
          "text": [
            "(array([0, 1, 4]),)\n"
          ],
          "name": "stdout"
        }
      ]
    },
    {
      "cell_type": "markdown",
      "metadata": {
        "id": "fBGd85w_rVYu"
      },
      "source": [
        "10. Create a 3x3 identity matrix"
      ]
    },
    {
      "cell_type": "code",
      "metadata": {
        "colab": {
          "base_uri": "https://localhost:8080/"
        },
        "id": "MeqGQwQzrayL",
        "outputId": "539eeec2-daae-481e-b1b6-518643b3eaac"
      },
      "source": [
        "Z = np.eye(3)\r\n",
        "print(Z)"
      ],
      "execution_count": null,
      "outputs": [
        {
          "output_type": "stream",
          "text": [
            "[[1. 0. 0.]\n",
            " [0. 1. 0.]\n",
            " [0. 0. 1.]]\n"
          ],
          "name": "stdout"
        }
      ]
    },
    {
      "cell_type": "markdown",
      "metadata": {
        "id": "8n2uCK20rfiJ"
      },
      "source": [
        "11. Create a 3x3x3 array with random values"
      ]
    },
    {
      "cell_type": "code",
      "metadata": {
        "colab": {
          "base_uri": "https://localhost:8080/"
        },
        "id": "9RKYJH63rmYW",
        "outputId": "2a3c671a-6330-43f1-bab2-c21d45660287"
      },
      "source": [
        "Z = np.random.random((3,3,3))\r\n",
        "print(Z)"
      ],
      "execution_count": null,
      "outputs": [
        {
          "output_type": "stream",
          "text": [
            "[[[0.91945259 0.76640558 0.57450306]\n",
            "  [0.79252995 0.07295508 0.12061391]\n",
            "  [0.41790873 0.06746949 0.50273255]]\n",
            "\n",
            " [[0.45009144 0.31350941 0.83386619]\n",
            "  [0.94145007 0.96183042 0.87262028]\n",
            "  [0.84382745 0.80577258 0.83699211]]\n",
            "\n",
            " [[0.46342866 0.05182751 0.72946246]\n",
            "  [0.72432674 0.39422379 0.72111553]\n",
            "  [0.26751666 0.3363121  0.76179359]]]\n"
          ],
          "name": "stdout"
        }
      ]
    },
    {
      "cell_type": "markdown",
      "metadata": {
        "id": "Ns7yoJ-1rzA2"
      },
      "source": [
        "12. Create a 10x10 array with random values and find the minimum and maximum\r\n",
        "values "
      ]
    },
    {
      "cell_type": "code",
      "metadata": {
        "colab": {
          "base_uri": "https://localhost:8080/"
        },
        "id": "GOaav4TSr4CW",
        "outputId": "739df63f-256c-47f9-ceaa-c83baa5a5555"
      },
      "source": [
        "Z = np.random.random((10,10))\r\n",
        "Zmin, Zmax = Z.min(), Z.max()\r\n",
        "print(Zmin, Zmax)"
      ],
      "execution_count": null,
      "outputs": [
        {
          "output_type": "stream",
          "text": [
            "0.001930224590477203 0.9906168712242509\n"
          ],
          "name": "stdout"
        }
      ]
    },
    {
      "cell_type": "markdown",
      "metadata": {
        "id": "WnzF2rrssBDX"
      },
      "source": [
        "13. Create a random vector of size 30 and find the mean value"
      ]
    },
    {
      "cell_type": "code",
      "metadata": {
        "colab": {
          "base_uri": "https://localhost:8080/"
        },
        "id": "InegxsMAsFxd",
        "outputId": "c5e8a5f0-faa9-44fb-c1a3-63edc72b16bc"
      },
      "source": [
        "Z = np.random.random(30)\r\n",
        "m = Z.mean()\r\n",
        "print(m)"
      ],
      "execution_count": null,
      "outputs": [
        {
          "output_type": "stream",
          "text": [
            "0.5680909152803848\n"
          ],
          "name": "stdout"
        }
      ]
    },
    {
      "cell_type": "markdown",
      "metadata": {
        "id": "-_8u1Fp8sLQa"
      },
      "source": [
        "14.Create a 2d array with 1 on the border and 0 inside"
      ]
    },
    {
      "cell_type": "code",
      "metadata": {
        "colab": {
          "base_uri": "https://localhost:8080/"
        },
        "id": "-AyItJ38sQvs",
        "outputId": "29028e03-5e20-4a4c-c557-a67bde6d76c7"
      },
      "source": [
        "Z = np.ones((10,10))\r\n",
        "Z[1:-1,1:-1] = 0\r\n",
        "print(Z)"
      ],
      "execution_count": null,
      "outputs": [
        {
          "output_type": "stream",
          "text": [
            "[[1. 1. 1. 1. 1. 1. 1. 1. 1. 1.]\n",
            " [1. 0. 0. 0. 0. 0. 0. 0. 0. 1.]\n",
            " [1. 0. 0. 0. 0. 0. 0. 0. 0. 1.]\n",
            " [1. 0. 0. 0. 0. 0. 0. 0. 0. 1.]\n",
            " [1. 0. 0. 0. 0. 0. 0. 0. 0. 1.]\n",
            " [1. 0. 0. 0. 0. 0. 0. 0. 0. 1.]\n",
            " [1. 0. 0. 0. 0. 0. 0. 0. 0. 1.]\n",
            " [1. 0. 0. 0. 0. 0. 0. 0. 0. 1.]\n",
            " [1. 0. 0. 0. 0. 0. 0. 0. 0. 1.]\n",
            " [1. 1. 1. 1. 1. 1. 1. 1. 1. 1.]]\n"
          ],
          "name": "stdout"
        }
      ]
    },
    {
      "cell_type": "markdown",
      "metadata": {
        "id": "H2kYfdCoscUo"
      },
      "source": [
        "15. What is the result of the following expression?"
      ]
    },
    {
      "cell_type": "code",
      "metadata": {
        "colab": {
          "base_uri": "https://localhost:8080/"
        },
        "id": "axw3ty7zsid1",
        "outputId": "b2c6fb70-3221-415c-b5bf-c0675fde0ba6"
      },
      "source": [
        "0 * np.nan\r\n",
        "np.nan == np.nan\r\n",
        "np.inf > np.nan\r\n",
        "np.nan - np.nan\r\n",
        "0.3 == 3 * 0.1"
      ],
      "execution_count": null,
      "outputs": [
        {
          "output_type": "execute_result",
          "data": {
            "text/plain": [
              "False"
            ]
          },
          "metadata": {
            "tags": []
          },
          "execution_count": 17
        }
      ]
    },
    {
      "cell_type": "markdown",
      "metadata": {
        "id": "NqzmBo1essNy"
      },
      "source": [
        "16. Create a 5x5 matrix with values 1,2,3,4 just below the diagonal"
      ]
    },
    {
      "cell_type": "code",
      "metadata": {
        "colab": {
          "base_uri": "https://localhost:8080/"
        },
        "id": "ciHOquWrsybD",
        "outputId": "0c5b613a-7f51-4a0f-c8f8-cd955b5cd472"
      },
      "source": [
        "Z = np.diag(1+np.arange(4),k=-1)\r\n",
        "print(Z)"
      ],
      "execution_count": null,
      "outputs": [
        {
          "output_type": "stream",
          "text": [
            "[[0 0 0 0 0]\n",
            " [1 0 0 0 0]\n",
            " [0 2 0 0 0]\n",
            " [0 0 3 0 0]\n",
            " [0 0 0 4 0]]\n"
          ],
          "name": "stdout"
        }
      ]
    },
    {
      "cell_type": "markdown",
      "metadata": {
        "id": "UA3TLKVPs9UZ"
      },
      "source": [
        "17. Create a 8x8 matrix and fill it with a checkerboard pattern."
      ]
    },
    {
      "cell_type": "code",
      "metadata": {
        "colab": {
          "base_uri": "https://localhost:8080/"
        },
        "id": "-ryFpfmUtDUj",
        "outputId": "c7b1087f-7185-43a7-c4fe-5ba29ae2bfcd"
      },
      "source": [
        "Z = np.zeros((8,8),dtype=int)\r\n",
        "Z[1::2,::2] = 1\r\n",
        "Z[::2,1::2] = 1\r\n",
        "print(Z)"
      ],
      "execution_count": null,
      "outputs": [
        {
          "output_type": "stream",
          "text": [
            "[[0 1 0 1 0 1 0 1]\n",
            " [1 0 1 0 1 0 1 0]\n",
            " [0 1 0 1 0 1 0 1]\n",
            " [1 0 1 0 1 0 1 0]\n",
            " [0 1 0 1 0 1 0 1]\n",
            " [1 0 1 0 1 0 1 0]\n",
            " [0 1 0 1 0 1 0 1]\n",
            " [1 0 1 0 1 0 1 0]]\n"
          ],
          "name": "stdout"
        }
      ]
    },
    {
      "cell_type": "markdown",
      "metadata": {
        "id": "bkki_K2vtQyg"
      },
      "source": [
        "18. Consider a (6,7,8) shape array, what is the index (x,y,z) of the 100th element?"
      ]
    },
    {
      "cell_type": "code",
      "metadata": {
        "colab": {
          "base_uri": "https://localhost:8080/"
        },
        "id": "-mtB26fVtXYW",
        "outputId": "bcbc39ed-2560-4ac1-a6d3-e38282102330"
      },
      "source": [
        "print(np.unravel_index(100,(6,7,8)))"
      ],
      "execution_count": null,
      "outputs": [
        {
          "output_type": "stream",
          "text": [
            "(1, 5, 4)\n"
          ],
          "name": "stdout"
        }
      ]
    },
    {
      "cell_type": "markdown",
      "metadata": {
        "id": "jjRj3tTNtmQK"
      },
      "source": [
        "19.Create a checkerboard 8x8 matrix using the tile function"
      ]
    },
    {
      "cell_type": "code",
      "metadata": {
        "colab": {
          "base_uri": "https://localhost:8080/"
        },
        "id": "k5tHNInVttrN",
        "outputId": "bda353f4-26cd-4842-e250-c0f77c94581b"
      },
      "source": [
        "Z = np.tile( np.array([[0,1],[1,0]]), (4,4))\r\n",
        "print(Z)"
      ],
      "execution_count": null,
      "outputs": [
        {
          "output_type": "stream",
          "text": [
            "[[0 1 0 1 0 1 0 1]\n",
            " [1 0 1 0 1 0 1 0]\n",
            " [0 1 0 1 0 1 0 1]\n",
            " [1 0 1 0 1 0 1 0]\n",
            " [0 1 0 1 0 1 0 1]\n",
            " [1 0 1 0 1 0 1 0]\n",
            " [0 1 0 1 0 1 0 1]\n",
            " [1 0 1 0 1 0 1 0]]\n"
          ],
          "name": "stdout"
        }
      ]
    },
    {
      "cell_type": "markdown",
      "metadata": {
        "id": "KBuhnG7Stz3Q"
      },
      "source": [
        "20. Normalize a 5x5 random matrix"
      ]
    },
    {
      "cell_type": "code",
      "metadata": {
        "colab": {
          "base_uri": "https://localhost:8080/"
        },
        "id": "Uk-vsF7zt69R",
        "outputId": "4a19bf9f-6aa5-4d4d-b9a2-c405ef270692"
      },
      "source": [
        "Z = np.random.random((5,5))\r\n",
        "Zmax, Zmin = Z.max(), Z.min()\r\n",
        "Z = (Z - Zmin)/(Zmax - Zmin)\r\n",
        "print(Z)"
      ],
      "execution_count": null,
      "outputs": [
        {
          "output_type": "stream",
          "text": [
            "[[0.98609875 0.01632923 0.65596916 0.98266428 0.47555599]\n",
            " [0.833866   0.34825134 0.63748302 0.8685288  0.60948097]\n",
            " [0.08463131 0.57588999 0.01063565 0.         0.56681534]\n",
            " [0.21953193 0.43968479 0.01008981 0.12977138 0.31030386]\n",
            " [0.20095931 1.         0.19705971 0.65902384 0.53553053]]\n"
          ],
          "name": "stdout"
        }
      ]
    },
    {
      "cell_type": "markdown",
      "metadata": {
        "id": "6-eS73fLuIKc"
      },
      "source": [
        "21. Create a custom dtype that describes a color as four unisgned bytes (RGBA)"
      ]
    },
    {
      "cell_type": "code",
      "metadata": {
        "id": "twwdIu9OuRF_"
      },
      "source": [
        "color = np.dtype([(\"r\", np.ubyte, 1),\r\n",
        "(\"g\", np.ubyte, 1),\r\n",
        "(\"b\", np.ubyte, 1),\r\n",
        "(\"a\", np.ubyte, 1)])\r\n"
      ],
      "execution_count": null,
      "outputs": []
    },
    {
      "cell_type": "markdown",
      "metadata": {
        "id": "Ac1nR75Ou2IR"
      },
      "source": [
        "22. Multiply a 5x3 matrix by a 3x2 matrix (real matrix product)"
      ]
    },
    {
      "cell_type": "code",
      "metadata": {
        "colab": {
          "base_uri": "https://localhost:8080/"
        },
        "id": "_tM7pclpu5qJ",
        "outputId": "3a1e9819-b5db-4ac9-86a3-01371ee3bc99"
      },
      "source": [
        "Z = np.dot(np.ones((5,3)), np.ones((3,2)))\r\n",
        "print(Z)"
      ],
      "execution_count": null,
      "outputs": [
        {
          "output_type": "stream",
          "text": [
            "[[3. 3.]\n",
            " [3. 3.]\n",
            " [3. 3.]\n",
            " [3. 3.]\n",
            " [3. 3.]]\n"
          ],
          "name": "stdout"
        }
      ]
    },
    {
      "cell_type": "markdown",
      "metadata": {
        "id": "ilUlArU6vMkW"
      },
      "source": [
        "23. Given a 1D array, negate all elements which are between 3 and 8, in place."
      ]
    },
    {
      "cell_type": "code",
      "metadata": {
        "colab": {
          "base_uri": "https://localhost:8080/"
        },
        "id": "zu9d-zEuvOyM",
        "outputId": "ff2be395-aaa9-41a1-fed2-a353670dcb81"
      },
      "source": [
        "Z = np.arange(11)\r\n",
        "Z[(3 < Z) & (Z <= 8)] *= -1\r\n",
        "print(Z)"
      ],
      "execution_count": null,
      "outputs": [
        {
          "output_type": "stream",
          "text": [
            "[ 0  1  2  3 -4 -5 -6 -7 -8  9 10]\n"
          ],
          "name": "stdout"
        }
      ]
    },
    {
      "cell_type": "markdown",
      "metadata": {
        "id": "tyXZXCTwHUtz"
      },
      "source": [
        "24. What is the output of the following script?"
      ]
    },
    {
      "cell_type": "code",
      "metadata": {
        "id": "Y3SP69olHX39",
        "colab": {
          "base_uri": "https://localhost:8080/"
        },
        "outputId": "cac2f541-d441-4e31-887e-48768e98ccf6"
      },
      "source": [
        "print(sum(range(5),-1))\r\n",
        "from numpy import *\r\n",
        "print(sum(range(5),-1))"
      ],
      "execution_count": null,
      "outputs": [
        {
          "output_type": "stream",
          "text": [
            "9\n",
            "10\n"
          ],
          "name": "stdout"
        }
      ]
    },
    {
      "cell_type": "markdown",
      "metadata": {
        "id": "9ein4G5yOktG"
      },
      "source": [
        "25.How to round away from zero a float array ?"
      ]
    },
    {
      "cell_type": "code",
      "metadata": {
        "colab": {
          "base_uri": "https://localhost:8080/"
        },
        "id": "kb3x8NtsOmYh",
        "outputId": "a03c164f-dc09-41d0-d20b-de10d4e89948"
      },
      "source": [
        "Z = np.random.uniform(-10,+10,10)\r\n",
        "print (np.trunc(Z + np.copysign(0.5, Z)))"
      ],
      "execution_count": null,
      "outputs": [
        {
          "output_type": "stream",
          "text": [
            "[ -9.  -1.   7.  -9.  -8.   3. -10.   1.   9.  10.]\n"
          ],
          "name": "stdout"
        }
      ]
    },
    {
      "cell_type": "markdown",
      "metadata": {
        "id": "zixqclj_S1Ps"
      },
      "source": [
        "26. Extract the integer part of a random array using 5 different methods"
      ]
    },
    {
      "cell_type": "code",
      "metadata": {
        "colab": {
          "base_uri": "https://localhost:8080/"
        },
        "id": "FOnYIdWwS5Ks",
        "outputId": "1461444e-da94-4134-ec68-6800a24be9ac"
      },
      "source": [
        "Z = np.random.uniform(0,10,10)\r\n",
        "print(Z)\r\n",
        "print (Z - Z%1)\r\n",
        "print (np.floor(Z))\r\n",
        "print (np.ceil(Z)-1)\r\n",
        "print (Z.astype(int))\r\n",
        "print (np.trunc(Z))"
      ],
      "execution_count": null,
      "outputs": [
        {
          "output_type": "stream",
          "text": [
            "[4.62353709 8.40759173 5.6851733  0.69024903 3.94604569 5.33090968\n",
            " 1.73825725 6.58246474 8.24863867 5.66423116]\n",
            "[4. 8. 5. 0. 3. 5. 1. 6. 8. 5.]\n",
            "[4. 8. 5. 0. 3. 5. 1. 6. 8. 5.]\n",
            "[4. 8. 5. 0. 3. 5. 1. 6. 8. 5.]\n",
            "[4 8 5 0 3 5 1 6 8 5]\n",
            "[4. 8. 5. 0. 3. 5. 1. 6. 8. 5.]\n"
          ],
          "name": "stdout"
        }
      ]
    },
    {
      "cell_type": "markdown",
      "metadata": {
        "id": "dLfoiPdCUj6F"
      },
      "source": [
        "27. Create a 5x5 matrix with row values ranging from 0 to 4"
      ]
    },
    {
      "cell_type": "code",
      "metadata": {
        "colab": {
          "base_uri": "https://localhost:8080/"
        },
        "id": "l-wMaDPhUl8L",
        "outputId": "9c6eb39f-7f6e-4d0e-829d-5038db6b7ad1"
      },
      "source": [
        "Z = np.zeros((5,5))\r\n",
        "Z += np.arange(5)\r\n",
        "print(Z)"
      ],
      "execution_count": null,
      "outputs": [
        {
          "output_type": "stream",
          "text": [
            "[[0. 1. 2. 3. 4.]\n",
            " [0. 1. 2. 3. 4.]\n",
            " [0. 1. 2. 3. 4.]\n",
            " [0. 1. 2. 3. 4.]\n",
            " [0. 1. 2. 3. 4.]]\n"
          ],
          "name": "stdout"
        }
      ]
    },
    {
      "cell_type": "markdown",
      "metadata": {
        "id": "YT5eIrjyWRQU"
      },
      "source": [
        "28. Consider a generator function that generates 10 integers and use it to build an array"
      ]
    },
    {
      "cell_type": "code",
      "metadata": {
        "id": "lm0r664iWWCO"
      },
      "source": [
        "def generate():\r\n",
        "  for x in xrange(10):\r\n",
        "    yield x\r\n",
        "Z = np.fromiter(generate(),dtype=float,count=-1)\r\n",
        "print(Z)"
      ],
      "execution_count": null,
      "outputs": []
    },
    {
      "cell_type": "markdown",
      "metadata": {
        "id": "EmlYsMFqW1qN"
      },
      "source": [
        "29. Create a vector of size 10 with values ranging from 0 to 1, both excluded"
      ]
    },
    {
      "cell_type": "code",
      "metadata": {
        "colab": {
          "base_uri": "https://localhost:8080/"
        },
        "id": "F-utJg5lW8gB",
        "outputId": "0f90b80f-a0b5-4c36-b9f7-64761f5c4d77"
      },
      "source": [
        "Z = np.linspace(0,1,12,endpoint=True)[1:-1]\r\n",
        "print(Z)"
      ],
      "execution_count": null,
      "outputs": [
        {
          "output_type": "stream",
          "text": [
            "[0.09090909 0.18181818 0.27272727 0.36363636 0.45454545 0.54545455\n",
            " 0.63636364 0.72727273 0.81818182 0.90909091]\n"
          ],
          "name": "stdout"
        }
      ]
    },
    {
      "cell_type": "markdown",
      "metadata": {
        "id": "cleqjoS-XEJE"
      },
      "source": [
        "30. Create a random vector of size 10 and sort it"
      ]
    },
    {
      "cell_type": "code",
      "metadata": {
        "colab": {
          "base_uri": "https://localhost:8080/"
        },
        "id": "yb63eqLEXI6k",
        "outputId": "f33fdcdc-b0dd-4a32-f08d-334f31f33297"
      },
      "source": [
        "Z = np.random.random(10)\r\n",
        "Z.sort()\r\n",
        "print(Z)"
      ],
      "execution_count": null,
      "outputs": [
        {
          "output_type": "stream",
          "text": [
            "[0.10640872 0.1140425  0.18588281 0.23175468 0.44820954 0.62076519\n",
            " 0.66961208 0.7646244  0.80550194 0.89012715]\n"
          ],
          "name": "stdout"
        }
      ]
    },
    {
      "cell_type": "markdown",
      "metadata": {
        "id": "UDVVho8XXNyu"
      },
      "source": [
        "31. How to sum a small array faster than np.sum?"
      ]
    },
    {
      "cell_type": "code",
      "metadata": {
        "colab": {
          "base_uri": "https://localhost:8080/"
        },
        "id": "LAyhMem_XX7B",
        "outputId": "a6d112e6-b117-4c07-f3f9-902d65addf62"
      },
      "source": [
        "Z = np.arange(10)\r\n",
        "np.add.reduce(Z)"
      ],
      "execution_count": null,
      "outputs": [
        {
          "output_type": "execute_result",
          "data": {
            "text/plain": [
              "45"
            ]
          },
          "metadata": {
            "tags": []
          },
          "execution_count": 15
        }
      ]
    },
    {
      "cell_type": "markdown",
      "metadata": {
        "id": "oPFynir2XSwc"
      },
      "source": [
        "32.Consider two random array A anb B, check if they are equal"
      ]
    },
    {
      "cell_type": "code",
      "metadata": {
        "colab": {
          "base_uri": "https://localhost:8080/"
        },
        "id": "UHhApmCQYHeW",
        "outputId": "62059822-96b0-47ed-b171-70897208fb46"
      },
      "source": [
        "A = np.random.randint(0,2,5)\r\n",
        "B = np.random.randint(0,2,5)\r\n",
        "print(A)\r\n",
        "print(B)\r\n",
        "equal = np.allclose(A,B)\r\n",
        "print(equal)"
      ],
      "execution_count": null,
      "outputs": [
        {
          "output_type": "stream",
          "text": [
            "[0 0 1 1 0]\n",
            "[1 1 1 1 0]\n",
            "False\n"
          ],
          "name": "stdout"
        }
      ]
    },
    {
      "cell_type": "markdown",
      "metadata": {
        "id": "MqBCbQp6YVE8"
      },
      "source": [
        "33. Make an array immutable (readonly)"
      ]
    },
    {
      "cell_type": "code",
      "metadata": {
        "colab": {
          "base_uri": "https://localhost:8080/",
          "height": 199
        },
        "id": "504EzagYYYA9",
        "outputId": "96e4c429-02fa-4b8a-8043-7b857d241841"
      },
      "source": [
        "Z = np.zeros(10)\r\n",
        "Z.flags.writeable = False\r\n",
        "Z[0] = 1"
      ],
      "execution_count": null,
      "outputs": [
        {
          "output_type": "error",
          "ename": "ValueError",
          "evalue": "ignored",
          "traceback": [
            "\u001b[0;31m---------------------------------------------------------------------------\u001b[0m",
            "\u001b[0;31mValueError\u001b[0m                                Traceback (most recent call last)",
            "\u001b[0;32m<ipython-input-18-dcc5e7f145b5>\u001b[0m in \u001b[0;36m<module>\u001b[0;34m()\u001b[0m\n\u001b[1;32m      1\u001b[0m \u001b[0mZ\u001b[0m \u001b[0;34m=\u001b[0m \u001b[0mnp\u001b[0m\u001b[0;34m.\u001b[0m\u001b[0mzeros\u001b[0m\u001b[0;34m(\u001b[0m\u001b[0;36m10\u001b[0m\u001b[0;34m)\u001b[0m\u001b[0;34m\u001b[0m\u001b[0;34m\u001b[0m\u001b[0m\n\u001b[1;32m      2\u001b[0m \u001b[0mZ\u001b[0m\u001b[0;34m.\u001b[0m\u001b[0mflags\u001b[0m\u001b[0;34m.\u001b[0m\u001b[0mwriteable\u001b[0m \u001b[0;34m=\u001b[0m \u001b[0;32mFalse\u001b[0m\u001b[0;34m\u001b[0m\u001b[0;34m\u001b[0m\u001b[0m\n\u001b[0;32m----> 3\u001b[0;31m \u001b[0mZ\u001b[0m\u001b[0;34m[\u001b[0m\u001b[0;36m0\u001b[0m\u001b[0;34m]\u001b[0m \u001b[0;34m=\u001b[0m \u001b[0;36m1\u001b[0m\u001b[0;34m\u001b[0m\u001b[0;34m\u001b[0m\u001b[0m\n\u001b[0m",
            "\u001b[0;31mValueError\u001b[0m: assignment destination is read-only"
          ]
        }
      ]
    },
    {
      "cell_type": "markdown",
      "metadata": {
        "id": "9L-ZXYSQYeSJ"
      },
      "source": [
        "34. Consider a random 10x2 matrix representing cartesian coordinates, convert them to polar coordinates"
      ]
    },
    {
      "cell_type": "code",
      "metadata": {
        "colab": {
          "base_uri": "https://localhost:8080/"
        },
        "id": "26pjmG5IYmiW",
        "outputId": "ec4d5ac1-dbf3-4fe7-de62-95afe71c494f"
      },
      "source": [
        "Z = np.random.random((10,2))\r\n",
        "X,Y = Z[:,0], Z[:,1]\r\n",
        "R = np.sqrt(X**2+Y**2)\r\n",
        "T = np.arctan2(Y,X)\r\n",
        "print(R)\r\n",
        "print(T)"
      ],
      "execution_count": null,
      "outputs": [
        {
          "output_type": "stream",
          "text": [
            "[1.2215477  1.00956054 0.23809987 1.13586085 0.83963682 0.73072187\n",
            " 0.46613162 0.82561635 0.74619429 0.29504355]\n",
            "[0.8541187  0.73546613 0.55968908 0.7021983  0.57910936 1.05852051\n",
            " 1.22275891 0.69485696 0.95519881 0.80192721]\n"
          ],
          "name": "stdout"
        }
      ]
    },
    {
      "cell_type": "markdown",
      "metadata": {
        "id": "RZirboruY0Tg"
      },
      "source": [
        "35.Create random vector of size 10 and replace the maximum value by 0"
      ]
    },
    {
      "cell_type": "code",
      "metadata": {
        "colab": {
          "base_uri": "https://localhost:8080/"
        },
        "id": "Z8kXq04mY5W3",
        "outputId": "9827bea7-0a9b-46e1-bd7b-7f3b75239ae0"
      },
      "source": [
        "Z = np.random.random(10)\r\n",
        "print(Z)\r\n",
        "Z[Z.argmax()] = 0\r\n",
        "print(Z)"
      ],
      "execution_count": null,
      "outputs": [
        {
          "output_type": "stream",
          "text": [
            "[0.5390677  0.56277853 0.12142089 0.20674682 0.82957212 0.53736899\n",
            " 0.96249571 0.89898419 0.49668806 0.93883187]\n",
            "[0.5390677  0.56277853 0.12142089 0.20674682 0.82957212 0.53736899\n",
            " 0.         0.89898419 0.49668806 0.93883187]\n"
          ],
          "name": "stdout"
        }
      ]
    },
    {
      "cell_type": "markdown",
      "metadata": {
        "id": "6MFeronUZFIM"
      },
      "source": [
        "36.Create a structured array with x and y coordinates covering the [0,1]x[0,1] area"
      ]
    },
    {
      "cell_type": "code",
      "metadata": {
        "colab": {
          "base_uri": "https://localhost:8080/"
        },
        "id": "2ND2fMCCZMZf",
        "outputId": "0157653c-b6a4-449d-f919-a40df764eff1"
      },
      "source": [
        "Z = np.zeros((10,10), [('x',float),('y',float)])\r\n",
        "Z['x'], Z['y'] = np.meshgrid(np.linspace(0,1,10),\r\n",
        "np.linspace(0,1,10))\r\n",
        "print(Z)"
      ],
      "execution_count": null,
      "outputs": [
        {
          "output_type": "stream",
          "text": [
            "[[(0.        , 0.        ) (0.11111111, 0.        )\n",
            "  (0.22222222, 0.        ) (0.33333333, 0.        )\n",
            "  (0.44444444, 0.        ) (0.55555556, 0.        )\n",
            "  (0.66666667, 0.        ) (0.77777778, 0.        )\n",
            "  (0.88888889, 0.        ) (1.        , 0.        )]\n",
            " [(0.        , 0.11111111) (0.11111111, 0.11111111)\n",
            "  (0.22222222, 0.11111111) (0.33333333, 0.11111111)\n",
            "  (0.44444444, 0.11111111) (0.55555556, 0.11111111)\n",
            "  (0.66666667, 0.11111111) (0.77777778, 0.11111111)\n",
            "  (0.88888889, 0.11111111) (1.        , 0.11111111)]\n",
            " [(0.        , 0.22222222) (0.11111111, 0.22222222)\n",
            "  (0.22222222, 0.22222222) (0.33333333, 0.22222222)\n",
            "  (0.44444444, 0.22222222) (0.55555556, 0.22222222)\n",
            "  (0.66666667, 0.22222222) (0.77777778, 0.22222222)\n",
            "  (0.88888889, 0.22222222) (1.        , 0.22222222)]\n",
            " [(0.        , 0.33333333) (0.11111111, 0.33333333)\n",
            "  (0.22222222, 0.33333333) (0.33333333, 0.33333333)\n",
            "  (0.44444444, 0.33333333) (0.55555556, 0.33333333)\n",
            "  (0.66666667, 0.33333333) (0.77777778, 0.33333333)\n",
            "  (0.88888889, 0.33333333) (1.        , 0.33333333)]\n",
            " [(0.        , 0.44444444) (0.11111111, 0.44444444)\n",
            "  (0.22222222, 0.44444444) (0.33333333, 0.44444444)\n",
            "  (0.44444444, 0.44444444) (0.55555556, 0.44444444)\n",
            "  (0.66666667, 0.44444444) (0.77777778, 0.44444444)\n",
            "  (0.88888889, 0.44444444) (1.        , 0.44444444)]\n",
            " [(0.        , 0.55555556) (0.11111111, 0.55555556)\n",
            "  (0.22222222, 0.55555556) (0.33333333, 0.55555556)\n",
            "  (0.44444444, 0.55555556) (0.55555556, 0.55555556)\n",
            "  (0.66666667, 0.55555556) (0.77777778, 0.55555556)\n",
            "  (0.88888889, 0.55555556) (1.        , 0.55555556)]\n",
            " [(0.        , 0.66666667) (0.11111111, 0.66666667)\n",
            "  (0.22222222, 0.66666667) (0.33333333, 0.66666667)\n",
            "  (0.44444444, 0.66666667) (0.55555556, 0.66666667)\n",
            "  (0.66666667, 0.66666667) (0.77777778, 0.66666667)\n",
            "  (0.88888889, 0.66666667) (1.        , 0.66666667)]\n",
            " [(0.        , 0.77777778) (0.11111111, 0.77777778)\n",
            "  (0.22222222, 0.77777778) (0.33333333, 0.77777778)\n",
            "  (0.44444444, 0.77777778) (0.55555556, 0.77777778)\n",
            "  (0.66666667, 0.77777778) (0.77777778, 0.77777778)\n",
            "  (0.88888889, 0.77777778) (1.        , 0.77777778)]\n",
            " [(0.        , 0.88888889) (0.11111111, 0.88888889)\n",
            "  (0.22222222, 0.88888889) (0.33333333, 0.88888889)\n",
            "  (0.44444444, 0.88888889) (0.55555556, 0.88888889)\n",
            "  (0.66666667, 0.88888889) (0.77777778, 0.88888889)\n",
            "  (0.88888889, 0.88888889) (1.        , 0.88888889)]\n",
            " [(0.        , 1.        ) (0.11111111, 1.        )\n",
            "  (0.22222222, 1.        ) (0.33333333, 1.        )\n",
            "  (0.44444444, 1.        ) (0.55555556, 1.        )\n",
            "  (0.66666667, 1.        ) (0.77777778, 1.        )\n",
            "  (0.88888889, 1.        ) (1.        , 1.        )]]\n"
          ],
          "name": "stdout"
        }
      ]
    },
    {
      "cell_type": "markdown",
      "metadata": {
        "id": "bBpP8-h5az0y"
      },
      "source": [
        "37.Given two arrays, X and Y, construct the Cauchy matrix C (Cij = 1/(xi yj))"
      ]
    },
    {
      "cell_type": "code",
      "metadata": {
        "colab": {
          "base_uri": "https://localhost:8080/"
        },
        "id": "WSbuak-4a9aw",
        "outputId": "50d46b9c-2685-4ca3-8173-1e3f60680291"
      },
      "source": [
        "X = np.arange(8)\r\n",
        "Y = X + 0.5\r\n",
        "C = 1.0 / np.subtract.outer(X, Y)\r\n",
        "print(np.linalg.det(C))"
      ],
      "execution_count": null,
      "outputs": [
        {
          "output_type": "stream",
          "text": [
            "3638.1636371179666\n"
          ],
          "name": "stdout"
        }
      ]
    },
    {
      "cell_type": "markdown",
      "metadata": {
        "id": "VkImF41ZbCKC"
      },
      "source": [
        "38. Print the minimum and maximum representable value for each numpy scalar type"
      ]
    },
    {
      "cell_type": "code",
      "metadata": {
        "colab": {
          "base_uri": "https://localhost:8080/"
        },
        "id": "x9Z_0TqkbKY_",
        "outputId": "ba2cbd9d-382f-436f-ff54-aa463b2815b2"
      },
      "source": [
        "for dtype in [np.int8, np.int32, np.int64]:\r\n",
        "  print(np.iinfo(dtype).min)\r\n",
        "  print(np.iinfo(dtype).max)\r\n",
        "for dtype in [np.float32, np.float64]:\r\n",
        "  print(np.finfo(dtype).min)\r\n",
        "  print(np.finfo(dtype).max)\r\n",
        "  print(np.finfo(dtype).eps)"
      ],
      "execution_count": null,
      "outputs": [
        {
          "output_type": "stream",
          "text": [
            "-128\n",
            "127\n",
            "-2147483648\n",
            "2147483647\n",
            "-9223372036854775808\n",
            "9223372036854775807\n",
            "-3.4028235e+38\n",
            "3.4028235e+38\n",
            "1.1920929e-07\n",
            "-1.7976931348623157e+308\n",
            "1.7976931348623157e+308\n",
            "2.220446049250313e-16\n"
          ],
          "name": "stdout"
        }
      ]
    },
    {
      "cell_type": "markdown",
      "metadata": {
        "id": "ZPxpxTWBbbxb"
      },
      "source": [
        "39. How to find the closest value (to a given scalar) in an array?"
      ]
    },
    {
      "cell_type": "code",
      "metadata": {
        "colab": {
          "base_uri": "https://localhost:8080/"
        },
        "id": "0_Mvx-5Obheh",
        "outputId": "8433a89b-5537-4442-ec87-60dd5a6dd180"
      },
      "source": [
        "Z = np.arange(100)\r\n",
        "v = np.random.uniform(0,100)\r\n",
        "index = (np.abs(Z-v)).argmin()\r\n",
        "print(Z[index])"
      ],
      "execution_count": null,
      "outputs": [
        {
          "output_type": "stream",
          "text": [
            "98\n"
          ],
          "name": "stdout"
        }
      ]
    },
    {
      "cell_type": "markdown",
      "metadata": {
        "id": "HbgbuZ2fb4gC"
      },
      "source": [
        "40. Create a structured array representing a position (x,y) and a color (r,g,b)"
      ]
    },
    {
      "cell_type": "code",
      "metadata": {
        "id": "nhugIuzRcsJB"
      },
      "source": [
        "Z = np.zeros(10, [ ('position', [ ('x', float, 1),\r\n",
        "('y', float, 1)]),\r\n",
        "('color', [ ('r', float, 1),\r\n",
        "('g', float, 1),\r\n",
        "('b', float, 1)])])\r\n",
        "print(Z)"
      ],
      "execution_count": null,
      "outputs": []
    },
    {
      "cell_type": "markdown",
      "metadata": {
        "id": "D1D0I7Dlc0bB"
      },
      "source": [
        "41. Consider a random vector with shape (100,2) representing coordinates, find point by point distances."
      ]
    },
    {
      "cell_type": "code",
      "metadata": {
        "colab": {
          "base_uri": "https://localhost:8080/"
        },
        "id": "o79xRn-kdAGS",
        "outputId": "764a9f34-99b4-4884-ff85-9f6bf61485e9"
      },
      "source": [
        "Z = np.random.random((10,2))\r\n",
        "X,Y = np.atleast_2d(Z[:,0]), np.atleast_2d(Z[:,1])\r\n",
        "D = np.sqrt( (X-X.T)**2 + (Y-Y.T)**2)\r\n",
        "print(D)"
      ],
      "execution_count": null,
      "outputs": [
        {
          "output_type": "stream",
          "text": [
            "[[0.         0.81533626 0.50401431 0.65926148 0.78221748 0.37027687\n",
            "  0.73393948 0.18525956 0.88747464 0.39920515]\n",
            " [0.81533626 0.         0.31418204 0.47815957 0.53627357 0.65633866\n",
            "  0.15305411 0.67155637 0.45427957 0.47785322]\n",
            " [0.50401431 0.31418204 0.         0.42101249 0.47222161 0.37791265\n",
            "  0.27015657 0.37727987 0.4930188  0.18762774]\n",
            " [0.65926148 0.47815957 0.42101249 0.         0.8835617  0.7446779\n",
            "  0.3251255  0.47405104 0.86903146 0.57285338]\n",
            " [0.78221748 0.53627357 0.47222161 0.8835617  0.         0.42936626\n",
            "  0.6275192  0.75235386 0.16323175 0.41123908]\n",
            " [0.37027687 0.65633866 0.37791265 0.7446779  0.42936626 0.\n",
            "  0.6465274  0.40487086 0.55968479 0.19029304]\n",
            " [0.73393948 0.15305411 0.27015657 0.3251255  0.6275192  0.6465274\n",
            "  0.         0.57173545 0.57535056 0.45680051]\n",
            " [0.18525956 0.67155637 0.37727987 0.47405104 0.75235386 0.40487086\n",
            "  0.57173545 0.         0.82754582 0.34133024]\n",
            " [0.88747464 0.45427957 0.4930188  0.86903146 0.16323175 0.55968479\n",
            "  0.57535056 0.82754582 0.         0.49336349]\n",
            " [0.39920515 0.47785322 0.18762774 0.57285338 0.41123908 0.19029304\n",
            "  0.45680051 0.34133024 0.49336349 0.        ]]\n"
          ],
          "name": "stdout"
        }
      ]
    },
    {
      "cell_type": "markdown",
      "metadata": {
        "id": "e8zit1P-d17V"
      },
      "source": [
        "42. What is the equivalent of enumerate for numpy arrays?"
      ]
    },
    {
      "cell_type": "code",
      "metadata": {
        "colab": {
          "base_uri": "https://localhost:8080/"
        },
        "id": "zUmLryDueOqZ",
        "outputId": "8f0a9257-b37b-4585-83d2-1331d1b25550"
      },
      "source": [
        "Z = np.arange(9).reshape(3,3)\r\n",
        "for index, value in np.ndenumerate(Z):\r\n",
        "  print(index, value)\r\n",
        "for index in np.ndindex(Z.shape):\r\n",
        "  print(index, Z[index])"
      ],
      "execution_count": null,
      "outputs": [
        {
          "output_type": "stream",
          "text": [
            "(0, 0) 0\n",
            "(0, 1) 1\n",
            "(0, 2) 2\n",
            "(1, 0) 3\n",
            "(1, 1) 4\n",
            "(1, 2) 5\n",
            "(2, 0) 6\n",
            "(2, 1) 7\n",
            "(2, 2) 8\n",
            "(0, 0) 0\n",
            "(0, 1) 1\n",
            "(0, 2) 2\n",
            "(1, 0) 3\n",
            "(1, 1) 4\n",
            "(1, 2) 5\n",
            "(2, 0) 6\n",
            "(2, 1) 7\n",
            "(2, 2) 8\n"
          ],
          "name": "stdout"
        }
      ]
    },
    {
      "cell_type": "markdown",
      "metadata": {
        "id": "fwkxoaqseKI2"
      },
      "source": [
        "43. Generate a generic 2D Gaussianlike array"
      ]
    },
    {
      "cell_type": "code",
      "metadata": {
        "colab": {
          "base_uri": "https://localhost:8080/"
        },
        "id": "JqDS4u_EesgA",
        "outputId": "b248a518-abca-4ef2-eb23-be853c7ed4b5"
      },
      "source": [
        "X, Y = np.meshgrid(np.linspace(-1,1,10), np.linspace(-1,1,10))\r\n",
        "D = np.sqrt(X*X+Y*Y)\r\n",
        "sigma, mu = 1.0, 0.0\r\n",
        "G = np.exp(-( (D-mu)**2 / ( 2.0 * sigma**2 ) ) )\r\n",
        "print(G)"
      ],
      "execution_count": null,
      "outputs": [
        {
          "output_type": "stream",
          "text": [
            "[[0.36787944 0.44822088 0.51979489 0.57375342 0.60279818 0.60279818\n",
            "  0.57375342 0.51979489 0.44822088 0.36787944]\n",
            " [0.44822088 0.54610814 0.63331324 0.69905581 0.73444367 0.73444367\n",
            "  0.69905581 0.63331324 0.54610814 0.44822088]\n",
            " [0.51979489 0.63331324 0.73444367 0.81068432 0.85172308 0.85172308\n",
            "  0.81068432 0.73444367 0.63331324 0.51979489]\n",
            " [0.57375342 0.69905581 0.81068432 0.89483932 0.9401382  0.9401382\n",
            "  0.89483932 0.81068432 0.69905581 0.57375342]\n",
            " [0.60279818 0.73444367 0.85172308 0.9401382  0.98773022 0.98773022\n",
            "  0.9401382  0.85172308 0.73444367 0.60279818]\n",
            " [0.60279818 0.73444367 0.85172308 0.9401382  0.98773022 0.98773022\n",
            "  0.9401382  0.85172308 0.73444367 0.60279818]\n",
            " [0.57375342 0.69905581 0.81068432 0.89483932 0.9401382  0.9401382\n",
            "  0.89483932 0.81068432 0.69905581 0.57375342]\n",
            " [0.51979489 0.63331324 0.73444367 0.81068432 0.85172308 0.85172308\n",
            "  0.81068432 0.73444367 0.63331324 0.51979489]\n",
            " [0.44822088 0.54610814 0.63331324 0.69905581 0.73444367 0.73444367\n",
            "  0.69905581 0.63331324 0.54610814 0.44822088]\n",
            " [0.36787944 0.44822088 0.51979489 0.57375342 0.60279818 0.60279818\n",
            "  0.57375342 0.51979489 0.44822088 0.36787944]]\n",
            "[[0.36787944 0.44822088 0.51979489 0.57375342 0.60279818 0.60279818\n",
            "  0.57375342 0.51979489 0.44822088 0.36787944]\n",
            " [0.44822088 0.54610814 0.63331324 0.69905581 0.73444367 0.73444367\n",
            "  0.69905581 0.63331324 0.54610814 0.44822088]\n",
            " [0.51979489 0.63331324 0.73444367 0.81068432 0.85172308 0.85172308\n",
            "  0.81068432 0.73444367 0.63331324 0.51979489]\n",
            " [0.57375342 0.69905581 0.81068432 0.89483932 0.9401382  0.9401382\n",
            "  0.89483932 0.81068432 0.69905581 0.57375342]\n",
            " [0.60279818 0.73444367 0.85172308 0.9401382  0.98773022 0.98773022\n",
            "  0.9401382  0.85172308 0.73444367 0.60279818]\n",
            " [0.60279818 0.73444367 0.85172308 0.9401382  0.98773022 0.98773022\n",
            "  0.9401382  0.85172308 0.73444367 0.60279818]\n",
            " [0.57375342 0.69905581 0.81068432 0.89483932 0.9401382  0.9401382\n",
            "  0.89483932 0.81068432 0.69905581 0.57375342]\n",
            " [0.51979489 0.63331324 0.73444367 0.81068432 0.85172308 0.85172308\n",
            "  0.81068432 0.73444367 0.63331324 0.51979489]\n",
            " [0.44822088 0.54610814 0.63331324 0.69905581 0.73444367 0.73444367\n",
            "  0.69905581 0.63331324 0.54610814 0.44822088]\n",
            " [0.36787944 0.44822088 0.51979489 0.57375342 0.60279818 0.60279818\n",
            "  0.57375342 0.51979489 0.44822088 0.36787944]]\n"
          ],
          "name": "stdout"
        }
      ]
    },
    {
      "cell_type": "markdown",
      "metadata": {
        "id": "FjDdEUele8hn"
      },
      "source": [
        "44. How to randomly place p elements in a 2D array?"
      ]
    },
    {
      "cell_type": "code",
      "metadata": {
        "colab": {
          "base_uri": "https://localhost:8080/"
        },
        "id": "uisloXSCfIPn",
        "outputId": "8f1ea211-fd3d-46fa-8885-7ccc65df12ea"
      },
      "source": [
        "n = 10\r\n",
        "p = 3\r\n",
        "Z = np.zeros((n,n))\r\n",
        "np.put(Z, np.random.choice(range(n*n), p, replace=False),1)\r\n",
        "print(Z)"
      ],
      "execution_count": null,
      "outputs": [
        {
          "output_type": "stream",
          "text": [
            "[[0. 0. 0. 0. 0. 0. 0. 0. 0. 0.]\n",
            " [1. 0. 0. 0. 0. 0. 0. 0. 0. 0.]\n",
            " [0. 0. 0. 0. 0. 0. 0. 0. 0. 0.]\n",
            " [0. 0. 0. 0. 0. 0. 0. 0. 0. 0.]\n",
            " [0. 0. 0. 0. 0. 0. 0. 0. 0. 0.]\n",
            " [0. 0. 0. 0. 0. 0. 0. 0. 0. 0.]\n",
            " [0. 0. 0. 0. 0. 0. 0. 0. 0. 0.]\n",
            " [0. 0. 0. 0. 0. 0. 0. 0. 0. 0.]\n",
            " [1. 0. 1. 0. 0. 0. 0. 0. 0. 0.]\n",
            " [0. 0. 0. 0. 0. 0. 0. 0. 0. 0.]]\n"
          ],
          "name": "stdout"
        }
      ]
    },
    {
      "cell_type": "markdown",
      "metadata": {
        "id": "k8nrtTOelz5c"
      },
      "source": [
        "45.Subtract the mean of each row of a matrix"
      ]
    },
    {
      "cell_type": "code",
      "metadata": {
        "colab": {
          "base_uri": "https://localhost:8080/"
        },
        "id": "whmT0lrtl2xw",
        "outputId": "70f78742-9853-41db-9745-ad379d9a902e"
      },
      "source": [
        "X = np.random.rand(5, 10)\r\n",
        "# Recent versions of numpy\r\n",
        "Y = X - X.mean(axis=1, keepdims=True)\r\n",
        "print(Y)\r\n",
        "# Older versions of numpy\r\n",
        "Y = X - X.mean(axis=1).reshape(-1, 1)\r\n",
        "print(Y)"
      ],
      "execution_count": null,
      "outputs": [
        {
          "output_type": "stream",
          "text": [
            "[[-0.07196194 -0.34755706  0.25402262  0.13440998 -0.17362261 -0.09135304\n",
            "   0.00770844  0.23182701 -0.33709458  0.39362118]\n",
            " [-0.05984859  0.32460578  0.11204361 -0.31275336  0.15553857  0.03261423\n",
            "  -0.33362484  0.03589201 -0.34396054  0.38949313]\n",
            " [-0.14054623 -0.05215521  0.25669357  0.12119244 -0.16926798 -0.25328737\n",
            "   0.38884609 -0.35736996 -0.13545045  0.34134509]\n",
            " [-0.4049578  -0.00303527  0.19274878 -0.02398775 -0.3188344  -0.40718884\n",
            "   0.3402728   0.33061464  0.03072997  0.26363787]\n",
            " [ 0.30818901  0.31420554 -0.4274055  -0.11156769  0.13161522 -0.23857052\n",
            "   0.11371472 -0.17969028  0.40803656 -0.31852707]]\n",
            "[[-0.07196194 -0.34755706  0.25402262  0.13440998 -0.17362261 -0.09135304\n",
            "   0.00770844  0.23182701 -0.33709458  0.39362118]\n",
            " [-0.05984859  0.32460578  0.11204361 -0.31275336  0.15553857  0.03261423\n",
            "  -0.33362484  0.03589201 -0.34396054  0.38949313]\n",
            " [-0.14054623 -0.05215521  0.25669357  0.12119244 -0.16926798 -0.25328737\n",
            "   0.38884609 -0.35736996 -0.13545045  0.34134509]\n",
            " [-0.4049578  -0.00303527  0.19274878 -0.02398775 -0.3188344  -0.40718884\n",
            "   0.3402728   0.33061464  0.03072997  0.26363787]\n",
            " [ 0.30818901  0.31420554 -0.4274055  -0.11156769  0.13161522 -0.23857052\n",
            "   0.11371472 -0.17969028  0.40803656 -0.31852707]]\n"
          ],
          "name": "stdout"
        }
      ]
    },
    {
      "cell_type": "markdown",
      "metadata": {
        "id": "hYF7OQKSmKRQ"
      },
      "source": [
        "46. How to I sort an array by the nth column?"
      ]
    },
    {
      "cell_type": "code",
      "metadata": {
        "colab": {
          "base_uri": "https://localhost:8080/"
        },
        "id": "AgvGBQM6mXNC",
        "outputId": "8ab45be3-c8d4-4cc4-d992-8ff873ff9376"
      },
      "source": [
        "Z = np.random.randint(0,10,(3,3))\r\n",
        "print(Z)\r\n",
        "print(Z[Z[:,1].argsort()])"
      ],
      "execution_count": null,
      "outputs": [
        {
          "output_type": "stream",
          "text": [
            "[[3 3 0]\n",
            " [5 5 3]\n",
            " [0 4 4]]\n",
            "[[3 3 0]\n",
            " [0 4 4]\n",
            " [5 5 3]]\n"
          ],
          "name": "stdout"
        }
      ]
    },
    {
      "cell_type": "markdown",
      "metadata": {
        "id": "RHb1oXYEmp6G"
      },
      "source": [
        "47. How to tell if a given 2D array has null columns?"
      ]
    },
    {
      "cell_type": "code",
      "metadata": {
        "colab": {
          "base_uri": "https://localhost:8080/"
        },
        "id": "_EcHsr2OmxMN",
        "outputId": "ddbb29ec-e42e-4b04-be11-d52fc2e96031"
      },
      "source": [
        "Z = np.random.randint(0,3,(3,10))\r\n",
        "print((~Z.any(axis=0)).any())"
      ],
      "execution_count": null,
      "outputs": [
        {
          "output_type": "stream",
          "text": [
            "True\n"
          ],
          "name": "stdout"
        }
      ]
    },
    {
      "cell_type": "markdown",
      "metadata": {
        "id": "D7CgcSd2m27z"
      },
      "source": [
        "48. Find the nearest value from a given value in an array"
      ]
    },
    {
      "cell_type": "code",
      "metadata": {
        "colab": {
          "base_uri": "https://localhost:8080/"
        },
        "id": "ZFn12Kh7m9G5",
        "outputId": "ca5bddc2-9778-49c2-de9b-ca140b8fa3cf"
      },
      "source": [
        "Z = np.random.uniform(0,1,10)\r\n",
        "print(Z)\r\n",
        "z = 0.5\r\n",
        "m = Z.flat[np.abs(Z - z).argmin()]\r\n",
        "print(m)"
      ],
      "execution_count": null,
      "outputs": [
        {
          "output_type": "stream",
          "text": [
            "[0.11314308 0.69799003 0.46039798 0.17748945 0.34267689 0.1406482\n",
            " 0.99934374 0.76907903 0.69321287 0.34837261]\n",
            "0.46039798246357433\n"
          ],
          "name": "stdout"
        }
      ]
    },
    {
      "cell_type": "markdown",
      "metadata": {
        "id": "1frcgJu1nNgF"
      },
      "source": [
        "49.Consider a given vector, how to add 1 to each element indexed by a second\r\n",
        "vector (be careful with repeated indices)?"
      ]
    },
    {
      "cell_type": "code",
      "metadata": {
        "colab": {
          "base_uri": "https://localhost:8080/"
        },
        "id": "udujre7JnZfL",
        "outputId": "23a2f85b-624e-4012-a299-758e83c8e085"
      },
      "source": [
        "Z = np.ones(10)\r\n",
        "I = np.random.randint(0,len(Z),20)\r\n",
        "Z += np.bincount(I, minlength=len(Z))\r\n",
        "print(Z)"
      ],
      "execution_count": null,
      "outputs": [
        {
          "output_type": "stream",
          "text": [
            "[2. 5. 4. 4. 2. 4. 3. 1. 2. 3.]\n"
          ],
          "name": "stdout"
        }
      ]
    },
    {
      "cell_type": "markdown",
      "metadata": {
        "id": "dqp-mpGOne_X"
      },
      "source": [
        "50. How to accumulate elements of a vector (X) to an array (F) based on an index list (I)?"
      ]
    },
    {
      "cell_type": "code",
      "metadata": {
        "colab": {
          "base_uri": "https://localhost:8080/"
        },
        "id": "qyGJHEw6nkEW",
        "outputId": "f2311c2e-2034-4374-c345-46418d9af151"
      },
      "source": [
        "X = [1,2,3,4,5,6]\r\n",
        "I = [1,3,9,3,4,1]\r\n",
        "F = np.bincount(I,X)\r\n",
        "print(F)"
      ],
      "execution_count": null,
      "outputs": [
        {
          "output_type": "stream",
          "text": [
            "[0. 7. 0. 6. 5. 0. 0. 0. 0. 3.]\n"
          ],
          "name": "stdout"
        }
      ]
    },
    {
      "cell_type": "markdown",
      "metadata": {
        "id": "8yI1jSwIClg3"
      },
      "source": [
        "51. Considering a four dimensions array, how to get sum over the last two axis at once?"
      ]
    },
    {
      "cell_type": "code",
      "metadata": {
        "colab": {
          "base_uri": "https://localhost:8080/"
        },
        "id": "j8O6GaVuCvRY",
        "outputId": "b5a2f7fc-b0d1-4577-c443-e15786858558"
      },
      "source": [
        "A = np.random.randint(0,10,(3,4,3,4))\r\n",
        "print (A)\r\n",
        "sum = A.reshape(A.shape[:-2] + (-1,)).sum(axis=-1)\r\n",
        "print(sum)"
      ],
      "execution_count": null,
      "outputs": [
        {
          "output_type": "stream",
          "text": [
            "[[[[5 7 1 9]\n",
            "   [1 0 5 1]\n",
            "   [9 5 2 2]]\n",
            "\n",
            "  [[8 0 3 9]\n",
            "   [4 1 8 9]\n",
            "   [7 0 9 6]]\n",
            "\n",
            "  [[1 5 3 3]\n",
            "   [5 8 8 3]\n",
            "   [3 2 5 7]]\n",
            "\n",
            "  [[6 6 8 6]\n",
            "   [4 4 8 3]\n",
            "   [7 5 7 0]]]\n",
            "\n",
            "\n",
            " [[[6 5 4 5]\n",
            "   [0 2 2 8]\n",
            "   [9 9 9 3]]\n",
            "\n",
            "  [[9 3 4 6]\n",
            "   [2 9 2 2]\n",
            "   [1 4 7 9]]\n",
            "\n",
            "  [[3 8 6 6]\n",
            "   [6 6 4 0]\n",
            "   [5 1 6 7]]\n",
            "\n",
            "  [[0 7 8 9]\n",
            "   [2 7 2 6]\n",
            "   [6 6 6 2]]]\n",
            "\n",
            "\n",
            " [[[8 0 0 9]\n",
            "   [0 8 2 0]\n",
            "   [7 1 6 7]]\n",
            "\n",
            "  [[3 5 0 1]\n",
            "   [9 3 7 3]\n",
            "   [8 4 8 7]]\n",
            "\n",
            "  [[4 7 5 8]\n",
            "   [7 6 2 6]\n",
            "   [0 1 7 4]]\n",
            "\n",
            "  [[1 4 3 3]\n",
            "   [8 1 2 0]\n",
            "   [7 6 3 9]]]]\n",
            "[[47 64 53 64]\n",
            " [62 58 58 61]\n",
            " [48 58 57 47]]\n"
          ],
          "name": "stdout"
        }
      ]
    },
    {
      "cell_type": "markdown",
      "metadata": {
        "id": "LWkQgefYDJQN"
      },
      "source": [
        "52. Considering a onedimensional vector D, how to compute means of subsets of D\r\n",
        "using a vector S of same size describing subset indices?"
      ]
    },
    {
      "cell_type": "code",
      "metadata": {
        "colab": {
          "base_uri": "https://localhost:8080/"
        },
        "id": "1OkVE5yYDQJ3",
        "outputId": "3a0f9a1c-eefb-4fbc-ef25-cff63dffa794"
      },
      "source": [
        "D = np.random.uniform(0,1,100)\r\n",
        "#print(D)\r\n",
        "S = np.random.randint(0,10,100)\r\n",
        "#print(S)\r\n",
        "D_sums = np.bincount(S, weights=D)\r\n",
        "D_counts = np.bincount(S)\r\n",
        "D_means = D_sums / D_counts\r\n",
        "print(D_means)"
      ],
      "execution_count": null,
      "outputs": [
        {
          "output_type": "stream",
          "text": [
            "[0.42156071 0.60600274 0.40256798 0.57880046 0.54789501 0.61282077\n",
            " 0.40468054 0.53270213 0.50479161 0.59552341]\n"
          ],
          "name": "stdout"
        }
      ]
    },
    {
      "cell_type": "markdown",
      "metadata": {
        "id": "4ca0bLrPDrFz"
      },
      "source": [
        "53. How to get the diagonal of a dot product?"
      ]
    },
    {
      "cell_type": "code",
      "metadata": {
        "colab": {
          "base_uri": "https://localhost:8080/"
        },
        "id": "ctVjwzgkD4Je",
        "outputId": "f3c59a4d-dfa9-4cd8-fe6f-365f0c349ef6"
      },
      "source": [
        "# Slow version\r\n",
        "A = np.arange(12).reshape((4,3))\r\n",
        "B= np.arange(6).reshape(3,2)\r\n",
        "\r\n",
        "np.diag(np.dot(A, B))\r\n",
        "# Fast version\r\n",
        "#np.sum(A * B.T, axis=1)\r\n",
        "# Faster version\r\n",
        "#np.einsum(\"ij,ji->i\", A, B)"
      ],
      "execution_count": null,
      "outputs": [
        {
          "output_type": "execute_result",
          "data": {
            "text/plain": [
              "array([10, 40])"
            ]
          },
          "metadata": {
            "tags": []
          },
          "execution_count": 16
        }
      ]
    },
    {
      "cell_type": "markdown",
      "metadata": {
        "id": "ezM40qbVEG2P"
      },
      "source": [
        "54. Consider the vector [1, 2, 3, 4, 5], how to build a new vector with 3 consecutive zeros interleaved between each value?"
      ]
    },
    {
      "cell_type": "code",
      "metadata": {
        "colab": {
          "base_uri": "https://localhost:8080/"
        },
        "id": "YMj74fRvEPNu",
        "outputId": "0d31608e-fb23-4c37-cd8b-68e66bc57c1b"
      },
      "source": [
        "Z = np.array([1,2,3,4,5])\r\n",
        "nz = 3\r\n",
        "Z0 = np.zeros(len(Z) + (len(Z)-1)*(nz))\r\n",
        "Z0[::nz+1] = Z\r\n",
        "print(Z0)"
      ],
      "execution_count": null,
      "outputs": [
        {
          "output_type": "stream",
          "text": [
            "[1. 0. 0. 0. 2. 0. 0. 0. 3. 0. 0. 0. 4. 0. 0. 0. 5.]\n"
          ],
          "name": "stdout"
        }
      ]
    },
    {
      "cell_type": "markdown",
      "metadata": {
        "id": "0ickHy03Gtce"
      },
      "source": [
        "55. Consider an array of dimension (5,5,3), how to mulitply it by an array with\r\n",
        "dimensions (5,5)?"
      ]
    },
    {
      "cell_type": "code",
      "metadata": {
        "colab": {
          "base_uri": "https://localhost:8080/"
        },
        "id": "mIuL35kcG1bI",
        "outputId": "0ff535fb-5351-4a44-9b1f-f1b9c53c534e"
      },
      "source": [
        "A = np.ones((5,5,3))\r\n",
        "B = 2*np.ones((5,5))\r\n",
        "print(A * B[:,:,None])"
      ],
      "execution_count": null,
      "outputs": [
        {
          "output_type": "stream",
          "text": [
            "[[[2. 2. 2.]\n",
            "  [2. 2. 2.]\n",
            "  [2. 2. 2.]\n",
            "  [2. 2. 2.]\n",
            "  [2. 2. 2.]]\n",
            "\n",
            " [[2. 2. 2.]\n",
            "  [2. 2. 2.]\n",
            "  [2. 2. 2.]\n",
            "  [2. 2. 2.]\n",
            "  [2. 2. 2.]]\n",
            "\n",
            " [[2. 2. 2.]\n",
            "  [2. 2. 2.]\n",
            "  [2. 2. 2.]\n",
            "  [2. 2. 2.]\n",
            "  [2. 2. 2.]]\n",
            "\n",
            " [[2. 2. 2.]\n",
            "  [2. 2. 2.]\n",
            "  [2. 2. 2.]\n",
            "  [2. 2. 2.]\n",
            "  [2. 2. 2.]]\n",
            "\n",
            " [[2. 2. 2.]\n",
            "  [2. 2. 2.]\n",
            "  [2. 2. 2.]\n",
            "  [2. 2. 2.]\n",
            "  [2. 2. 2.]]]\n"
          ],
          "name": "stdout"
        }
      ]
    },
    {
      "cell_type": "markdown",
      "metadata": {
        "id": "D40hNgk8HDP8"
      },
      "source": [
        "56. How to swap two rows of an array?"
      ]
    },
    {
      "cell_type": "code",
      "metadata": {
        "colab": {
          "base_uri": "https://localhost:8080/"
        },
        "id": "QUy6jQpAHNVi",
        "outputId": "49366a44-3adb-4601-a2d6-0218ff633f8e"
      },
      "source": [
        "A = np.arange(25).reshape(5,5)\r\n",
        "print(A)\r\n",
        "A[[0,1]] = A[[1,0]]\r\n",
        "print(A)"
      ],
      "execution_count": null,
      "outputs": [
        {
          "output_type": "stream",
          "text": [
            "[[ 0  1  2  3  4]\n",
            " [ 5  6  7  8  9]\n",
            " [10 11 12 13 14]\n",
            " [15 16 17 18 19]\n",
            " [20 21 22 23 24]]\n",
            "[[ 5  6  7  8  9]\n",
            " [ 0  1  2  3  4]\n",
            " [10 11 12 13 14]\n",
            " [15 16 17 18 19]\n",
            " [20 21 22 23 24]]\n"
          ],
          "name": "stdout"
        }
      ]
    },
    {
      "cell_type": "markdown",
      "metadata": {
        "id": "iU4-nmrHHWKi"
      },
      "source": [
        "57. Consider a set of 10 triplets describing 10 triangles (with shared vertices), find the set of unique line segments composing all the triangles"
      ]
    },
    {
      "cell_type": "code",
      "metadata": {
        "colab": {
          "base_uri": "https://localhost:8080/"
        },
        "id": "BP5mReeiHofy",
        "outputId": "b0f688df-a418-46e3-e101-6ae43a8f6a1e"
      },
      "source": [
        "faces = np.random.randint(0,100,(10,3))\r\n",
        "F = np.roll(faces.repeat(2,axis=1),-1,axis=1)\r\n",
        "F = F.reshape(len(F)*3,2)\r\n",
        "F = np.sort(F,axis=1)\r\n",
        "G = F.view( dtype=[('p0',F.dtype),('p1',F.dtype)] )\r\n",
        "G = np.unique(G)\r\n",
        "print(G)"
      ],
      "execution_count": null,
      "outputs": [
        {
          "output_type": "stream",
          "text": [
            "[( 6, 11) ( 6, 99) ( 9, 47) ( 9, 80) (11, 99) (13, 69) (13, 70) (15, 59)\n",
            " (15, 60) (18, 66) (18, 90) (21, 38) (21, 43) (21, 45) (21, 83) (35, 76)\n",
            " (35, 82) (38, 43) (41, 65) (41, 73) (45, 83) (47, 80) (59, 60) (65, 67)\n",
            " (65, 73) (66, 90) (67, 67) (69, 70) (76, 82)]\n"
          ],
          "name": "stdout"
        }
      ]
    },
    {
      "cell_type": "markdown",
      "metadata": {
        "id": "z7Pm1WlDHrug"
      },
      "source": [
        "58. Given an array C that is a bincount, how to produce an array A such that\r\n",
        "np.bincount(A) == C?"
      ]
    },
    {
      "cell_type": "code",
      "metadata": {
        "colab": {
          "base_uri": "https://localhost:8080/"
        },
        "id": "gHS3irBOH2j8",
        "outputId": "bae5aff1-9ef7-4055-9935-b12ccc80d4cf"
      },
      "source": [
        "C = np.bincount([1,1,2,3,4,4,6])\r\n",
        "A = np.repeat(np.arange(len(C)), C)\r\n",
        "print(A)"
      ],
      "execution_count": null,
      "outputs": [
        {
          "output_type": "stream",
          "text": [
            "[1 1 2 3 4 4 6]\n"
          ],
          "name": "stdout"
        }
      ]
    },
    {
      "cell_type": "markdown",
      "metadata": {
        "id": "XGpUXSAiH7W8"
      },
      "source": [
        "59. How to compute averages using a sliding window over an array?"
      ]
    },
    {
      "cell_type": "code",
      "metadata": {
        "colab": {
          "base_uri": "https://localhost:8080/"
        },
        "id": "v9-upKgSICe1",
        "outputId": "3e9209c2-3c46-4c78-b8c4-7968397760aa"
      },
      "source": [
        "def moving_average(a, n=3) :\r\n",
        "  ret = np.cumsum(a, dtype=float)\r\n",
        "  ret[n:] = ret[n:] - ret[:-n]\r\n",
        "  return ret[n - 1:] / n\r\n",
        "Z = np.arange(20)\r\n",
        "print(moving_average(Z, n=3))"
      ],
      "execution_count": null,
      "outputs": [
        {
          "output_type": "stream",
          "text": [
            "[ 1.  2.  3.  4.  5.  6.  7.  8.  9. 10. 11. 12. 13. 14. 15. 16. 17. 18.]\n"
          ],
          "name": "stdout"
        }
      ]
    },
    {
      "cell_type": "markdown",
      "metadata": {
        "id": "2TS5C6neIO_i"
      },
      "source": [
        "60. Consider a onedimensional\r\n",
        "array Z, build a twodimensional\r\n",
        "array whose first row is (Z[0],Z[1],Z[2]) and each subsequent row is shifted by 1 (last row should be (Z[3], Z[2],Z[1])"
      ]
    },
    {
      "cell_type": "code",
      "metadata": {
        "colab": {
          "base_uri": "https://localhost:8080/"
        },
        "id": "q_M1mMQ3IYT8",
        "outputId": "de101497-b780-41c1-bae5-63166f484f91"
      },
      "source": [
        "from numpy.lib import stride_tricks\r\n",
        "def rolling(a, window):\r\n",
        "  shape = (a.size - window + 1, window)\r\n",
        "  strides = (a.itemsize, a.itemsize)\r\n",
        "  return stride_tricks.as_strided(a, shape=shape, strides=strides)\r\n",
        "Z = rolling(np.arange(10), 3)\r\n",
        "print(Z)"
      ],
      "execution_count": null,
      "outputs": [
        {
          "output_type": "stream",
          "text": [
            "[[0 1 2]\n",
            " [1 2 3]\n",
            " [2 3 4]\n",
            " [3 4 5]\n",
            " [4 5 6]\n",
            " [5 6 7]\n",
            " [6 7 8]\n",
            " [7 8 9]]\n"
          ],
          "name": "stdout"
        }
      ]
    },
    {
      "cell_type": "markdown",
      "metadata": {
        "id": "V2bhjNYpIu7M"
      },
      "source": [
        "61. Consider 2 sets of points P0,P1 describing lines (2d) and a point p, how to\r\n",
        "compute distance from p to each line i (P0[i],P1[i])?"
      ]
    },
    {
      "cell_type": "code",
      "metadata": {
        "colab": {
          "base_uri": "https://localhost:8080/"
        },
        "id": "jm26lIovJQWL",
        "outputId": "b3edfc48-024a-4db8-89ab-add2a34fbf24"
      },
      "source": [
        "def distance(P0, P1, p):\r\n",
        "  T = P1 - P0\r\n",
        "  L = (T**2).sum(axis=1)\r\n",
        "  U = -((P0[:,0]-p[...,0])*T[:,0] + (P0[:,1]-p[...,1])*T[:,1]) / L\r\n",
        "  U = U.reshape(len(U),1)\r\n",
        "  D = P0 + U*T - p\r\n",
        "  return np.sqrt((D**2).sum(axis=1))\r\n",
        "P0 = np.random.uniform(-10,10,(10,2))\r\n",
        "P1 = np.random.uniform(-10,10,(10,2))\r\n",
        "p = np.random.uniform(-10,10,( 1,2))\r\n",
        "print(distance(P0, P1, p))"
      ],
      "execution_count": null,
      "outputs": [
        {
          "output_type": "stream",
          "text": [
            "[8.45715383 2.72181849 0.25998477 8.93124544 6.86569842 3.15438713\n",
            " 7.03644556 4.93658612 8.71126516 7.04407866]\n"
          ],
          "name": "stdout"
        }
      ]
    },
    {
      "cell_type": "markdown",
      "metadata": {
        "id": "lq0TRhdXHYXH"
      },
      "source": [
        "62. Consider 2 sets of points P0,P1 describing lines (2d) and a set of points P, how to compute distance from each point j (P[j]) to each line i (P0[i],P1[i])?"
      ]
    },
    {
      "cell_type": "code",
      "metadata": {
        "id": "yYGZf_1oHbAV"
      },
      "source": [
        "P0 = np.random.uniform(-10, 10, (10,2))\r\n",
        "P1 = np.random.uniform(-10,10,(10,2))\r\n",
        "p = np.random.uniform(-10, 10, (10,2))\r\n",
        "A = np.array([distance(P0,P1,p_i) for p_i in p])\r\n",
        "print(A)"
      ],
      "execution_count": null,
      "outputs": []
    },
    {
      "cell_type": "markdown",
      "metadata": {
        "id": "4NS5vgRzIUjs"
      },
      "source": [
        "63. Consider an array Z = [1,2,3,4,5,6,7,8,9,10,11,12,13,14], how to generate an\r\n",
        "array R = [[1,2,3,4], [2,3,4,5], [3,4,5,6], ..., [11,12,13,14]]?"
      ]
    },
    {
      "cell_type": "code",
      "metadata": {
        "id": "3QJX6SdmIlO9"
      },
      "source": [
        "Z = np.arange(1,15,dtype=uint32)\r\n",
        "R = stride_tricks.as_strided(Z,(11,4),(4,4))\r\n",
        "print(R)"
      ],
      "execution_count": null,
      "outputs": []
    },
    {
      "cell_type": "markdown",
      "metadata": {
        "id": "7ZXF1Qr9JGNH"
      },
      "source": [
        "64. Compute a matrix rank"
      ]
    },
    {
      "cell_type": "code",
      "metadata": {
        "colab": {
          "base_uri": "https://localhost:8080/"
        },
        "id": "UY6jOp2dJOj0",
        "outputId": "5bbdb7e1-2e04-43f3-e9f1-d30a3189242c"
      },
      "source": [
        "Z = np.random.uniform(0,1,(10,10))\r\n",
        "U, S, V = np.linalg.svd(Z) # Singular Value Decomposition\r\n",
        "rank = np.sum(S > 1e-10)\r\n",
        "print(rank)"
      ],
      "execution_count": null,
      "outputs": [
        {
          "output_type": "stream",
          "text": [
            "10\n"
          ],
          "name": "stdout"
        }
      ]
    },
    {
      "cell_type": "markdown",
      "metadata": {
        "id": "ITEQNzNZJbYZ"
      },
      "source": [
        "65. How to find the most frequent value in an array?"
      ]
    },
    {
      "cell_type": "code",
      "metadata": {
        "colab": {
          "base_uri": "https://localhost:8080/"
        },
        "id": "f1574uZTLhgM",
        "outputId": "aab18c85-f276-4595-f6c8-7860b45acecf"
      },
      "source": [
        "Z = np.random.randint(0,10,50)\r\n",
        "print(np.bincount(Z).argmax())"
      ],
      "execution_count": null,
      "outputs": [
        {
          "output_type": "stream",
          "text": [
            "5\n"
          ],
          "name": "stdout"
        }
      ]
    },
    {
      "cell_type": "markdown",
      "metadata": {
        "id": "T_CF2dlYLl5N"
      },
      "source": [
        "66. Extract all the contiguous 3x3 blocks from a random 10x10 matrix "
      ]
    },
    {
      "cell_type": "code",
      "metadata": {
        "colab": {
          "base_uri": "https://localhost:8080/"
        },
        "id": "q4n4_jJXLt42",
        "outputId": "2a56e271-cca2-447e-bcea-bcb4e96a6408"
      },
      "source": [
        "Z = np.random.randint(0,5,(10,10))\r\n",
        "n = 3\r\n",
        "i = 1 + (Z.shape[0]-3)\r\n",
        "j = 1 + (Z.shape[1]-3)\r\n",
        "C = stride_tricks.as_strided(Z, shape=(i, j, n, n), strides=Z.strides + Z.strides)\r\n",
        "print(C)"
      ],
      "execution_count": null,
      "outputs": [
        {
          "output_type": "stream",
          "text": [
            "[[[[3 0 1]\n",
            "   [2 2 4]\n",
            "   [0 1 2]]\n",
            "\n",
            "  [[0 1 3]\n",
            "   [2 4 2]\n",
            "   [1 2 0]]\n",
            "\n",
            "  [[1 3 1]\n",
            "   [4 2 0]\n",
            "   [2 0 2]]\n",
            "\n",
            "  [[3 1 2]\n",
            "   [2 0 3]\n",
            "   [0 2 4]]\n",
            "\n",
            "  [[1 2 1]\n",
            "   [0 3 1]\n",
            "   [2 4 4]]\n",
            "\n",
            "  [[2 1 0]\n",
            "   [3 1 2]\n",
            "   [4 4 2]]\n",
            "\n",
            "  [[1 0 3]\n",
            "   [1 2 1]\n",
            "   [4 2 4]]\n",
            "\n",
            "  [[0 3 3]\n",
            "   [2 1 4]\n",
            "   [2 4 3]]]\n",
            "\n",
            "\n",
            " [[[2 2 4]\n",
            "   [0 1 2]\n",
            "   [2 1 0]]\n",
            "\n",
            "  [[2 4 2]\n",
            "   [1 2 0]\n",
            "   [1 0 1]]\n",
            "\n",
            "  [[4 2 0]\n",
            "   [2 0 2]\n",
            "   [0 1 0]]\n",
            "\n",
            "  [[2 0 3]\n",
            "   [0 2 4]\n",
            "   [1 0 2]]\n",
            "\n",
            "  [[0 3 1]\n",
            "   [2 4 4]\n",
            "   [0 2 2]]\n",
            "\n",
            "  [[3 1 2]\n",
            "   [4 4 2]\n",
            "   [2 2 1]]\n",
            "\n",
            "  [[1 2 1]\n",
            "   [4 2 4]\n",
            "   [2 1 0]]\n",
            "\n",
            "  [[2 1 4]\n",
            "   [2 4 3]\n",
            "   [1 0 0]]]\n",
            "\n",
            "\n",
            " [[[0 1 2]\n",
            "   [2 1 0]\n",
            "   [3 3 1]]\n",
            "\n",
            "  [[1 2 0]\n",
            "   [1 0 1]\n",
            "   [3 1 0]]\n",
            "\n",
            "  [[2 0 2]\n",
            "   [0 1 0]\n",
            "   [1 0 3]]\n",
            "\n",
            "  [[0 2 4]\n",
            "   [1 0 2]\n",
            "   [0 3 0]]\n",
            "\n",
            "  [[2 4 4]\n",
            "   [0 2 2]\n",
            "   [3 0 1]]\n",
            "\n",
            "  [[4 4 2]\n",
            "   [2 2 1]\n",
            "   [0 1 3]]\n",
            "\n",
            "  [[4 2 4]\n",
            "   [2 1 0]\n",
            "   [1 3 0]]\n",
            "\n",
            "  [[2 4 3]\n",
            "   [1 0 0]\n",
            "   [3 0 1]]]\n",
            "\n",
            "\n",
            " [[[2 1 0]\n",
            "   [3 3 1]\n",
            "   [4 3 2]]\n",
            "\n",
            "  [[1 0 1]\n",
            "   [3 1 0]\n",
            "   [3 2 2]]\n",
            "\n",
            "  [[0 1 0]\n",
            "   [1 0 3]\n",
            "   [2 2 2]]\n",
            "\n",
            "  [[1 0 2]\n",
            "   [0 3 0]\n",
            "   [2 2 3]]\n",
            "\n",
            "  [[0 2 2]\n",
            "   [3 0 1]\n",
            "   [2 3 2]]\n",
            "\n",
            "  [[2 2 1]\n",
            "   [0 1 3]\n",
            "   [3 2 1]]\n",
            "\n",
            "  [[2 1 0]\n",
            "   [1 3 0]\n",
            "   [2 1 0]]\n",
            "\n",
            "  [[1 0 0]\n",
            "   [3 0 1]\n",
            "   [1 0 4]]]\n",
            "\n",
            "\n",
            " [[[3 3 1]\n",
            "   [4 3 2]\n",
            "   [3 3 2]]\n",
            "\n",
            "  [[3 1 0]\n",
            "   [3 2 2]\n",
            "   [3 2 4]]\n",
            "\n",
            "  [[1 0 3]\n",
            "   [2 2 2]\n",
            "   [2 4 2]]\n",
            "\n",
            "  [[0 3 0]\n",
            "   [2 2 3]\n",
            "   [4 2 4]]\n",
            "\n",
            "  [[3 0 1]\n",
            "   [2 3 2]\n",
            "   [2 4 1]]\n",
            "\n",
            "  [[0 1 3]\n",
            "   [3 2 1]\n",
            "   [4 1 4]]\n",
            "\n",
            "  [[1 3 0]\n",
            "   [2 1 0]\n",
            "   [1 4 3]]\n",
            "\n",
            "  [[3 0 1]\n",
            "   [1 0 4]\n",
            "   [4 3 0]]]\n",
            "\n",
            "\n",
            " [[[4 3 2]\n",
            "   [3 3 2]\n",
            "   [3 3 4]]\n",
            "\n",
            "  [[3 2 2]\n",
            "   [3 2 4]\n",
            "   [3 4 2]]\n",
            "\n",
            "  [[2 2 2]\n",
            "   [2 4 2]\n",
            "   [4 2 3]]\n",
            "\n",
            "  [[2 2 3]\n",
            "   [4 2 4]\n",
            "   [2 3 2]]\n",
            "\n",
            "  [[2 3 2]\n",
            "   [2 4 1]\n",
            "   [3 2 3]]\n",
            "\n",
            "  [[3 2 1]\n",
            "   [4 1 4]\n",
            "   [2 3 2]]\n",
            "\n",
            "  [[2 1 0]\n",
            "   [1 4 3]\n",
            "   [3 2 1]]\n",
            "\n",
            "  [[1 0 4]\n",
            "   [4 3 0]\n",
            "   [2 1 4]]]\n",
            "\n",
            "\n",
            " [[[3 3 2]\n",
            "   [3 3 4]\n",
            "   [3 0 4]]\n",
            "\n",
            "  [[3 2 4]\n",
            "   [3 4 2]\n",
            "   [0 4 0]]\n",
            "\n",
            "  [[2 4 2]\n",
            "   [4 2 3]\n",
            "   [4 0 2]]\n",
            "\n",
            "  [[4 2 4]\n",
            "   [2 3 2]\n",
            "   [0 2 1]]\n",
            "\n",
            "  [[2 4 1]\n",
            "   [3 2 3]\n",
            "   [2 1 4]]\n",
            "\n",
            "  [[4 1 4]\n",
            "   [2 3 2]\n",
            "   [1 4 2]]\n",
            "\n",
            "  [[1 4 3]\n",
            "   [3 2 1]\n",
            "   [4 2 1]]\n",
            "\n",
            "  [[4 3 0]\n",
            "   [2 1 4]\n",
            "   [2 1 0]]]\n",
            "\n",
            "\n",
            " [[[3 3 4]\n",
            "   [3 0 4]\n",
            "   [3 4 4]]\n",
            "\n",
            "  [[3 4 2]\n",
            "   [0 4 0]\n",
            "   [4 4 1]]\n",
            "\n",
            "  [[4 2 3]\n",
            "   [4 0 2]\n",
            "   [4 1 0]]\n",
            "\n",
            "  [[2 3 2]\n",
            "   [0 2 1]\n",
            "   [1 0 4]]\n",
            "\n",
            "  [[3 2 3]\n",
            "   [2 1 4]\n",
            "   [0 4 4]]\n",
            "\n",
            "  [[2 3 2]\n",
            "   [1 4 2]\n",
            "   [4 4 0]]\n",
            "\n",
            "  [[3 2 1]\n",
            "   [4 2 1]\n",
            "   [4 0 2]]\n",
            "\n",
            "  [[2 1 4]\n",
            "   [2 1 0]\n",
            "   [0 2 0]]]]\n"
          ],
          "name": "stdout"
        }
      ]
    },
    {
      "cell_type": "markdown",
      "metadata": {
        "id": "YJT-4LhULzqb"
      },
      "source": [
        "67. Consider a 16x16 array, how to get the blocksum\r\n",
        "(block size is 4x4)?"
      ]
    },
    {
      "cell_type": "code",
      "metadata": {
        "id": "0v-CQZl2MAtf"
      },
      "source": [
        "Z = np.ones(16,16)\r\n",
        "k = 4\r\n",
        "S = np.add.reduceat(np.add.reduceat(Z, np.arange(0, Z.shape[0], k), axis=0),\r\n",
        "np.arange(0, Z.shape[1], k), axis=1)"
      ],
      "execution_count": null,
      "outputs": []
    },
    {
      "cell_type": "markdown",
      "metadata": {
        "id": "vDfHm3QEMSo2"
      },
      "source": [
        "68.How to get the n largest values of an array"
      ]
    },
    {
      "cell_type": "code",
      "metadata": {
        "colab": {
          "base_uri": "https://localhost:8080/"
        },
        "id": "_2T8LYrGMGC8",
        "outputId": "4b6a30c2-b303-406f-9bac-5eccbf752391"
      },
      "source": [
        "Z = np.arange(10000)\r\n",
        "np.random.shuffle(Z)\r\n",
        "n = 5\r\n",
        "print (Z[np.argsort(Z)[-n:]])"
      ],
      "execution_count": null,
      "outputs": [
        {
          "output_type": "stream",
          "text": [
            "[9995 9996 9997 9998 9999]\n"
          ],
          "name": "stdout"
        }
      ]
    },
    {
      "cell_type": "markdown",
      "metadata": {
        "id": "k_tMLyumMeZr"
      },
      "source": [
        "69. Given an arbitrary number of vectors, build the cartesian product (every\r\n",
        "combinations of every item)."
      ]
    },
    {
      "cell_type": "code",
      "metadata": {
        "colab": {
          "base_uri": "https://localhost:8080/"
        },
        "id": "XzHoL66WMnzt",
        "outputId": "2e69baad-3d8b-487e-b699-c1abc7d055af"
      },
      "source": [
        "def cartesian(arrays):\r\n",
        "  arrays = [np.asarray(a) for a in arrays]\r\n",
        "  shape = (len(x) for x in arrays)\r\n",
        "  ix = np.indices(shape, dtype=int)\r\n",
        "  ix = ix.reshape(len(arrays), -1).T\r\n",
        "  for n, arr in enumerate(arrays):\r\n",
        "    ix[:, n] = arrays[n][ix[:, n]]\r\n",
        "  return ix\r\n",
        "print (cartesian(([1, 2, 3], [4, 5], [6, 7])))"
      ],
      "execution_count": null,
      "outputs": [
        {
          "output_type": "stream",
          "text": [
            "[[1 4 6]\n",
            " [1 4 7]\n",
            " [1 5 6]\n",
            " [1 5 7]\n",
            " [2 4 6]\n",
            " [2 4 7]\n",
            " [2 5 6]\n",
            " [2 5 7]\n",
            " [3 4 6]\n",
            " [3 4 7]\n",
            " [3 5 6]\n",
            " [3 5 7]]\n"
          ],
          "name": "stdout"
        }
      ]
    },
    {
      "cell_type": "markdown",
      "metadata": {
        "id": "DwPQux7nM28B"
      },
      "source": [
        "70. Consider two arrays A and B of shape (8,3) and (2,2). How to find rows of A that contain elements of each row of B regardless of the order of the elements in B?"
      ]
    },
    {
      "cell_type": "code",
      "metadata": {
        "colab": {
          "base_uri": "https://localhost:8080/"
        },
        "id": "K7uJ9MlZYRDi",
        "outputId": "befa8fde-a24c-4654-ee15-7820e59350ca"
      },
      "source": [
        "A = np.random.randint(0,5,(8,3))\r\n",
        "B = np.random.randint(0,5,(2,2))\r\n",
        "C = (A[..., np.newaxis, np.newaxis] == B)\r\n",
        "rows = (C.sum(axis=(1,2,3)) >= B.shape[1]).nonzero()[0]\r\n",
        "print(rows)"
      ],
      "execution_count": 2,
      "outputs": [
        {
          "output_type": "stream",
          "text": [
            "[1 2 4 5 6 7]\n"
          ],
          "name": "stdout"
        }
      ]
    },
    {
      "cell_type": "markdown",
      "metadata": {
        "id": "jrlYr5d1YZV3"
      },
      "source": [
        "71. Considering a 10x3 matrix, extract rows with unequal values (e.g. [2,2,3])"
      ]
    },
    {
      "cell_type": "code",
      "metadata": {
        "colab": {
          "base_uri": "https://localhost:8080/"
        },
        "id": "pymHviZYYg48",
        "outputId": "064b0c26-1dbc-4407-d878-6f0cc2dd9020"
      },
      "source": [
        "nums = np.random.randint(0,4,(10,3))\r\n",
        "print(\"Original vector:\")\r\n",
        "print(nums)\r\n",
        "new_nums = np.logical_and.reduce(nums[:,1:] == nums[:,:-1], axis=1)\r\n",
        "result = nums[~new_nums]\r\n",
        "print(\"\\nRows with unequal values:\")\r\n",
        "print(result)"
      ],
      "execution_count": 5,
      "outputs": [
        {
          "output_type": "stream",
          "text": [
            "Original vector:\n",
            "[[0 3 0]\n",
            " [2 0 2]\n",
            " [3 2 2]\n",
            " [2 0 1]\n",
            " [3 0 1]\n",
            " [2 2 3]\n",
            " [1 0 0]\n",
            " [0 1 2]\n",
            " [2 1 2]\n",
            " [0 2 1]]\n",
            "\n",
            "Rows with unequal values:\n",
            "[[0 3 0]\n",
            " [2 0 2]\n",
            " [3 2 2]\n",
            " [2 0 1]\n",
            " [3 0 1]\n",
            " [2 2 3]\n",
            " [1 0 0]\n",
            " [0 1 2]\n",
            " [2 1 2]\n",
            " [0 2 1]]\n"
          ],
          "name": "stdout"
        }
      ]
    },
    {
      "cell_type": "markdown",
      "metadata": {
        "id": "xSmcgBE2ZdtZ"
      },
      "source": [
        "Same code with user define array for better understanding"
      ]
    },
    {
      "cell_type": "code",
      "metadata": {
        "colab": {
          "base_uri": "https://localhost:8080/"
        },
        "id": "eFR2V6XuYqAb",
        "outputId": "45424956-04c9-4d8f-936c-a7c71e52ba36"
      },
      "source": [
        "nums = np.array([(1,1,1),\r\n",
        "              (1,1,1),\r\n",
        "              (1,2,3)])\r\n",
        "print(\"Original vector:\")\r\n",
        "print(nums)\r\n",
        "new_nums = np.logical_and.reduce(nums[:,1:] == nums[:,:-1], axis=1)\r\n",
        "result = nums[~new_nums]\r\n",
        "print(\"\\nRows with unequal values:\")\r\n",
        "print(result)"
      ],
      "execution_count": 6,
      "outputs": [
        {
          "output_type": "stream",
          "text": [
            "Original vector:\n",
            "[[1 1 1]\n",
            " [1 1 1]\n",
            " [1 2 3]]\n",
            "\n",
            "Rows with unequal values:\n",
            "[[1 2 3]]\n"
          ],
          "name": "stdout"
        }
      ]
    },
    {
      "cell_type": "markdown",
      "metadata": {
        "id": "IngoEEMBZysA"
      },
      "source": [
        "72. Convert a vector of ints into a matrix binary representation"
      ]
    },
    {
      "cell_type": "code",
      "metadata": {
        "colab": {
          "base_uri": "https://localhost:8080/"
        },
        "id": "HRsirtFdZ-ch",
        "outputId": "6ce3132d-5ac4-413e-b809-51870ab924ef"
      },
      "source": [
        "I = np.array([0, 1, 2, 3, 15, 16, 32, 64, 128])\r\n",
        "B = ((I.reshape(-1,1) & (2**np.arange(8))) != 0).astype(int)\r\n",
        "print(B[:,::-1])"
      ],
      "execution_count": 7,
      "outputs": [
        {
          "output_type": "stream",
          "text": [
            "[[0 0 0 0 0 0 0 0]\n",
            " [0 0 0 0 0 0 0 1]\n",
            " [0 0 0 0 0 0 1 0]\n",
            " [0 0 0 0 0 0 1 1]\n",
            " [0 0 0 0 1 1 1 1]\n",
            " [0 0 0 1 0 0 0 0]\n",
            " [0 0 1 0 0 0 0 0]\n",
            " [0 1 0 0 0 0 0 0]\n",
            " [1 0 0 0 0 0 0 0]]\n"
          ],
          "name": "stdout"
        }
      ]
    },
    {
      "cell_type": "markdown",
      "metadata": {
        "id": "Yz6wHFAgaQni"
      },
      "source": [
        "73. Given a two dimensional array, how to extract unique rows?"
      ]
    },
    {
      "cell_type": "code",
      "metadata": {
        "colab": {
          "base_uri": "https://localhost:8080/"
        },
        "id": "j-_4s7Uqa6hC",
        "outputId": "1e2fb6dd-3ad5-4699-a12b-248a2f335d38"
      },
      "source": [
        "data = np.array([[1, 1, 1, 0, 0, 0],\r\n",
        "                 [0, 1, 1, 1, 0, 0],\r\n",
        "                 [0, 1, 1, 1, 0, 0],\r\n",
        "                 [1, 1, 1, 0, 0, 0],\r\n",
        "                 [1, 1, 1, 1, 1, 0]])\r\n",
        "unique_rows = np.unique(data, axis=0)\r\n",
        "print(unique_rows)"
      ],
      "execution_count": 9,
      "outputs": [
        {
          "output_type": "stream",
          "text": [
            "[[0 1 1 1 0 0]\n",
            " [1 1 1 0 0 0]\n",
            " [1 1 1 1 1 0]]\n"
          ],
          "name": "stdout"
        }
      ]
    }
  ]
}