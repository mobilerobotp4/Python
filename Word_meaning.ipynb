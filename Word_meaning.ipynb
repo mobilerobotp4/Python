{
  "nbformat": 4,
  "nbformat_minor": 0,
  "metadata": {
    "colab": {
      "name": "Word_meaning.ipynb",
      "provenance": [],
      "collapsed_sections": [],
      "authorship_tag": "ABX9TyN9kmhvjCjUCZMKP45Ayl3L"
    },
    "kernelspec": {
      "name": "python3",
      "display_name": "Python 3"
    }
  },
  "cells": [
    {
      "cell_type": "markdown",
      "metadata": {
        "id": "c5cQuhXpShuT"
      },
      "source": [
        "Find out the words with meaning. \r\n",
        "\r\n",
        "This is a guessing game. Have a **FUN!!!!!!**\r\n"
      ]
    },
    {
      "cell_type": "code",
      "metadata": {
        "colab": {
          "base_uri": "https://localhost:8080/"
        },
        "id": "pijrzMcrNmPg",
        "outputId": "eee1f81f-7d59-403a-df11-56a3341584f5"
      },
      "source": [
        "import random\r\n",
        "import string\r\n",
        "words_meanings= {\r\n",
        "                \"rekindle\": \"relight\",\r\n",
        "                \"pesky\":\"annoying\", \r\n",
        "                \"verge\": \"border\",\r\n",
        "                \"maneuver\": \"activity\",\r\n",
        "                \"accountability\":\"responsibility\",\r\n",
        "                \"profanity\": \"obscene language\",\r\n",
        "                \"hypochondriac\": \"a person who is abnormally anxious about their health\",\r\n",
        "                \"Entwined\" : \"wind or twist together\",\r\n",
        "                \"Continuance\" : \"maintenance\",\r\n",
        "                \"solitary\" : \"lonely\",\r\n",
        "                \r\n",
        "                 }\r\n",
        "keys_letter=[]\r\n",
        "\r\n",
        "for x in words_meanings:\r\n",
        "  keys_letter.append(x)\r\n",
        "def find_meaning():\r\n",
        "  used_letters = []\r\n",
        "  word = keys_letter[random.randrange(len(keys_letter))]\r\n",
        "  #print(word)\r\n",
        "  attempts=5\r\n",
        "  i=0\r\n",
        "  while len(word) > len(used_letters) and attempts > 0 and i<len(word):\r\n",
        "    guess = input(\"Please guess the letter: \")\r\n",
        "    #if guess in word and guess not in used_letters:\r\n",
        "    if guess == word[i]:\r\n",
        "      print(guess, \" is a correct guess\")\r\n",
        "      #print(\"correct word: \", word)\r\n",
        "      used_letters.append(guess)\r\n",
        "      i=i+1\r\n",
        "      if len(used_letters) == len(word):\r\n",
        "        print(\"Congratulation, You have guessed the correct letter: \",word)\r\n",
        "        print(\"The meaning of the word is: \",words_meanings[word])      \r\n",
        "      else:\r\n",
        "        remaining_letters =  len(word) - len(used_letters)\r\n",
        "        print(\"You have\", remaining_letters, \"letters left to solve the puzzle\")    \r\n",
        "    else:\r\n",
        "      attempts = attempts - 1\r\n",
        "      if attempts == 0:\r\n",
        "        print(\"Sorry! you don't have more attempts left to guess the word\")\r\n",
        "        print(\"Correct word is: \", word)\r\n",
        "        print(\"The meaning of the word is: \",words_meanings[word])\r\n",
        "        \r\n",
        "        break\r\n",
        "      else:\r\n",
        "        print(f\"The letter {guess} is a wrong letter\")\r\n",
        "        print(\"You have\", attempts , \" attempts left\")\r\n",
        "        \r\n",
        "    \r\n",
        "find_meaning()"
      ],
      "execution_count": 6,
      "outputs": [
        {
          "output_type": "stream",
          "text": [
            "Please guess the letter: a\n",
            "The letter a is a wrong letter\n",
            "You have 4  attempts left\n",
            "Please guess the letter: e\n",
            "The letter e is a wrong letter\n",
            "You have 3  attempts left\n",
            "Please guess the letter: p\n",
            "p  is a correct guess\n",
            "You have 4 letters left to solve the puzzle\n",
            "Please guess the letter: e\n",
            "e  is a correct guess\n",
            "You have 3 letters left to solve the puzzle\n",
            "Please guess the letter: y\n",
            "The letter y is a wrong letter\n",
            "You have 2  attempts left\n",
            "Please guess the letter: s\n",
            "s  is a correct guess\n",
            "You have 2 letters left to solve the puzzle\n",
            "Please guess the letter: k\n",
            "k  is a correct guess\n",
            "You have 1 letters left to solve the puzzle\n",
            "Please guess the letter: y\n",
            "y  is a correct guess\n",
            "Congratulation, You have guessed the correct letter:  pesky\n",
            "The meaning of the word is:  annoying\n"
          ],
          "name": "stdout"
        }
      ]
    }
  ]
}