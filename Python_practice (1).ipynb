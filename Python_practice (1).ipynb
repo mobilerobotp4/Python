{
 "cells": [
  {
   "cell_type": "code",
   "execution_count": 10,
   "metadata": {},
   "outputs": [
    {
     "name": "stdout",
     "output_type": "stream",
     "text": [
      "[1, 2, 3]\n",
      "[4, 2, 2]\n",
      "Total pairs: 4\n"
     ]
    }
   ],
   "source": [
    "socks_list = [1, 2, 3, 1, 1, 2, 3, 1]\n",
    "\n",
    "unique_list = list()\n",
    "\n",
    "for ele in socks_list:\n",
    "    if ele not in unique_list:\n",
    "        unique_list.append(ele)        \n",
    "print(unique_list)\n",
    "\n",
    "unique_ele_occurance = [0]*len(unique_list)\n",
    "for ele in socks_list:\n",
    "    i = 0\n",
    "    for x in unique_list:\n",
    "        if ele == x:\n",
    "            unique_ele_occurance[i] += 1\n",
    "            break\n",
    "        i += 1\n",
    "print(unique_ele_occurance)\n",
    "\n",
    "# Find number of complete pairs\n",
    "complete_pair = 0\n",
    "for x in unique_ele_occurance:\n",
    "    complete_pair += x//2\n",
    "print(\"Total pairs: {}\".format(complete_pair))"
   ]
  },
  {
   "cell_type": "code",
   "execution_count": 32,
   "metadata": {},
   "outputs": [
    {
     "name": "stdout",
     "output_type": "stream",
     "text": [
      "{'1': 4, '2': 2, '3': 2}\n",
      "Complete number of pairs: 4\n"
     ]
    }
   ],
   "source": [
    "socks_list = [1, 2, 3, 1, 1, 2, 3, 1]\n",
    "\n",
    "socks_dict = {}\n",
    "for ele in socks_list:\n",
    "    str_ele = str(ele)\n",
    "    if str_ele not in socks_dict.keys():\n",
    "        socks_dict[str_ele] = 1\n",
    "    else:\n",
    "        socks_dict[str_ele] += 1\n",
    "print(socks_dict)\n",
    "\n",
    "pair = 0\n",
    "for val in socks_dict.values():\n",
    "    pair += val//2\n",
    "print(\"Complete number of pairs: {}\".format(pair))"
   ]
  },
  {
   "cell_type": "code",
   "execution_count": 1,
   "metadata": {},
   "outputs": [
    {
     "name": "stdout",
     "output_type": "stream",
     "text": [
      "Turn from front page\n"
     ]
    }
   ],
   "source": [
    "n = 11\n",
    "p = 5\n",
    "\n",
    "max_possible_turn = n//2\n",
    "turn_from_start = p//2\n",
    "\n",
    "if max_possible_turn/2 > turn_from_start:\n",
    "    print(\"Turn from front page\")\n",
    "else:\n",
    "    print(\"Turn from back\")\n",
    "        "
   ]
  },
  {
   "cell_type": "markdown",
   "metadata": {},
   "source": [
    "### Compute Prime Nunbers"
   ]
  },
  {
   "cell_type": "code",
   "execution_count": 5,
   "metadata": {},
   "outputs": [
    {
     "name": "stdout",
     "output_type": "stream",
     "text": [
      "List of prime numbers from 1 to 50:\n",
      "[2, 3, 5, 7, 11, 13, 17, 19, 23, 29, 31, 37, 41, 43, 47]\n"
     ]
    }
   ],
   "source": [
    "n = 50\n",
    "\n",
    "prime_list = [2]\n",
    "for i in range(3,n+1):\n",
    "    prime_flag = True\n",
    "    for j in prime_list:\n",
    "        if i%j == 0:\n",
    "            prime_flag = False\n",
    "            break\n",
    "    if prime_flag:\n",
    "        prime_list.append(i)\n",
    "print(\"List of prime numbers from 1 to {}:\".format(n))\n",
    "print(prime_list)"
   ]
  },
  {
   "cell_type": "markdown",
   "metadata": {},
   "source": [
    "### Factorize with prime numbers"
   ]
  },
  {
   "cell_type": "code",
   "execution_count": 6,
   "metadata": {},
   "outputs": [
    {
     "name": "stdout",
     "output_type": "stream",
     "text": [
      "[1, 0, 2, 0, 0, 0, 0, 0, 0, 0, 0, 0, 0, 0, 0]\n"
     ]
    }
   ],
   "source": [
    "occurances = [0]*len(prime_list)\n",
    "while n!=1:\n",
    "    for pf_indx, pf in enumerate(prime_list):\n",
    "        if n%pf == 0:\n",
    "            n /= pf\n",
    "            occurances[pf_indx] += 1\n",
    "            break\n",
    "print(occurances)"
   ]
  },
  {
   "cell_type": "markdown",
   "metadata": {},
   "source": [
    "### Sorting a list"
   ]
  },
  {
   "cell_type": "code",
   "execution_count": 16,
   "metadata": {},
   "outputs": [
    {
     "name": "stdout",
     "output_type": "stream",
     "text": [
      "[17, 20, 26, 31, 44, 54, 55, 77, 93]\n"
     ]
    }
   ],
   "source": [
    "w = [1, 5, 3, 6, 9, 7, 8]\n",
    "\n",
    "def quickSort(alist):\n",
    "   quickSortHelper(alist,0,len(alist)-1)\n",
    "\n",
    "def quickSortHelper(alist,first,last):\n",
    "   if first<last:\n",
    "\n",
    "       splitpoint = partition(alist,first,last)\n",
    "\n",
    "       quickSortHelper(alist,first,splitpoint-1)\n",
    "       quickSortHelper(alist,splitpoint+1,last)\n",
    "\n",
    "\n",
    "def partition(alist,first,last):\n",
    "   pivotvalue = alist[first]\n",
    "\n",
    "   leftmark = first+1\n",
    "   rightmark = last\n",
    "\n",
    "   done = False\n",
    "   while not done:\n",
    "\n",
    "       while leftmark <= rightmark and alist[leftmark] <= pivotvalue:\n",
    "           leftmark = leftmark + 1\n",
    "\n",
    "       while alist[rightmark] >= pivotvalue and rightmark >= leftmark:\n",
    "           rightmark = rightmark -1\n",
    "\n",
    "       if rightmark < leftmark:\n",
    "           done = True\n",
    "       else:\n",
    "           temp = alist[leftmark]\n",
    "           alist[leftmark] = alist[rightmark]\n",
    "           alist[rightmark] = temp\n",
    "\n",
    "   temp = alist[first]\n",
    "   alist[first] = alist[rightmark]\n",
    "   alist[rightmark] = temp\n",
    "\n",
    "\n",
    "   return rightmark\n",
    "\n",
    "alist = [54,26,93,17,77,31,44,55,20]\n",
    "quickSort(alist)\n",
    "print(alist)"
   ]
  }
 ],
 "metadata": {
  "kernelspec": {
   "display_name": "Python 3",
   "language": "python",
   "name": "python3"
  },
  "language_info": {
   "codemirror_mode": {
    "name": "ipython",
    "version": 3
   },
   "file_extension": ".py",
   "mimetype": "text/x-python",
   "name": "python",
   "nbconvert_exporter": "python",
   "pygments_lexer": "ipython3",
   "version": "3.6.8"
  }
 },
 "nbformat": 4,
 "nbformat_minor": 2
}
