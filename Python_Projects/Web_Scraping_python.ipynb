{
  "nbformat": 4,
  "nbformat_minor": 0,
  "metadata": {
    "colab": {
      "name": "Web_Scraping_python.ipynb",
      "provenance": []
    },
    "kernelspec": {
      "name": "python3",
      "display_name": "Python 3"
    },
    "language_info": {
      "name": "python"
    }
  },
  "cells": [
    {
      "cell_type": "markdown",
      "metadata": {
        "id": "8KekaE5rvhYZ"
      },
      "source": [
        "Findout the profile image from github using web scraping"
      ]
    },
    {
      "cell_type": "code",
      "metadata": {
        "id": "oM2NEWdKtp7p"
      },
      "source": [
        "import requests\n",
        "from bs4 import BeautifulSoup as bs"
      ],
      "execution_count": 2,
      "outputs": []
    },
    {
      "cell_type": "code",
      "metadata": {
        "colab": {
          "base_uri": "https://localhost:8080/"
        },
        "id": "4xZjsFvRuHnb",
        "outputId": "2d2ae66c-18d1-47e1-fee6-54c772da315a"
      },
      "source": [
        "github_user = input('input Github User:')\n",
        "url = 'https://github.com/'+github_user\n",
        "r=requests.get(url)\n",
        "soup = bs(r.content,'html.parser')\n",
        "profile_image = soup.find('img',{'alt':'Avatar'})['src']\n",
        "print(profile_image)"
      ],
      "execution_count": 6,
      "outputs": [
        {
          "output_type": "stream",
          "text": [
            "input Github User:mobilerobotp4\n",
            "https://avatars.githubusercontent.com/u/36052453?v=4\n"
          ],
          "name": "stdout"
        }
      ]
    }
  ]
}