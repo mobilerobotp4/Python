{
  "nbformat": 4,
  "nbformat_minor": 0,
  "metadata": {
    "colab": {
      "name": "QR_code.ipynb",
      "provenance": [],
      "collapsed_sections": []
    },
    "kernelspec": {
      "name": "python3",
      "display_name": "Python 3"
    },
    "language_info": {
      "name": "python"
    }
  },
  "cells": [
    {
      "cell_type": "markdown",
      "metadata": {
        "id": "KeJkyvVj-AW5"
      },
      "source": [
        "Basic code to generate a QR"
      ]
    },
    {
      "cell_type": "code",
      "metadata": {
        "colab": {
          "base_uri": "https://localhost:8080/"
        },
        "id": "2xu1dMZt8dSp",
        "outputId": "466393be-4e8f-4e25-b6d5-93222b15a7ff"
      },
      "source": [
        "pip install qrcode"
      ],
      "execution_count": 1,
      "outputs": [
        {
          "output_type": "stream",
          "text": [
            "Collecting qrcode\n",
            "  Downloading https://files.pythonhosted.org/packages/42/87/4a3a77e59ab7493d64da1f69bf1c2e899a4cf81e51b2baa855e8cc8115be/qrcode-6.1-py2.py3-none-any.whl\n",
            "Requirement already satisfied: six in /usr/local/lib/python3.7/dist-packages (from qrcode) (1.15.0)\n",
            "Installing collected packages: qrcode\n",
            "Successfully installed qrcode-6.1\n"
          ],
          "name": "stdout"
        }
      ]
    },
    {
      "cell_type": "code",
      "metadata": {
        "id": "TkrLRt1k9Nba"
      },
      "source": [
        "import qrcode"
      ],
      "execution_count": 2,
      "outputs": []
    },
    {
      "cell_type": "code",
      "metadata": {
        "id": "FDQYSmgG9Qm1"
      },
      "source": [
        "data = 'Authenticated'\n",
        "\n",
        "img = qrcode.make(data)\n",
        "\n",
        "img.save('trademark.jpg')"
      ],
      "execution_count": 3,
      "outputs": []
    },
    {
      "cell_type": "markdown",
      "metadata": {
        "id": "0whEh1Ay-HNC"
      },
      "source": [
        "Customize QR"
      ]
    },
    {
      "cell_type": "code",
      "metadata": {
        "id": "a46UJEe0-Plj"
      },
      "source": [
        "data_custom = \"My custom QR\"\n",
        "\n",
        "qr = qrcode.QRCode(version =1, box_size =10, border =5)\n",
        "\n",
        "qr.add_data(data_custom)\n",
        "\n",
        "qr.make(fit=True)\n",
        "\n",
        "img1 = qr.make_image(fill_color='blue', back_color='grey')\n",
        "\n",
        "img1.save('customqr.png')"
      ],
      "execution_count": 8,
      "outputs": []
    },
    {
      "cell_type": "markdown",
      "metadata": {
        "id": "4tEtVKVk_mWC"
      },
      "source": [
        "Decode the data of a QR code"
      ]
    },
    {
      "cell_type": "code",
      "metadata": {
        "colab": {
          "base_uri": "https://localhost:8080/"
        },
        "id": "m1iu-JoU_VDn",
        "outputId": "ce74f171-9243-45a2-976d-9706a72f24f2"
      },
      "source": [
        "pip install pyzbar"
      ],
      "execution_count": 4,
      "outputs": [
        {
          "output_type": "stream",
          "text": [
            "Collecting pyzbar\n",
            "  Downloading https://files.pythonhosted.org/packages/46/7e/d2ad702facc47c0b3106a494f5dfbc3f296aab7a07dac05d1f30bdad0fab/pyzbar-0.1.8-py2.py3-none-any.whl\n",
            "Installing collected packages: pyzbar\n",
            "Successfully installed pyzbar-0.1.8\n"
          ],
          "name": "stdout"
        }
      ]
    },
    {
      "cell_type": "code",
      "metadata": {
        "colab": {
          "base_uri": "https://localhost:8080/"
        },
        "id": "OtJbE_pCBbEB",
        "outputId": "871282db-73ae-40ce-9fd9-c1489f5c098c"
      },
      "source": [
        "!apt install libzbar0"
      ],
      "execution_count": 5,
      "outputs": [
        {
          "output_type": "stream",
          "text": [
            "Reading package lists... Done\n",
            "Building dependency tree       \n",
            "Reading state information... Done\n",
            "The following additional packages will be installed:\n",
            "  libv4l-0 libv4lconvert0\n",
            "The following NEW packages will be installed:\n",
            "  libv4l-0 libv4lconvert0 libzbar0\n",
            "0 upgraded, 3 newly installed, 0 to remove and 30 not upgraded.\n",
            "Need to get 193 kB of archives.\n",
            "After this operation, 760 kB of additional disk space will be used.\n",
            "Get:1 http://archive.ubuntu.com/ubuntu bionic/main amd64 libv4lconvert0 amd64 1.14.2-1 [76.1 kB]\n",
            "Get:2 http://archive.ubuntu.com/ubuntu bionic/main amd64 libv4l-0 amd64 1.14.2-1 [41.7 kB]\n",
            "Get:3 http://archive.ubuntu.com/ubuntu bionic/universe amd64 libzbar0 amd64 0.10+doc-10.1build2 [75.7 kB]\n",
            "Fetched 193 kB in 1s (334 kB/s)\n",
            "Selecting previously unselected package libv4lconvert0:amd64.\n",
            "(Reading database ... 160980 files and directories currently installed.)\n",
            "Preparing to unpack .../libv4lconvert0_1.14.2-1_amd64.deb ...\n",
            "Unpacking libv4lconvert0:amd64 (1.14.2-1) ...\n",
            "Selecting previously unselected package libv4l-0:amd64.\n",
            "Preparing to unpack .../libv4l-0_1.14.2-1_amd64.deb ...\n",
            "Unpacking libv4l-0:amd64 (1.14.2-1) ...\n",
            "Selecting previously unselected package libzbar0:amd64.\n",
            "Preparing to unpack .../libzbar0_0.10+doc-10.1build2_amd64.deb ...\n",
            "Unpacking libzbar0:amd64 (0.10+doc-10.1build2) ...\n",
            "Setting up libv4lconvert0:amd64 (1.14.2-1) ...\n",
            "Setting up libv4l-0:amd64 (1.14.2-1) ...\n",
            "Setting up libzbar0:amd64 (0.10+doc-10.1build2) ...\n",
            "Processing triggers for libc-bin (2.27-3ubuntu1.2) ...\n",
            "/sbin/ldconfig.real: /usr/local/lib/python3.7/dist-packages/ideep4py/lib/libmkldnn.so.0 is not a symbolic link\n",
            "\n"
          ],
          "name": "stdout"
        }
      ]
    },
    {
      "cell_type": "code",
      "metadata": {
        "colab": {
          "base_uri": "https://localhost:8080/"
        },
        "id": "O-CP14vB_q68",
        "outputId": "736c0dbe-a76b-4950-8c42-9d57b95bf913"
      },
      "source": [
        "from pyzbar.pyzbar import decode\n",
        "from PIL import Image\n",
        "\n",
        "decode_image = Image.open(\"trademark.jpg\")\n",
        "\n",
        "result = decode(decode_image)\n",
        "print(result)"
      ],
      "execution_count": 7,
      "outputs": [
        {
          "output_type": "stream",
          "text": [
            "[Decoded(data=b'Authenticated', type='QRCODE', rect=Rect(left=40, top=40, width=210, height=210), polygon=[Point(x=40, y=40), Point(x=40, y=250), Point(x=250, y=250), Point(x=250, y=40)])]\n"
          ],
          "name": "stdout"
        }
      ]
    },
    {
      "cell_type": "code",
      "metadata": {
        "colab": {
          "base_uri": "https://localhost:8080/"
        },
        "id": "DpGJF56Wto6A",
        "outputId": "7cb21ef2-cf8a-4f4d-e367-89f65f46b371"
      },
      "source": [
        "decode_image1 = Image.open(\"customqr.png\")\n",
        "\n",
        "result = decode(decode_image1)\n",
        "print(result)"
      ],
      "execution_count": 9,
      "outputs": [
        {
          "output_type": "stream",
          "text": [
            "[Decoded(data=b'My custom QR', type='QRCODE', rect=Rect(left=50, top=50, width=210, height=210), polygon=[Point(x=50, y=50), Point(x=50, y=260), Point(x=260, y=260), Point(x=260, y=50)])]\n"
          ],
          "name": "stdout"
        }
      ]
    }
  ]
}