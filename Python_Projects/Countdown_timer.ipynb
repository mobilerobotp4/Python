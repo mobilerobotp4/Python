{
  "nbformat": 4,
  "nbformat_minor": 0,
  "metadata": {
    "colab": {
      "name": "Countdown_timer.ipynb",
      "provenance": []
    },
    "kernelspec": {
      "name": "python3",
      "display_name": "Python 3"
    },
    "language_info": {
      "name": "python"
    }
  },
  "cells": [
    {
      "cell_type": "code",
      "metadata": {
        "id": "l5w7FriU2TX6"
      },
      "source": [
        "import time"
      ],
      "execution_count": 1,
      "outputs": []
    },
    {
      "cell_type": "code",
      "metadata": {
        "colab": {
          "base_uri": "https://localhost:8080/"
        },
        "id": "6aV8vHoW2sT8",
        "outputId": "ce81b822-8f4e-475a-fe1f-58a2d5256a3c"
      },
      "source": [
        "def countdown(t):\n",
        "  while t:\n",
        "    mins,secs = divmod(t,60)\n",
        "    timer = '{:02d}:{:02d}'.format(mins, secs)\n",
        "    print(timer, end='\\r')\n",
        "    time.sleep(1)\n",
        "    print(timer)\n",
        "    t-=1\n",
        "  print('Time is over')\n",
        "t = input(\"Enter time in second:\")\n",
        "countdown(int(t))"
      ],
      "execution_count": 4,
      "outputs": [
        {
          "output_type": "stream",
          "text": [
            "Enter time in second:4\n",
            "00:04\n",
            "00:03\n",
            "00:02\n",
            "00:01\n",
            "Time is over\n"
          ],
          "name": "stdout"
        }
      ]
    }
  ]
}