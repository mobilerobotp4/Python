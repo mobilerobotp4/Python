{
  "nbformat": 4,
  "nbformat_minor": 0,
  "metadata": {
    "colab": {
      "name": "password_generator_engine.ipynb",
      "provenance": []
    },
    "kernelspec": {
      "name": "python3",
      "display_name": "Python 3"
    },
    "language_info": {
      "name": "python"
    }
  },
  "cells": [
    {
      "cell_type": "markdown",
      "metadata": {
        "id": "NFEHoOuz5m4E"
      },
      "source": [
        "System Generated password"
      ]
    },
    {
      "cell_type": "code",
      "metadata": {
        "id": "J1Sq9IQ_5l1B"
      },
      "source": [
        "import random"
      ],
      "execution_count": 1,
      "outputs": []
    },
    {
      "cell_type": "code",
      "metadata": {
        "colab": {
          "base_uri": "https://localhost:8080/"
        },
        "id": "i4eQPYwB5zA0",
        "outputId": "b2b31168-f59d-44df-c6a5-5c666fbdf7ea"
      },
      "source": [
        "print(\"Welcome! Here is your password generate engine\")\n",
        "chars = 'abcdefghijklmnopqrstuvwxyzABCDEFGHIJKLMNOPQRSTUVWXYZ!@#$%^&*().,?0123456789'\n",
        "\n",
        "number = input('How many password you want to generate?')\n",
        "number = int(number)\n",
        "\n",
        "length = input('Input your password length:')\n",
        "length = int(length)\n",
        "\n",
        "print('\\n Your password is:')\n",
        "\n",
        "for pwd in range(number):\n",
        "  passwords = ''\n",
        "  for c in range(length):\n",
        "    passwords += random.choice(chars)\n",
        "  print(passwords)\n"
      ],
      "execution_count": 2,
      "outputs": [
        {
          "output_type": "stream",
          "text": [
            "Welcome! Here is your password generate engine\n",
            "How many password you want to generate?2\n",
            "Input your password length:6\n",
            "\n",
            " Your password is:\n",
            "f*IB4C\n",
            "15bopt\n"
          ],
          "name": "stdout"
        }
      ]
    }
  ]
}