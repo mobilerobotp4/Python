{
  "nbformat": 4,
  "nbformat_minor": 0,
  "metadata": {
    "colab": {
      "name": "Symbolic_math_notation.ipynb",
      "provenance": [],
      "authorship_tag": "ABX9TyOGczPwB9+i+qeYYRwWyrKp"
    },
    "kernelspec": {
      "name": "python3",
      "display_name": "Python 3"
    }
  },
  "cells": [
    {
      "cell_type": "markdown",
      "metadata": {
        "id": "dESGy3dTJ9WI"
      },
      "source": [
        "#Symbolic math\r\n",
        " URL {https://www.youtube.com/watch?v=EaYEQ30KlWw}\r\n",
        "\r\n",
        "Problem 1: part1\r\n",
        "\r\n",
        "Import the library needed for using symbolic math in python. Also setup the notebook for printing.\r\n"
      ]
    },
    {
      "cell_type": "code",
      "metadata": {
        "id": "EftG3fsfJ5z2"
      },
      "source": [
        "import sympy as sp\r\n",
        "sp.init_printing()"
      ],
      "execution_count": null,
      "outputs": []
    },
    {
      "cell_type": "markdown",
      "metadata": {
        "id": "sIZX7szEKuSZ"
      },
      "source": [
        "Part b: Set variables x, y, z, and function f, and g."
      ]
    },
    {
      "cell_type": "code",
      "metadata": {
        "colab": {
          "base_uri": "https://localhost:8080/",
          "height": 38
        },
        "id": "0dgMjPbsK1oo",
        "outputId": "672c36b9-39bd-4374-de03-3f776d57d457"
      },
      "source": [
        "x = sp.Symbol('x')\r\n",
        "y,z = sp.symbols('y, z')\r\n",
        "\r\n",
        "f=sp.Function('f')\r\n",
        "g = x**2 + y**2 + z**2\r\n",
        "g\r\n"
      ],
      "execution_count": null,
      "outputs": [
        {
          "output_type": "execute_result",
          "data": {
            "image/png": "[encoded data removed]",
            "text/latex": "$$x^{2} + y^{2} + z^{2}$$",
            "text/plain": [
              " 2    2    2\n",
              "x  + y  + z "
            ]
          },
          "metadata": {
            "tags": []
          },
          "execution_count": 4
        }
      ]
    },
    {
      "cell_type": "code",
      "metadata": {
        "colab": {
          "base_uri": "https://localhost:8080/"
        },
        "id": "he14tk_NL1d6",
        "outputId": "8e7bc6f9-c3f7-480b-eefc-a39c265084f6"
      },
      "source": [
        "x = sp.Symbol('x')\r\n",
        "y,z = sp.symbols('y, z')\r\n",
        "\r\n",
        "f=sp.Function('f')\r\n",
        "g = x**2 + y**2 + z**2\r\n",
        "sp.pprint(g)"
      ],
      "execution_count": null,
      "outputs": [
        {
          "output_type": "stream",
          "text": [
            " 2    2    2\n",
            "x  + y  + z \n"
          ],
          "name": "stdout"
        }
      ]
    },
    {
      "cell_type": "code",
      "metadata": {
        "colab": {
          "base_uri": "https://localhost:8080/"
        },
        "id": "YCyLbAcnL-ei",
        "outputId": "dec288e9-827b-4f18-ee13-3b1a472978ce"
      },
      "source": [
        "x = sp.Symbol('x')\r\n",
        "y,z = sp.symbols('y, z')\r\n",
        "\r\n",
        "f=sp.Function('f')\r\n",
        "g = x**2 + y**2 + z**2\r\n",
        "print (g)"
      ],
      "execution_count": null,
      "outputs": [
        {
          "output_type": "stream",
          "text": [
            "x**2 + y**2 + z**2\n"
          ],
          "name": "stdout"
        }
      ]
    },
    {
      "cell_type": "markdown",
      "metadata": {
        "id": "iF1mF50CMCQa"
      },
      "source": [
        "Part c : Set an expression for the following:\r\n",
        "\r\n",
        "$x^2 + 2x -5$"
      ]
    },
    {
      "cell_type": "code",
      "metadata": {
        "colab": {
          "base_uri": "https://localhost:8080/",
          "height": 38
        },
        "id": "rEr-mXLwMTjY",
        "outputId": "2a57cff9-9035-4bae-c24a-e9589e91a8b6"
      },
      "source": [
        "h = x**2 + 2*x -5\r\n",
        "h"
      ],
      "execution_count": null,
      "outputs": [
        {
          "output_type": "execute_result",
          "data": {
            "image/png": "[encoded data removed]",
            "text/latex": "$$x^{2} + 2 x - 5$$",
            "text/plain": [
              " 2          \n",
              "x  + 2⋅x - 5"
            ]
          },
          "metadata": {
            "tags": []
          },
          "execution_count": 7
        }
      ]
    },
    {
      "cell_type": "markdown",
      "metadata": {
        "id": "ahpdlI6qMgQ-"
      },
      "source": [
        "Part d\r\n",
        "\r\n",
        "Evaluate the expression for $x=1.5$ . Also, make a variable substitution: $z $ for $x$. Do a variable substitution $y^2$ for $x$."
      ]
    },
    {
      "cell_type": "code",
      "metadata": {
        "colab": {
          "base_uri": "https://localhost:8080/"
        },
        "id": "KYrlnoUrNAQX",
        "outputId": "e10a3908-bbbf-4dee-f0f0-ad60005cfddc"
      },
      "source": [
        "print(h.subs(x, 1.5))\r\n",
        "print(h.subs(x, z))\r\n",
        "print(h.subs(x, y**2))"
      ],
      "execution_count": null,
      "outputs": [
        {
          "output_type": "stream",
          "text": [
            "0.250000000000000\n",
            "z**2 + 2*z - 5\n",
            "y**4 + 2*y**2 - 5\n"
          ],
          "name": "stdout"
        }
      ]
    },
    {
      "cell_type": "markdown",
      "metadata": {
        "id": "AmKTXCHwPbta"
      },
      "source": [
        "Problem 2: Part a:\r\n",
        "\r\n",
        "Simplify the following expression:\r\n",
        "\r\n",
        "$\\frac{x^2 - x -6}{x^2 -3x}$"
      ]
    },
    {
      "cell_type": "code",
      "metadata": {
        "colab": {
          "base_uri": "https://localhost:8080/",
          "height": 38
        },
        "id": "f1lBOpDZQfGL",
        "outputId": "4abb942a-90bf-4365-90b5-c35829f56a3c"
      },
      "source": [
        "f = (x * x - x - 6) / (x * x -3 * x)\r\n",
        "sp.simplify(f)"
      ],
      "execution_count": null,
      "outputs": [
        {
          "output_type": "execute_result",
          "data": {
            "image/png": "[encoded data removed]",
            "text/latex": "$$\\frac{1}{x} \\left(x + 2\\right)$$",
            "text/plain": [
              "x + 2\n",
              "─────\n",
              "  x  "
            ]
          },
          "metadata": {
            "tags": []
          },
          "execution_count": 9
        }
      ]
    },
    {
      "cell_type": "markdown",
      "metadata": {
        "id": "kDsMNXuvRB8L"
      },
      "source": [
        "Part b: Expand the following expression symbolically:\r\n",
        "$(x+1)^3 (x-2)^2$"
      ]
    },
    {
      "cell_type": "code",
      "metadata": {
        "colab": {
          "base_uri": "https://localhost:8080/",
          "height": 38
        },
        "id": "ACSrjTnhRcly",
        "outputId": "7250f78e-b23d-476d-9bb8-c058c92e67be"
      },
      "source": [
        "f = (x+1)**3 * (x-2)**2\r\n",
        "sp.expand(f)"
      ],
      "execution_count": null,
      "outputs": [
        {
          "output_type": "execute_result",
          "data": {
            "image/png": "[encoded data removed]",
            "text/latex": "$$x^{5} - x^{4} - 5 x^{3} + x^{2} + 8 x + 4$$",
            "text/plain": [
              " 5    4      3    2          \n",
              "x  - x  - 5⋅x  + x  + 8⋅x + 4"
            ]
          },
          "metadata": {
            "tags": []
          },
          "execution_count": 10
        }
      ]
    },
    {
      "cell_type": "markdown",
      "metadata": {
        "id": "DPyze1h4R15_"
      },
      "source": [
        "Part c:\r\n",
        "\r\n",
        "Factor the following expression: $3x^4 - 36x^3 + 99x^2 - 6x -144$"
      ]
    },
    {
      "cell_type": "code",
      "metadata": {
        "colab": {
          "base_uri": "https://localhost:8080/",
          "height": 38
        },
        "id": "vMJHQ0j-SNT4",
        "outputId": "00ca9986-bc9a-4bdf-b4e6-8026670622a4"
      },
      "source": [
        "f = 3*x**4 - 36*x**3 +99*x**2 -6*x -144\r\n",
        "sp.factor(f)"
      ],
      "execution_count": null,
      "outputs": [
        {
          "output_type": "execute_result",
          "data": {
            "image/png": "[encoded data removed]",
            "text/latex": "$$3 \\left(x - 8\\right) \\left(x - 3\\right) \\left(x - 2\\right) \\left(x + 1\\right)$$",
            "text/plain": [
              "3⋅(x - 8)⋅(x - 3)⋅(x - 2)⋅(x + 1)"
            ]
          },
          "metadata": {
            "tags": []
          },
          "execution_count": 11
        }
      ]
    },
    {
      "cell_type": "markdown",
      "metadata": {
        "id": "bZxUVeSofIwj"
      },
      "source": [
        "**Problem 3:**\r\n",
        "\r\n",
        "Compute the symbolic derivative: $\\frac{d}{dx}sin^2(x)e^{2x}$\r\n",
        "\r\n",
        "Then evaluate the resulting expression for $x=3.3$"
      ]
    },
    {
      "cell_type": "code",
      "metadata": {
        "colab": {
          "base_uri": "https://localhost:8080/",
          "height": 38
        },
        "id": "Q3qCARGTg6C2",
        "outputId": "87edd033-4b43-430a-97eb-036aab1a8ea0"
      },
      "source": [
        "y = (sp.sin(x))**2 * (sp.exp(2*x))\r\n",
        "y"
      ],
      "execution_count": null,
      "outputs": [
        {
          "output_type": "execute_result",
          "data": {
            "image/png": "[encoded data removed]",
            "text/latex": "$$e^{2 x} \\sin^{2}{\\left (x \\right )}$$",
            "text/plain": [
              " 2⋅x    2   \n",
              "ℯ   ⋅sin (x)"
            ]
          },
          "metadata": {
            "tags": []
          },
          "execution_count": 13
        }
      ]
    },
    {
      "cell_type": "code",
      "metadata": {
        "colab": {
          "base_uri": "https://localhost:8080/",
          "height": 38
        },
        "id": "zfv19jDChTby",
        "outputId": "b478737c-c95d-4e95-9e47-62b77bebf5ea"
      },
      "source": [
        "z= sp.diff(y,x)\r\n",
        "z"
      ],
      "execution_count": null,
      "outputs": [
        {
          "output_type": "execute_result",
          "data": {
            "image/png": "[encoded data removed]",
            "text/latex": "$$2 e^{2 x} \\sin^{2}{\\left (x \\right )} + 2 e^{2 x} \\sin{\\left (x \\right )} \\cos{\\left (x \\right )}$$",
            "text/plain": [
              "   2⋅x    2         2⋅x              \n",
              "2⋅ℯ   ⋅sin (x) + 2⋅ℯ   ⋅sin(x)⋅cos(x)"
            ]
          },
          "metadata": {
            "tags": []
          },
          "execution_count": 14
        }
      ]
    },
    {
      "cell_type": "code",
      "metadata": {
        "colab": {
          "base_uri": "https://localhost:8080/",
          "height": 37
        },
        "id": "OKbkNVq8h2-j",
        "outputId": "a1873a88-bd11-434e-f171-e1cee136c7db"
      },
      "source": [
        "z.subs(x,3.3)"
      ],
      "execution_count": null,
      "outputs": [
        {
          "output_type": "execute_result",
          "data": {
            "image/png": "[encoded data removed]",
            "text/latex": "$$265.596339800896$$",
            "text/plain": [
              "265.596339800896"
            ]
          },
          "metadata": {
            "tags": []
          },
          "execution_count": 17
        }
      ]
    },
    {
      "cell_type": "markdown",
      "metadata": {
        "id": "E56FuOk3iK14"
      },
      "source": [
        "Part b\r\n",
        "\r\n",
        "Create a sympy expression representing the following integral:\r\n",
        "\r\n",
        "$ \\int_{0}^{5} x^2 sin(x^2) \\,dx $\r\n",
        "\r\n",
        "Then evaluate the integral symbolically."
      ]
    },
    {
      "cell_type": "code",
      "metadata": {
        "colab": {
          "base_uri": "https://localhost:8080/",
          "height": 38
        },
        "id": "u2eGT3DNi8t3",
        "outputId": "6e340bf6-8651-4a9f-aa89-f091bfe5fea1"
      },
      "source": [
        "y = x**2 * (sp.sin(x**2))\r\n",
        "y"
      ],
      "execution_count": null,
      "outputs": [
        {
          "output_type": "execute_result",
          "data": {
            "image/png": "[encoded data removed]",
            "text/latex": "$$x^{2} \\sin{\\left (x^{2} \\right )}$$",
            "text/plain": [
              " 2    ⎛ 2⎞\n",
              "x ⋅sin⎝x ⎠"
            ]
          },
          "metadata": {
            "tags": []
          },
          "execution_count": 20
        }
      ]
    },
    {
      "cell_type": "code",
      "metadata": {
        "colab": {
          "base_uri": "https://localhost:8080/",
          "height": 57
        },
        "id": "0reCtRCMjljc",
        "outputId": "77cc3284-f7f1-465a-a92c-2cb3e085ffd9"
      },
      "source": [
        "g = sp.integrate(y,(x,0,5)) \r\n",
        "g"
      ],
      "execution_count": null,
      "outputs": [
        {
          "output_type": "execute_result",
          "data": {
            "image/png": "[encoded data removed]",
            "text/latex": "$$- \\frac{25 \\cos{\\left (25 \\right )}}{8 \\Gamma{\\left(\\frac{9}{4} \\right)}} \\Gamma{\\left(\\frac{5}{4} \\right)} + \\frac{5 \\sqrt{2} \\sqrt{\\pi} C\\left(\\frac{5 \\sqrt{2}}{\\sqrt{\\pi}}\\right)}{16 \\Gamma{\\left(\\frac{9}{4} \\right)}} \\Gamma{\\left(\\frac{5}{4} \\right)}$$",
            "text/plain": [
              "                                      ⎛5⋅√2⎞       \n",
              "                      5⋅√2⋅√π⋅fresnelc⎜────⎟⋅Γ(5/4)\n",
              "  25⋅cos(25)⋅Γ(5/4)                   ⎝ √π ⎠       \n",
              "- ───────────────── + ─────────────────────────────\n",
              "       8⋅Γ(9/4)                 16⋅Γ(9/4)          "
            ]
          },
          "metadata": {
            "tags": []
          },
          "execution_count": 22
        }
      ]
    },
    {
      "cell_type": "code",
      "metadata": {
        "colab": {
          "base_uri": "https://localhost:8080/",
          "height": 37
        },
        "id": "d1eZ8654kXnZ",
        "outputId": "4fc46def-5aa1-4bdb-ab32-5407bb9f8b41"
      },
      "source": [
        "g.evalf()"
      ],
      "execution_count": null,
      "outputs": [
        {
          "output_type": "execute_result",
          "data": {
            "image/png": "[encoded data removed]",
            "text/latex": "$$-2.17227364646045$$",
            "text/plain": [
              "-2.17227364646045"
            ]
          },
          "metadata": {
            "tags": []
          },
          "execution_count": 23
        }
      ]
    },
    {
      "cell_type": "markdown",
      "metadata": {
        "id": "WwfDWeqLkmhc"
      },
      "source": [
        "**Problem 4**\r\n",
        "\r\n",
        "Part a: Solve for the roots of the following equation:\r\n",
        "\r\n",
        "$x^3 +15x^2 = 3x -10$\r\n",
        "\r\n",
        "Use the Eq and solve functions and save as an expression. Show the expression (it will be a list). Then find the\r\n",
        "numerical value of each root using the evalf function. You can use evalf on some expression using\r\n",
        "my_expression.evalf()."
      ]
    },
    {
      "cell_type": "code",
      "metadata": {
        "colab": {
          "base_uri": "https://localhost:8080/",
          "height": 38
        },
        "id": "IINQjvsKlIBS",
        "outputId": "6c6ac6a1-ab36-42df-df78-b55a0f46e20a"
      },
      "source": [
        "f = sp.Eq(x**3 + 15*x**2 , 3*x - 10)\r\n",
        "f"
      ],
      "execution_count": null,
      "outputs": [
        {
          "output_type": "execute_result",
          "data": {
            "image/png": "[encoded data removed]",
            "text/latex": "$$x^{3} + 15 x^{2} = 3 x - 10$$",
            "text/plain": [
              " 3       2           \n",
              "x  + 15⋅x  = 3⋅x - 10"
            ]
          },
          "metadata": {
            "tags": []
          },
          "execution_count": 24
        }
      ]
    },
    {
      "cell_type": "code",
      "metadata": {
        "colab": {
          "base_uri": "https://localhost:8080/",
          "height": 88
        },
        "id": "2ra6Uz9blvj4",
        "outputId": "c586b3cd-3256-4579-9990-4c6e02bb37b9"
      },
      "source": [
        "z = sp.solve(f,x)\r\n",
        "z"
      ],
      "execution_count": null,
      "outputs": [
        {
          "output_type": "execute_result",
          "data": {
            "image/png": "[encoded data removed]",
            "text/latex": "$$\\left [ -5 - \\frac{78}{\\left(- \\frac{1}{2} - \\frac{\\sqrt{3} i}{2}\\right) \\sqrt[3]{\\frac{27 \\sqrt{5321}}{2} + \\frac{7425}{2}}} - \\frac{1}{3} \\left(- \\frac{1}{2} - \\frac{\\sqrt{3} i}{2}\\right) \\sqrt[3]{\\frac{27 \\sqrt{5321}}{2} + \\frac{7425}{2}}, \\quad -5 - \\frac{1}{3} \\left(- \\frac{1}{2} + \\frac{\\sqrt{3} i}{2}\\right) \\sqrt[3]{\\frac{27 \\sqrt{5321}}{2} + \\frac{7425}{2}} - \\frac{78}{\\left(- \\frac{1}{2} + \\frac{\\sqrt{3} i}{2}\\right) \\sqrt[3]{\\frac{27 \\sqrt{5321}}{2} + \\frac{7425}{2}}}, \\quad - \\frac{1}{3} \\sqrt[3]{\\frac{27 \\sqrt{5321}}{2} + \\frac{7425}{2}} - 5 - \\frac{78}{\\sqrt[3]{\\frac{27 \\sqrt{5321}}{2} + \\frac{7425}{2}}}\\right ]$$",
            "text/plain": [
              "⎡                                                           _________________ \n",
              "⎢                                          ⎛  1   √3⋅ⅈ⎞    ╱ 27⋅√5321   7425  \n",
              "⎢                                          ⎜- ─ - ────⎟⋅3 ╱  ──────── + ────  \n",
              "⎢                     78                   ⎝  2    2  ⎠ ╲╱      2        2    \n",
              "⎢-5 - ────────────────────────────────── - ──────────────────────────────────,\n",
              "⎢                      _________________                   3                  \n",
              "⎢     ⎛  1   √3⋅ⅈ⎞    ╱ 27⋅√5321   7425                                       \n",
              "⎢     ⎜- ─ - ────⎟⋅3 ╱  ──────── + ────                                       \n",
              "⎣     ⎝  2    2  ⎠ ╲╱      2        2                                         \n",
              "\n",
              "                       _________________                                      \n",
              "      ⎛  1   √3⋅ⅈ⎞    ╱ 27⋅√5321   7425                                       \n",
              "      ⎜- ─ + ────⎟⋅3 ╱  ──────── + ────                                       \n",
              "      ⎝  2    2  ⎠ ╲╱      2        2                      78                 \n",
              " -5 - ────────────────────────────────── - ──────────────────────────────────,\n",
              "                      3                                     _________________ \n",
              "                                           ⎛  1   √3⋅ⅈ⎞    ╱ 27⋅√5321   7425  \n",
              "                                           ⎜- ─ + ────⎟⋅3 ╱  ──────── + ────  \n",
              "                                           ⎝  2    2  ⎠ ╲╱      2        2    \n",
              "\n",
              "       _________________                            ⎤\n",
              "      ╱ 27⋅√5321   7425                             ⎥\n",
              "   3 ╱  ──────── + ────                             ⎥\n",
              "   ╲╱      2        2                    78         ⎥\n",
              " - ───────────────────── - 5 - ─────────────────────⎥\n",
              "             3                     _________________⎥\n",
              "                                  ╱ 27⋅√5321   7425 ⎥\n",
              "                               3 ╱  ──────── + ──── ⎥\n",
              "                               ╲╱      2        2   ⎦"
            ]
          },
          "metadata": {
            "tags": []
          },
          "execution_count": 26
        }
      ]
    },
    {
      "cell_type": "code",
      "metadata": {
        "colab": {
          "base_uri": "https://localhost:8080/",
          "height": 59
        },
        "id": "nzfOHjRpmVq4",
        "outputId": "6f301556-02fd-486c-985c-7371e3cbd4b4"
      },
      "source": [
        "# To get 1st root\r\n",
        "z[0]"
      ],
      "execution_count": null,
      "outputs": [
        {
          "output_type": "execute_result",
          "data": {
            "image/png": "[encoded data removed]",
            "text/latex": "$$-5 - \\frac{78}{\\left(- \\frac{1}{2} - \\frac{\\sqrt{3} i}{2}\\right) \\sqrt[3]{\\frac{27 \\sqrt{5321}}{2} + \\frac{7425}{2}}} - \\frac{1}{3} \\left(- \\frac{1}{2} - \\frac{\\sqrt{3} i}{2}\\right) \\sqrt[3]{\\frac{27 \\sqrt{5321}}{2} + \\frac{7425}{2}}$$",
            "text/plain": [
              "                                                           _________________\n",
              "                                          ⎛  1   √3⋅ⅈ⎞    ╱ 27⋅√5321   7425 \n",
              "                                          ⎜- ─ - ────⎟⋅3 ╱  ──────── + ──── \n",
              "                     78                   ⎝  2    2  ⎠ ╲╱      2        2   \n",
              "-5 - ────────────────────────────────── - ──────────────────────────────────\n",
              "                      _________________                   3                 \n",
              "     ⎛  1   √3⋅ⅈ⎞    ╱ 27⋅√5321   7425                                      \n",
              "     ⎜- ─ - ────⎟⋅3 ╱  ──────── + ────                                      \n",
              "     ⎝  2    2  ⎠ ╲╱      2        2                                        "
            ]
          },
          "metadata": {
            "tags": []
          },
          "execution_count": 27
        }
      ]
    },
    {
      "cell_type": "code",
      "metadata": {
        "colab": {
          "base_uri": "https://localhost:8080/"
        },
        "id": "95RgvbVRmnC7",
        "outputId": "f931bd2d-9ba8-41ef-d6ee-10187288c2dc"
      },
      "source": [
        "print(z[0].evalf())\r\n",
        "print(z[1].evalf())\r\n",
        "print(z[2].evalf())"
      ],
      "execution_count": null,
      "outputs": [
        {
          "output_type": "stream",
          "text": [
            "0.119953874110975 + 0.801113611837881*I\n",
            "0.119953874110975 - 0.801113611837881*I\n",
            "-15.2399077482219\n"
          ],
          "name": "stdout"
        }
      ]
    },
    {
      "cell_type": "code",
      "metadata": {
        "colab": {
          "base_uri": "https://localhost:8080/"
        },
        "id": "OtrIx4k3nHHI",
        "outputId": "43eac3fc-1231-4065-a5b3-39ae47e586ff"
      },
      "source": [
        "#looping through the roots\r\n",
        "for roots in z:\r\n",
        "  print(roots.evalf())"
      ],
      "execution_count": null,
      "outputs": [
        {
          "output_type": "stream",
          "text": [
            "0.119953874110975 + 0.801113611837881*I\n",
            "0.119953874110975 - 0.801113611837881*I\n",
            "-15.2399077482219\n"
          ],
          "name": "stdout"
        }
      ]
    },
    {
      "cell_type": "markdown",
      "metadata": {
        "id": "U4vTGq5ToJxW"
      },
      "source": [
        "Part b:\r\n",
        "\r\n",
        "Solve the system of three equations in three unknowns symbolically:\r\n",
        "\r\n",
        "$x+y+z = 0$\r\n",
        "\r\n",
        "$2x-y-z = 10$\r\n",
        "\r\n",
        "$y+2z = 5$\r\n",
        "\r\n",
        "Compare the result to the answer computed with fsolve from scipy.optimize."
      ]
    },
    {
      "cell_type": "code",
      "metadata": {
        "colab": {
          "base_uri": "https://localhost:8080/",
          "height": 38
        },
        "id": "NPH2EUN7oqIy",
        "outputId": "f4a15a18-9ec5-4aca-d970-fc3f2ac1995e"
      },
      "source": [
        "x,y,z = sp.symbols('x,y,z')\r\n",
        "eq1 = sp.Eq(x+y+z, 0)\r\n",
        "eq2 = sp.Eq(2*x-y-z , 10)\r\n",
        "eq3 = sp.Eq(y+2*z, 5)\r\n",
        "eq1 ,eq2, eq3"
      ],
      "execution_count": null,
      "outputs": [
        {
          "output_type": "execute_result",
          "data": {
            "image/png": "[encoded data removed]",
            "text/latex": "$$\\left ( x + y + z = 0, \\quad 2 x - y - z = 10, \\quad y + 2 z = 5\\right )$$",
            "text/plain": [
              "(x + y + z = 0, 2⋅x - y - z = 10, y + 2⋅z = 5)"
            ]
          },
          "metadata": {
            "tags": []
          },
          "execution_count": 33
        }
      ]
    },
    {
      "cell_type": "code",
      "metadata": {
        "colab": {
          "base_uri": "https://localhost:8080/",
          "height": 38
        },
        "id": "W61BsZdypnK5",
        "outputId": "65aae7ad-c1a1-47ab-d2be-aa2ac03d06f7"
      },
      "source": [
        "sp.solve([eq1,eq2,eq3],[x,y,z])"
      ],
      "execution_count": null,
      "outputs": [
        {
          "output_type": "execute_result",
          "data": {
            "image/png": "[encoded data removed]",
            "text/latex": "$$\\left \\{ x : \\frac{10}{3}, \\quad y : - \\frac{35}{3}, \\quad z : \\frac{25}{3}\\right \\}$$",
            "text/plain": [
              "{x: 10/3, y: -35/3, z: 25/3}"
            ]
          },
          "metadata": {
            "tags": []
          },
          "execution_count": 34
        }
      ]
    },
    {
      "cell_type": "code",
      "metadata": {
        "colab": {
          "base_uri": "https://localhost:8080/"
        },
        "id": "zMEGZn0WqQZB",
        "outputId": "312758aa-02eb-4c2d-a706-68d9ffb5bab3"
      },
      "source": [
        "#solve numerically instead of anlytically\r\n",
        "from scipy.optimize import fsolve\r\n",
        "def f(w):\r\n",
        "  x=w[0]\r\n",
        "  y=w[1]\r\n",
        "  z=w[2]\r\n",
        "\r\n",
        "  f1= x+y+z\r\n",
        "  f2 = 2*x-y-z-10\r\n",
        "  f3= y+2*z-5\r\n",
        "  return [f1,f2,f3]\r\n",
        "\r\n",
        "result = fsolve(f,[0,0,0])\r\n",
        "print(result)"
      ],
      "execution_count": null,
      "outputs": [
        {
          "output_type": "stream",
          "text": [
            "[  3.33333333 -11.66666667   8.33333333]\n"
          ],
          "name": "stdout"
        }
      ]
    },
    {
      "cell_type": "markdown",
      "metadata": {
        "id": "08pf0-xJumJl"
      },
      "source": [
        "Part c:\r\n",
        "\r\n",
        "Solve the following differential equation symbolically using the dsolve function:\r\n",
        "\r\n",
        "$\\frac{df(x)}{dx} = xcos(x)$\r\n",
        "\r\n",
        "\r\n",
        "\r\n"
      ]
    },
    {
      "cell_type": "code",
      "metadata": {
        "colab": {
          "base_uri": "https://localhost:8080/",
          "height": 38
        },
        "id": "8koZdxX4vbNH",
        "outputId": "34f1b3ce-05b1-4662-e45d-94c9b1dc0ca7"
      },
      "source": [
        "f = sp.Function('f')\r\n",
        "y=sp.dsolve(sp.Derivative(f(x),x) - x*sp.cos(x),f(x))\r\n",
        "y"
      ],
      "execution_count": null,
      "outputs": [
        {
          "output_type": "execute_result",
          "data": {
            "image/png": "[encoded data removed]",
            "text/latex": "$$f{\\left (x \\right )} = C_{1} + x \\sin{\\left (x \\right )} + \\cos{\\left (x \\right )}$$",
            "text/plain": [
              "f(x) = C₁ + x⋅sin(x) + cos(x)"
            ]
          },
          "metadata": {
            "tags": []
          },
          "execution_count": 39
        }
      ]
    },
    {
      "cell_type": "code",
      "metadata": {
        "colab": {
          "base_uri": "https://localhost:8080/",
          "height": 38
        },
        "id": "yel8jGv7Bsq7",
        "outputId": "5f3d971e-7d91-44f8-c849-1c452ad22ec7"
      },
      "source": [
        "z= sp.integrate(x* sp.cos(x))\r\n",
        "z"
      ],
      "execution_count": null,
      "outputs": [
        {
          "output_type": "execute_result",
          "data": {
            "image/png": "[encoded data removed]",
            "text/latex": "$$x \\sin{\\left (x \\right )} + \\cos{\\left (x \\right )}$$",
            "text/plain": [
              "x⋅sin(x) + cos(x)"
            ]
          },
          "metadata": {
            "tags": []
          },
          "execution_count": 40
        }
      ]
    },
    {
      "cell_type": "markdown",
      "metadata": {
        "id": "D2hkPHMRCDWQ"
      },
      "source": [
        "Problem 5: Part a:\r\n",
        "\r\n",
        "For the system $Ax = b$ with\r\n",
        "\r\n",
        "$A = \\begin{bmatrix}\r\n",
        "1 & 2 & 5\\\\\r\n",
        "3 & 4 & 6\\\\\r\n",
        "-1 & 0 & 3\r\n",
        "\\end{bmatrix}$\r\n",
        "\r\n",
        "$b = \\begin{bmatrix}\r\n",
        " 1\\\\\r\n",
        "0\\\\\r\n",
        " -2\r\n",
        "\\end{bmatrix} $\r\n",
        "\r\n",
        "Setup the matrices $A$ and $b$"
      ]
    },
    {
      "cell_type": "code",
      "metadata": {
        "colab": {
          "base_uri": "https://localhost:8080/"
        },
        "id": "wPf_wHFJDEc-",
        "outputId": "0dd54096-fb49-4a9b-8036-107bd95c33e1"
      },
      "source": [
        "A = sp.Matrix([[1,2,5],[3,4,6],[-1,0,3]])\r\n",
        "b = sp.Matrix([1,0,-2])\r\n",
        "sp.pprint(A)\r\n",
        "sp.pprint(b)"
      ],
      "execution_count": null,
      "outputs": [
        {
          "output_type": "stream",
          "text": [
            "⎡1   2  5⎤\n",
            "⎢        ⎥\n",
            "⎢3   4  6⎥\n",
            "⎢        ⎥\n",
            "⎣-1  0  3⎦\n",
            "⎡1 ⎤\n",
            "⎢  ⎥\n",
            "⎢0 ⎥\n",
            "⎢  ⎥\n",
            "⎣-2⎦\n"
          ],
          "name": "stdout"
        }
      ]
    },
    {
      "cell_type": "markdown",
      "metadata": {
        "id": "12lrkQi7EdnF"
      },
      "source": [
        "Part b: \r\n",
        "For the system in Part a, solve for matrix by matrix algebra."
      ]
    },
    {
      "cell_type": "code",
      "metadata": {
        "colab": {
          "base_uri": "https://localhost:8080/"
        },
        "id": "qBFVukN_Eg9A",
        "outputId": "34f204d9-f899-4651-9998-9fbe69ebd400"
      },
      "source": [
        "#inverse of a Matrix\r\n",
        "sp.pprint(A.inv())"
      ],
      "execution_count": null,
      "outputs": [
        {
          "output_type": "stream",
          "text": [
            "⎡  6    -3  -4 ⎤\n",
            "⎢              ⎥\n",
            "⎢-15/2  4   9/2⎥\n",
            "⎢              ⎥\n",
            "⎣  2    -1  -1 ⎦\n"
          ],
          "name": "stdout"
        }
      ]
    },
    {
      "cell_type": "code",
      "metadata": {
        "colab": {
          "base_uri": "https://localhost:8080/"
        },
        "id": "F7GS_3WbEptY",
        "outputId": "355a1250-e8c8-4c00-baf4-4da27d78c0c3"
      },
      "source": [
        "sp.pprint(A.inv()*b)"
      ],
      "execution_count": null,
      "outputs": [
        {
          "output_type": "stream",
          "text": [
            "⎡ 14  ⎤\n",
            "⎢     ⎥\n",
            "⎢-33/2⎥\n",
            "⎢     ⎥\n",
            "⎣  4  ⎦\n"
          ],
          "name": "stdout"
        }
      ]
    },
    {
      "cell_type": "code",
      "metadata": {
        "colab": {
          "base_uri": "https://localhost:8080/"
        },
        "id": "iv7ADV4tE8TM",
        "outputId": "d9c271b2-1ae8-4d46-b5db-0ea2613dd7e3"
      },
      "source": [
        "# Another way to solve it using lower upper form\r\n",
        "sp.pprint(A.LUsolve(b))"
      ],
      "execution_count": null,
      "outputs": [
        {
          "output_type": "stream",
          "text": [
            "⎡ 14  ⎤\n",
            "⎢     ⎥\n",
            "⎢-33/2⎥\n",
            "⎢     ⎥\n",
            "⎣  4  ⎦\n"
          ],
          "name": "stdout"
        }
      ]
    },
    {
      "cell_type": "markdown",
      "metadata": {
        "id": "nnrx5NJzFRiw"
      },
      "source": [
        "**Part c**:  For matrix A above, return the middle row, and the middle column."
      ]
    },
    {
      "cell_type": "code",
      "metadata": {
        "colab": {
          "base_uri": "https://localhost:8080/"
        },
        "id": "kgKaZIQ8FQwO",
        "outputId": "14ea3fe9-9053-4dee-9fe6-7c95a4900cc3"
      },
      "source": [
        "sp.pprint(A[1:2,:])"
      ],
      "execution_count": null,
      "outputs": [
        {
          "output_type": "stream",
          "text": [
            "[3  4  6]\n"
          ],
          "name": "stdout"
        }
      ]
    },
    {
      "cell_type": "code",
      "metadata": {
        "colab": {
          "base_uri": "https://localhost:8080/"
        },
        "id": "rWw-6ySAF0hS",
        "outputId": "6e600f20-3be0-4edc-9b34-e67462829f81"
      },
      "source": [
        "#for the middle column\r\n",
        "sp.pprint(A[:,1:2])"
      ],
      "execution_count": null,
      "outputs": [
        {
          "output_type": "stream",
          "text": [
            "⎡2⎤\n",
            "⎢ ⎥\n",
            "⎢4⎥\n",
            "⎢ ⎥\n",
            "⎣0⎦\n"
          ],
          "name": "stdout"
        }
      ]
    },
    {
      "cell_type": "code",
      "metadata": {
        "colab": {
          "base_uri": "https://localhost:8080/"
        },
        "id": "J5xcw-s7GfhI",
        "outputId": "9f4a5624-47d0-4d91-d94e-a7624a8bf4f5"
      },
      "source": [
        "sp.pprint(A[:,0:-1])"
      ],
      "execution_count": null,
      "outputs": [
        {
          "output_type": "stream",
          "text": [
            "⎡1   2⎤\n",
            "⎢     ⎥\n",
            "⎢3   4⎥\n",
            "⎢     ⎥\n",
            "⎣-1  0⎦\n"
          ],
          "name": "stdout"
        }
      ]
    },
    {
      "cell_type": "markdown",
      "metadata": {
        "id": "2DVjp7JwGHO8"
      },
      "source": [
        "**PartD**:\r\n",
        "Create a matrix using the zeros function that has 2 rows and 2 columns. Fill in some values using array notation\r\n",
        "(like M[i,j]=value)."
      ]
    },
    {
      "cell_type": "code",
      "metadata": {
        "colab": {
          "base_uri": "https://localhost:8080/"
        },
        "id": "srq0tXXSGQcu",
        "outputId": "70de1856-6a34-4ed5-daf6-2b693ca6d3d4"
      },
      "source": [
        "M= sp.zeros(2,2)\r\n",
        "sp.pprint(M)"
      ],
      "execution_count": null,
      "outputs": [
        {
          "output_type": "stream",
          "text": [
            "⎡0  0⎤\n",
            "⎢    ⎥\n",
            "⎣0  0⎦\n"
          ],
          "name": "stdout"
        }
      ]
    },
    {
      "cell_type": "code",
      "metadata": {
        "colab": {
          "base_uri": "https://localhost:8080/"
        },
        "id": "x-2DipPAHBKN",
        "outputId": "e494a290-40c3-4486-ac44-f5752b7ca361"
      },
      "source": [
        "M[1,1] = 3\r\n",
        "sp.pprint(M)"
      ],
      "execution_count": null,
      "outputs": [
        {
          "output_type": "stream",
          "text": [
            "⎡0  0⎤\n",
            "⎢    ⎥\n",
            "⎣0  3⎦\n"
          ],
          "name": "stdout"
        }
      ]
    },
    {
      "cell_type": "code",
      "metadata": {
        "colab": {
          "base_uri": "https://localhost:8080/"
        },
        "id": "ytQ2ZT3VHNZs",
        "outputId": "9fe06fe9-31bf-4019-d33f-f492e6800eab"
      },
      "source": [
        "M[1,0] = 1.5\r\n",
        "sp.pprint(M)"
      ],
      "execution_count": null,
      "outputs": [
        {
          "output_type": "stream",
          "text": [
            "⎡ 0   0⎤\n",
            "⎢      ⎥\n",
            "⎣1.5  3⎦\n"
          ],
          "name": "stdout"
        }
      ]
    },
    {
      "cell_type": "code",
      "metadata": {
        "colab": {
          "base_uri": "https://localhost:8080/"
        },
        "id": "Gx_NrOFEHVmZ",
        "outputId": "9aefed4d-47ff-4bf5-95f9-06f64055182e"
      },
      "source": [
        "M[1,0] = x\r\n",
        "sp.pprint(M)"
      ],
      "execution_count": null,
      "outputs": [
        {
          "output_type": "stream",
          "text": [
            "⎡0  0⎤\n",
            "⎢    ⎥\n",
            "⎣x  3⎦\n"
          ],
          "name": "stdout"
        }
      ]
    }
  ]
}