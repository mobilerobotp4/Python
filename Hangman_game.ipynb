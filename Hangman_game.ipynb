{
  "nbformat": 4,
  "nbformat_minor": 0,
  "metadata": {
    "colab": {
      "name": "Hangman_game.ipynb",
      "provenance": [],
      "authorship_tag": "ABX9TyObwQVqYHzETWDngh0/TDKP",
      "include_colab_link": true
    },
    "kernelspec": {
      "name": "python3",
      "display_name": "Python 3"
    }
  },
  "cells": [
    {
      "cell_type": "markdown",
      "metadata": {
        "id": "view-in-github",
        "colab_type": "text"
      },
      "source": [
        "<a href=\"https://colab.research.google.com/github/mobilerobotp4/Python/blob/master/Hangman_game.ipynb\" target=\"_parent\"><img src=\"https://colab.research.google.com/assets/colab-badge.svg\" alt=\"Open In Colab\"/></a>"
      ]
    },
    {
      "cell_type": "markdown",
      "metadata": {
        "id": "qLPOHkA1VpN_"
      },
      "source": [
        "***Hangman game***\r\n",
        "\r\n",
        "Hangman is a word guessing game. If the guessing player (In this case your model) suggests a letter which occurs in the word, letter is revealed in all its correct positions. If the suggested letter does not occur in the word, then it is marked as a wrong attempt. The guesser can make at most 5 wrong attempts for predicting a given word."
      ]
    },
    {
      "cell_type": "code",
      "metadata": {
        "colab": {
          "base_uri": "https://localhost:8080/"
        },
        "id": "Hcfrho-4Vl4e",
        "outputId": "0fccc2bc-4228-4f02-8a2a-8fa5c814d01f"
      },
      "source": [
        "import random\r\n",
        "import string\r\n",
        "def hungman():\r\n",
        "  words = [\"dog\", \"monkey\", \"key\", \"money\", \"honey\"]\r\n",
        "  used_letters = []\r\n",
        "  word = words[random.randrange(len(words))]\r\n",
        "  lives=5\r\n",
        "  while len(word) > len(used_letters) and lives > 0:\r\n",
        "    guess = input(\"Please guess the letter: \")\r\n",
        "    if guess in word:\r\n",
        "      print(guess, \" is a correct guess\")\r\n",
        "      used_letters.append(guess)\r\n",
        "      if len(used_letters) == len(word):\r\n",
        "        print(\"Congratulation, You have guessed the correct letter: \",word)      \r\n",
        "      else:\r\n",
        "        remaining_letters =  len(word) - len(used_letters)\r\n",
        "        print(\"You have\", remaining_letters, \"left\")\r\n",
        "        \r\n",
        "    \r\n",
        "    else:\r\n",
        "      lives = lives - 1\r\n",
        "      if lives == 0:\r\n",
        "        print(\"Sorry! you don't have more lives to continue the game\")\r\n",
        "        print(\"Correct word is: \", word)\r\n",
        "        break\r\n",
        "      else:\r\n",
        "        print(\"You have\", lives , \" left\")\r\n",
        "    \r\n",
        "hungman()"
      ],
      "execution_count": 1,
      "outputs": [
        {
          "output_type": "stream",
          "text": [
            "Please guess the letter: d\n",
            "You have 4  left\n",
            "Please guess the letter: h\n",
            "You have 3  left\n",
            "Please guess the letter: m\n",
            "m  is a correct guess\n",
            "You have 5 left\n",
            "Please guess the letter: o\n",
            "o  is a correct guess\n",
            "You have 4 left\n",
            "Please guess the letter: n\n",
            "n  is a correct guess\n",
            "You have 3 left\n",
            "Please guess the letter: k\n",
            "k  is a correct guess\n",
            "You have 2 left\n",
            "Please guess the letter: e\n",
            "e  is a correct guess\n",
            "You have 1 left\n",
            "Please guess the letter: y\n",
            "y  is a correct guess\n",
            "Congratulation, You have guessed the correct letter:  monkey\n"
          ],
          "name": "stdout"
        }
      ]
    }
  ]
}